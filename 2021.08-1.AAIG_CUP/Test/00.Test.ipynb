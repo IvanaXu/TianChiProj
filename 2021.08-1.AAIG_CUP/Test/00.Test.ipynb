{
 "cells": [
  {
   "cell_type": "code",
   "execution_count": 1,
   "metadata": {},
   "outputs": [],
   "source": [
    "import numpy as np\n",
    "import pandas as pd\n",
    "from tqdm import tqdm\n",
    "%matplotlib inline"
   ]
  },
  {
   "cell_type": "code",
   "execution_count": 2,
   "metadata": {},
   "outputs": [],
   "source": [
    "datap = \"/Users/ivan/Desktop/ALL/Data/AAIG-CUP\"\n",
    "trainp = f\"{datap}/train.csv\"\n",
    "predictp = f\"{datap}/predict.csv\""
   ]
  },
  {
   "cell_type": "code",
   "execution_count": 3,
   "metadata": {},
   "outputs": [
    {
     "name": "stdout",
     "output_type": "stream",
     "text": [
      "1,-1,823667,429872,8.408716715080153 7.499423290592229 10.140810105023608 9.156306483483696 4.382026634673881 4.382026634673881 7.151171935135902 4.3694478524670215 4.543294782270004 2.8410751363849367 2.8530751184512475 2.68821316461189 4.3694478524670215 2.845654484815059 4.532599493153256 4.356708826689592 2.857812788655315 7.143301597013389 4.3694478524670215 0.6931471805599453 2.3978952727983707 0.6931471805599453 0.6931471805599453 2.3978952727983707 2.3978952727983707 0.6931471805599453 0.0 0.0 17.727711707523813 0.0 0.0 0.0 2.9444389791664403 0.6931471805599453 2.9444389791664403 1.9459101490553132 0.6931471805599453 3.8862948568554145 0.6931471805599453 0.6931471805599453 0.6931471805599453 3.8862948568554145 3.8862948568554145 0.0 0.0 0.0 0.0 0.0 0.0 0.0 0.6931471805599453 3.8862948568554145 0.6931471805599453 0.6931471805599453 0.6931471805599453 3.8862948568554145 0.6931471805599453 5.387838092486448 1.0986122886681098 1.3862943611198906 1.0986122886681098 4.69925233934923 1.0986122886681098 0.0 0.0 0.0 0.0 0.0 0.0 5.387838092486448 1.0986122886681098 1.3862943611198906 1.0986122886681098 4.69925233934923 1.0986122886681098,1\r\n"
     ]
    }
   ],
   "source": [
    "! head -n 1 $trainp"
   ]
  },
  {
   "cell_type": "code",
   "execution_count": 4,
   "metadata": {},
   "outputs": [
    {
     "name": "stdout",
     "output_type": "stream",
     "text": [
      "1,-730628,981561,807114,11.538797869137621 10.608415071631605 13.624452952777707 12.653606970053909 6.077642243349034 6.07993319509559 12.146659078170654 6.052089168924417 6.0844994130751715 6.071322315679912 6.099167575564534 6.066756236298881 6.07993319509559 6.071322315679912 6.0844994130751715 6.052089168924417 6.099167575564534 12.146659078170654 6.077642243349034 0.0 0.0 0.0 0.0 0.0 0.0 0.0 5.288267030694535 5.272999558563747 17.727749320115265 11.358764398126327 5.298317366548036 0.6931471805599453 0.0 0.0 0.0 0.0 0.0 0.0 0.0 0.0 0.0 0.0 0.0 0.0 0.0 0.0 0.0 0.0 0.0 0.0 0.0 0.0 0.0 0.0 0.0 0.0 0.0 0.0 0.0 0.0 0.0 0.0 0.0 0.0 0.0 0.0 0.0 0.0 0.0 0.0 0.0 0.0 0.0 0.0 0.0\r\n"
     ]
    }
   ],
   "source": [
    "! head -n 1 $predictp"
   ]
  },
  {
   "cell_type": "code",
   "execution_count": 48,
   "metadata": {},
   "outputs": [],
   "source": [
    "def train_sample(train_path):\n",
    "    \"\"\"\n",
    "    读取训练数据并返回numpy数组，这里只采用了embedding features\n",
    "    \"\"\"\n",
    "    data = pd.read_csv(train_path, header=None)\n",
    "    x = data[4].str.split(\" \", expand=True).values.astype(np.float32)\n",
    "    y = data[5].values\n",
    "    return data, x, y\n"
   ]
  },
  {
   "cell_type": "code",
   "execution_count": 49,
   "metadata": {},
   "outputs": [
    {
     "name": "stdout",
     "output_type": "stream",
     "text": [
      "(500000, 75) (500000,)\n",
      "CPU times: user 33.1 s, sys: 3.15 s, total: 36.3 s\n",
      "Wall time: 37.1 s\n"
     ]
    }
   ],
   "source": [
    "%%time\n",
    "traind, trainx, trainy = train_sample(trainp)\n",
    "print(trainx.shape, trainy.shape)"
   ]
  },
  {
   "cell_type": "code",
   "execution_count": 65,
   "metadata": {},
   "outputs": [
    {
     "data": {
      "text/html": [
       "<div>\n",
       "<style scoped>\n",
       "    .dataframe tbody tr th:only-of-type {\n",
       "        vertical-align: middle;\n",
       "    }\n",
       "\n",
       "    .dataframe tbody tr th {\n",
       "        vertical-align: top;\n",
       "    }\n",
       "\n",
       "    .dataframe thead th {\n",
       "        text-align: right;\n",
       "    }\n",
       "</style>\n",
       "<table border=\"1\" class=\"dataframe\">\n",
       "  <thead>\n",
       "    <tr style=\"text-align: right;\">\n",
       "      <th></th>\n",
       "      <th>0</th>\n",
       "      <th>1</th>\n",
       "      <th>2</th>\n",
       "      <th>3</th>\n",
       "      <th>4</th>\n",
       "      <th>5</th>\n",
       "    </tr>\n",
       "  </thead>\n",
       "  <tbody>\n",
       "    <tr>\n",
       "      <th>0</th>\n",
       "      <td>1</td>\n",
       "      <td>-1</td>\n",
       "      <td>823667</td>\n",
       "      <td>429872</td>\n",
       "      <td>8.408716715080153 7.499423290592229 10.1408101...</td>\n",
       "      <td>1</td>\n",
       "    </tr>\n",
       "    <tr>\n",
       "      <th>1</th>\n",
       "      <td>2</td>\n",
       "      <td>-1</td>\n",
       "      <td>502329</td>\n",
       "      <td>961154</td>\n",
       "      <td>11.547964369614744 10.27646390360756 13.384624...</td>\n",
       "      <td>1</td>\n",
       "    </tr>\n",
       "    <tr>\n",
       "      <th>2</th>\n",
       "      <td>3</td>\n",
       "      <td>-10379</td>\n",
       "      <td>840208</td>\n",
       "      <td>1132941</td>\n",
       "      <td>8.806424063857868 7.489970898834801 10.3994634...</td>\n",
       "      <td>0</td>\n",
       "    </tr>\n",
       "    <tr>\n",
       "      <th>3</th>\n",
       "      <td>4</td>\n",
       "      <td>-16440</td>\n",
       "      <td>445530</td>\n",
       "      <td>759182</td>\n",
       "      <td>10.03482278536615 8.950143756459262 12.1518434...</td>\n",
       "      <td>0</td>\n",
       "    </tr>\n",
       "    <tr>\n",
       "      <th>4</th>\n",
       "      <td>5</td>\n",
       "      <td>1195</td>\n",
       "      <td>263867</td>\n",
       "      <td>978286</td>\n",
       "      <td>10.406412044405862 9.273315171137572 12.402190...</td>\n",
       "      <td>0</td>\n",
       "    </tr>\n",
       "    <tr>\n",
       "      <th>...</th>\n",
       "      <td>...</td>\n",
       "      <td>...</td>\n",
       "      <td>...</td>\n",
       "      <td>...</td>\n",
       "      <td>...</td>\n",
       "      <td>...</td>\n",
       "    </tr>\n",
       "    <tr>\n",
       "      <th>499995</th>\n",
       "      <td>499996</td>\n",
       "      <td>9998</td>\n",
       "      <td>269047</td>\n",
       "      <td>2258662</td>\n",
       "      <td>8.082402253926244 7.621684998724611 10.6389276...</td>\n",
       "      <td>0</td>\n",
       "    </tr>\n",
       "    <tr>\n",
       "      <th>499996</th>\n",
       "      <td>499997</td>\n",
       "      <td>9998</td>\n",
       "      <td>381914</td>\n",
       "      <td>2418732</td>\n",
       "      <td>10.01126514470956 9.046290859969677 12.0048984...</td>\n",
       "      <td>0</td>\n",
       "    </tr>\n",
       "    <tr>\n",
       "      <th>499997</th>\n",
       "      <td>499998</td>\n",
       "      <td>9999</td>\n",
       "      <td>412551</td>\n",
       "      <td>1715613</td>\n",
       "      <td>10.724896013040084 10.009557816263195 12.27181...</td>\n",
       "      <td>0</td>\n",
       "    </tr>\n",
       "    <tr>\n",
       "      <th>499998</th>\n",
       "      <td>499999</td>\n",
       "      <td>9999</td>\n",
       "      <td>292864</td>\n",
       "      <td>2503638</td>\n",
       "      <td>5.293304824724492 4.700480365792417 7.25911612...</td>\n",
       "      <td>0</td>\n",
       "    </tr>\n",
       "    <tr>\n",
       "      <th>499999</th>\n",
       "      <td>500000</td>\n",
       "      <td>9999</td>\n",
       "      <td>621652</td>\n",
       "      <td>2127133</td>\n",
       "      <td>6.848005274576363 5.5254529391317835 8.8356469...</td>\n",
       "      <td>0</td>\n",
       "    </tr>\n",
       "  </tbody>\n",
       "</table>\n",
       "<p>500000 rows × 6 columns</p>\n",
       "</div>"
      ],
      "text/plain": [
       "             0      1       2        3  \\\n",
       "0            1     -1  823667   429872   \n",
       "1            2     -1  502329   961154   \n",
       "2            3 -10379  840208  1132941   \n",
       "3            4 -16440  445530   759182   \n",
       "4            5   1195  263867   978286   \n",
       "...        ...    ...     ...      ...   \n",
       "499995  499996   9998  269047  2258662   \n",
       "499996  499997   9998  381914  2418732   \n",
       "499997  499998   9999  412551  1715613   \n",
       "499998  499999   9999  292864  2503638   \n",
       "499999  500000   9999  621652  2127133   \n",
       "\n",
       "                                                        4  5  \n",
       "0       8.408716715080153 7.499423290592229 10.1408101...  1  \n",
       "1       11.547964369614744 10.27646390360756 13.384624...  1  \n",
       "2       8.806424063857868 7.489970898834801 10.3994634...  0  \n",
       "3       10.03482278536615 8.950143756459262 12.1518434...  0  \n",
       "4       10.406412044405862 9.273315171137572 12.402190...  0  \n",
       "...                                                   ... ..  \n",
       "499995  8.082402253926244 7.621684998724611 10.6389276...  0  \n",
       "499996  10.01126514470956 9.046290859969677 12.0048984...  0  \n",
       "499997  10.724896013040084 10.009557816263195 12.27181...  0  \n",
       "499998  5.293304824724492 4.700480365792417 7.25911612...  0  \n",
       "499999  6.848005274576363 5.5254529391317835 8.8356469...  0  \n",
       "\n",
       "[500000 rows x 6 columns]"
      ]
     },
     "execution_count": 65,
     "metadata": {},
     "output_type": "execute_result"
    }
   ],
   "source": [
    "traind"
   ]
  },
  {
   "cell_type": "code",
   "execution_count": 57,
   "metadata": {},
   "outputs": [
    {
     "data": {
      "text/plain": [
       "count    5.000000e+05\n",
       "mean     5.270267e+04\n",
       "std      1.606486e+05\n",
       "min     -1.093095e+08\n",
       "25%      3.887400e+04\n",
       "50%      5.453300e+04\n",
       "75%      7.210300e+04\n",
       "max      4.095990e+05\n",
       "Name: 1, dtype: float64"
      ]
     },
     "execution_count": 57,
     "metadata": {},
     "output_type": "execute_result"
    }
   ],
   "source": [
    "traind[1].describe()"
   ]
  },
  {
   "cell_type": "code",
   "execution_count": 63,
   "metadata": {},
   "outputs": [
    {
     "data": {
      "text/plain": [
       "0.995726"
      ]
     },
     "execution_count": 63,
     "metadata": {},
     "output_type": "execute_result"
    }
   ],
   "source": [
    "traind[traind[1] > 0].shape[0]/traind.shape[0]"
   ]
  },
  {
   "cell_type": "code",
   "execution_count": 70,
   "metadata": {},
   "outputs": [
    {
     "data": {
      "text/plain": [
       "(739093    1304\n",
       " 523176     942\n",
       " 684463     686\n",
       " 757832     565\n",
       " 490807     565\n",
       "           ... \n",
       " 275733       1\n",
       " 802068       1\n",
       " 446985       1\n",
       " 314634       1\n",
       " 524288       1\n",
       " Name: 2, Length: 210369, dtype: int64, 432375     450\n",
       " 2907666    381\n",
       " 1815854    378\n",
       " 2230036    371\n",
       " 395288     301\n",
       "           ... \n",
       " 1962526      1\n",
       " 1477390      1\n",
       " 1311264      1\n",
       " 266786       1\n",
       " 1572864      1\n",
       " Name: 3, Length: 357133, dtype: int64)"
      ]
     },
     "execution_count": 70,
     "metadata": {},
     "output_type": "execute_result"
    }
   ],
   "source": [
    "pd.value_counts(traind[2]), pd.value_counts(traind[3])"
   ]
  },
  {
   "cell_type": "code",
   "execution_count": 74,
   "metadata": {},
   "outputs": [
    {
     "data": {
      "text/plain": [
       "739093    1304\n",
       "523176     942\n",
       "684463     686\n",
       "757832     565\n",
       "490807     565\n",
       "          ... \n",
       "502329     102\n",
       "952855     102\n",
       "272571     102\n",
       "156411     101\n",
       "626696     101\n",
       "Name: 2, Length: 80, dtype: int64"
      ]
     },
     "execution_count": 74,
     "metadata": {},
     "output_type": "execute_result"
    }
   ],
   "source": [
    "pd.value_counts(traind[2])[pd.value_counts(traind[2]) > 100]"
   ]
  },
  {
   "cell_type": "code",
   "execution_count": 78,
   "metadata": {},
   "outputs": [
    {
     "name": "stdout",
     "output_type": "stream",
     "text": [
      "(500000, 6)\n",
      "(497863, 6)\n",
      "(486986, 6)\n",
      "(484397, 6)\n"
     ]
    }
   ],
   "source": [
    "data = traind.copy()\n",
    "\n",
    "_1 = pd.value_counts(data[2])\n",
    "_2 = pd.value_counts(data[3])\n",
    "\n",
    "print(data.shape)\n",
    "data = data[data[1] > 0]\n",
    "print(data.shape)\n",
    "data = data[data[2].isin(_1[_1 < 150].index)]\n",
    "print(data.shape)\n",
    "data = data[data[3].isin(_2[_2 < 150].index)]\n",
    "print(data.shape)\n"
   ]
  },
  {
   "cell_type": "code",
   "execution_count": 79,
   "metadata": {},
   "outputs": [
    {
     "data": {
      "text/plain": [
       "1.0"
      ]
     },
     "execution_count": 79,
     "metadata": {},
     "output_type": "execute_result"
    }
   ],
   "source": [
    "data[data[1] > 0].shape[0]/data.shape[0]"
   ]
  },
  {
   "cell_type": "code",
   "execution_count": 80,
   "metadata": {},
   "outputs": [
    {
     "data": {
      "text/plain": [
       "(122127    146\n",
       " 403696    146\n",
       " 746450    144\n",
       " 819246    141\n",
       " 764061    140\n",
       "          ... \n",
       " 943455      1\n",
       " 425308      1\n",
       " 939353      1\n",
       " 929110      1\n",
       " 524288      1\n",
       " Name: 2, Length: 209502, dtype: int64, 2007656    103\n",
       " 120723      84\n",
       " 2901386     76\n",
       " 1374004     75\n",
       " 2348366     72\n",
       "           ... \n",
       " 47543        1\n",
       " 3203516      1\n",
       " 1634750      1\n",
       " 1247681      1\n",
       " 1572864      1\n",
       " Name: 3, Length: 349815, dtype: int64)"
      ]
     },
     "execution_count": 80,
     "metadata": {},
     "output_type": "execute_result"
    }
   ],
   "source": [
    "pd.value_counts(data[2]), pd.value_counts(data[3])"
   ]
  },
  {
   "cell_type": "code",
   "execution_count": 81,
   "metadata": {},
   "outputs": [
    {
     "name": "stdout",
     "output_type": "stream",
     "text": [
      "(500000, 6)\n",
      "(497863, 6)\n",
      "(486986, 6)\n",
      "(484397, 6)\n"
     ]
    },
    {
     "data": {
      "text/plain": [
       "(array([[10.406412 ,  9.273315 , 12.40219  , ...,  1.3862944,  2.921727 ,\n",
       "          1.3862944],\n",
       "        [ 9.512147 ,  8.687273 , 11.848884 , ...,  3.0910425,  3.655499 ,\n",
       "          3.1354942],\n",
       "        [11.26052  , 10.062797 , 13.117809 , ...,  3.3672957,  6.0088134,\n",
       "          3.3672957],\n",
       "        ...,\n",
       "        [10.724896 , 10.009558 , 12.271818 , ...,  1.0986123,  4.248495 ,\n",
       "          1.0986123],\n",
       "        [ 5.293305 ,  4.7004805,  7.259116 , ...,  3.4011974,  4.197089 ,\n",
       "          3.4965076],\n",
       "        [ 6.8480053,  5.525453 ,  8.835647 , ...,  2.7725887,  4.4528036,\n",
       "          2.7725887]], dtype=float32), array([0, 0, 0, ..., 0, 0, 0]))"
      ]
     },
     "execution_count": 81,
     "metadata": {},
     "output_type": "execute_result"
    }
   ],
   "source": [
    "def train_sample(train_path):\n",
    "    data = pd.read_csv(train_path, header=None)\n",
    "    \n",
    "    _1 = pd.value_counts(data[2])\n",
    "    _2 = pd.value_counts(data[3])\n",
    "    print(data.shape)\n",
    "    data = data[data[1] > 0]\n",
    "    print(data.shape)\n",
    "    data = data[data[2].isin(_1[_1 < 150].index)]\n",
    "    print(data.shape)\n",
    "    data = data[data[3].isin(_2[_2 < 150].index)]\n",
    "    print(data.shape)\n",
    "\n",
    "    x = data[4].str.split(\" \", expand=True).values.astype(np.float32)\n",
    "    y = data[5].values\n",
    "    return x, y\n",
    "train_sample(trainp)"
   ]
  },
  {
   "cell_type": "code",
   "execution_count": 51,
   "metadata": {},
   "outputs": [],
   "source": [
    "def predict_sample(predict_path):\n",
    "    \"\"\"\n",
    "    读取训练数据并返回numpy数组，这里只采用了embedding features\n",
    "    \"\"\"\n",
    "    data = pd.read_csv(predict_path, header=None)\n",
    "    x = data[4].str.split(\" \", expand=True).values.astype(np.float32)\n",
    "    return data, x\n"
   ]
  },
  {
   "cell_type": "code",
   "execution_count": 52,
   "metadata": {},
   "outputs": [
    {
     "name": "stdout",
     "output_type": "stream",
     "text": [
      "(50000, 75)\n",
      "CPU times: user 2.92 s, sys: 285 ms, total: 3.2 s\n",
      "Wall time: 3.23 s\n"
     ]
    }
   ],
   "source": [
    "%%time\n",
    "predictd, predictx = predict_sample(predictp)\n",
    "print(predictx.shape)"
   ]
  },
  {
   "cell_type": "code",
   "execution_count": 58,
   "metadata": {},
   "outputs": [
    {
     "data": {
      "text/plain": [
       "count     50000.000000\n",
       "mean     917276.123040\n",
       "std       24988.206826\n",
       "min     -730628.000000\n",
       "25%      903019.000000\n",
       "50%      919128.500000\n",
       "75%      936906.250000\n",
       "max      950485.000000\n",
       "Name: 1, dtype: float64"
      ]
     },
     "execution_count": 58,
     "metadata": {},
     "output_type": "execute_result"
    }
   ],
   "source": [
    "predictd[1].describe()"
   ]
  },
  {
   "cell_type": "code",
   "execution_count": 64,
   "metadata": {},
   "outputs": [
    {
     "data": {
      "text/plain": [
       "0.99998"
      ]
     },
     "execution_count": 64,
     "metadata": {},
     "output_type": "execute_result"
    }
   ],
   "source": [
    "predictd[predictd[1] > 0].shape[0]/predictd.shape[0]"
   ]
  },
  {
   "cell_type": "code",
   "execution_count": 71,
   "metadata": {},
   "outputs": [
    {
     "data": {
      "text/plain": [
       "(1815854    111\n",
       " 2907666    105\n",
       " 2580463    103\n",
       " 1360822     96\n",
       " 1011675     83\n",
       "           ... \n",
       " 2209954      1\n",
       " 1941665      1\n",
       " 3206458      1\n",
       " 2316446      1\n",
       " 2361345      1\n",
       " Name: 2, Length: 45899, dtype: int64, 122290    486\n",
       " 684463    262\n",
       " 233808    132\n",
       " 224633    122\n",
       " 411399    108\n",
       "          ... \n",
       " 934780      1\n",
       " 340324      1\n",
       " 809855      1\n",
       " 240513      1\n",
       " 473721      1\n",
       " Name: 3, Length: 37964, dtype: int64)"
      ]
     },
     "execution_count": 71,
     "metadata": {},
     "output_type": "execute_result"
    }
   ],
   "source": [
    "pd.value_counts(predictd[2]), pd.value_counts(predictd[3])"
   ]
  },
  {
   "cell_type": "code",
   "execution_count": 9,
   "metadata": {},
   "outputs": [],
   "source": [
    "from sklearn.metrics import f1_score, roc_curve, auc\n",
    "from sklearn.linear_model import LogisticRegression\n",
    "from sklearn.model_selection import train_test_split"
   ]
  },
  {
   "cell_type": "code",
   "execution_count": 10,
   "metadata": {},
   "outputs": [
    {
     "data": {
      "text/plain": [
       "((350000, 75), (150000, 75), (350000,), (150000,))"
      ]
     },
     "execution_count": 10,
     "metadata": {},
     "output_type": "execute_result"
    }
   ],
   "source": [
    "x1, x2, y1, y2 = train_test_split(trainx, trainy, test_size=0.3)\n",
    "x1.shape, x2.shape, y1.shape, y2.shape"
   ]
  },
  {
   "cell_type": "code",
   "execution_count": 11,
   "metadata": {},
   "outputs": [
    {
     "name": "stdout",
     "output_type": "stream",
     "text": [
      "0.53015642329904 0.5324090745408715\n",
      "CPU times: user 1.64 s, sys: 556 ms, total: 2.19 s\n",
      "Wall time: 51.3 s\n"
     ]
    }
   ],
   "source": [
    "%%time\n",
    "model = LogisticRegression(penalty=\"l2\", n_jobs=-1)\n",
    "model.fit(x1, y1)\n",
    "print(f1_score(y1, model.predict(x1)), f1_score(y2, model.predict(x2)))"
   ]
  },
  {
   "cell_type": "code",
   "execution_count": 12,
   "metadata": {},
   "outputs": [
    {
     "data": {
      "text/markdown": [
       "__"
      ],
      "text/plain": [
       "<IPython.core.display.Markdown object>"
      ]
     },
     "metadata": {},
     "output_type": "display_data"
    }
   ],
   "source": [
    "%%markdownrkdown\n",
    "__"
   ]
  },
  {
   "cell_type": "code",
   "execution_count": 44,
   "metadata": {},
   "outputs": [],
   "source": [
    "import tensorflow as tf\n",
    "import tensorflow_addons as tfa"
   ]
  },
  {
   "cell_type": "code",
   "execution_count": 45,
   "metadata": {},
   "outputs": [
    {
     "name": "stdout",
     "output_type": "stream",
     "text": [
      "Model: \"model_4\"\n",
      "_________________________________________________________________\n",
      "Layer (type)                 Output Shape              Param #   \n",
      "=================================================================\n",
      "input_5 (InputLayer)         [(None, 75)]              0         \n",
      "_________________________________________________________________\n",
      "batch_normalization_4 (Batch (None, 75)                300       \n",
      "_________________________________________________________________\n",
      "dense_20 (Dense)             (None, 150)               11400     \n",
      "_________________________________________________________________\n",
      "dropout_16 (Dropout)         (None, 150)               0         \n",
      "_________________________________________________________________\n",
      "dense_21 (Dense)             (None, 300)               45300     \n",
      "_________________________________________________________________\n",
      "dropout_17 (Dropout)         (None, 300)               0         \n",
      "_________________________________________________________________\n",
      "dense_22 (Dense)             (None, 300)               90300     \n",
      "_________________________________________________________________\n",
      "dropout_18 (Dropout)         (None, 300)               0         \n",
      "_________________________________________________________________\n",
      "dense_23 (Dense)             (None, 150)               45150     \n",
      "_________________________________________________________________\n",
      "dropout_19 (Dropout)         (None, 150)               0         \n",
      "_________________________________________________________________\n",
      "dense_24 (Dense)             (None, 75)                11325     \n",
      "_________________________________________________________________\n",
      "dropout_20 (Dropout)         (None, 75)                0         \n",
      "_________________________________________________________________\n",
      "dense_25 (Dense)             (None, 1)                 76        \n",
      "=================================================================\n",
      "Total params: 203,851\n",
      "Trainable params: 203,701\n",
      "Non-trainable params: 150\n",
      "_________________________________________________________________\n"
     ]
    }
   ],
   "source": [
    "LOSS = [\n",
    "    tf.keras.losses.BinaryCrossentropy(name=\"Loss\")\n",
    "]\n",
    "\n",
    "METRICS = [\n",
    "    tfa.metrics.F1Score(name=\"F1\", num_classes=1, threshold=0.50)\n",
    "]\n",
    "\n",
    "_1 = tf.keras.Input((75,))\n",
    "X = tf.keras.layers.BatchNormalization()(_1)\n",
    "for u in [150, 300, 300, 150, 75]:\n",
    "    X = tf.keras.layers.Dropout(0.5)(\n",
    "        tf.keras.layers.Dense(u, \"relu\")(X)\n",
    "    )\n",
    "_2 = tf.keras.layers.Dense(1, \"sigmoid\")(X)\n",
    "model = tf.keras.Model(_1, _2)\n",
    "model.compile(\n",
    "    optimizer=tf.keras.optimizers.Adam(learning_rate=0.001), \n",
    "    loss=LOSS, metrics=METRICS\n",
    ")\n",
    "model.summary()\n"
   ]
  },
  {
   "cell_type": "code",
   "execution_count": 46,
   "metadata": {},
   "outputs": [],
   "source": [
    "checkpoint = tf.keras.callbacks.ModelCheckpoint(\n",
    "    \"frozen_model\", \"val_F1\", save_best_only=True, mode=\"max\"\n",
    ")"
   ]
  },
  {
   "cell_type": "code",
   "execution_count": 47,
   "metadata": {},
   "outputs": [
    {
     "name": "stdout",
     "output_type": "stream",
     "text": [
      "Epoch 1/35\n",
      "38/38 [==============================] - 6s 136ms/step - loss: 0.3544 - F1: 0.0316 - val_loss: 0.2585 - val_F1: 0.0000e+00\n",
      "INFO:tensorflow:Assets written to: frozen_model/assets\n",
      "Epoch 2/35\n",
      "38/38 [==============================] - 5s 134ms/step - loss: 0.2592 - F1: 0.0555 - val_loss: 0.2272 - val_F1: 0.4934\n",
      "INFO:tensorflow:Assets written to: frozen_model/assets\n",
      "Epoch 3/35\n",
      "38/38 [==============================] - 5s 135ms/step - loss: 0.2317 - F1: 0.5354 - val_loss: 0.2167 - val_F1: 0.5209\n",
      "INFO:tensorflow:Assets written to: frozen_model/assets\n",
      "Epoch 4/35\n",
      "38/38 [==============================] - 5s 143ms/step - loss: 0.2149 - F1: 0.6298 - val_loss: 0.2156 - val_F1: 0.5458\n",
      "INFO:tensorflow:Assets written to: frozen_model/assets\n",
      "Epoch 5/35\n",
      "38/38 [==============================] - 5s 135ms/step - loss: 0.2078 - F1: 0.6482 - val_loss: 0.1944 - val_F1: 0.5541\n",
      "INFO:tensorflow:Assets written to: frozen_model/assets\n",
      "Epoch 6/35\n",
      "38/38 [==============================] - 5s 137ms/step - loss: 0.2017 - F1: 0.6610 - val_loss: 0.2003 - val_F1: 0.5605\n",
      "INFO:tensorflow:Assets written to: frozen_model/assets\n",
      "Epoch 7/35\n",
      "38/38 [==============================] - 5s 137ms/step - loss: 0.1983 - F1: 0.6684 - val_loss: 0.1930 - val_F1: 0.5658\n",
      "INFO:tensorflow:Assets written to: frozen_model/assets\n",
      "Epoch 8/35\n",
      "38/38 [==============================] - 5s 133ms/step - loss: 0.1954 - F1: 0.6737 - val_loss: 0.1809 - val_F1: 0.5724\n",
      "INFO:tensorflow:Assets written to: frozen_model/assets\n",
      "Epoch 9/35\n",
      "38/38 [==============================] - 5s 132ms/step - loss: 0.1930 - F1: 0.6789 - val_loss: 0.1801 - val_F1: 0.5751\n",
      "INFO:tensorflow:Assets written to: frozen_model/assets\n",
      "Epoch 10/35\n",
      "38/38 [==============================] - 5s 136ms/step - loss: 0.1901 - F1: 0.6813 - val_loss: 0.1756 - val_F1: 0.5745\n",
      "Epoch 11/35\n",
      "38/38 [==============================] - 5s 141ms/step - loss: 0.1876 - F1: 0.6849 - val_loss: 0.1673 - val_F1: 0.5798\n",
      "INFO:tensorflow:Assets written to: frozen_model/assets\n",
      "Epoch 12/35\n",
      "38/38 [==============================] - 5s 134ms/step - loss: 0.1868 - F1: 0.6879 - val_loss: 0.1688 - val_F1: 0.5853\n",
      "INFO:tensorflow:Assets written to: frozen_model/assets\n",
      "Epoch 13/35\n",
      "38/38 [==============================] - 5s 131ms/step - loss: 0.1845 - F1: 0.6877 - val_loss: 0.1655 - val_F1: 0.5859\n",
      "INFO:tensorflow:Assets written to: frozen_model/assets\n",
      "Epoch 14/35\n",
      "38/38 [==============================] - 5s 126ms/step - loss: 0.1833 - F1: 0.6884 - val_loss: 0.1637 - val_F1: 0.5850\n",
      "Epoch 15/35\n",
      "38/38 [==============================] - 5s 128ms/step - loss: 0.1817 - F1: 0.6910 - val_loss: 0.1686 - val_F1: 0.5838\n",
      "Epoch 16/35\n",
      "38/38 [==============================] - 5s 144ms/step - loss: 0.1809 - F1: 0.6928 - val_loss: 0.1581 - val_F1: 0.5886\n",
      "INFO:tensorflow:Assets written to: frozen_model/assets\n",
      "Epoch 17/35\n",
      "38/38 [==============================] - 5s 138ms/step - loss: 0.1797 - F1: 0.6953 - val_loss: 0.1596 - val_F1: 0.5877\n",
      "Epoch 18/35\n",
      "38/38 [==============================] - 5s 139ms/step - loss: 0.1782 - F1: 0.6967 - val_loss: 0.1576 - val_F1: 0.5916\n",
      "INFO:tensorflow:Assets written to: frozen_model/assets\n",
      "Epoch 19/35\n",
      "38/38 [==============================] - 5s 134ms/step - loss: 0.1775 - F1: 0.6968 - val_loss: 0.1563 - val_F1: 0.5907\n",
      "Epoch 20/35\n",
      "38/38 [==============================] - 5s 137ms/step - loss: 0.1764 - F1: 0.6978 - val_loss: 0.1554 - val_F1: 0.5950\n",
      "INFO:tensorflow:Assets written to: frozen_model/assets\n",
      "Epoch 21/35\n",
      "38/38 [==============================] - 5s 138ms/step - loss: 0.1760 - F1: 0.6996 - val_loss: 0.1564 - val_F1: 0.5949\n",
      "Epoch 22/35\n",
      "38/38 [==============================] - 5s 137ms/step - loss: 0.1751 - F1: 0.7016 - val_loss: 0.1556 - val_F1: 0.5958\n",
      "INFO:tensorflow:Assets written to: frozen_model/assets\n",
      "Epoch 23/35\n",
      "38/38 [==============================] - 5s 145ms/step - loss: 0.1738 - F1: 0.7011 - val_loss: 0.1534 - val_F1: 0.5963\n",
      "INFO:tensorflow:Assets written to: frozen_model/assets\n",
      "Epoch 24/35\n",
      "38/38 [==============================] - 5s 137ms/step - loss: 0.1739 - F1: 0.7002 - val_loss: 0.1524 - val_F1: 0.5983\n",
      "INFO:tensorflow:Assets written to: frozen_model/assets\n",
      "Epoch 25/35\n",
      "38/38 [==============================] - 5s 132ms/step - loss: 0.1730 - F1: 0.7044 - val_loss: 0.1556 - val_F1: 0.5997\n",
      "INFO:tensorflow:Assets written to: frozen_model/assets\n",
      "Epoch 26/35\n",
      "38/38 [==============================] - 5s 128ms/step - loss: 0.1723 - F1: 0.7032 - val_loss: 0.1498 - val_F1: 0.5980\n",
      "Epoch 27/35\n",
      "38/38 [==============================] - 5s 129ms/step - loss: 0.1718 - F1: 0.7052 - val_loss: 0.1487 - val_F1: 0.5986\n",
      "Epoch 28/35\n",
      "38/38 [==============================] - 5s 129ms/step - loss: 0.1706 - F1: 0.7061 - val_loss: 0.1483 - val_F1: 0.5989\n",
      "Epoch 29/35\n",
      "38/38 [==============================] - 5s 130ms/step - loss: 0.1696 - F1: 0.7061 - val_loss: 0.1519 - val_F1: 0.6020\n",
      "INFO:tensorflow:Assets written to: frozen_model/assets\n",
      "Epoch 30/35\n",
      "38/38 [==============================] - 5s 137ms/step - loss: 0.1696 - F1: 0.7068 - val_loss: 0.1476 - val_F1: 0.5962\n",
      "Epoch 31/35\n",
      "38/38 [==============================] - 5s 142ms/step - loss: 0.1688 - F1: 0.7078 - val_loss: 0.1478 - val_F1: 0.6010\n",
      "Epoch 32/35\n",
      "38/38 [==============================] - 5s 139ms/step - loss: 0.1686 - F1: 0.7084 - val_loss: 0.1504 - val_F1: 0.6026\n",
      "INFO:tensorflow:Assets written to: frozen_model/assets\n",
      "Epoch 33/35\n",
      "38/38 [==============================] - 5s 130ms/step - loss: 0.1678 - F1: 0.7088 - val_loss: 0.1476 - val_F1: 0.6058\n",
      "INFO:tensorflow:Assets written to: frozen_model/assets\n",
      "Epoch 34/35\n",
      "38/38 [==============================] - 5s 135ms/step - loss: 0.1678 - F1: 0.7094 - val_loss: 0.1466 - val_F1: 0.6053\n",
      "Epoch 35/35\n",
      "38/38 [==============================] - 5s 139ms/step - loss: 0.1672 - F1: 0.7106 - val_loss: 0.1513 - val_F1: 0.6076\n",
      "INFO:tensorflow:Assets written to: frozen_model/assets\n",
      "CPU times: user 17min 57s, sys: 2min 24s, total: 20min 21s\n",
      "Wall time: 3min 30s\n"
     ]
    },
    {
     "data": {
      "text/plain": [
       "<tensorflow.python.keras.callbacks.History at 0x7fcf89a5ec88>"
      ]
     },
     "execution_count": 47,
     "metadata": {},
     "output_type": "execute_result"
    }
   ],
   "source": [
    "%%time\n",
    "model.fit(\n",
    "    trainx,\n",
    "    trainy,\n",
    "    batch_size=10000,\n",
    "    epochs=35,\n",
    "    verbose=1,\n",
    "    validation_split=0.25,\n",
    "    callbacks=[checkpoint],\n",
    ")"
   ]
  },
  {
   "cell_type": "code",
   "execution_count": null,
   "metadata": {},
   "outputs": [],
   "source": []
  },
  {
   "cell_type": "code",
   "execution_count": null,
   "metadata": {},
   "outputs": [],
   "source": []
  },
  {
   "cell_type": "code",
   "execution_count": null,
   "metadata": {},
   "outputs": [],
   "source": []
  }
 ],
 "metadata": {
  "kernelspec": {
   "display_name": "Python 3",
   "language": "python",
   "name": "python3"
  },
  "language_info": {
   "codemirror_mode": {
    "name": "ipython",
    "version": 3
   },
   "file_extension": ".py",
   "mimetype": "text/x-python",
   "name": "python",
   "nbconvert_exporter": "python",
   "pygments_lexer": "ipython3",
   "version": "3.7.2"
  }
 },
 "nbformat": 4,
 "nbformat_minor": 2
}
