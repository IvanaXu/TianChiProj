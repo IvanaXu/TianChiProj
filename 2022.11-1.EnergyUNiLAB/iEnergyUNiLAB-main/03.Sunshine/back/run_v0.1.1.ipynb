{
 "cells": [
  {
   "cell_type": "code",
   "execution_count": 1,
   "metadata": {
    "execution": {
     "iopub.execute_input": "2022-10-01T21:06:09.449188Z",
     "iopub.status.busy": "2022-10-01T21:06:09.448858Z",
     "iopub.status.idle": "2022-10-01T21:06:11.688248Z",
     "shell.execute_reply": "2022-10-01T21:06:11.687214Z",
     "shell.execute_reply.started": "2022-10-01T21:06:09.449163Z"
    },
    "scrolled": true,
    "tags": []
   },
   "outputs": [
    {
     "name": "stdout",
     "output_type": "stream",
     "text": [
      "Looking in indexes: https://pypi.tuna.tsinghua.edu.cn/simple\n",
      "Requirement already satisfied: pandas==1.1.5 in /opt/conda/envs/python35-paddle120-env/lib/python3.7/site-packages (1.1.5)\n",
      "Requirement already satisfied: numpy==1.19.5 in /opt/conda/envs/python35-paddle120-env/lib/python3.7/site-packages (1.19.5)\n",
      "Requirement already satisfied: scikit-learn==1.0.2 in /opt/conda/envs/python35-paddle120-env/lib/python3.7/site-packages (1.0.2)\n",
      "Requirement already satisfied: paddlets==0.2.0 in /opt/conda/envs/python35-paddle120-env/lib/python3.7/site-packages (0.2.0)\n",
      "Requirement already satisfied: pytz>=2017.2 in /opt/conda/envs/python35-paddle120-env/lib/python3.7/site-packages (from pandas==1.1.5) (2019.3)\n",
      "Requirement already satisfied: python-dateutil>=2.7.3 in /opt/conda/envs/python35-paddle120-env/lib/python3.7/site-packages (from pandas==1.1.5) (2.8.2)\n",
      "Requirement already satisfied: joblib>=0.11 in /opt/conda/envs/python35-paddle120-env/lib/python3.7/site-packages (from scikit-learn==1.0.2) (0.14.1)\n",
      "Requirement already satisfied: scipy>=1.1.0 in /opt/conda/envs/python35-paddle120-env/lib/python3.7/site-packages (from scikit-learn==1.0.2) (1.3.0)\n",
      "Requirement already satisfied: threadpoolctl>=2.0.0 in /opt/conda/envs/python35-paddle120-env/lib/python3.7/site-packages (from scikit-learn==1.0.2) (3.1.0)\n",
      "Requirement already satisfied: tqdm in /opt/conda/envs/python35-paddle120-env/lib/python3.7/site-packages (from paddlets==0.2.0) (4.27.0)\n",
      "Requirement already satisfied: python-docx in /opt/conda/envs/python35-paddle120-env/lib/python3.7/site-packages (from paddlets==0.2.0) (0.8.11)\n",
      "Requirement already satisfied: matplotlib>=3.1.2 in /opt/conda/envs/python35-paddle120-env/lib/python3.7/site-packages (from paddlets==0.2.0) (3.5.3)\n",
      "Requirement already satisfied: chinese-calendar==1.7.2 in /opt/conda/envs/python35-paddle120-env/lib/python3.7/site-packages (from paddlets==0.2.0) (1.7.2)\n",
      "Requirement already satisfied: PyWavelets<=1.3.0,>=1.1.0 in /opt/conda/envs/python35-paddle120-env/lib/python3.7/site-packages (from paddlets==0.2.0) (1.3.0)\n",
      "Requirement already satisfied: pillow>=6.2.0 in /opt/conda/envs/python35-paddle120-env/lib/python3.7/site-packages (from matplotlib>=3.1.2->paddlets==0.2.0) (8.2.0)\n",
      "Requirement already satisfied: kiwisolver>=1.0.1 in /opt/conda/envs/python35-paddle120-env/lib/python3.7/site-packages (from matplotlib>=3.1.2->paddlets==0.2.0) (1.1.0)\n",
      "Requirement already satisfied: fonttools>=4.22.0 in /opt/conda/envs/python35-paddle120-env/lib/python3.7/site-packages (from matplotlib>=3.1.2->paddlets==0.2.0) (4.37.4)\n",
      "Requirement already satisfied: pyparsing>=2.2.1 in /opt/conda/envs/python35-paddle120-env/lib/python3.7/site-packages (from matplotlib>=3.1.2->paddlets==0.2.0) (3.0.9)\n",
      "Requirement already satisfied: cycler>=0.10 in /opt/conda/envs/python35-paddle120-env/lib/python3.7/site-packages (from matplotlib>=3.1.2->paddlets==0.2.0) (0.10.0)\n",
      "Requirement already satisfied: packaging>=20.0 in /opt/conda/envs/python35-paddle120-env/lib/python3.7/site-packages (from matplotlib>=3.1.2->paddlets==0.2.0) (21.3)\n",
      "Requirement already satisfied: six>=1.5 in /opt/conda/envs/python35-paddle120-env/lib/python3.7/site-packages (from python-dateutil>=2.7.3->pandas==1.1.5) (1.16.0)\n",
      "Requirement already satisfied: lxml>=2.3.2 in /opt/conda/envs/python35-paddle120-env/lib/python3.7/site-packages (from python-docx->paddlets==0.2.0) (4.9.1)\n",
      "Requirement already satisfied: setuptools in /opt/conda/envs/python35-paddle120-env/lib/python3.7/site-packages (from kiwisolver>=1.0.1->matplotlib>=3.1.2->paddlets==0.2.0) (41.4.0)\n",
      "\n",
      "\u001b[1m[\u001b[0m\u001b[34;49mnotice\u001b[0m\u001b[1;39;49m]\u001b[0m\u001b[39;49m A new release of pip available: \u001b[0m\u001b[31;49m22.1.2\u001b[0m\u001b[39;49m -> \u001b[0m\u001b[32;49m22.2.2\u001b[0m\n",
      "\u001b[1m[\u001b[0m\u001b[34;49mnotice\u001b[0m\u001b[1;39;49m]\u001b[0m\u001b[39;49m To update, run: \u001b[0m\u001b[32;49mpip install --upgrade pip\u001b[0m\n"
     ]
    }
   ],
   "source": [
    "! pip install pandas==1.1.5 numpy==1.19.5 scikit-learn==1.0.2 paddlets==0.2.0"
   ]
  },
  {
   "cell_type": "code",
   "execution_count": 2,
   "metadata": {
    "execution": {
     "iopub.execute_input": "2022-10-01T21:06:11.689966Z",
     "iopub.status.busy": "2022-10-01T21:06:11.689561Z",
     "iopub.status.idle": "2022-10-01T21:06:14.940047Z",
     "shell.execute_reply": "2022-10-01T21:06:14.938859Z",
     "shell.execute_reply.started": "2022-10-01T21:06:11.689940Z"
    },
    "scrolled": true
   },
   "outputs": [],
   "source": [
    "from paddlets.datasets.repository import get_dataset\n",
    "from paddlets.models.forecasting.ml.ml_model_wrapper import make_ml_model\n",
    "\n",
    "from sklearn.neighbors import KNeighborsRegressor"
   ]
  },
  {
   "cell_type": "code",
   "execution_count": 3,
   "metadata": {
    "execution": {
     "iopub.execute_input": "2022-10-01T21:06:14.942400Z",
     "iopub.status.busy": "2022-10-01T21:06:14.941578Z",
     "iopub.status.idle": "2022-10-01T21:06:15.464555Z",
     "shell.execute_reply": "2022-10-01T21:06:15.463535Z",
     "shell.execute_reply.started": "2022-10-01T21:06:14.942368Z"
    },
    "scrolled": true
   },
   "outputs": [],
   "source": [
    "paddlets_ds = get_dataset(\"UNI_WTH\")"
   ]
  },
  {
   "cell_type": "code",
   "execution_count": 4,
   "metadata": {
    "execution": {
     "iopub.execute_input": "2022-10-01T21:06:15.466457Z",
     "iopub.status.busy": "2022-10-01T21:06:15.465858Z",
     "iopub.status.idle": "2022-10-01T21:06:15.488944Z",
     "shell.execute_reply": "2022-10-01T21:06:15.488045Z",
     "shell.execute_reply.started": "2022-10-01T21:06:15.466431Z"
    },
    "scrolled": true,
    "tags": []
   },
   "outputs": [
    {
     "data": {
      "text/plain": [
       "      Radiation\n",
       "0      0.002882\n",
       "1      0.054755\n",
       "2      0.227666\n",
       "3      0.487032\n",
       "4      0.489914\n",
       "...         ...\n",
       "4495   0.340058\n",
       "4496   0.170029\n",
       "4497   0.063401\n",
       "4498   0.014409\n",
       "4499   0.000000\n",
       "\n",
       "[4500 rows x 1 columns]"
      ]
     },
     "execution_count": 4,
     "metadata": {},
     "output_type": "execute_result"
    }
   ],
   "source": [
    "import pandas as pd\n",
    "from paddlets import TSDataset\n",
    "\n",
    "paddlets_ds = TSDataset.load_from_dataframe(\n",
    "    pd.read_csv(\"../data/sunshine.csv\")[[\"Radiation\"]]\n",
    ")\n",
    "paddlets_ds"
   ]
  },
  {
   "cell_type": "code",
   "execution_count": 5,
   "metadata": {
    "execution": {
     "iopub.execute_input": "2022-10-01T21:06:15.490618Z",
     "iopub.status.busy": "2022-10-01T21:06:15.490203Z",
     "iopub.status.idle": "2022-10-01T21:06:15.494516Z",
     "shell.execute_reply": "2022-10-01T21:06:15.493726Z",
     "shell.execute_reply.started": "2022-10-01T21:06:15.490584Z"
    },
    "scrolled": true,
    "tags": []
   },
   "outputs": [],
   "source": [
    "model = make_ml_model(\n",
    "    in_chunk_len=3,\n",
    "    out_chunk_len=1,\n",
    "    model_class=KNeighborsRegressor\n",
    ")"
   ]
  },
  {
   "cell_type": "code",
   "execution_count": 6,
   "metadata": {
    "execution": {
     "iopub.execute_input": "2022-10-01T21:06:15.498027Z",
     "iopub.status.busy": "2022-10-01T21:06:15.497674Z",
     "iopub.status.idle": "2022-10-01T21:06:15.537699Z",
     "shell.execute_reply": "2022-10-01T21:06:15.536694Z",
     "shell.execute_reply.started": "2022-10-01T21:06:15.497999Z"
    },
    "scrolled": true,
    "tags": []
   },
   "outputs": [],
   "source": [
    "model.fit(train_data=paddlets_ds)"
   ]
  },
  {
   "cell_type": "code",
   "execution_count": 7,
   "metadata": {
    "execution": {
     "iopub.execute_input": "2022-10-01T21:06:15.539804Z",
     "iopub.status.busy": "2022-10-01T21:06:15.539408Z",
     "iopub.status.idle": "2022-10-01T21:06:15.928898Z",
     "shell.execute_reply": "2022-10-01T21:06:15.927963Z",
     "shell.execute_reply.started": "2022-10-01T21:06:15.539779Z"
    },
    "scrolled": true,
    "tags": []
   },
   "outputs": [
    {
     "data": {
      "text/plain": [
       "      Radiation\n",
       "4500   0.000000\n",
       "4501   0.000000\n",
       "4502   0.017867\n",
       "4503   0.068588\n",
       "4504   0.146974\n",
       "...         ...\n",
       "4645   0.074352\n",
       "4646   0.010951\n",
       "4647   0.003458\n",
       "4648   0.000000\n",
       "4649   0.012104\n",
       "\n",
       "[150 rows x 1 columns]"
      ]
     },
     "execution_count": 7,
     "metadata": {},
     "output_type": "execute_result"
    }
   ],
   "source": [
    "recursively_predicted_ds = model.recursive_predict(tsdataset=paddlets_ds, predict_length=150)\n",
    "recursively_predicted_ds"
   ]
  },
  {
   "cell_type": "code",
   "execution_count": 8,
   "metadata": {
    "execution": {
     "iopub.execute_input": "2022-10-01T21:06:15.930668Z",
     "iopub.status.busy": "2022-10-01T21:06:15.930145Z",
     "iopub.status.idle": "2022-10-01T21:06:15.938021Z",
     "shell.execute_reply": "2022-10-01T21:06:15.937096Z",
     "shell.execute_reply.started": "2022-10-01T21:06:15.930639Z"
    },
    "scrolled": true,
    "tags": []
   },
   "outputs": [],
   "source": [
    "recursively_predicted_ds.to_dataframe().to_csv(\"result.csv\", index=False)"
   ]
  },
  {
   "cell_type": "code",
   "execution_count": null,
   "metadata": {
    "scrolled": true
   },
   "outputs": [],
   "source": []
  }
 ],
 "metadata": {
  "kernelspec": {
   "display_name": "Python 3",
   "language": "python",
   "name": "py35-paddle1.2.0"
  },
  "language_info": {
   "codemirror_mode": {
    "name": "ipython",
    "version": 3
   },
   "file_extension": ".py",
   "mimetype": "text/x-python",
   "name": "python",
   "nbconvert_exporter": "python",
   "pygments_lexer": "ipython3",
   "version": "3.7.4"
  }
 },
 "nbformat": 4,
 "nbformat_minor": 4
}
