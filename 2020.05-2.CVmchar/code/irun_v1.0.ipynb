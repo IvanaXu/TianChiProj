{
 "cells": [
  {
   "cell_type": "code",
   "execution_count": 1,
   "metadata": {},
   "outputs": [],
   "source": [
    "import os\n",
    "import json\n",
    "import random\n",
    "import cv2 as cv\n",
    "import numpy as np\n",
    "import pandas as pd\n",
    "from tqdm import tqdm\n",
    "import xgboost as xgb\n",
    "from sklearn import metrics\n",
    "from IPython.display import Image\n",
    "from sklearn.model_selection import train_test_split\n"
   ]
  },
  {
   "cell_type": "code",
   "execution_count": 2,
   "metadata": {},
   "outputs": [],
   "source": [
    "dt = \"/Users/ivan/Desktop/ALL/Data/CVmchar\""
   ]
  },
  {
   "cell_type": "code",
   "execution_count": 3,
   "metadata": {},
   "outputs": [
    {
     "data": {
      "image/jpeg": "[encoded data removed]",
      "text/plain": [
       "<IPython.core.display.Image object>"
      ]
     },
     "execution_count": 3,
     "metadata": {
      "image/jpeg": {
       "height": 300,
       "width": 300
      }
     },
     "output_type": "execute_result"
    }
   ],
   "source": [
    "ix, iy = 100, 50\n",
    "\n",
    "def fimg(img):\n",
    "    return cv.resize(img, (ix, iy))\n",
    "\n",
    "img = fimg(cv.imread(f\"{dt}/mchar_train/018292.png\"))\n",
    "cv.imwrite(\"tmp.jpg\", img)\n",
    "Image(\"tmp.jpg\", height=300, width=300)\n"
   ]
  },
  {
   "cell_type": "code",
   "execution_count": 16,
   "metadata": {},
   "outputs": [
    {
     "name": "stderr",
     "output_type": "stream",
     "text": [
      "100%|██████████| 30000/30000 [00:10<00:00, 2829.08it/s]\n"
     ]
    },
    {
     "data": {
      "text/plain": [
       "'33.854208, 16.640812'"
      ]
     },
     "execution_count": 16,
     "metadata": {},
     "output_type": "execute_result"
    }
   ],
   "source": [
    "datax = []\n",
    "datay = []\n",
    "\n",
    "dtype = \"mchar_train\"\n",
    "\n",
    "with open(f\"{dt}/{dtype}.json\", \"r\") as f:\n",
    "    data = f.readlines()\n",
    "json_file = data[0]\n",
    "j_obj = json.loads(json_file)\n",
    "\n",
    "heightl, widthl = [], []\n",
    "data = []\n",
    "for dti in tqdm(os.listdir(f\"{dt}/{dtype}\")[:]):\n",
    "    f1dti = j_obj[dti]\n",
    "    img = cv.imread(f\"{dt}/{dtype}/{dti}\")\n",
    "    for top, height, left, width, label in zip(\n",
    "        f1dti[\"top\"], f1dti[\"height\"], f1dti[\"left\"], f1dti[\"width\"], f1dti[\"label\"]):\n",
    "        top, height, left, width, label = int(top), int(height), int(left), int(width), int(label)\n",
    "        top, height, left, width = max(top,0), max(height,0), max(left,0), max(width,0)\n",
    "        \n",
    "        widthl.append(width)\n",
    "        heightl.append(height)\n",
    "        \n",
    "        img0 = fimg(img[top:top+height,left:left+width])\n",
    "        datax.append(img0)\n",
    "        datay.append(label)    \n",
    "\n",
    "heightm, widthm = np.mean(heightl), np.mean(widthl)\n",
    "\"%.6f, %.6f\" % (heightm, widthm)\n"
   ]
  },
  {
   "cell_type": "code",
   "execution_count": 5,
   "metadata": {},
   "outputs": [
    {
     "name": "stdout",
     "output_type": "stream",
     "text": [
      "CPU times: user 776 ms, sys: 758 ms, total: 1.53 s\n",
      "Wall time: 1.53 s\n",
      "CPU times: user 4.01 ms, sys: 1 µs, total: 4.01 ms\n",
      "Wall time: 4.01 ms\n",
      "1    12446\n",
      "2     9532\n",
      "3     7608\n",
      "4     6720\n",
      "5     6146\n",
      "6     5141\n",
      "7     5032\n",
      "8     4510\n",
      "0     4444\n",
      "9     4186\n",
      "dtype: int64\n"
     ]
    }
   ],
   "source": [
    "%time rx = np.array(datax, dtype=np.float32)\n",
    "\n",
    "%time ry = np.array(datay, dtype=np.int32)\n",
    "print(pd.value_counts(ry))\n"
   ]
  },
  {
   "cell_type": "code",
   "execution_count": 6,
   "metadata": {},
   "outputs": [
    {
     "name": "stdout",
     "output_type": "stream",
     "text": [
      "Model: \"sequential\"\n",
      "_________________________________________________________________\n",
      "Layer (type)                 Output Shape              Param #   \n",
      "=================================================================\n",
      "conv2d (Conv2D)              (None, 48, 98, 32)        896       \n",
      "_________________________________________________________________\n",
      "max_pooling2d (MaxPooling2D) (None, 24, 49, 32)        0         \n",
      "_________________________________________________________________\n",
      "conv2d_1 (Conv2D)            (None, 22, 47, 64)        18496     \n",
      "_________________________________________________________________\n",
      "max_pooling2d_1 (MaxPooling2 (None, 11, 23, 64)        0         \n",
      "_________________________________________________________________\n",
      "conv2d_2 (Conv2D)            (None, 9, 21, 64)         36928     \n",
      "_________________________________________________________________\n",
      "flatten (Flatten)            (None, 12096)             0         \n",
      "_________________________________________________________________\n",
      "dense (Dense)                (None, 64)                774208    \n",
      "_________________________________________________________________\n",
      "dense_1 (Dense)              (None, 1)                 65        \n",
      "=================================================================\n",
      "Total params: 830,593\n",
      "Trainable params: 830,593\n",
      "Non-trainable params: 0\n",
      "_________________________________________________________________\n",
      "None\n",
      ">\n",
      ">>>>>>>>>>>>>>>>>>>>>>>>>>>>>>>>CPU times: user 4h 35min 21s, sys: 36min 8s, total: 5h 11min 29s\n",
      "Wall time: 45min 40s\n"
     ]
    }
   ],
   "source": [
    "m_x = rx\n",
    "m_y = ry\n",
    "\n",
    "import tensorflow as tf\n",
    "from tensorflow import keras\n",
    "from tensorflow.keras import layers\n",
    "from tensorflow.keras import regularizers\n",
    "\n",
    "\n",
    "def tf_model():\n",
    "    model = keras.Sequential([\n",
    "        layers.Conv2D(32, (3, 3), activation='relu', input_shape=(iy, ix, 3)),\n",
    "        layers.MaxPooling2D((2, 2)),\n",
    "        layers.Conv2D(64, (3, 3), activation='relu'),\n",
    "        layers.MaxPooling2D((2, 2)),\n",
    "        layers.Conv2D(64, (3, 3), activation='relu'),\n",
    "        \n",
    "        layers.Flatten(),\n",
    "        layers.Dense(64, activation='relu'),\n",
    "        layers.Dense(1)\n",
    "    ])\n",
    "    model.compile(\n",
    "        loss=tf.keras.losses.MAE, \n",
    "        optimizer=\"adam\", \n",
    "        metrics=['accuracy']\n",
    "    )\n",
    "    return model\n",
    "\n",
    "model = tf_model()\n",
    "print(model.summary())\n",
    "\n",
    "class PrintDot(keras.callbacks.Callback):\n",
    "    def on_epoch_end(self, epoch, logs):\n",
    "        print('>', end='')\n",
    "        if epoch % 100 == 0: \n",
    "            print('')\n",
    "\n",
    "EPOCHS = 1000\n",
    "early_stop = keras.callbacks.EarlyStopping(monitor='val_loss', patience=10)\n",
    "%time history = model.fit(m_x,m_y,epochs=EPOCHS,validation_split=0.5,verbose=0,callbacks=[early_stop, PrintDot()])\n"
   ]
  },
  {
   "cell_type": "code",
   "execution_count": 7,
   "metadata": {},
   "outputs": [],
   "source": [
    "import matplotlib.pyplot as plt\n",
    "\n",
    "\n",
    "def plot_history(history):\n",
    "    hist = pd.DataFrame(history.history)\n",
    "    hist['epoch'] = history.epoch\n",
    "\n",
    "    plt.figure()\n",
    "    plt.xlabel('Epoch')\n",
    "    plt.ylabel('[AUC]')\n",
    "    plt.plot(hist['epoch'], hist['accuracy'], label='Trar')\n",
    "    plt.plot(hist['epoch'], hist['val_accuracy'], label='Vals')\n",
    "    plt.legend()\n",
    "\n",
    "plot_history(history)\n"
   ]
  },
  {
   "cell_type": "code",
   "execution_count": 8,
   "metadata": {},
   "outputs": [
    {
     "name": "stderr",
     "output_type": "stream",
     "text": [
      "100%|██████████| 30000/30000 [18:40<00:00, 26.77it/s]\n"
     ]
    },
    {
     "data": {
      "text/plain": [
       "'mchar_train, 31432, 65765, 0.477944'"
      ]
     },
     "execution_count": 8,
     "metadata": {},
     "output_type": "execute_result"
    }
   ],
   "source": [
    "n, m = 0, 0\n",
    "\n",
    "dtype = \"mchar_train\"\n",
    "\n",
    "with open(f\"{dt}/{dtype}.json\", \"r\") as f:\n",
    "    data = f.readlines()\n",
    "json_file = data[0]\n",
    "j_obj = json.loads(json_file)\n",
    "\n",
    "for dti in tqdm(os.listdir(f\"{dt}/{dtype}\")[:]):\n",
    "    f1dti = j_obj[dti]\n",
    "    img = cv.imread(f\"{dt}/{dtype}/{dti}\")\n",
    "    for top, height, left, width, label in zip(\n",
    "        f1dti[\"top\"], f1dti[\"height\"], f1dti[\"left\"], f1dti[\"width\"], f1dti[\"label\"]):\n",
    "        top, height, left, width, label = int(top), int(height), int(left), int(width), int(label)\n",
    "        top, height, left, width = max(top,0), max(height,0), max(left,0), max(width,0)\n",
    "        \n",
    "        img0 = fimg(img[top:top+height,left:left+width])\n",
    "        img0 = np.array([img0], dtype=np.float32)\n",
    "        result = int(model.predict(img0)[0][0])\n",
    "        \n",
    "        n += 1 if result == label else 0\n",
    "        m += 1\n",
    "\n",
    "\"%s, %d, %d, %.6f\" % (dtype, n, m, n/m)\n"
   ]
  },
  {
   "cell_type": "code",
   "execution_count": 9,
   "metadata": {},
   "outputs": [
    {
     "name": "stderr",
     "output_type": "stream",
     "text": [
      "100%|██████████| 10000/10000 [05:44<00:00, 29.01it/s]\n"
     ]
    },
    {
     "data": {
      "text/plain": [
       "'mchar_val, 8394, 19893, 0.421957'"
      ]
     },
     "execution_count": 9,
     "metadata": {},
     "output_type": "execute_result"
    }
   ],
   "source": [
    "n, m = 0, 0\n",
    "\n",
    "dtype = \"mchar_val\"\n",
    "\n",
    "with open(f\"{dt}/{dtype}.json\", \"r\") as f:\n",
    "    data = f.readlines()\n",
    "json_file = data[0]\n",
    "j_obj = json.loads(json_file)\n",
    "\n",
    "for dti in tqdm(os.listdir(f\"{dt}/{dtype}\")[:]):\n",
    "    f1dti = j_obj[dti]\n",
    "    img = cv.imread(f\"{dt}/{dtype}/{dti}\")\n",
    "    for top, height, left, width, label in zip(\n",
    "        f1dti[\"top\"], f1dti[\"height\"], f1dti[\"left\"], f1dti[\"width\"], f1dti[\"label\"]):\n",
    "        top, height, left, width, label = int(top), int(height), int(left), int(width), int(label)\n",
    "        top, height, left, width = max(top,0), max(height,0), max(left,0), max(width,0)\n",
    "        \n",
    "        img0 = fimg(img[top:top+height,left:left+width])\n",
    "        img0 = np.array([img0], dtype=np.float32)\n",
    "        result = int(model.predict(img0)[0][0])\n",
    "        \n",
    "        n += 1 if result == label else 0\n",
    "        m += 1\n",
    "\n",
    "\"%s, %d, %d, %.6f\" % (dtype, n, m, n/m)\n"
   ]
  },
  {
   "cell_type": "code",
   "execution_count": 12,
   "metadata": {},
   "outputs": [
    {
     "name": "stderr",
     "output_type": "stream",
     "text": [
      "100%|██████████| 10/10 [00:00<00:00, 1182.03it/s]"
     ]
    },
    {
     "name": "stdout",
     "output_type": "stream",
     "text": [
      "(89, 395, 3)\n",
      "(48, 64, 3)\n",
      "(92, 139, 3)\n",
      "(59, 82, 3)\n",
      "(29, 32, 3)\n",
      "(71, 89, 3)\n",
      "(63, 86, 3)\n",
      "(33, 64, 3)\n",
      "(55, 64, 3)\n",
      "(79, 190, 3)\n"
     ]
    },
    {
     "name": "stderr",
     "output_type": "stream",
     "text": [
      "\n"
     ]
    }
   ],
   "source": [
    "dtype = \"mchar_test_a\"\n",
    "\n",
    "for dti in tqdm(os.listdir(f\"{dt}/{dtype}\")[:10]):\n",
    "    print(cv.imread(f\"{dt}/{dtype}/{dti}\").shape)\n"
   ]
  },
  {
   "cell_type": "code",
   "execution_count": 83,
   "metadata": {},
   "outputs": [
    {
     "data": {
      "image/jpeg": "[encoded data removed]",
      "text/plain": [
       "<IPython.core.display.Image object>"
      ]
     },
     "execution_count": 83,
     "metadata": {},
     "output_type": "execute_result"
    }
   ],
   "source": [
    "dtype = \"mchar_test_a\"\n",
    "dname = \"000001\"\n",
    "img = cv.imread(f\"{dt}/{dtype}/{dname}.png\")\n",
    "cv.imwrite(\"tmp.jpg\", img)\n",
    "Image(\"tmp.jpg\")\n"
   ]
  },
  {
   "cell_type": "code",
   "execution_count": 84,
   "metadata": {},
   "outputs": [
    {
     "name": "stdout",
     "output_type": "stream",
     "text": [
      "3\n"
     ]
    },
    {
     "data": {
      "image/jpeg": "[encoded data removed]",
      "text/plain": [
       "<IPython.core.display.Image object>"
      ]
     },
     "execution_count": 84,
     "metadata": {},
     "output_type": "execute_result"
    }
   ],
   "source": [
    "img = cv.imread(f\"{dt}/{dtype}/{dname}.png\")\n",
    "\n",
    "img0 = fimg(img)\n",
    "img0 = np.array([img0], dtype=np.float32)\n",
    "result = int(model.predict(img0)[0][0])\n",
    "print(result)\n",
    "\n",
    "cv.imwrite(\"tmp.jpg\", img)\n",
    "Image(\"tmp.jpg\")\n"
   ]
  },
  {
   "cell_type": "code",
   "execution_count": 85,
   "metadata": {},
   "outputs": [
    {
     "name": "stdout",
     "output_type": "stream",
     "text": [
      "1\n"
     ]
    },
    {
     "data": {
      "image/jpeg": "[encoded data removed]",
      "text/plain": [
       "<IPython.core.display.Image object>"
      ]
     },
     "execution_count": 85,
     "metadata": {},
     "output_type": "execute_result"
    }
   ],
   "source": [
    "n = 1\n",
    "\n",
    "img = cv.imread(f\"{dt}/{dtype}/{dname}.png\")\n",
    "_, y, _ = img.shape\n",
    "img = img[:,y//5*(n-1):y//5*n]\n",
    "\n",
    "img0 = fimg(img)\n",
    "img0 = np.array([img0], dtype=np.float32)\n",
    "result = int(model.predict(img0)[0][0])\n",
    "print(result)\n",
    "\n",
    "cv.imwrite(\"tmp.jpg\", img)\n",
    "Image(\"tmp.jpg\")\n"
   ]
  },
  {
   "cell_type": "code",
   "execution_count": 86,
   "metadata": {},
   "outputs": [
    {
     "name": "stdout",
     "output_type": "stream",
     "text": [
      "4\n"
     ]
    },
    {
     "data": {
      "image/jpeg": "[encoded data removed]",
      "text/plain": [
       "<IPython.core.display.Image object>"
      ]
     },
     "execution_count": 86,
     "metadata": {},
     "output_type": "execute_result"
    }
   ],
   "source": [
    "n = 2\n",
    "\n",
    "img = cv.imread(f\"{dt}/{dtype}/{dname}.png\")\n",
    "_, y, _ = img.shape\n",
    "img = img[:,y//5*(n-1):y//5*n]\n",
    "\n",
    "img0 = fimg(img)\n",
    "img0 = np.array([img0], dtype=np.float32)\n",
    "result = int(model.predict(img0)[0][0])\n",
    "print(result)\n",
    "\n",
    "cv.imwrite(\"tmp.jpg\", img)\n",
    "Image(\"tmp.jpg\")"
   ]
  },
  {
   "cell_type": "code",
   "execution_count": 87,
   "metadata": {},
   "outputs": [
    {
     "name": "stdout",
     "output_type": "stream",
     "text": [
      "2\n"
     ]
    },
    {
     "data": {
      "image/jpeg": "[encoded data removed]",
      "text/plain": [
       "<IPython.core.display.Image object>"
      ]
     },
     "execution_count": 87,
     "metadata": {},
     "output_type": "execute_result"
    }
   ],
   "source": [
    "n = 3\n",
    "\n",
    "img = cv.imread(f\"{dt}/{dtype}/{dname}.png\")\n",
    "_, y, _ = img.shape\n",
    "img = img[:,y//5*(n-1):y//5*n]\n",
    "\n",
    "img0 = fimg(img)\n",
    "img0 = np.array([img0], dtype=np.float32)\n",
    "result = int(model.predict(img0)[0][0])\n",
    "print(result)\n",
    "\n",
    "cv.imwrite(\"tmp.jpg\", img)\n",
    "Image(\"tmp.jpg\")"
   ]
  },
  {
   "cell_type": "code",
   "execution_count": 88,
   "metadata": {},
   "outputs": [
    {
     "name": "stdout",
     "output_type": "stream",
     "text": [
      "8\n"
     ]
    },
    {
     "data": {
      "image/jpeg": "[encoded data removed]",
      "text/plain": [
       "<IPython.core.display.Image object>"
      ]
     },
     "execution_count": 88,
     "metadata": {},
     "output_type": "execute_result"
    }
   ],
   "source": [
    "n = 4\n",
    "\n",
    "dtype = \"mchar_test_a\"\n",
    "img = cv.imread(f\"{dt}/{dtype}/000001.png\")\n",
    "_, y, _ = img.shape\n",
    "img = img[:,y//5*(n-1):y//5*n]\n",
    "\n",
    "img0 = fimg(img)\n",
    "img0 = np.array([img0], dtype=np.float32)\n",
    "result = int(model.predict(img0)[0][0])\n",
    "print(result)\n",
    "\n",
    "cv.imwrite(\"tmp.jpg\", img)\n",
    "Image(\"tmp.jpg\")"
   ]
  },
  {
   "cell_type": "code",
   "execution_count": 89,
   "metadata": {},
   "outputs": [
    {
     "name": "stdout",
     "output_type": "stream",
     "text": [
      "2\n"
     ]
    },
    {
     "data": {
      "image/jpeg": "[encoded data removed]",
      "text/plain": [
       "<IPython.core.display.Image object>"
      ]
     },
     "execution_count": 89,
     "metadata": {},
     "output_type": "execute_result"
    }
   ],
   "source": [
    "n = 5\n",
    "\n",
    "dtype = \"mchar_test_a\"\n",
    "img = cv.imread(f\"{dt}/{dtype}/000001.png\")\n",
    "_, y, _ = img.shape\n",
    "img = img[:,y//5*(n-1):y//5*n]\n",
    "\n",
    "img0 = fimg(img)\n",
    "img0 = np.array([img0], dtype=np.float32)\n",
    "result = int(model.predict(img0)[0][0])\n",
    "print(result)\n",
    "\n",
    "cv.imwrite(\"tmp.jpg\", img)\n",
    "Image(\"tmp.jpg\")"
   ]
  },
  {
   "cell_type": "code",
   "execution_count": null,
   "metadata": {},
   "outputs": [],
   "source": []
  }
 ],
 "metadata": {
  "kernelspec": {
   "display_name": "Python 3",
   "language": "python",
   "name": "python3"
  },
  "language_info": {
   "codemirror_mode": {
    "name": "ipython",
    "version": 3
   },
   "file_extension": ".py",
   "mimetype": "text/x-python",
   "name": "python",
   "nbconvert_exporter": "python",
   "pygments_lexer": "ipython3",
   "version": "3.7.0"
  }
 },
 "nbformat": 4,
 "nbformat_minor": 2
}
