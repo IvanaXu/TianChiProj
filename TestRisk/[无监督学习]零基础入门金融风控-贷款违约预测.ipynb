{
 "cells": [
  {
   "cell_type": "markdown",
   "metadata": {},
   "source": [
    "|Field|Description\n",
    "|-|-\n",
    "|id|为贷款清单分配的唯一信用证标识\n",
    "|loanAmnt|贷款金额\n",
    "|term|贷款期限（year）\n",
    "|interestRate|贷款利率\n",
    "|installment|分期付款金额\n",
    "|grade|贷款等级\n",
    "|subGrade|贷款等级之子级\n",
    "|employmentTitle|就业职称\n",
    "|employmentLength|就业年限（年）\n",
    "|homeOwnership|借款人在登记时提供的房屋所有权状况\n",
    "|annualIncome|年收入\n",
    "|verificationStatus|验证状态\n",
    "|issueDate|贷款发放的月份\n",
    "|purpose|借款人在贷款申请时的贷款用途类别\n",
    "|postCode|借款人在贷款申请中提供的邮政编码的前3位数字\n",
    "|regionCode|地区编码\n",
    "|dti|债务收入比\n",
    "|delinquency_2years|借款人过去2年信用档案中逾期30天以上的违约事件数\n",
    "|ficoRangeLow|借款人在贷款发放时的fico所属的下限范围\n",
    "|ficoRangeHigh|借款人在贷款发放时的fico所属的上限范围\n",
    "|openAcc|借款人信用档案中未结信用额度的数量\n",
    "|pubRec|贬损公共记录的数量\n",
    "|pubRecBankruptcies|公开记录清除的数量\n",
    "|revolBal|信贷周转余额合计\n",
    "|revolUtil|循环额度利用率，或借款人使用的相对于所有可用循环信贷的信贷金额\n",
    "|totalAcc|借款人信用档案中当前的信用额度总数\n",
    "|initialListStatus|贷款的初始列表状态\n",
    "|applicationType|表明贷款是个人申请还是与两个共同借款人的联合申请\n",
    "|earliesCreditLine|借款人最早报告的信用额度开立的月份\n",
    "|title|借款人提供的贷款名称\n",
    "|policyCode|公开可用的策略_代码=1新产品不公开可用的策略_代码=2\n",
    "|n系列匿名特征|匿名特征n0-n14，为一些贷款人行为计数特征的处理\n",
    "|isDefault|Y"
   ]
  },
  {
   "cell_type": "code",
   "execution_count": 1,
   "metadata": {},
   "outputs": [],
   "source": [
    "import sqlite3\n",
    "import pandas as pd"
   ]
  },
  {
   "cell_type": "code",
   "execution_count": 2,
   "metadata": {},
   "outputs": [
    {
     "name": "stdout",
     "output_type": "stream",
     "text": [
      "CPU times: user 9.32 s, sys: 1.09 s, total: 10.4 s\n",
      "Wall time: 11.5 s\n",
      "(10000, 47)\n",
      "CPU times: user 9.65 ms, sys: 0 ns, total: 9.65 ms\n",
      "Wall time: 24.3 ms\n",
      "CPU times: user 442 µs, sys: 0 ns, total: 442 µs\n",
      "Wall time: 477 µs\n",
      "0    7985\n",
      "1    2015\n",
      "Name: isDefault, dtype: int64 0.2015\n"
     ]
    }
   ],
   "source": [
    "%time data = pd.read_csv(\"LoanRisk.csv\").sample(10000)\n",
    "print(data.shape)\n",
    "%time X = data.drop([\"id\", \"isDefault\"], axis=1)\n",
    "%time y = data[\"isDefault\"]\n",
    "\n",
    "badrate = pd.value_counts(y, normalize=True)[1]\n",
    "print(pd.value_counts(y), badrate)"
   ]
  },
  {
   "cell_type": "code",
   "execution_count": null,
   "metadata": {},
   "outputs": [
    {
     "name": "stdout",
     "output_type": "stream",
     "text": [
      "CPU times: user 267 ms, sys: 1.04 ms, total: 268 ms\n",
      "Wall time: 296 ms\n"
     ]
    },
    {
     "data": {
      "text/plain": [
       "Index(['loanAmnt', 'term', 'interestRate', 'installment', 'employmentTitle',\n",
       "       'homeOwnership', 'annualIncome', 'verificationStatus', 'purpose',\n",
       "       'postCode', 'regionCode', 'dti', 'delinquency_2years', 'ficoRangeLow',\n",
       "       'ficoRangeHigh', 'openAcc', 'pubRec', 'pubRecBankruptcies', 'revolBal',\n",
       "       'revolUtil', 'totalAcc', 'initialListStatus', 'applicationType',\n",
       "       'title', 'policyCode', 'n0', 'n1', 'n2', 'n3', 'n4', 'n5', 'n6', 'n7',\n",
       "       'n8', 'n9', 'n10', 'n11', 'n12', 'n13', 'n14'],\n",
       "      dtype='object')"
      ]
     },
     "execution_count": 3,
     "metadata": {},
     "output_type": "execute_result"
    }
   ],
   "source": [
    "%time col = X.describe().columns\n",
    "col"
   ]
  },
  {
   "cell_type": "code",
   "execution_count": null,
   "metadata": {},
   "outputs": [
    {
     "name": "stdout",
     "output_type": "stream",
     "text": [
      "(7000, 40) (3000, 40)\n"
     ]
    }
   ],
   "source": [
    "from sklearn.model_selection import train_test_split\n",
    "X_trai, X_test, y_trai, y_test = train_test_split(X[col].fillna(-1), y, test_size=0.3)\n",
    "print(X_trai.shape, X_test.shape)"
   ]
  },
  {
   "cell_type": "code",
   "execution_count": null,
   "metadata": {},
   "outputs": [],
   "source": [
    "\n",
    "def result(_p, _y):\n",
    "    conn = sqlite3.connect(\":memory:\")\n",
    "    pd.DataFrame({\"p\": _p, \"y\": _y}).to_sql(\n",
    "        \"_r\", conn, index=False, if_exists=\"replace\")\n",
    "    \n",
    "    SQL = \"\"\"\n",
    "    SELECT\n",
    "        p,\n",
    "        SUM(1) AS cnt,\n",
    "        SUM(1) *1.0/(SELECT SUM(1) FROM _r) AS pnt,\n",
    "        SUM(CASE WHEN y = 1 THEN 1 ELSE 0 END) *1.0/SUM(1) AS rate\n",
    "    FROM _r\n",
    "    GROUP BY p\n",
    "    \"\"\"\n",
    "    print(pd.read_sql(SQL, conn))\n"
   ]
  },
  {
   "cell_type": "code",
   "execution_count": null,
   "metadata": {},
   "outputs": [
    {
     "name": "stdout",
     "output_type": "stream",
     "text": [
      "CPU times: user 7.16 s, sys: 1.68 ms, total: 7.16 s\n",
      "Wall time: 7.39 s\n",
      "   p   cnt  pnt      rate\n",
      "0 -1  4200  0.6  0.197619\n",
      "1  1  2800  0.4  0.207857\n",
      "CPU times: user 5.45 s, sys: 1.5 ms, total: 5.45 s\n",
      "Wall time: 5.8 s\n",
      "   p   cnt  pnt   rate\n",
      "0 -1  3000  1.0  0.201\n",
      "CPU times: user 2.33 s, sys: 0 ns, total: 2.33 s\n",
      "Wall time: 2.41 s\n"
     ]
    }
   ],
   "source": [
    "from sklearn import svm\n",
    "model = svm.OneClassSVM(\n",
    "    nu=0.1, \n",
    "    kernel=\"rbf\", \n",
    "    gamma=0.1\n",
    ")\n",
    "%time model.fit(X_trai)\n",
    "\n",
    "%time result(_p=model.predict(X_trai), _y=[_ for _ in y_trai])\n",
    "%time result(_p=model.predict(X_test), _y=[_ for _ in y_test])\n"
   ]
  },
  {
   "cell_type": "code",
   "execution_count": null,
   "metadata": {},
   "outputs": [
    {
     "name": "stderr",
     "output_type": "stream",
     "text": [
      "/opt/conda/lib/python3.6/site-packages/sklearn/ensemble/weight_boosting.py:29: DeprecationWarning: numpy.core.umath_tests is an internal NumPy module and should not be imported. It will be removed in a future NumPy release.\n",
      "  from numpy.core.umath_tests import inner1d\n",
      "/opt/conda/lib/python3.6/site-packages/sklearn/externals/joblib/numpy_pickle.py:93: DeprecationWarning: tostring() is deprecated. Use tobytes() instead.\n",
      "  pickler.file_handle.write(chunk.tostring('C'))\n"
     ]
    },
    {
     "name": "stdout",
     "output_type": "stream",
     "text": [
      "   p   cnt       pnt      rate\n",
      "0 -1  1411  0.201571  0.226790\n",
      "1  1  5589  0.798429  0.195384\n",
      "CPU times: user 2.64 s, sys: 6.87 ms, total: 2.65 s\n",
      "Wall time: 2.67 s\n",
      "   p   cnt       pnt      rate\n",
      "0 -1   643  0.214333  0.216174\n",
      "1  1  2357  0.785667  0.196860\n",
      "CPU times: user 1.19 s, sys: 0 ns, total: 1.19 s\n",
      "Wall time: 1.27 s\n"
     ]
    }
   ],
   "source": [
    "from sklearn.ensemble import IsolationForest\n",
    "model = IsolationForest(\n",
    "    n_estimators=400,\n",
    "    contamination=badrate,\n",
    "    bootstrap=True,\n",
    "    n_jobs=-1\n",
    ")\n",
    "%time model.fit(X_trai)\n",
    "\n",
    "%time result(_p=model.predict(X_trai), _y=[_ for _ in y_trai])\n",
    "%time result(_p=model.predict(X_test), _y=[_ for _ in y_test])\n"
   ]
  },
  {
   "cell_type": "code",
   "execution_count": null,
   "metadata": {},
   "outputs": [
    {
     "name": "stderr",
     "output_type": "stream",
     "text": [
      "/opt/conda/lib/python3.6/site-packages/sklearn/covariance/robust_covariance.py:622: UserWarning: The covariance matrix associated to your dataset is not full rank\n",
      "  warnings.warn(\"The covariance matrix associated to your dataset \"\n",
      "/opt/conda/lib/python3.6/site-packages/scipy/stats/stats.py:1713: FutureWarning: Using a non-tuple sequence for multidimensional indexing is deprecated; use `arr[tuple(seq)]` instead of `arr[seq]`. In the future this will be interpreted as an array index, `arr[np.array(seq)]`, which will result either in an error or a different result.\n",
      "  return np.add.reduce(sorted[indexer] * weights, axis=axis) / sumval\n"
     ]
    },
    {
     "name": "stdout",
     "output_type": "stream",
     "text": [
      "CPU times: user 4min 7s, sys: 6min 11s, total: 10min 18s\n",
      "Wall time: 5min 18s\n",
      "   p   cnt       pnt      rate\n",
      "0 -1  1411  0.201571  0.195606\n",
      "1  1  5589  0.798429  0.203256\n",
      "CPU times: user 280 ms, sys: 446 ms, total: 725 ms\n",
      "Wall time: 367 ms\n",
      "   p   cnt       pnt      rate\n",
      "0 -1   566  0.188667  0.155477\n",
      "1  1  2434  0.811333  0.211586\n",
      "CPU times: user 271 ms, sys: 447 ms, total: 717 ms\n",
      "Wall time: 341 ms\n"
     ]
    }
   ],
   "source": [
    "from sklearn.covariance import EllipticEnvelope\n",
    "model = EllipticEnvelope(\n",
    "    contamination=badrate\n",
    ")\n",
    "%time model.fit(X_trai)\n",
    "\n",
    "%time result(_p=model.predict(X_trai), _y=[_ for _ in y_trai])\n",
    "%time result(_p=model.predict(X_test), _y=[_ for _ in y_test])\n"
   ]
  },
  {
   "cell_type": "code",
   "execution_count": null,
   "metadata": {},
   "outputs": [
    {
     "name": "stdout",
     "output_type": "stream",
     "text": [
      "CPU times: user 6.56 s, sys: 430 ms, total: 6.99 s\n",
      "Wall time: 7.45 s\n",
      "   p   cnt       pnt      rate\n",
      "0  0  4718  0.674000  0.208139\n",
      "1  1  1142  0.163143  0.167250\n",
      "2  2   419  0.059857  0.171838\n",
      "3  3   702  0.100286  0.235043\n",
      "4  4    19  0.002714  0.105263\n",
      "CPU times: user 6.56 s, sys: 417 ms, total: 6.98 s\n",
      "Wall time: 7.26 s\n",
      "   p   cnt       pnt      rate\n",
      "0  0   408  0.136000  0.166667\n",
      "1  1   484  0.161333  0.194215\n",
      "2  2   547  0.182333  0.170018\n",
      "3  3     2  0.000667  0.000000\n",
      "4  4  1559  0.519667  0.223220\n",
      "CPU times: user 951 ms, sys: 0 ns, total: 951 ms\n",
      "Wall time: 989 ms\n"
     ]
    }
   ],
   "source": [
    "from sklearn.cluster import AgglomerativeClustering\n",
    "model = AgglomerativeClustering(linkage=['ward', 'average', 'complete'][0], n_clusters=5)\n",
    "%time model.fit(X_trai)\n",
    "\n",
    "%time result(_p=model.fit_predict(X_trai), _y=[_ for _ in y_trai])\n",
    "%time result(_p=model.fit_predict(X_test), _y=[_ for _ in y_test])\n"
   ]
  },
  {
   "cell_type": "code",
   "execution_count": null,
   "metadata": {},
   "outputs": [
    {
     "name": "stdout",
     "output_type": "stream",
     "text": [
      "CPU times: user 5.14 s, sys: 0 ns, total: 5.14 s\n",
      "Wall time: 5.36 s\n",
      "     p   cnt       pnt      rate\n",
      "0    0  5135  0.733571  0.207595\n",
      "1    1  1654  0.236286  0.188029\n",
      "2    2   103  0.014714  0.165049\n",
      "3    3    12  0.001714  0.083333\n",
      "4    4    11  0.001571  0.090909\n",
      "5    5    32  0.004571  0.250000\n",
      "6    6     4  0.000571  0.000000\n",
      "7    7     4  0.000571  0.000000\n",
      "8    8     1  0.000143  0.000000\n",
      "9    9     1  0.000143  0.000000\n",
      "10  10     1  0.000143  0.000000\n",
      "11  11     2  0.000286  0.000000\n",
      "12  12     1  0.000143  0.000000\n",
      "13  13     1  0.000143  0.000000\n",
      "14  14     1  0.000143  0.000000\n",
      "15  15     1  0.000143  0.000000\n",
      "16  16     1  0.000143  0.000000\n",
      "17  17     1  0.000143  1.000000\n",
      "18  18     1  0.000143  0.000000\n",
      "19  19     1  0.000143  1.000000\n",
      "20  20     1  0.000143  0.000000\n",
      "21  21    20  0.002857  0.200000\n",
      "22  22     5  0.000714  0.200000\n",
      "23  23     5  0.000714  0.200000\n",
      "24  24     1  0.000143  0.000000\n",
      "CPU times: user 5.15 s, sys: 0 ns, total: 5.15 s\n",
      "Wall time: 5.41 s\n",
      "     p   cnt       pnt      rate\n",
      "0    0  2210  0.736667  0.208145\n",
      "1    1   450  0.150000  0.186667\n",
      "2    2   243  0.081000  0.172840\n",
      "3    3    33  0.011000  0.151515\n",
      "4    4    10  0.003333  0.300000\n",
      "5    5    13  0.004333  0.153846\n",
      "6    6     2  0.000667  0.500000\n",
      "7    7     2  0.000667  0.500000\n",
      "8    8     3  0.001000  0.000000\n",
      "9    9     1  0.000333  0.000000\n",
      "10  10     1  0.000333  1.000000\n",
      "11  11     1  0.000333  0.000000\n",
      "12  12     1  0.000333  0.000000\n",
      "13  13    26  0.008667  0.115385\n",
      "14  14     1  0.000333  0.000000\n",
      "15  15     1  0.000333  0.000000\n",
      "16  16     1  0.000333  0.000000\n",
      "17  17     1  0.000333  1.000000\n",
      "CPU times: user 1.46 s, sys: 0 ns, total: 1.46 s\n",
      "Wall time: 1.52 s\n"
     ]
    }
   ],
   "source": [
    "from sklearn.cluster import MeanShift, estimate_bandwidth\n",
    "bandwidth = estimate_bandwidth(X_trai, quantile=0.2, n_samples=1000)\n",
    "model = MeanShift(bandwidth=bandwidth, bin_seeding=True)\n",
    "\n",
    "%time model.fit(X_trai)\n",
    "\n",
    "%time result(_p=model.fit_predict(X_trai), _y=[_ for _ in y_trai])\n",
    "%time result(_p=model.fit_predict(X_test), _y=[_ for _ in y_test])\n"
   ]
  },
  {
   "cell_type": "code",
   "execution_count": null,
   "metadata": {},
   "outputs": [
    {
     "name": "stdout",
     "output_type": "stream",
     "text": [
      "CPU times: user 432 ms, sys: 0 ns, total: 432 ms\n",
      "Wall time: 461 ms\n",
      "   p   cnt  pnt      rate\n",
      "0 -1  7000  1.0  0.201714\n",
      "CPU times: user 432 ms, sys: 17.1 ms, total: 449 ms\n",
      "Wall time: 464 ms\n",
      "   p   cnt  pnt   rate\n",
      "0 -1  3000  1.0  0.201\n",
      "CPU times: user 156 ms, sys: 0 ns, total: 156 ms\n",
      "Wall time: 159 ms\n"
     ]
    }
   ],
   "source": [
    "from sklearn.cluster import DBSCAN\n",
    "model = DBSCAN(eps=0.1, min_samples=100)\n",
    "\n",
    "%time model.fit(X_trai)\n",
    "\n",
    "%time result(_p=model.fit_predict(X_trai), _y=[_ for _ in y_trai])\n",
    "%time result(_p=model.fit_predict(X_test), _y=[_ for _ in y_test])\n"
   ]
  },
  {
   "cell_type": "code",
   "execution_count": null,
   "metadata": {},
   "outputs": [
    {
     "name": "stderr",
     "output_type": "stream",
     "text": [
      "/opt/conda/lib/python3.6/site-packages/sklearn/cluster/birch.py:77: FutureWarning: Using a non-tuple sequence for multidimensional indexing is deprecated; use `arr[tuple(seq)]` instead of `arr[seq]`. In the future this will be interpreted as an array index, `arr[np.array(seq)]`, which will result either in an error or a different result.\n",
      "  node1_dist, node2_dist = dist[[farthest_idx]]\n"
     ]
    },
    {
     "name": "stdout",
     "output_type": "stream",
     "text": [
      "CPU times: user 7.37 s, sys: 1.45 s, total: 8.82 s\n",
      "Wall time: 8.56 s\n",
      "   p   cnt       pnt      rate\n",
      "0  0  4718  0.674000  0.208139\n",
      "1  1  1142  0.163143  0.167250\n",
      "2  2   419  0.059857  0.171838\n",
      "3  3   702  0.100286  0.235043\n",
      "4  4    19  0.002714  0.105263\n",
      "CPU times: user 7.77 s, sys: 1.73 s, total: 9.5 s\n",
      "Wall time: 8.91 s\n"
     ]
    },
    {
     "name": "stderr",
     "output_type": "stream",
     "text": [
      "/opt/conda/lib/python3.6/site-packages/sklearn/cluster/birch.py:77: FutureWarning: Using a non-tuple sequence for multidimensional indexing is deprecated; use `arr[tuple(seq)]` instead of `arr[seq]`. In the future this will be interpreted as an array index, `arr[np.array(seq)]`, which will result either in an error or a different result.\n",
      "  node1_dist, node2_dist = dist[[farthest_idx]]\n"
     ]
    },
    {
     "name": "stdout",
     "output_type": "stream",
     "text": [
      "   p   cnt       pnt      rate\n",
      "0  0   408  0.136000  0.166667\n",
      "1  1   484  0.161333  0.194215\n",
      "2  2   547  0.182333  0.170018\n",
      "3  3     2  0.000667  0.000000\n",
      "4  4  1559  0.519667  0.223220\n",
      "CPU times: user 1.77 s, sys: 762 ms, total: 2.53 s\n",
      "Wall time: 1.94 s\n"
     ]
    }
   ],
   "source": [
    "from sklearn.cluster import Birch\n",
    "model = Birch(n_clusters=5)\n",
    "\n",
    "%time model.fit(X_trai)\n",
    "\n",
    "%time result(_p=model.fit_predict(X_trai), _y=[_ for _ in y_trai])\n",
    "%time result(_p=model.fit_predict(X_test), _y=[_ for _ in y_test])\n"
   ]
  },
  {
   "cell_type": "code",
   "execution_count": null,
   "metadata": {},
   "outputs": [],
   "source": [
    "# from sklearn.mixture import GaussianMixture\n",
    "# model = GaussianMixture(n_components=5, covariance_type='full')\n",
    "\n",
    "# %time model.fit(X_trai)\n",
    "\n",
    "# %time result(_p=model.fit_predict(X_trai), _y=[_ for _ in y_trai])\n",
    "# %time result(_p=model.fit_predict(X_test), _y=[_ for _ in y_test])\n"
   ]
  },
  {
   "cell_type": "code",
   "execution_count": null,
   "metadata": {},
   "outputs": [],
   "source": []
  },
  {
   "cell_type": "code",
   "execution_count": null,
   "metadata": {},
   "outputs": [],
   "source": []
  },
  {
   "cell_type": "code",
   "execution_count": null,
   "metadata": {},
   "outputs": [],
   "source": []
  }
 ],
 "metadata": {
  "kernelspec": {
   "display_name": "Python 3",
   "language": "python",
   "name": "python3"
  },
  "language_info": {
   "codemirror_mode": {
    "name": "ipython",
    "version": 3
   },
   "file_extension": ".py",
   "mimetype": "text/x-python",
   "name": "python",
   "nbconvert_exporter": "python",
   "pygments_lexer": "ipython3",
   "version": "3.6.5"
  },
  "tianchi_metadata": {
   "competitions": [],
   "datasets": [],
   "description": "",
   "notebookId": "208586",
   "source": "dsw"
  }
 },
 "nbformat": 4,
 "nbformat_minor": 4
}
