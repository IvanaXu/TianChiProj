{
 "cells": [
  {
   "cell_type": "code",
   "execution_count": 1,
   "metadata": {
    "execution": {
     "iopub.execute_input": "2021-12-29T07:04:12.404326Z",
     "iopub.status.busy": "2021-12-29T07:04:12.403821Z",
     "iopub.status.idle": "2021-12-29T07:04:15.111506Z",
     "shell.execute_reply": "2021-12-29T07:04:15.110305Z",
     "shell.execute_reply.started": "2021-12-29T07:04:12.404291Z"
    },
    "scrolled": true
   },
   "outputs": [
    {
     "name": "stdout",
     "output_type": "stream",
     "text": [
      "总用量 197292\n",
      "-rwxrwxrwx 1 root root 170498071 12月 29 14:41 cifar-10-python.tar.gz\n",
      "-rwxrwxrwx 1 root root  30720128 12月 29 14:40 data.npy\n",
      "-rwxrwxrwx 1 root root    800128 12月 29 14:40 label.npy\n",
      "总用量 181876\n",
      "-rw-r--r-- 1 aistudio users      158 3月  31  2009 batches.meta\n",
      "-rw-r--r-- 1 aistudio users 31035704 3月  31  2009 data_batch_1\n",
      "-rw-r--r-- 1 aistudio users 31035320 3月  31  2009 data_batch_2\n",
      "-rw-r--r-- 1 aistudio users 31035999 3月  31  2009 data_batch_3\n",
      "-rw-r--r-- 1 aistudio users 31035696 3月  31  2009 data_batch_4\n",
      "-rw-r--r-- 1 aistudio users 31035623 3月  31  2009 data_batch_5\n",
      "-rw-r--r-- 1 aistudio users       88 6月   5  2009 readme.html\n",
      "-rw-r--r-- 1 aistudio users 31035526 3月  31  2009 test_batch\n"
     ]
    }
   ],
   "source": [
    "path = \"data/data123665\"\n",
    "! ls -l $path\n",
    "\n",
    "! rm -rf cifar-10-batches-py\n",
    "! tar -zxf $path/cifar-10-python.tar.gz\n",
    "! ls -l cifar-10-batches-py\n"
   ]
  },
  {
   "cell_type": "markdown",
   "metadata": {},
   "source": [
    "* 此版本通过下载原始的cifar10数据集 因为刚好是50000 对此进行了格式转换\n",
    "\n",
    "> 但由于标签只能填充为10等其他原因，效果不如66.1342 < 71.4860\n"
   ]
  },
  {
   "cell_type": "code",
   "execution_count": 2,
   "metadata": {
    "execution": {
     "iopub.execute_input": "2021-12-29T07:04:15.113904Z",
     "iopub.status.busy": "2021-12-29T07:04:15.113275Z",
     "iopub.status.idle": "2021-12-29T07:04:15.380874Z",
     "shell.execute_reply": "2021-12-29T07:04:15.379719Z",
     "shell.execute_reply.started": "2021-12-29T07:04:15.113862Z"
    },
    "scrolled": true
   },
   "outputs": [],
   "source": [
    "import numpy as np\n",
    "import pandas as pd"
   ]
  },
  {
   "cell_type": "code",
   "execution_count": 3,
   "metadata": {
    "execution": {
     "iopub.execute_input": "2021-12-29T07:04:15.382363Z",
     "iopub.status.busy": "2021-12-29T07:04:15.382145Z",
     "iopub.status.idle": "2021-12-29T07:04:15.422427Z",
     "shell.execute_reply": "2021-12-29T07:04:15.421496Z",
     "shell.execute_reply.started": "2021-12-29T07:04:15.382339Z"
    },
    "scrolled": true
   },
   "outputs": [
    {
     "data": {
      "text/plain": [
       "(10000, 32, 32, 3)"
      ]
     },
     "execution_count": 3,
     "metadata": {},
     "output_type": "execute_result"
    }
   ],
   "source": [
    "X = np.load(f\"{path}/data.npy\")\n",
    "X.shape"
   ]
  },
  {
   "cell_type": "code",
   "execution_count": 4,
   "metadata": {
    "execution": {
     "iopub.execute_input": "2021-12-29T07:04:15.424053Z",
     "iopub.status.busy": "2021-12-29T07:04:15.423687Z",
     "iopub.status.idle": "2021-12-29T07:04:15.429634Z",
     "shell.execute_reply": "2021-12-29T07:04:15.429020Z",
     "shell.execute_reply.started": "2021-12-29T07:04:15.424026Z"
    },
    "scrolled": true
   },
   "outputs": [
    {
     "data": {
      "text/plain": [
       "(10000, 10)"
      ]
     },
     "execution_count": 4,
     "metadata": {},
     "output_type": "execute_result"
    }
   ],
   "source": [
    "Y = np.load(f\"{path}/label.npy\")\n",
    "Y.shape"
   ]
  },
  {
   "cell_type": "code",
   "execution_count": 5,
   "metadata": {
    "execution": {
     "iopub.execute_input": "2021-12-29T07:04:15.431022Z",
     "iopub.status.busy": "2021-12-29T07:04:15.430719Z",
     "iopub.status.idle": "2021-12-29T07:04:15.449836Z",
     "shell.execute_reply": "2021-12-29T07:04:15.449255Z",
     "shell.execute_reply.started": "2021-12-29T07:04:15.430996Z"
    },
    "scrolled": true
   },
   "outputs": [
    {
     "data": {
      "text/html": [
       "<div>\n",
       "<style scoped>\n",
       "    .dataframe tbody tr th:only-of-type {\n",
       "        vertical-align: middle;\n",
       "    }\n",
       "\n",
       "    .dataframe tbody tr th {\n",
       "        vertical-align: top;\n",
       "    }\n",
       "\n",
       "    .dataframe thead th {\n",
       "        text-align: right;\n",
       "    }\n",
       "</style>\n",
       "<table border=\"1\" class=\"dataframe\">\n",
       "  <thead>\n",
       "    <tr style=\"text-align: right;\">\n",
       "      <th></th>\n",
       "      <th>0</th>\n",
       "      <th>1</th>\n",
       "      <th>2</th>\n",
       "      <th>3</th>\n",
       "      <th>4</th>\n",
       "      <th>5</th>\n",
       "      <th>6</th>\n",
       "      <th>7</th>\n",
       "      <th>8</th>\n",
       "      <th>9</th>\n",
       "    </tr>\n",
       "  </thead>\n",
       "  <tbody>\n",
       "    <tr>\n",
       "      <th>0</th>\n",
       "      <td>0.000000</td>\n",
       "      <td>0.000000</td>\n",
       "      <td>0.0</td>\n",
       "      <td>8.913862</td>\n",
       "      <td>0.0</td>\n",
       "      <td>0.000000</td>\n",
       "      <td>0.000000</td>\n",
       "      <td>0.000000</td>\n",
       "      <td>0.000000</td>\n",
       "      <td>0.0</td>\n",
       "    </tr>\n",
       "    <tr>\n",
       "      <th>1</th>\n",
       "      <td>0.000000</td>\n",
       "      <td>0.000000</td>\n",
       "      <td>0.0</td>\n",
       "      <td>0.000000</td>\n",
       "      <td>0.0</td>\n",
       "      <td>0.000000</td>\n",
       "      <td>0.000000</td>\n",
       "      <td>0.000000</td>\n",
       "      <td>3.098864</td>\n",
       "      <td>0.0</td>\n",
       "    </tr>\n",
       "    <tr>\n",
       "      <th>2</th>\n",
       "      <td>0.000000</td>\n",
       "      <td>0.000000</td>\n",
       "      <td>0.0</td>\n",
       "      <td>0.000000</td>\n",
       "      <td>0.0</td>\n",
       "      <td>0.000000</td>\n",
       "      <td>0.000000</td>\n",
       "      <td>0.000000</td>\n",
       "      <td>3.390307</td>\n",
       "      <td>0.0</td>\n",
       "    </tr>\n",
       "    <tr>\n",
       "      <th>3</th>\n",
       "      <td>9.983173</td>\n",
       "      <td>0.000000</td>\n",
       "      <td>0.0</td>\n",
       "      <td>0.000000</td>\n",
       "      <td>0.0</td>\n",
       "      <td>0.000000</td>\n",
       "      <td>0.000000</td>\n",
       "      <td>0.000000</td>\n",
       "      <td>0.000000</td>\n",
       "      <td>0.0</td>\n",
       "    </tr>\n",
       "    <tr>\n",
       "      <th>4</th>\n",
       "      <td>0.000000</td>\n",
       "      <td>0.000000</td>\n",
       "      <td>0.0</td>\n",
       "      <td>0.000000</td>\n",
       "      <td>0.0</td>\n",
       "      <td>0.000000</td>\n",
       "      <td>2.291458</td>\n",
       "      <td>0.000000</td>\n",
       "      <td>0.000000</td>\n",
       "      <td>0.0</td>\n",
       "    </tr>\n",
       "    <tr>\n",
       "      <th>...</th>\n",
       "      <td>...</td>\n",
       "      <td>...</td>\n",
       "      <td>...</td>\n",
       "      <td>...</td>\n",
       "      <td>...</td>\n",
       "      <td>...</td>\n",
       "      <td>...</td>\n",
       "      <td>...</td>\n",
       "      <td>...</td>\n",
       "      <td>...</td>\n",
       "    </tr>\n",
       "    <tr>\n",
       "      <th>9995</th>\n",
       "      <td>0.000000</td>\n",
       "      <td>0.000000</td>\n",
       "      <td>0.0</td>\n",
       "      <td>0.000000</td>\n",
       "      <td>0.0</td>\n",
       "      <td>0.000000</td>\n",
       "      <td>0.000000</td>\n",
       "      <td>0.000000</td>\n",
       "      <td>0.324461</td>\n",
       "      <td>0.0</td>\n",
       "    </tr>\n",
       "    <tr>\n",
       "      <th>9996</th>\n",
       "      <td>0.000000</td>\n",
       "      <td>0.000000</td>\n",
       "      <td>0.0</td>\n",
       "      <td>5.604493</td>\n",
       "      <td>0.0</td>\n",
       "      <td>0.000000</td>\n",
       "      <td>0.000000</td>\n",
       "      <td>0.000000</td>\n",
       "      <td>0.000000</td>\n",
       "      <td>0.0</td>\n",
       "    </tr>\n",
       "    <tr>\n",
       "      <th>9997</th>\n",
       "      <td>0.000000</td>\n",
       "      <td>0.000000</td>\n",
       "      <td>0.0</td>\n",
       "      <td>0.000000</td>\n",
       "      <td>0.0</td>\n",
       "      <td>8.759615</td>\n",
       "      <td>0.000000</td>\n",
       "      <td>0.000000</td>\n",
       "      <td>0.000000</td>\n",
       "      <td>0.0</td>\n",
       "    </tr>\n",
       "    <tr>\n",
       "      <th>9998</th>\n",
       "      <td>0.000000</td>\n",
       "      <td>8.175869</td>\n",
       "      <td>0.0</td>\n",
       "      <td>0.000000</td>\n",
       "      <td>0.0</td>\n",
       "      <td>0.000000</td>\n",
       "      <td>0.000000</td>\n",
       "      <td>0.000000</td>\n",
       "      <td>0.000000</td>\n",
       "      <td>0.0</td>\n",
       "    </tr>\n",
       "    <tr>\n",
       "      <th>9999</th>\n",
       "      <td>0.000000</td>\n",
       "      <td>0.000000</td>\n",
       "      <td>0.0</td>\n",
       "      <td>0.000000</td>\n",
       "      <td>0.0</td>\n",
       "      <td>0.000000</td>\n",
       "      <td>0.000000</td>\n",
       "      <td>3.167992</td>\n",
       "      <td>0.000000</td>\n",
       "      <td>0.0</td>\n",
       "    </tr>\n",
       "  </tbody>\n",
       "</table>\n",
       "<p>10000 rows × 10 columns</p>\n",
       "</div>"
      ],
      "text/plain": [
       "             0         1    2         3    4         5         6         7  \\\n",
       "0     0.000000  0.000000  0.0  8.913862  0.0  0.000000  0.000000  0.000000   \n",
       "1     0.000000  0.000000  0.0  0.000000  0.0  0.000000  0.000000  0.000000   \n",
       "2     0.000000  0.000000  0.0  0.000000  0.0  0.000000  0.000000  0.000000   \n",
       "3     9.983173  0.000000  0.0  0.000000  0.0  0.000000  0.000000  0.000000   \n",
       "4     0.000000  0.000000  0.0  0.000000  0.0  0.000000  2.291458  0.000000   \n",
       "...        ...       ...  ...       ...  ...       ...       ...       ...   \n",
       "9995  0.000000  0.000000  0.0  0.000000  0.0  0.000000  0.000000  0.000000   \n",
       "9996  0.000000  0.000000  0.0  5.604493  0.0  0.000000  0.000000  0.000000   \n",
       "9997  0.000000  0.000000  0.0  0.000000  0.0  8.759615  0.000000  0.000000   \n",
       "9998  0.000000  8.175869  0.0  0.000000  0.0  0.000000  0.000000  0.000000   \n",
       "9999  0.000000  0.000000  0.0  0.000000  0.0  0.000000  0.000000  3.167992   \n",
       "\n",
       "             8    9  \n",
       "0     0.000000  0.0  \n",
       "1     3.098864  0.0  \n",
       "2     3.390307  0.0  \n",
       "3     0.000000  0.0  \n",
       "4     0.000000  0.0  \n",
       "...        ...  ...  \n",
       "9995  0.324461  0.0  \n",
       "9996  0.000000  0.0  \n",
       "9997  0.000000  0.0  \n",
       "9998  0.000000  0.0  \n",
       "9999  0.000000  0.0  \n",
       "\n",
       "[10000 rows x 10 columns]"
      ]
     },
     "execution_count": 5,
     "metadata": {},
     "output_type": "execute_result"
    }
   ],
   "source": [
    "pd.DataFrame(Y)"
   ]
  },
  {
   "cell_type": "code",
   "execution_count": 6,
   "metadata": {
    "execution": {
     "iopub.execute_input": "2021-12-29T07:04:15.451952Z",
     "iopub.status.busy": "2021-12-29T07:04:15.451684Z",
     "iopub.status.idle": "2021-12-29T07:04:15.603869Z",
     "shell.execute_reply": "2021-12-29T07:04:15.603181Z",
     "shell.execute_reply.started": "2021-12-29T07:04:15.451928Z"
    },
    "scrolled": true
   },
   "outputs": [
    {
     "name": "stdout",
     "output_type": "stream",
     "text": [
      "[0.0, 0.0, 0.0, 0.0, 0.0, 0.0, 0.0, 0.0, 3.390307408196006, 0.0] (32, 32, 3)\n"
     ]
    },
    {
     "data": {
      "text/plain": [
       "<Figure size 640x480 with 1 Axes>"
      ]
     },
     "metadata": {},
     "output_type": "display_data"
    }
   ],
   "source": [
    "N = 2\n",
    "import matplotlib.pyplot as plt\n",
    "img = X[N]\n",
    "print(list(Y[N]), img.shape)\n",
    "plt.imshow(img) \n",
    "plt.show()"
   ]
  },
  {
   "cell_type": "code",
   "execution_count": 7,
   "metadata": {
    "execution": {
     "iopub.execute_input": "2021-12-29T07:04:15.605321Z",
     "iopub.status.busy": "2021-12-29T07:04:15.604846Z",
     "iopub.status.idle": "2021-12-29T07:04:15.839660Z",
     "shell.execute_reply": "2021-12-29T07:04:15.839096Z",
     "shell.execute_reply.started": "2021-12-29T07:04:15.605298Z"
    },
    "scrolled": true
   },
   "outputs": [
    {
     "name": "stdout",
     "output_type": "stream",
     "text": [
      "0 9\n",
      "(3072,) 9 (32, 32, 3)\n"
     ]
    },
    {
     "data": {
      "image/png": "[encoded data removed]",
      "text/plain": [
       "<Figure size 432x288 with 1 Axes>"
      ]
     },
     "metadata": {
      "needs_background": "light"
     },
     "output_type": "display_data"
    }
   ],
   "source": [
    "import pickle\n",
    "with open(f\"cifar-10-batches-py/data_batch_1\", 'rb') as fo:\n",
    "    data = pickle.load(fo, encoding='bytes')\n",
    "print(min(data[b\"labels\"]), max(data[b\"labels\"]))\n",
    "\n",
    "N = 2\n",
    "import matplotlib.pyplot as plt\n",
    "img = data[b\"data\"][N].reshape(3, 32, 32).transpose(1,2,0)\n",
    "print(data[b\"data\"][N].shape, data[b\"labels\"][N], img.shape)\n",
    "plt.imshow(img) \n",
    "plt.show()\n"
   ]
  },
  {
   "cell_type": "code",
   "execution_count": 8,
   "metadata": {
    "execution": {
     "iopub.execute_input": "2021-12-29T07:04:15.840971Z",
     "iopub.status.busy": "2021-12-29T07:04:15.840634Z",
     "iopub.status.idle": "2021-12-29T07:04:15.848025Z",
     "shell.execute_reply": "2021-12-29T07:04:15.847556Z",
     "shell.execute_reply.started": "2021-12-29T07:04:15.840941Z"
    },
    "scrolled": true
   },
   "outputs": [
    {
     "name": "stdout",
     "output_type": "stream",
     "text": [
      "(1, 32, 32, 3)\n"
     ]
    },
    {
     "data": {
      "text/plain": [
       "(2, 10)"
      ]
     },
     "execution_count": 8,
     "metadata": {},
     "output_type": "execute_result"
    }
   ],
   "source": [
    "t = np.array([img])\n",
    "print(t.shape)\n",
    "with open('test.npy', 'wb') as f:\n",
    "    np.save(f, t)\n",
    "\n",
    "y = 0\n",
    "iy = np.array([10.0 if i == y else 0.0 for i in range(0, 10)])\n",
    "np.array([iy, iy]).shape"
   ]
  },
  {
   "cell_type": "code",
   "execution_count": 9,
   "metadata": {
    "execution": {
     "iopub.execute_input": "2021-12-29T07:04:15.849230Z",
     "iopub.status.busy": "2021-12-29T07:04:15.848974Z",
     "iopub.status.idle": "2021-12-29T07:04:18.394502Z",
     "shell.execute_reply": "2021-12-29T07:04:18.393733Z",
     "shell.execute_reply.started": "2021-12-29T07:04:15.849203Z"
    },
    "scrolled": true
   },
   "outputs": [
    {
     "name": "stderr",
     "output_type": "stream",
     "text": [
      "  0%|          | 0/10000 [00:00<?, ?it/s]\n",
      "  0%|          | 0/10000 [00:00<?, ?it/s]\n",
      "  0%|          | 0/10000 [00:00<?, ?it/s]\n",
      "  0%|          | 0/10000 [00:00<?, ?it/s]\n",
      "  0%|          | 0/10000 [00:00<?, ?it/s]\n",
      "  0%|          | 0/2 [00:00<?, ?it/s]"
     ]
    },
    {
     "name": "stdout",
     "output_type": "stream",
     "text": [
      "4    5000\n",
      "0    5000\n",
      "9    4999\n",
      "8    4999\n",
      "6    4999\n",
      "3    4999\n",
      "7    4998\n",
      "5    4998\n",
      "2    4998\n",
      "1    4995\n",
      "dtype: int64\n",
      "data.npy (49985, 32, 32, 3)\n",
      "-rw-r--r-- 1 aistudio aistudio 147M 12月 29 15:04 data.npy\n"
     ]
    },
    {
     "name": "stderr",
     "output_type": "stream",
     "text": [
      " 50%|█████     | 1/2 [00:01<00:01,  1.73s/it]"
     ]
    },
    {
     "name": "stdout",
     "output_type": "stream",
     "text": [
      "label.npy (49985, 10)\n",
      "-rw-r--r-- 1 aistudio aistudio 3.9M 12月 29 15:04 label.npy\n"
     ]
    },
    {
     "name": "stderr",
     "output_type": "stream",
     "text": [
      "100%|██████████| 2/2 [00:02<00:00,  1.29s/it]\n"
     ]
    }
   ],
   "source": [
    "\n",
    "import pickle\n",
    "from tqdm import tqdm, trange\n",
    "\n",
    "X, _Y, Y = [], [], []\n",
    "for p in [1, 2, 3, 4, 5]:\n",
    "    with open(f\"cifar-10-batches-py/data_batch_{p}\", 'rb') as fo:\n",
    "        data = pickle.load(fo, encoding='bytes')\n",
    "    \n",
    "    for n in trange(0, 10000):\n",
    "        iX = data[b\"data\"][n].reshape(3, 32, 32).transpose(1,2,0)\n",
    "        iY = np.array([10.0 if i == data[b\"labels\"][n] else 0.0 for i in range(0, 10)])\n",
    "        \n",
    "        X.append(iX)\n",
    "        _Y.append(data[b\"labels\"][n])\n",
    "        Y.append(iY)\n",
    "\n",
    "        if n > 9995:\n",
    "            break\n",
    "print(pd.value_counts(_Y))\n",
    "\n",
    "for [ifile, idata] in tqdm([['data.npy', X], ['label.npy', Y]]):\n",
    "    with open(ifile, 'wb') as f:\n",
    "        np.save(f, idata)\n",
    "    print(ifile, np.load(ifile).shape)\n",
    "    ! ls -l -h $ifile\n"
   ]
  },
  {
   "cell_type": "code",
   "execution_count": null,
   "metadata": {
    "scrolled": true
   },
   "outputs": [],
   "source": []
  }
 ],
 "metadata": {
  "kernelspec": {
   "display_name": "Python 3",
   "language": "python",
   "name": "py35-paddle1.2.0"
  },
  "language_info": {
   "codemirror_mode": {
    "name": "ipython",
    "version": 3
   },
   "file_extension": ".py",
   "mimetype": "text/x-python",
   "name": "python",
   "nbconvert_exporter": "python",
   "pygments_lexer": "ipython3",
   "version": "3.7.4"
  }
 },
 "nbformat": 4,
 "nbformat_minor": 4
}
