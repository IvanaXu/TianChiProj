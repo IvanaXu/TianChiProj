{
 "cells": [
  {
   "cell_type": "code",
   "execution_count": 1,
   "metadata": {},
   "outputs": [],
   "source": [
    "\n",
    "import os\n",
    "import time\n",
    "import oss2\n",
    "import json\n",
    "\n",
    "import cv2 as cv\n",
    "import numpy as np\n",
    "from tqdm import tqdm\n",
    "\n",
    "from aliyunsdkcore.client import AcsClient\n",
    "from aliyunsdkcore.acs_exception.exceptions import ClientException\n",
    "from aliyunsdkcore.acs_exception.exceptions import ServerException\n",
    "from aliyunsdkfacebody.request.v20191230.DetectFaceRequest import DetectFaceRequest\n"
   ]
  },
  {
   "cell_type": "code",
   "execution_count": 2,
   "metadata": {},
   "outputs": [],
   "source": [
    "\n",
    "access_key_id = os.getenv('OSS_TEST_ACCESS_KEY_ID', '')\n",
    "access_key_secret = os.getenv('OSS_TEST_ACCESS_KEY_SECRET', '')\n",
    "bucket_name = os.getenv('OSS_TEST_BUCKET', 'ivan-bucket-out-002')\n",
    "endpoint = os.getenv('OSS_TEST_ENDPOINT', 'oss-cn-shanghai.aliyuncs.com')\n",
    "\n",
    "bucket = oss2.Bucket(oss2.Auth(access_key_id, access_key_secret), endpoint, bucket_name)\n",
    "\n",
    "client = AcsClient(access_key_id, access_key_secret, 'cn-shanghai')\n"
   ]
  },
  {
   "cell_type": "code",
   "execution_count": 3,
   "metadata": {},
   "outputs": [],
   "source": [
    "\n",
    "#\n",
    "def _score(img, face=None, isresponse=None):\n",
    "    time.sleep(0.5)\n",
    "    oss2.resumable_upload(bucket, 'demo.jpg', img)\n",
    "    request = DetectFaceRequest()\n",
    "    request.set_accept_format('json')\n",
    "\n",
    "    request.set_ImageURL(f\"https://{bucket_name}.{endpoint}/demo.jpg\")\n",
    "\n",
    "    response = client.do_action_with_exception(request)\n",
    "    \n",
    "    if isresponse:\n",
    "        if \"FaceRectangles\" in json.loads(response)[\"Data\"]:\n",
    "            return json.loads(response)[\"Data\"][\"FaceRectangles\"]\n",
    "        else:\n",
    "            return []\n",
    "    if face:\n",
    "        if \"FaceRectangles\" in json.loads(response)[\"Data\"]:\n",
    "            return json.loads(response)[\"Data\"][\"FaceRectangles\"] != face\n",
    "        else:\n",
    "            return True\n",
    "    return json.loads(response)[\"Data\"][\"FaceCount\"] == 0\n"
   ]
  },
  {
   "cell_type": "code",
   "execution_count": 4,
   "metadata": {},
   "outputs": [],
   "source": [
    "\n",
    "#\n",
    "def f_lf1(img1, img2):\n",
    "    img1, img2 = cv.imread(img1), cv.imread(img2)\n",
    "    return np.sqrt(np.sum(np.square(img1 - img2)))\n"
   ]
  },
  {
   "cell_type": "code",
   "execution_count": 5,
   "metadata": {},
   "outputs": [
    {
     "name": "stdout",
     "output_type": "stream",
     "text": [
      "CPU times: user 9.15 ms, sys: 2.69 ms, total: 11.8 ms\n",
      "Wall time: 814 ms\n"
     ]
    },
    {
     "data": {
      "text/plain": [
       "False"
      ]
     },
     "execution_count": 5,
     "metadata": {},
     "output_type": "execute_result"
    }
   ],
   "source": [
    "%time _score('../Data/Z0.jpg')"
   ]
  },
  {
   "cell_type": "code",
   "execution_count": 6,
   "metadata": {},
   "outputs": [
    {
     "name": "stdout",
     "output_type": "stream",
     "text": [
      "CPU times: user 5.26 ms, sys: 1.57 ms, total: 6.83 ms\n",
      "Wall time: 726 ms\n"
     ]
    },
    {
     "data": {
      "text/plain": [
       "[19, 22, 77, 89]"
      ]
     },
     "execution_count": 6,
     "metadata": {},
     "output_type": "execute_result"
    }
   ],
   "source": [
    "%time _score('../Data/Z0.jpg', isresponse=1)"
   ]
  },
  {
   "cell_type": "code",
   "execution_count": 7,
   "metadata": {},
   "outputs": [
    {
     "name": "stdout",
     "output_type": "stream",
     "text": [
      "CPU times: user 4.57 ms, sys: 1.54 ms, total: 6.1 ms\n",
      "Wall time: 743 ms\n"
     ]
    },
    {
     "data": {
      "text/plain": [
       "False"
      ]
     },
     "execution_count": 7,
     "metadata": {},
     "output_type": "execute_result"
    }
   ],
   "source": [
    "%time _score('../Data/Z0.jpg', face=[19, 22, 77, 89])"
   ]
  },
  {
   "cell_type": "code",
   "execution_count": 8,
   "metadata": {},
   "outputs": [
    {
     "name": "stdout",
     "output_type": "stream",
     "text": [
      "CPU times: user 5.11 ms, sys: 2.08 ms, total: 7.18 ms\n",
      "Wall time: 919 ms\n"
     ]
    },
    {
     "data": {
      "text/plain": [
       "True"
      ]
     },
     "execution_count": 8,
     "metadata": {},
     "output_type": "execute_result"
    }
   ],
   "source": [
    "%time _score('../Data/bad.png')"
   ]
  },
  {
   "cell_type": "code",
   "execution_count": 9,
   "metadata": {},
   "outputs": [
    {
     "name": "stdout",
     "output_type": "stream",
     "text": [
      "CPU times: user 5.05 ms, sys: 1.45 ms, total: 6.5 ms\n",
      "Wall time: 729 ms\n"
     ]
    },
    {
     "data": {
      "text/plain": [
       "[]"
      ]
     },
     "execution_count": 9,
     "metadata": {},
     "output_type": "execute_result"
    }
   ],
   "source": [
    "%time _score('../Data/bad.png', isresponse=1)"
   ]
  },
  {
   "cell_type": "code",
   "execution_count": 10,
   "metadata": {},
   "outputs": [
    {
     "data": {
      "text/plain": [
       "0"
      ]
     },
     "execution_count": 10,
     "metadata": {},
     "output_type": "execute_result"
    }
   ],
   "source": [
    "\n",
    "pNum = \"T000001\"\n",
    "\n",
    "proj = \"..\"\n",
    "pimg = f\"{proj}/Data/images\"\n",
    "pmdl = f\"{proj}/Model\"\n",
    "pout = f\"{proj}/Out/{pNum}\"\n",
    "\n",
    "os.system(f\"rm -rf {pout}/temp*\")\n",
    "os.system(f\"rm -rf {pout}/images/*\")\n"
   ]
  },
  {
   "cell_type": "code",
   "execution_count": 11,
   "metadata": {},
   "outputs": [
    {
     "data": {
      "text/plain": [
       "[2]"
      ]
     },
     "execution_count": 11,
     "metadata": {},
     "output_type": "execute_result"
    }
   ],
   "source": [
    "\n",
    "st, ed = 1, 1\n",
    "chose = 1\n",
    "\n",
    "_N = 128\n",
    "lrun = [2, 4, 8, 16, 32, 64, 128][:chose]\n",
    "pl = lambda x: sorted(\n",
    "    [\n",
    "        (i - _N // x, i, j - _N // x, j)\n",
    "        for j in range(0, _N + 1, _N // x) if j > 0\n",
    "        for i in range(0, _N + 1, _N // x) if i > 0\n",
    "     ]\n",
    ")\n",
    "lrun\n"
   ]
  },
  {
   "cell_type": "code",
   "execution_count": 12,
   "metadata": {},
   "outputs": [
    {
     "name": "stderr",
     "output_type": "stream",
     "text": [
      "  0%|          | 0/1 [00:00<?, ?it/s]\n",
      "  0%|          | 0/50 [00:00<?, ?it/s]\u001b[A\n",
      "  2%|▏         | 1/50 [00:03<02:59,  3.67s/it]\u001b[A"
     ]
    },
    {
     "name": "stdout",
     "output_type": "stream",
     "text": [
      "\n",
      " 1 -25 True  906.6956\n"
     ]
    },
    {
     "name": "stderr",
     "output_type": "stream",
     "text": [
      "\n",
      "  4%|▍         | 2/50 [00:07<02:56,  3.67s/it]\u001b[A"
     ]
    },
    {
     "name": "stdout",
     "output_type": "stream",
     "text": [
      "\n",
      " 1 -24 True  846.6434\n"
     ]
    },
    {
     "name": "stderr",
     "output_type": "stream",
     "text": [
      "\n",
      "  6%|▌         | 3/50 [00:10<02:51,  3.66s/it]\u001b[A"
     ]
    },
    {
     "name": "stdout",
     "output_type": "stream",
     "text": [
      "\n",
      " 1 -23 True  783.7659\n"
     ]
    },
    {
     "name": "stderr",
     "output_type": "stream",
     "text": [
      "\n",
      "  8%|▊         | 4/50 [00:14<02:48,  3.66s/it]\u001b[A\n",
      " 10%|█         | 5/50 [00:18<02:45,  3.67s/it]\u001b[A\n",
      " 12%|█▏        | 6/50 [00:22<02:42,  3.69s/it]\u001b[A\n",
      " 14%|█▍        | 7/50 [00:25<02:38,  3.70s/it]\u001b[A\n",
      " 16%|█▌        | 8/50 [00:29<02:36,  3.72s/it]\u001b[A"
     ]
    },
    {
     "name": "stdout",
     "output_type": "stream",
     "text": [
      "\n",
      " 1 -18 True  756.9531\n"
     ]
    },
    {
     "name": "stderr",
     "output_type": "stream",
     "text": [
      "\n",
      " 18%|█▊        | 9/50 [00:33<02:31,  3.69s/it]\u001b[A\n",
      " 20%|██        | 10/50 [00:36<02:27,  3.69s/it]\u001b[A\n",
      " 22%|██▏       | 11/50 [00:40<02:23,  3.68s/it]\u001b[A\n",
      " 24%|██▍       | 12/50 [00:44<02:19,  3.67s/it]\u001b[A\n",
      " 26%|██▌       | 13/50 [00:47<02:15,  3.66s/it]\u001b[A\n",
      " 28%|██▊       | 14/50 [00:51<02:12,  3.67s/it]\u001b[A\n",
      " 30%|███       | 15/50 [00:55<02:08,  3.66s/it]\u001b[A\n",
      " 32%|███▏      | 16/50 [00:58<02:04,  3.65s/it]\u001b[A\n",
      " 34%|███▍      | 17/50 [01:02<02:00,  3.64s/it]\u001b[A\n",
      " 36%|███▌      | 18/50 [01:06<01:56,  3.64s/it]\u001b[A\n",
      " 38%|███▊      | 19/50 [01:09<01:53,  3.65s/it]\u001b[A\n",
      " 40%|████      | 20/50 [01:13<01:49,  3.66s/it]\u001b[A\n",
      " 42%|████▏     | 21/50 [01:17<01:46,  3.66s/it]\u001b[A\n",
      " 44%|████▍     | 22/50 [01:20<01:42,  3.65s/it]\u001b[A\n",
      " 46%|████▌     | 23/50 [01:24<01:38,  3.65s/it]\u001b[A\n",
      " 48%|████▊     | 24/50 [01:27<01:34,  3.65s/it]\u001b[A\n",
      " 50%|█████     | 25/50 [01:31<01:31,  3.64s/it]\u001b[A\n",
      " 52%|█████▏    | 26/50 [01:35<01:27,  3.64s/it]\u001b[A\n",
      " 54%|█████▍    | 27/50 [01:38<01:23,  3.63s/it]\u001b[A\n",
      " 56%|█████▌    | 28/50 [01:42<01:20,  3.65s/it]\u001b[A"
     ]
    },
    {
     "name": "stdout",
     "output_type": "stream",
     "text": [
      "\n",
      " 1 3 True  547.9544\n"
     ]
    },
    {
     "name": "stderr",
     "output_type": "stream",
     "text": [
      "\n",
      " 58%|█████▊    | 29/50 [01:46<01:17,  3.67s/it]\u001b[A\n",
      " 60%|██████    | 30/50 [01:49<01:13,  3.67s/it]\u001b[A\n",
      " 62%|██████▏   | 31/50 [01:53<01:09,  3.66s/it]\u001b[A\n",
      " 64%|██████▍   | 32/50 [01:57<01:05,  3.66s/it]\u001b[A\n",
      " 66%|██████▌   | 33/50 [02:00<01:02,  3.66s/it]\u001b[A\n",
      " 68%|██████▊   | 34/50 [02:04<00:58,  3.66s/it]\u001b[A\n",
      " 70%|███████   | 35/50 [02:08<00:55,  3.68s/it]\u001b[A\n",
      " 72%|███████▏  | 36/50 [02:11<00:51,  3.67s/it]\u001b[A\n",
      " 74%|███████▍  | 37/50 [02:15<00:47,  3.69s/it]\u001b[A\n",
      " 76%|███████▌  | 38/50 [02:19<00:44,  3.69s/it]\u001b[A\n",
      " 78%|███████▊  | 39/50 [02:23<00:40,  3.72s/it]\u001b[A\n",
      " 80%|████████  | 40/50 [02:26<00:37,  3.76s/it]\u001b[A\n",
      " 82%|████████▏ | 41/50 [02:30<00:33,  3.74s/it]\u001b[A\n",
      " 84%|████████▍ | 42/50 [02:34<00:29,  3.70s/it]\u001b[A\n",
      " 86%|████████▌ | 43/50 [02:38<00:26,  3.72s/it]\u001b[A\n",
      " 88%|████████▊ | 44/50 [02:41<00:22,  3.79s/it]\u001b[A\n",
      " 90%|█████████ | 45/50 [02:45<00:19,  3.81s/it]\u001b[A\n",
      " 92%|█████████▏| 46/50 [02:49<00:15,  3.76s/it]\u001b[A\n",
      " 94%|█████████▍| 47/50 [02:53<00:11,  3.72s/it]\u001b[A\n",
      " 96%|█████████▌| 48/50 [02:56<00:07,  3.70s/it]\u001b[A\n",
      " 98%|█████████▊| 49/50 [03:00<00:03,  3.69s/it]\u001b[A\n",
      "100%|██████████| 50/50 [03:04<00:00,  3.67s/it]\u001b[A\n",
      "100%|██████████| 1/1 [03:04<00:00, 184.87s/it]\n"
     ]
    }
   ],
   "source": [
    "\n",
    "badl = []\n",
    "group = 0\n",
    "\n",
    "for i in tqdm(range(st, ed+1)):\n",
    "    mscore = 999999\n",
    "    pi = f\"{pimg}/\"+f\"00000{i}\"[-5:]+\".jpg\"\n",
    "    op = f\"{pout}/images/\"+f\"00000{i}\"[-5:]+\".jpg\"\n",
    "    \n",
    "    _face = _score(pi, isresponse=1)\n",
    "    if not _face:\n",
    "        continue\n",
    "    \n",
    "    for dN in tqdm([_i_ for _i_ in range(-25, 25+1) if _i_ != 0]):\n",
    "        for _p_, M in enumerate(lrun):\n",
    "            dpl = pl(M)\n",
    "\n",
    "            if _p_ == 0:\n",
    "                ldata = np.array([1 for _ in range(M**2)])\n",
    "            else:\n",
    "                t_ldata = [__i for __i, __j in zip(pl(lrun[_p_-1]), ldata) if __j == 1]\n",
    "                ldata = []\n",
    "                for _i in dpl:\n",
    "                    _t = 0\n",
    "                    for __i in t_ldata:\n",
    "                        if _i[0] < __i[1] and __i[0] < _i[1] and _i[2] < __i[3] and __i[2] < _i[3]:\n",
    "                            _t = 1\n",
    "                            break\n",
    "                    ldata.append(_t)\n",
    "                ldata = np.array(ldata)\n",
    "\n",
    "            #\n",
    "            while True:\n",
    "                t_ldata = ldata.copy()\n",
    "                for _i in range(M**2):\n",
    "                    if ldata[_i] == 1:\n",
    "                        ldata[_i] = 0\n",
    "\n",
    "                        img = cv.imread(pi)\n",
    "                        for nldata, _ldata in enumerate(ldata):\n",
    "                            if _ldata == 1:\n",
    "                                i_group = dpl[nldata]\n",
    "                                img[i_group[0]:i_group[1], i_group[2]:i_group[3]] = \\\n",
    "                                img[i_group[0]:i_group[1], i_group[2]:i_group[3]] - dN\n",
    "                        cv.imwrite(f\"{pout}/temp{group}.jpg\", img)\n",
    "\n",
    "                        escore = _score(f\"{pout}/temp{group}.jpg\", _face)\n",
    "                        if escore:\n",
    "                            pass\n",
    "                        else:\n",
    "                            ldata[_i] = 1\n",
    "                if (ldata == t_ldata).all():\n",
    "                    break\n",
    "                break\n",
    "\n",
    "        #\n",
    "        img = cv.imread(pi)\n",
    "        for nldata, _ldata in enumerate(ldata):\n",
    "            if _ldata == 1:\n",
    "                i_group = dpl[nldata]\n",
    "                img[i_group[0]:i_group[1], i_group[2]:i_group[3]] = \\\n",
    "                img[i_group[0]:i_group[1], i_group[2]:i_group[3]] - dN\n",
    "        cv.imwrite(f\"{pout}/temp{group}.jpg\", img)\n",
    "\n",
    "        escore = _score(f\"{pout}/temp{group}.jpg\", _face)\n",
    "        fscore = f_lf1(pi, f\"{pout}/temp{group}.jpg\")\n",
    "\n",
    "        if escore:\n",
    "            if fscore < mscore:\n",
    "                print(\"\\n\", i, dN, escore, \"%9.4f\"%fscore)\n",
    "                mscore = fscore\n",
    "                os.system(f\"cp {pout}/temp{group}.jpg {op}\")\n",
    "\n"
   ]
  },
  {
   "cell_type": "code",
   "execution_count": 13,
   "metadata": {},
   "outputs": [
    {
     "name": "stderr",
     "output_type": "stream",
     "text": [
      "100%|██████████| 712/712 [00:00<00:00, 1173.25it/s]"
     ]
    },
    {
     "name": "stdout",
     "output_type": "stream",
     "text": [
      "711\n"
     ]
    },
    {
     "name": "stderr",
     "output_type": "stream",
     "text": [
      "\n"
     ]
    }
   ],
   "source": [
    "st, el = 1, 712\n",
    "\n",
    "savl = []\n",
    "for i in tqdm(range(st, el+1)):\n",
    "    pi = f\"{pimg}/\"+f\"00000{i}\"[-5:]+\".jpg\"\n",
    "    op = f\"{pout}/images/\"+f\"00000{i}\"[-5:]+\".jpg\"\n",
    "    \n",
    "    if not os.path.exists(op):\n",
    "        img = cv.imread(pi)\n",
    "        cv.imwrite(op, img)\n",
    "        savl.append(1)\n",
    "print(len(savl))\n"
   ]
  }
 ],
 "metadata": {
  "kernelspec": {
   "display_name": "Python 3",
   "language": "python",
   "name": "python3"
  },
  "language_info": {
   "codemirror_mode": {
    "name": "ipython",
    "version": 3
   },
   "file_extension": ".py",
   "mimetype": "text/x-python",
   "name": "python",
   "nbconvert_exporter": "python",
   "pygments_lexer": "ipython3",
   "version": "3.7.0"
  }
 },
 "nbformat": 4,
 "nbformat_minor": 2
}
