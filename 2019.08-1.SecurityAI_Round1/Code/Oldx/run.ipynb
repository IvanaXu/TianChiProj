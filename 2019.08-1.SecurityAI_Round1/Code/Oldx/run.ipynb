{
 "cells": [
  {
   "cell_type": "code",
   "execution_count": 1,
   "metadata": {},
   "outputs": [],
   "source": [
    "import dlib\n",
    "import cv2 as cv\n",
    "from tqdm import tqdm\n",
    "from tqdm import tnrange\n",
    "from IPython.display import Image\n",
    "import numpy as np\n"
   ]
  },
  {
   "cell_type": "code",
   "execution_count": 2,
   "metadata": {},
   "outputs": [],
   "source": [
    "pNum = \"T000001\"\n",
    "\n",
    "proj = \"/Users/ivan/Desktop/ALL/Code/PyProduct/GitProj/gproj/code/SecurityAI_Round1\"\n",
    "pimg = f\"{proj}/Data/images\"\n",
    "pmdl = f\"{proj}/Model\"\n",
    "pout = f\"{proj}/Out/{pNum}\""
   ]
  },
  {
   "cell_type": "code",
   "execution_count": 3,
   "metadata": {},
   "outputs": [],
   "source": [
    "modelv = \"_68\"\n",
    "detector = dlib.get_frontal_face_detector()\n",
    "predictor = dlib.shape_predictor(f\"{pmdl}/shape_predictor{modelv}_face_landmarks.dat\")"
   ]
  },
  {
   "cell_type": "code",
   "execution_count": 4,
   "metadata": {},
   "outputs": [],
   "source": [
    "# st, ed = 1, 100\n",
    "st, ed = 1, 712\n"
   ]
  },
  {
   "cell_type": "code",
   "execution_count": 5,
   "metadata": {},
   "outputs": [
    {
     "name": "stdout",
     "output_type": "stream",
     "text": [
      "CPU times: user 6.83 ms, sys: 984 µs, total: 7.82 ms\n",
      "Wall time: 7.01 ms\n"
     ]
    },
    {
     "data": {
      "text/plain": [
       "(69, 19)"
      ]
     },
     "execution_count": 5,
     "metadata": {},
     "output_type": "execute_result"
    }
   ],
   "source": [
    "def f_xy(images):\n",
    "    cv_face = detector(cv.cvtColor(images, cv.COLOR_BGR2GRAY), 1)\n",
    "    if cv_face:\n",
    "        result = []\n",
    "        for face in cv_face:\n",
    "            shape = predictor(images, face)\n",
    "            for pt in shape.parts():\n",
    "                result.append((pt.y, pt.x))\n",
    "    else:\n",
    "        result = [[56, 56]]\n",
    "    return result\n",
    "\n",
    "%time f_xy(cv.imread(f\"{pimg}/00001.jpg\"))[0]\n"
   ]
  },
  {
   "cell_type": "code",
   "execution_count": 6,
   "metadata": {},
   "outputs": [
    {
     "name": "stdout",
     "output_type": "stream",
     "text": [
      "SAME:0.000000\n",
      "DIFF:0.073383\n",
      "DIFF:0.004231\n",
      "CPU times: user 2.19 ms, sys: 222 µs, total: 2.41 ms\n",
      "Wall time: 2.28 ms\n"
     ]
    },
    {
     "data": {
      "text/plain": [
       "0.07338285522785237"
      ]
     },
     "execution_count": 6,
     "metadata": {},
     "output_type": "execute_result"
    }
   ],
   "source": [
    "def f_lcos(f1, f2):\n",
    "    df1 = [np.average(i) for i in f1]\n",
    "    df2 = [np.average(i) for i in f2]\n",
    "    return 1 - np.dot(df1/np.linalg.norm(df1, 2), df2/np.linalg.norm(df2, 2))\n",
    "\n",
    "print(\"SAME:%.6f\" % f_lcos(cv.imread(f\"{pimg}/00001.jpg\"), cv.imread(f\"{pimg}/00001.jpg\")))\n",
    "print(\"DIFF:%.6f\" % f_lcos(cv.imread(f\"{pimg}/00001.jpg\"), cv.imread(f\"{pimg}/00002.jpg\")))\n",
    "print(\"DIFF:%.6f\" % f_lcos(cv.imread(f\"{pimg}/00001.jpg\"), cv.imread(f\"{pimg}/00406.jpg\")))\n",
    "\n",
    "%time f_lcos(cv.imread(f\"{pimg}/00001.jpg\"), cv.imread(f\"{pimg}/00002.jpg\"))\n"
   ]
  },
  {
   "cell_type": "code",
   "execution_count": 7,
   "metadata": {},
   "outputs": [
    {
     "name": "stdout",
     "output_type": "stream",
     "text": [
      "SAME:0.000000\n",
      "DIFF:1974.158302\n",
      "DIFF:1993.636627\n",
      "CPU times: user 484 µs, sys: 176 µs, total: 660 µs\n",
      "Wall time: 531 µs\n"
     ]
    },
    {
     "data": {
      "text/plain": [
       "1974.1583016566833"
      ]
     },
     "execution_count": 7,
     "metadata": {},
     "output_type": "execute_result"
    }
   ],
   "source": [
    "def f_lf1(f1, f2):\n",
    "    return np.sqrt(np.sum(np.square(f1 - f2)))\n",
    "\n",
    "print(\"SAME:%.6f\" % f_lf1(cv.imread(f\"{pimg}/00001.jpg\"), cv.imread(f\"{pimg}/00001.jpg\")))\n",
    "print(\"DIFF:%.6f\" % f_lf1(cv.imread(f\"{pimg}/00001.jpg\"), cv.imread(f\"{pimg}/00002.jpg\")))\n",
    "print(\"DIFF:%.6f\" % f_lf1(cv.imread(f\"{pimg}/00001.jpg\"), cv.imread(f\"{pimg}/00406.jpg\")))\n",
    "\n",
    "%time f_lf1(cv.imread(f\"{pimg}/00001.jpg\"), cv.imread(f\"{pimg}/00002.jpg\"))\n"
   ]
  },
  {
   "cell_type": "code",
   "execution_count": null,
   "metadata": {
    "scrolled": false
   },
   "outputs": [
    {
     "data": {
      "application/vnd.jupyter.widget-view+json": {
       "model_id": "dc60837b43544dec94e15d7ea1ec82cf",
       "version_major": 2,
       "version_minor": 0
      },
      "text/plain": [
       "HBox(children=(IntProgress(value=0, max=50), HTML(value='')))"
      ]
     },
     "metadata": {},
     "output_type": "display_data"
    },
    {
     "data": {
      "application/vnd.jupyter.widget-view+json": {
       "model_id": "5d3f46fc0624403c9575d9c9444ea0c9",
       "version_major": 2,
       "version_minor": 0
      },
      "text/plain": [
       "HBox(children=(IntProgress(value=0, description='1', max=712), HTML(value='')))"
      ]
     },
     "metadata": {},
     "output_type": "display_data"
    },
    {
     "data": {
      "application/vnd.jupyter.widget-view+json": {
       "model_id": "31165feb331946d8a80c9933a0f46948",
       "version_major": 2,
       "version_minor": 0
      },
      "text/plain": [
       "HBox(children=(IntProgress(value=0, description='2', max=712), HTML(value='')))"
      ]
     },
     "metadata": {},
     "output_type": "display_data"
    },
    {
     "data": {
      "application/vnd.jupyter.widget-view+json": {
       "model_id": "b0fff37d2b9549ffbd87dacad658969b",
       "version_major": 2,
       "version_minor": 0
      },
      "text/plain": [
       "HBox(children=(IntProgress(value=0, description='3', max=712), HTML(value='')))"
      ]
     },
     "metadata": {},
     "output_type": "display_data"
    },
    {
     "data": {
      "application/vnd.jupyter.widget-view+json": {
       "model_id": "575a9c97630a4a0cbcb0d9855891c14a",
       "version_major": 2,
       "version_minor": 0
      },
      "text/plain": [
       "HBox(children=(IntProgress(value=0, description='4', max=712), HTML(value='')))"
      ]
     },
     "metadata": {},
     "output_type": "display_data"
    },
    {
     "data": {
      "application/vnd.jupyter.widget-view+json": {
       "model_id": "70d6933c4e7b419fad2210c37881482b",
       "version_major": 2,
       "version_minor": 0
      },
      "text/plain": [
       "HBox(children=(IntProgress(value=0, description='5', max=712), HTML(value='')))"
      ]
     },
     "metadata": {},
     "output_type": "display_data"
    }
   ],
   "source": [
    "\"\"\"\n",
    "简单思路\n",
    "    根据L2距离找出最近人脸；\n",
    "    根据clip限制取结果；\n",
    "    适当压缩再复原；\n",
    "    # 是否可以考虑放大；\n",
    "\"\"\"\n",
    "\n",
    "def frun(tpath, time):\n",
    "    for i in tnrange(st, ed+1, desc=f\"{time+1}\"):\n",
    "        pi = f\"{pimg}/\"+f\"00000{i}\"[-5:]+\".jpg\"\n",
    "        op = f\"{pout}/images/\"+f\"00000{i}\"[-5:]+\".jpg\"\n",
    "\n",
    "        img = cv.imread(pi)\n",
    "        imgj, min_p012 = 1, 99999.0\n",
    "\n",
    "        for imgi in range(st, ed+1, 1):\n",
    "            imgx = cv.imread(tpath+f\"00000{imgi}\"[-5:]+\".jpg\")\n",
    "            p012 = f_lf1(img, imgx)\n",
    "\n",
    "            if p012 < min_p012 and imgi != i:\n",
    "                imgj, min_p012 = imgi, p012\n",
    "\n",
    "        # print(f\"{i},{imgj}, Avg:{min_p012:.{6}}\")\n",
    "\n",
    "        img_o = cv.imread(tpath+f\"00000{imgj}\"[-5:]+\".jpg\")\n",
    "        img_o = np.clip(img_o, img-25.5, img+25.5)\n",
    "\n",
    "        cv.imwrite(op, img_o)\n",
    "\n",
    "for n in tnrange(50):\n",
    "    if n == 0:\n",
    "        frun(f\"{pimg}/\", n)\n",
    "    else:\n",
    "        frun(f\"{pout}/images/\", n)\n",
    "\n",
    "# 1, 37.7798\n",
    "# 2, 41.2963\n",
    "# 3, 40.8738\n",
    "# 4, 40.2497\n",
    "# 5, 40.4047\n",
    "# 6, ?\n",
    "# 7, -\n",
    "\n"
   ]
  },
  {
   "cell_type": "code",
   "execution_count": null,
   "metadata": {},
   "outputs": [],
   "source": [
    "Image(filename=f\"{pimg}/00001.jpg\", width=300, height=300)"
   ]
  },
  {
   "cell_type": "code",
   "execution_count": null,
   "metadata": {},
   "outputs": [],
   "source": [
    "Image(filename=f\"{pout}/images/00001.jpg\", width=300, height=300)"
   ]
  },
  {
   "cell_type": "markdown",
   "metadata": {},
   "source": [
    "```\n",
    "cv2.bitwise_and(), cv2.bitwise_not(), cv2.bitwise_or(), cv2.bitwise_xor()\n",
    "img_o[y, x] = cv.bitwise_xor(img_o[y, x], img_o[y, x])[:,0]\n",
    "img_o[y-n:y+n, x-n:x+n] = cv.bitwise_xor(img_o[y-n:y+n, x-n:x+n], img_o[y-n:y+n, x-n:x+n])\n",
    "```\n"
   ]
  },
  {
   "cell_type": "markdown",
   "metadata": {},
   "source": [
    "BACKUP"
   ]
  },
  {
   "cell_type": "code",
   "execution_count": null,
   "metadata": {},
   "outputs": [],
   "source": [
    "# for imgi in range(1, 712):\n",
    "#     img1 = cv.imread(f\"{pimg}/\"+f\"00000{imgi}\"[-5:]+\".jpg\")\n",
    "# print(f\"{x0},{n},{imgi},Avg01:{np.mean(p01):.{6}},Avg02:{np.mean(p02)*2/1000:.{6}}\")\n",
    "\n",
    "#         p0, p1 = f_xy(img), f_xy(img_o)\n",
    "#         if p0:\n",
    "#             pn = 0\n",
    "#             for pi in p0:\n",
    "#                 if pi in p1:\n",
    "#                     pn += 1\n",
    "#             p01.append(pn)\n",
    "\n",
    "\n",
    "# x0 = 6\n",
    "# n = 2\n",
    "\n",
    "# for i in tnrange(st, ed+1):\n",
    "#     pi = f\"{pimg}/\"+f\"00000{i}\"[-5:]+\".jpg\"\n",
    "#     op = f\"{pout}/images/\"+f\"00000{i}\"[-5:]+\".jpg\"\n",
    "    \n",
    "#     img = cv.imread(pi)\n",
    "#     imgj, min_p012 = 1, 99999.0\n",
    "    \n",
    "#     for imgi in tnrange(st, ed+1, 1):\n",
    "#         img1 = cv.imread(f\"{pimg}/\"+f\"00000{imgi}\"[-5:]+\".jpg\")\n",
    "#         img_o = img.copy()\n",
    "        \n",
    "#         for if_xy in f_xy(img):\n",
    "#             y, x = if_xy\n",
    "#             if 0 <= x < 112 and 0 <= y < 112:\n",
    "#                 img_o[y-n:y+n, x-n:x+n] = cv.bitwise_xor(img_o[y-n:y+n, x-n:x+n], img1[y-n:y+n, x-n:x+n])\n",
    "        \n",
    "#         img_o = cv.resize(img_o, (x0, x0), cv.INTER_LINEAR)\n",
    "#         img_o = cv.resize(img_o, (112, 112), cv.INTER_LINEAR)\n",
    "#         img_o = np.clip(img_o, img-25.5, img+25.5)\n",
    "\n",
    "#         p012 = f_lcos(img, img_o)\n",
    "        \n",
    "#         if p012 < min_p012 and imgi != i:\n",
    "#             imgj, min_p012 = imgi, p012\n",
    "    \n",
    "#     print(f\"{i},{imgj}, Avg:{min_p012:.{6}}\")\n",
    "    \n",
    "#     img1 = cv.imread(f\"{pimg}/\"+f\"00000{imgj}\"[-5:]+\".jpg\")\n",
    "#     img_o = img.copy()\n",
    "#     for if_xy in f_xy(img):\n",
    "#         y, x = if_xy\n",
    "#         if 0 <= x < 112 and 0 <= y < 112:\n",
    "#             img_o[y-n:y+n, x-n:x+n] = cv.bitwise_xor(img_o[y-n:y+n, x-n:x+n], img1[y-n:y+n, x-n:x+n])\n",
    "#     img_o = cv.resize(img_o, (x0, x0), cv.INTER_LINEAR)\n",
    "#     img_o = cv.resize(img_o, (112, 112), cv.INTER_LINEAR)\n",
    "#     img_o = np.clip(img_o, img-25.5, img+25.5)\n",
    "#     cv.imwrite(op, img_o)\n",
    "\n",
    "\n",
    "\n"
   ]
  },
  {
   "cell_type": "code",
   "execution_count": null,
   "metadata": {},
   "outputs": [],
   "source": [
    "# cosin相似度（余弦相似度）\n",
    "# https://blog.csdn.net/weixin_39121325/article/details/84187453\n",
    "# 7941a200e221df958f3fd182e9d687845b387c897b783493\n"
   ]
  },
  {
   "cell_type": "code",
   "execution_count": null,
   "metadata": {},
   "outputs": [],
   "source": []
  }
 ],
 "metadata": {
  "kernelspec": {
   "display_name": "Python 3",
   "language": "python",
   "name": "python3"
  },
  "language_info": {
   "codemirror_mode": {
    "name": "ipython",
    "version": 3
   },
   "file_extension": ".py",
   "mimetype": "text/x-python",
   "name": "python",
   "nbconvert_exporter": "python",
   "pygments_lexer": "ipython3",
   "version": "3.7.0"
  }
 },
 "nbformat": 4,
 "nbformat_minor": 2
}
