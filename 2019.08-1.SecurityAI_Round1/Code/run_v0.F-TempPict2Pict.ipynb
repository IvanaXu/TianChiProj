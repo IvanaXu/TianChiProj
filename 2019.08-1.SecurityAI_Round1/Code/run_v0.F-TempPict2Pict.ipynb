{
 "cells": [
  {
   "cell_type": "code",
   "execution_count": 1,
   "metadata": {},
   "outputs": [],
   "source": [
    "\n",
    "import os\n",
    "import time\n",
    "import oss2\n",
    "import json\n",
    "\n",
    "import cv2 as cv\n",
    "import numpy as np\n",
    "from tqdm import tqdm\n",
    "from sko.GA import GA\n",
    "\n",
    "from aliyunsdkcore.client import AcsClient\n",
    "from aliyunsdkcore.acs_exception.exceptions import ClientException\n",
    "from aliyunsdkcore.acs_exception.exceptions import ServerException\n",
    "from aliyunsdkfacebody.request.v20191230.CompareFaceRequest import CompareFaceRequest\n"
   ]
  },
  {
   "cell_type": "code",
   "execution_count": 2,
   "metadata": {},
   "outputs": [
    {
     "data": {
      "text/plain": [
       "('2.13.11', '1.2.0', '2.13.0')"
      ]
     },
     "execution_count": 2,
     "metadata": {},
     "output_type": "execute_result"
    }
   ],
   "source": [
    "import oss2\n",
    "import aliyunsdkcore\n",
    "import aliyunsdkfacebody\n",
    "aliyunsdkcore.__version__, aliyunsdkfacebody.__version__, oss2.__version__\n"
   ]
  },
  {
   "cell_type": "code",
   "execution_count": 3,
   "metadata": {},
   "outputs": [],
   "source": [
    "\n",
    "access_key_id = os.getenv('OSS_TEST_ACCESS_KEY_ID', '')\n",
    "access_key_secret = os.getenv('OSS_TEST_ACCESS_KEY_SECRET', '')\n",
    "bucket_name = os.getenv('OSS_TEST_BUCKET', 'ivan-bucket-out-002')\n",
    "endpoint = os.getenv('OSS_TEST_ENDPOINT', 'oss-cn-shanghai.aliyuncs.com')\n",
    "\n",
    "bucket = oss2.Bucket(oss2.Auth(access_key_id, access_key_secret), endpoint, bucket_name)\n",
    "\n",
    "client = AcsClient(access_key_id, access_key_secret, 'cn-shanghai')\n"
   ]
  },
  {
   "cell_type": "code",
   "execution_count": 4,
   "metadata": {},
   "outputs": [],
   "source": [
    "\n",
    "#\n",
    "def _f1(imgA=None, imgB=None, Rect=None):\n",
    "    while True:\n",
    "        try:\n",
    "            time.sleep(0.68)\n",
    "            if imgA:\n",
    "                oss2.resumable_upload(bucket, 'imgA.jpg', imgA)\n",
    "            if imgB:\n",
    "                oss2.resumable_upload(bucket, 'imgB.jpg', imgB)\n",
    "\n",
    "            request = CompareFaceRequest()\n",
    "            request.set_accept_format('json')\n",
    "\n",
    "            request.set_ImageURLA(f\"https://{bucket_name}.{endpoint}/imgA.jpg\")\n",
    "            request.set_ImageURLB(f\"https://{bucket_name}.{endpoint}/imgB.jpg\")\n",
    "\n",
    "            response = client.do_action_with_exception(request)\n",
    "            \n",
    "            if Rect:\n",
    "                return json.loads(response)[\"Data\"][\"Confidence\"], json.loads(response)[\"Data\"][\"RectAList\"]\n",
    "            else:\n",
    "                return json.loads(response)[\"Data\"][\"Confidence\"]\n",
    "        except Exception as e:\n",
    "            print(e)\n",
    "\n",
    "#\n",
    "def _f2(imgA, imgB):\n",
    "    imgA, imgB = cv.imread(imgA), cv.imread(imgB)\n",
    "    return np.sqrt(np.sum(np.square(imgA - imgB)))\n"
   ]
  },
  {
   "cell_type": "code",
   "execution_count": 5,
   "metadata": {},
   "outputs": [
    {
     "name": "stdout",
     "output_type": "stream",
     "text": [
      "CPU times: user 20.4 ms, sys: 6.56 ms, total: 27 ms\n",
      "Wall time: 2.3 s\n"
     ]
    },
    {
     "data": {
      "text/plain": [
       "70.34921264648438"
      ]
     },
     "execution_count": 5,
     "metadata": {},
     "output_type": "execute_result"
    }
   ],
   "source": [
    "%time _f1(imgA=\"/Users/ivan/Desktop/企业微信截图_16195386449700.png\",imgB=\"/Users/ivan/Desktop/企业微信截图_1619538664196.png\")"
   ]
  },
  {
   "cell_type": "code",
   "execution_count": null,
   "metadata": {},
   "outputs": [],
   "source": []
  },
  {
   "cell_type": "code",
   "execution_count": null,
   "metadata": {},
   "outputs": [],
   "source": []
  },
  {
   "cell_type": "code",
   "execution_count": null,
   "metadata": {},
   "outputs": [],
   "source": []
  }
 ],
 "metadata": {
  "kernelspec": {
   "display_name": "Python 3",
   "language": "python",
   "name": "python3"
  },
  "language_info": {
   "codemirror_mode": {
    "name": "ipython",
    "version": 3
   },
   "file_extension": ".py",
   "mimetype": "text/x-python",
   "name": "python",
   "nbconvert_exporter": "python",
   "pygments_lexer": "ipython3",
   "version": "3.7.0"
  }
 },
 "nbformat": 4,
 "nbformat_minor": 2
}
