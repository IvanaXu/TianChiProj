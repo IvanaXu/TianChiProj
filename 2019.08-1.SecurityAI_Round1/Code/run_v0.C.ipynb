{
 "cells": [
  {
   "cell_type": "code",
   "execution_count": 1,
   "metadata": {},
   "outputs": [],
   "source": [
    "\n",
    "import os\n",
    "import time\n",
    "import oss2\n",
    "import json\n",
    "\n",
    "import cv2 as cv\n",
    "import numpy as np\n",
    "from tqdm import tqdm\n",
    "from scipy.optimize import minimize, basinhopping\n",
    "\n",
    "from aliyunsdkcore.client import AcsClient\n",
    "from aliyunsdkcore.acs_exception.exceptions import ClientException\n",
    "from aliyunsdkcore.acs_exception.exceptions import ServerException\n",
    "from aliyunsdkfacebody.request.v20191230.CompareFaceRequest import CompareFaceRequest\n"
   ]
  },
  {
   "cell_type": "code",
   "execution_count": 2,
   "metadata": {},
   "outputs": [],
   "source": [
    "\n",
    "access_key_id = os.getenv('OSS_TEST_ACCESS_KEY_ID', '')\n",
    "access_key_secret = os.getenv('OSS_TEST_ACCESS_KEY_SECRET', '')\n",
    "bucket_name = os.getenv('OSS_TEST_BUCKET', 'ivan-bucket-out-002')\n",
    "endpoint = os.getenv('OSS_TEST_ENDPOINT', 'oss-cn-shanghai.aliyuncs.com')\n",
    "\n",
    "bucket = oss2.Bucket(oss2.Auth(access_key_id, access_key_secret), endpoint, bucket_name)\n",
    "\n",
    "client = AcsClient(access_key_id, access_key_secret, 'cn-shanghai')\n"
   ]
  },
  {
   "cell_type": "code",
   "execution_count": 3,
   "metadata": {},
   "outputs": [],
   "source": [
    "\n",
    "#\n",
    "def _f1(imgA=None, imgB=None):\n",
    "    while True:\n",
    "        try:\n",
    "            time.sleep(0.68)\n",
    "            if imgA:\n",
    "                oss2.resumable_upload(bucket, 'imgA.jpg', imgA)\n",
    "            if imgB:\n",
    "                oss2.resumable_upload(bucket, 'imgB.jpg', imgB)\n",
    "\n",
    "            request = CompareFaceRequest()\n",
    "            request.set_accept_format('json')\n",
    "\n",
    "            request.set_ImageURLA(f\"https://{bucket_name}.{endpoint}/imgA.jpg\")\n",
    "            request.set_ImageURLB(f\"https://{bucket_name}.{endpoint}/imgB.jpg\")\n",
    "\n",
    "            response = client.do_action_with_exception(request)\n",
    "            return json.loads(response)[\"Data\"][\"Confidence\"]\n",
    "        except Exception as e:\n",
    "            print(e)\n",
    "\n",
    "#\n",
    "def _f2(imgA, imgB):\n",
    "    imgA, imgB = cv.imread(imgA), cv.imread(imgB)\n",
    "    return np.sqrt(np.sum(np.square(imgA - imgB)))\n"
   ]
  },
  {
   "cell_type": "code",
   "execution_count": 4,
   "metadata": {},
   "outputs": [
    {
     "name": "stdout",
     "output_type": "stream",
     "text": [
      "CPU times: user 18.3 ms, sys: 4.43 ms, total: 22.8 ms\n",
      "Wall time: 1.08 s\n"
     ]
    },
    {
     "data": {
      "text/plain": [
       "100.0"
      ]
     },
     "execution_count": 4,
     "metadata": {},
     "output_type": "execute_result"
    }
   ],
   "source": [
    "%time _f1(imgA='../Data/Z0.jpg', imgB='../Data/Z0.jpg')"
   ]
  },
  {
   "cell_type": "code",
   "execution_count": 5,
   "metadata": {},
   "outputs": [
    {
     "name": "stdout",
     "output_type": "stream",
     "text": [
      "CPU times: user 8.47 ms, sys: 1.85 ms, total: 10.3 ms\n",
      "Wall time: 954 ms\n"
     ]
    },
    {
     "data": {
      "text/plain": [
       "100.0"
      ]
     },
     "execution_count": 5,
     "metadata": {},
     "output_type": "execute_result"
    }
   ],
   "source": [
    "%time _f1(imgA='../Data/Z0.jpg')"
   ]
  },
  {
   "cell_type": "code",
   "execution_count": 6,
   "metadata": {},
   "outputs": [
    {
     "name": "stdout",
     "output_type": "stream",
     "text": [
      "CPU times: user 11.2 ms, sys: 2.75 ms, total: 14 ms\n",
      "Wall time: 1.01 s\n"
     ]
    },
    {
     "data": {
      "text/plain": [
       "45.32559585571289"
      ]
     },
     "execution_count": 6,
     "metadata": {},
     "output_type": "execute_result"
    }
   ],
   "source": [
    "%time _f1(imgA='../Data/Z0.jpg', imgB='../Data/Z1.jpg')"
   ]
  },
  {
   "cell_type": "code",
   "execution_count": 7,
   "metadata": {},
   "outputs": [
    {
     "name": "stdout",
     "output_type": "stream",
     "text": [
      "CPU times: user 12.3 ms, sys: 3.77 ms, total: 16.1 ms\n",
      "Wall time: 1.02 s\n"
     ]
    },
    {
     "data": {
      "text/plain": [
       "0.0"
      ]
     },
     "execution_count": 7,
     "metadata": {},
     "output_type": "execute_result"
    }
   ],
   "source": [
    "%time _f1(imgA='../Data/bad.png', imgB='../Data/bad.png')"
   ]
  },
  {
   "cell_type": "code",
   "execution_count": 8,
   "metadata": {},
   "outputs": [
    {
     "name": "stdout",
     "output_type": "stream",
     "text": [
      "CPU times: user 1.33 ms, sys: 1.32 ms, total: 2.65 ms\n",
      "Wall time: 1.28 ms\n"
     ]
    },
    {
     "data": {
      "text/plain": [
       "768.1659976853962"
      ]
     },
     "execution_count": 8,
     "metadata": {},
     "output_type": "execute_result"
    }
   ],
   "source": [
    "%time _f2(imgA='../Data/Z0.jpg', imgB='../Data/Z1.jpg')"
   ]
  },
  {
   "cell_type": "code",
   "execution_count": 9,
   "metadata": {},
   "outputs": [
    {
     "name": "stdout",
     "output_type": "stream",
     "text": [
      "CPU times: user 1.38 ms, sys: 1.31 ms, total: 2.68 ms\n",
      "Wall time: 1.29 ms\n"
     ]
    },
    {
     "data": {
      "text/plain": [
       "0.0"
      ]
     },
     "execution_count": 9,
     "metadata": {},
     "output_type": "execute_result"
    }
   ],
   "source": [
    "%time _f2(imgA='../Data/Z0.jpg', imgB='../Data/Z0.jpg')"
   ]
  },
  {
   "cell_type": "code",
   "execution_count": 10,
   "metadata": {},
   "outputs": [
    {
     "data": {
      "text/plain": [
       "0"
      ]
     },
     "execution_count": 10,
     "metadata": {},
     "output_type": "execute_result"
    }
   ],
   "source": [
    "\n",
    "pNum = \"T000001\"\n",
    "\n",
    "proj = \"..\"\n",
    "pimg = f\"{proj}/Data/images\"\n",
    "pmdl = f\"{proj}/Model\"\n",
    "pout = f\"{proj}/Out/{pNum}\"\n",
    "\n",
    "os.system(f\"rm -rf {pout}/temp*\")\n",
    "os.system(f\"rm -rf {pout}/images/*\")\n"
   ]
  },
  {
   "cell_type": "code",
   "execution_count": 11,
   "metadata": {},
   "outputs": [],
   "source": [
    "# ! rm -rf ../Out/T000001/images/*"
   ]
  },
  {
   "cell_type": "code",
   "execution_count": 12,
   "metadata": {},
   "outputs": [],
   "source": [
    "\n",
    "st, ed = 1, 1\n",
    "_N, M = 128, 128# [2, 4, 8, 16, 32, 64, 128]\n",
    "pl = lambda x: sorted(\n",
    "    [\n",
    "        (i-_N//x, i, j-_N//x, j)\n",
    "        for j in range(0, _N+1, _N//x) if j > 0\n",
    "        for i in range(0, _N+1, _N//x) if i > 0\n",
    "     ]\n",
    ")\n",
    "dpl = pl(M)\n"
   ]
  },
  {
   "cell_type": "code",
   "execution_count": 18,
   "metadata": {
    "scrolled": false
   },
   "outputs": [
    {
     "name": "stderr",
     "output_type": "stream",
     "text": [
      "\r\n",
      "All:   0%|          | 0/1 [00:00<?, ?it/s]"
     ]
    },
    {
     "name": "stdout",
     "output_type": "stream",
     "text": [
      "12.87, 51.400394, 1874.512470, 100.057154\n",
      "12.76, 56.087051, 1879.602086, 108.923832\n",
      "12.75, 50.000000, 1884.357716, 97.415163\n",
      "12.76, 50.000000, 1870.702275, 97.396786\n",
      "12.84, 50.000000, 1879.491155, 97.408643\n",
      "12.72, 50.000000, 1870.822279, 97.396948\n",
      "12.76, 50.000000, 1872.192832, 97.398804\n",
      "12.75, 50.000000, 1868.676269, 97.394037\n",
      "12.88, 50.000000, 1882.090593, 97.412130\n",
      "12.79, 50.000000, 1876.740525, 97.404944\n",
      "12.69, 50.000000, 1869.013376, 97.394494\n",
      "12.62, 50.000000, 1870.980759, 97.397163\n",
      "12.76, 50.000000, 1879.534783, 97.408702\n",
      "12.71, 50.000000, 1875.702002, 97.403544\n",
      "12.83, 50.000000, 1881.061137, 97.410750\n",
      "12.77, 50.000000, 1876.473554, 97.404584\n",
      "12.74, 50.000000, 1875.604969, 97.403413\n",
      "12.71, 50.000000, 1876.913690, 97.405177\n",
      "12.74, 50.000000, 1872.759461, 97.399571\n",
      "12.73, 50.269444, 1878.773802, 97.918918\n",
      "12.74, 50.000000, 1871.830120, 97.398313\n",
      "12.72, 50.000000, 1879.704764, 97.408930\n",
      "12.74, 50.000000, 1877.933705, 97.406550\n",
      "12.73, 50.000000, 1873.417999, 97.400461\n",
      "12.66, 50.000000, 1868.464075, 97.393748\n",
      "12.84, 50.000000, 1878.753044, 97.407652\n",
      "12.74, 50.000000, 1868.408146, 97.393672\n",
      "12.71, 50.000000, 1873.815092, 97.400998\n",
      "12.72, 50.000000, 1868.646837, 97.393997\n",
      "12.69, 50.000000, 1870.997595, 97.397186\n",
      "12.68, 50.000000, 1864.727862, 97.388663\n",
      "12.79, 52.455837, 1869.334908, 102.048080\n",
      "12.77, 50.000000, 1874.023212, 97.401279\n",
      "12.85, 50.000000, 1876.026119, 97.403981\n",
      "12.76, 50.000000, 1872.630503, 97.399396\n",
      "12.77, 50.000000, 1872.129803, 97.398719\n",
      "12.67, 52.670288, 1867.711434, 102.451401\n",
      "12.81, 50.000000, 1878.281662, 97.407018\n",
      "12.75, 50.000000, 1875.828084, 97.403714\n",
      "12.75, 50.000000, 1873.782805, 97.400954\n",
      "12.73, 50.000000, 1873.067537, 97.399987\n",
      "12.73, 50.000000, 1877.835456, 97.406418\n",
      "12.73, 50.000000, 1876.792477, 97.405014\n",
      "12.59, 50.000000, 1876.109005, 97.404093\n",
      "12.70, 50.000000, 1877.454394, 97.405905\n",
      "12.71, 50.000000, 1868.101443, 97.393256\n",
      "12.80, 50.000000, 1875.789167, 97.403662\n",
      "12.76, 55.863018, 1872.762932, 108.489870\n",
      "12.74, 54.678864, 1869.319395, 106.249847\n",
      "12.66, 50.000000, 1872.683369, 97.399468\n",
      "12.77, 50.000000, 1872.391252, 97.399073\n",
      "12.71, 51.708260, 1872.498865, 100.637459\n",
      "12.71, 50.000000, 1873.080885, 97.400005\n",
      "12.78, 50.000000, 1876.474087, 97.404585\n",
      "12.72, 50.000000, 1877.770487, 97.406330\n",
      "12.64, 50.000000, 1859.211661, 97.381118\n",
      "12.67, 50.000000, 1875.227453, 97.402904\n",
      "12.77, 50.000000, 1875.550586, 97.403340\n",
      "12.80, 50.000000, 1877.114008, 97.405447\n",
      "12.69, 50.000000, 1878.638337, 97.407497\n",
      "12.75, 50.000000, 1872.265740, 97.398903\n",
      "12.75, 50.000000, 1882.711343, 97.412961\n",
      "12.80, 50.000000, 1871.836798, 97.398322\n",
      "12.68, 50.000000, 1872.045940, 97.398605\n",
      "12.75, 59.513519, 1878.358060, 115.371627\n",
      "12.88, 50.000000, 1873.392377, 97.400426\n",
      "12.82, 50.000000, 1872.408342, 97.399096\n",
      "12.67, 50.000000, 1873.768396, 97.400935\n",
      "12.67, 50.000000, 1875.018667, 97.402623\n",
      "12.77, 50.000000, 1875.126396, 97.402768\n",
      "12.73, 50.000000, 1877.335346, 97.405745\n",
      "12.76, 62.626045, 1875.574845, 121.205016\n",
      "12.75, 50.000000, 1877.415777, 97.405853\n",
      "12.84, 50.000000, 1876.086352, 97.404062\n",
      "12.80, 50.000000, 1878.846188, 97.407777\n",
      "12.80, 52.677082, 1877.098026, 102.478311\n",
      "12.73, 50.000000, 1870.284203, 97.396219\n",
      "12.74, 50.000000, 1874.679973, 97.402166\n",
      "12.66, 50.000000, 1864.807497, 97.388771\n",
      "12.70, 50.000000, 1874.058430, 97.401326\n",
      "12.85, 51.090694, 1876.393082, 99.472926\n",
      "12.70, 50.000000, 1876.377627, 97.404455\n",
      "12.69, 50.000000, 1870.323234, 97.396272\n",
      "12.71, 50.000000, 1870.249983, 97.396172\n",
      "12.72, 50.000000, 1876.434918, 97.404532\n",
      "12.75, 50.000000, 1876.577470, 97.404724\n",
      "12.83, 50.000000, 1883.784489, 97.414396\n",
      "12.68, 50.000000, 1876.662996, 97.404839\n",
      "12.76, 50.000000, 1869.474525, 97.395120\n",
      "12.75, 50.000000, 1874.462590, 97.401872\n",
      "12.70, 50.000000, 1870.799027, 97.396917\n",
      "12.79, 50.000000, 1873.557045, 97.400649\n",
      "12.69, 50.158524, 1874.980800, 97.703338\n",
      "12.68, 50.000000, 1866.368131, 97.390898\n",
      "12.79, 50.000000, 1877.355853, 97.405772\n",
      "12.75, 50.000000, 1870.994121, 97.397181\n",
      "12.88, 50.000000, 1876.363504, 97.404436\n",
      "12.82, 50.000000, 1870.492181, 97.396501\n",
      "12.67, 50.000000, 1871.453713, 97.397804\n",
      "12.73, 50.000000, 1870.496191, 97.396506\n"
     ]
    },
    {
     "name": "stderr",
     "output_type": "stream",
     "text": [
      "\r\n",
      "All: 100%|██████████| 1/1 [01:52<00:00, 112.82s/it]"
     ]
    },
    {
     "name": "stdout",
     "output_type": "stream",
     "text": [
      ">>> ../Data/images/00001.jpg 43.879784 1870.496191\n"
     ]
    },
    {
     "name": "stderr",
     "output_type": "stream",
     "text": [
      "\n"
     ]
    }
   ],
   "source": [
    "\n",
    "\n",
    "RUN = 2\n",
    "BIG = 25\n",
    "CUT = 50\n",
    "change = lambda X: np.array([min(max(iX, -BIG), BIG) for iX in X.astype(np.int)])\n",
    "\n",
    "for i in tqdm(range(st, ed+1), desc=\"All\"):\n",
    "    mscore = 0\n",
    "    pi = f\"{pimg}/\"+f\"00000{i}\"[-5:]+\".jpg\"\n",
    "    op = f\"{pout}/images/\"+f\"00000{i}\"[-5:]+\".jpg\"\n",
    "    tp = f\"{pout}/temp.jpg\"\n",
    "    \n",
    "    mescore = _f1(imgA=pi, imgB=pi)\n",
    "    if mescore == 0:# or os.path.exists(op):\n",
    "        print(pi, \"%.6f\"%mescore)\n",
    "        continue\n",
    "    \n",
    "    score = {}\n",
    "    \n",
    "    # \n",
    "    def _function(X):\n",
    "        X = change(X)\n",
    "        _X = X.tostring()\n",
    "        \n",
    "        if _X in score:\n",
    "            return score[_X]\n",
    "        else:\n",
    "            imgb = cv.imread(pi)\n",
    "            imgo = imgb.copy()\n",
    "            for nX, lX in enumerate(X):\n",
    "                i_group = dpl[nX]\n",
    "                imgo[i_group[0]:i_group[1], i_group[2]:i_group[3]] = \\\n",
    "                imgo[i_group[0]:i_group[1], i_group[2]:i_group[3]] - lX\n",
    "            imgo = np.clip(imgo, imgb-BIG, imgb+BIG)\n",
    "            cv.imwrite(tp, imgo)\n",
    "\n",
    "            _s1 = _f1(imgB=tp)\n",
    "            _s2 = _f2(imgA=pi, imgB=tp)\n",
    "\n",
    "            _s1 = CUT if _s1 <= CUT else _s1\n",
    "            _s2 = _s2\n",
    "            _s_ = (2*_s1*_s2)/(_s1+_s2)\n",
    "            \n",
    "            score[_X] = _s_\n",
    "                \n",
    "            print(\"%.2f, %.6f, %.6f, %.6f\" % (np.mean(np.abs(X)), _s1, _s2, _s_))\n",
    "            return _s_\n",
    "    \n",
    "    try:\n",
    "        for _ in range(100):\n",
    "            X0 = np.random.randint(-BIG, BIG+1, size=(M**2))\n",
    "            _function(X0)\n",
    "            X = X0\n",
    "        \n",
    "        # print(\"Start.\")\n",
    "        # res = minimize(_function, X0, method=\"Nelder-Mead\", options={\"xatol\": 1e-1, \"disp\": True})\n",
    "        # res = basinhopping(_function, X0, minimizer_kwargs={\"method\": \"BFGS\"}, niter=RUN)\n",
    "        # X = res.x\n",
    "    except Exception as e:\n",
    "        print(e)\n",
    "    \n",
    "    X = change(X)\n",
    "    imgb = cv.imread(pi)\n",
    "    imgo = imgb.copy()\n",
    "    for nX, lX in enumerate(X):\n",
    "        i_group = dpl[nX]\n",
    "        imgo[i_group[0]:i_group[1], i_group[2]:i_group[3]] = \\\n",
    "        imgo[i_group[0]:i_group[1], i_group[2]:i_group[3]] - lX\n",
    "    imgo = np.clip(imgo, imgb-BIG, imgb+BIG)\n",
    "    cv.imwrite(f\"{op}\", imgo)\n",
    "    print(\">>>\", pi, \"%.6f\"%_f1(imgA=f\"{pi}\", imgB=f\"{op}\"), \"%.6f\"%_f2(imgA=f\"{pi}\", imgB=f\"{op}\"))\n",
    "\n"
   ]
  },
  {
   "cell_type": "code",
   "execution_count": null,
   "metadata": {},
   "outputs": [],
   "source": [
    "\n",
    "# st, el = 1, 712\n",
    "\n",
    "# savl = []\n",
    "# for i in tqdm(range(st, el+1)):\n",
    "#     pi = f\"{pimg}/\"+f\"00000{i}\"[-5:]+\".jpg\"\n",
    "#     op = f\"{pout}/images/\"+f\"00000{i}\"[-5:]+\".jpg\"\n",
    "    \n",
    "#     if not os.path.exists(op):\n",
    "#         img = cv.imread(pi)\n",
    "#         cv.imwrite(op, img)\n",
    "#         savl.append(1)\n",
    "# print(len(savl))\n"
   ]
  },
  {
   "cell_type": "code",
   "execution_count": null,
   "metadata": {},
   "outputs": [],
   "source": [
    "# ! sh run.sh"
   ]
  },
  {
   "cell_type": "code",
   "execution_count": null,
   "metadata": {},
   "outputs": [],
   "source": [
    "# help(minimize)"
   ]
  }
 ],
 "metadata": {
  "kernelspec": {
   "display_name": "Python 3",
   "language": "python",
   "name": "python3"
  },
  "language_info": {
   "codemirror_mode": {
    "name": "ipython",
    "version": 3
   },
   "file_extension": ".py",
   "mimetype": "text/x-python",
   "name": "python",
   "nbconvert_exporter": "python",
   "pygments_lexer": "ipython3",
   "version": "3.7.0"
  }
 },
 "nbformat": 4,
 "nbformat_minor": 2
}
