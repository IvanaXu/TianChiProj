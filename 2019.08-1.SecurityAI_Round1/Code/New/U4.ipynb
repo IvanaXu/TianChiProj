{
 "cells": [
  {
   "cell_type": "code",
   "execution_count": 1,
   "metadata": {
    "uuid": "0071fa90-c1b6-4e2c-b92d-33ad90a3ce92"
   },
   "outputs": [],
   "source": [
    "import os\n",
    "import random\n",
    "import foolbox as fb\n",
    "import numpy as np\n",
    "import cv2 as cv\n"
   ]
  },
  {
   "cell_type": "code",
   "execution_count": 2,
   "metadata": {
    "uuid": "f649ece9-0e79-42b5-b816-72891daeda48"
   },
   "outputs": [],
   "source": [
    "import tensorflow as tf\n",
    "from tensorflow import keras\n",
    "keras_model_path = \"../outs/model\"\n",
    "model = tf.keras.models.load_model(keras_model_path)\n"
   ]
  },
  {
   "cell_type": "code",
   "execution_count": 3,
   "metadata": {
    "uuid": "c34d7c55-ec60-448b-b358-5b3d856b13fa"
   },
   "outputs": [
    {
     "name": "stdout",
     "output_type": "stream",
     "text": [
      "WARNING:tensorflow:From /home/admin/.local/lib/python3.6/site-packages/foolbox/models/tensorflow.py:13: is_gpu_available (from tensorflow.python.framework.test_util) is deprecated and will be removed in a future version.\n",
      "Instructions for updating:\n",
      "Use `tf.config.list_physical_devices('GPU')` instead.\n"
     ]
    }
   ],
   "source": [
    "fmodel = fb.TensorFlowModel(\n",
    "    model, \n",
    "    bounds=(0, 255), \n",
    "    preprocessing=dict(flip_axis=-1, mean=[104.0, 116.0, 123.0])\n",
    ")"
   ]
  },
  {
   "cell_type": "code",
   "execution_count": 4,
   "metadata": {
    "uuid": "0ad753a7-bf56-4aac-bd03-347325ffc3b8"
   },
   "outputs": [
    {
     "data": {
      "text/plain": [
       "<foolbox.models.tensorflow.TensorFlowModel at 0x7fcaf44d8f98>"
      ]
     },
     "execution_count": 4,
     "metadata": {},
     "output_type": "execute_result"
    }
   ],
   "source": [
    "fmodel = fmodel.transform_bounds((0, 1))\n",
    "fmodel"
   ]
  },
  {
   "cell_type": "code",
   "execution_count": 5,
   "metadata": {
    "uuid": "8c0af97d-576e-4a7e-8353-f4aab58594e2"
   },
   "outputs": [],
   "source": [
    "data_dir = \"../outs/comprs1/\""
   ]
  },
  {
   "cell_type": "code",
   "execution_count": 19,
   "metadata": {
    "uuid": "0ae6d0c3-0184-431b-af27-19d025946d41"
   },
   "outputs": [
    {
     "data": {
      "text/plain": [
       "<tf.Tensor: shape=(2,), dtype=float32, numpy=array([0.7900544 , 0.20994562], dtype=float32)>"
      ]
     },
     "execution_count": 19,
     "metadata": {},
     "output_type": "execute_result"
    }
   ],
   "source": [
    "\n",
    "img_height = 112\n",
    "img_width = 112*2\n",
    "img = keras.preprocessing.image.load_img(\n",
    "    f\"{data_dir}/like/\"+random.choice(os.listdir(f\"{data_dir}/like\")), target_size=(img_height, img_width)\n",
    ")\n",
    "img_array = keras.preprocessing.image.img_to_array(img)\n",
    "img_array = tf.expand_dims(img_array, 0) # Create a batch\n",
    "\n",
    "predictions = model.predict(img_array)\n",
    "score = tf.nn.softmax(predictions[0])\n",
    "\n",
    "score\n"
   ]
  },
  {
   "cell_type": "code",
   "execution_count": 20,
   "metadata": {
    "uuid": "f8be9d8a-b60f-4456-8fc3-7e53c24b1317"
   },
   "outputs": [
    {
     "name": "stdout",
     "output_type": "stream",
     "text": [
      "1.0 1.0 0.0\n"
     ]
    }
   ],
   "source": [
    "\n",
    "labels = tf.constant([0])\n",
    "target_classes = tf.constant([1])\n",
    "images = img_array\n",
    "\n",
    "criterion = fb.criteria.TargetedMisclassification(target_classes)\n",
    "\n",
    "attack = fb.attacks.L2CarliniWagnerAttack(steps=100)\n",
    "\n",
    "advs, _, is_adv = attack(fmodel, images, criterion, epsilons=None)\n",
    "\n",
    "print(\n",
    "    fb.utils.accuracy(fmodel, images, labels),\n",
    "    fb.utils.accuracy(fmodel, advs, labels),\n",
    "    fb.utils.accuracy(fmodel, advs, target_classes)\n",
    ")\n"
   ]
  },
  {
   "cell_type": "code",
   "execution_count": 21,
   "metadata": {
    "uuid": "ec80fbdc-d0c1-4f34-85ed-2a842380c085"
   },
   "outputs": [
    {
     "data": {
      "text/plain": [
       "True"
      ]
     },
     "execution_count": 21,
     "metadata": {},
     "output_type": "execute_result"
    }
   ],
   "source": [
    "\n",
    "img = np.transpose(advs[0].cpu().numpy(), (0,1,2)) * 255\n",
    "cv.imwrite(\"../temp/bads.jpg\", img)\n"
   ]
  },
  {
   "cell_type": "code",
   "execution_count": 22,
   "metadata": {
    "uuid": "a86d60e9-a789-4cb9-8fda-cfb19bfb3a5b"
   },
   "outputs": [
    {
     "data": {
      "text/plain": [
       "0.0"
      ]
     },
     "execution_count": 22,
     "metadata": {},
     "output_type": "execute_result"
    }
   ],
   "source": [
    "np.max(advs)"
   ]
  },
  {
   "cell_type": "code",
   "execution_count": null,
   "metadata": {
    "uuid": "e50eed06-dc71-46b3-8388-1f89f7e70487"
   },
   "outputs": [],
   "source": []
  },
  {
   "cell_type": "code",
   "execution_count": null,
   "metadata": {
    "uuid": "7b76be2c-dc20-4f4f-82b3-f64c249c1db3"
   },
   "outputs": [],
   "source": []
  }
 ],
 "metadata": {
  "kernelspec": {
   "display_name": "Python 3",
   "language": "python",
   "name": "python3"
  },
  "language_info": {
   "codemirror_mode": {
    "name": "ipython",
    "version": 3
   },
   "file_extension": ".py",
   "mimetype": "text/x-python",
   "name": "python",
   "nbconvert_exporter": "python",
   "pygments_lexer": "ipython3",
   "version": "3.6.4"
  }
 },
 "nbformat": 4,
 "nbformat_minor": 2
}
