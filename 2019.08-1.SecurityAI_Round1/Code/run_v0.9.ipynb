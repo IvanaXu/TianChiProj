{
 "cells": [
  {
   "cell_type": "code",
   "execution_count": 1,
   "metadata": {},
   "outputs": [],
   "source": [
    "\n",
    "import os\n",
    "import dlib\n",
    "import time\n",
    "import cv2 as cv\n",
    "import numpy as np\n",
    "from mtcnn.mtcnn import MTCNN\n",
    "import face_recognition as facer\n",
    "from tqdm import tnrange\n"
   ]
  },
  {
   "cell_type": "code",
   "execution_count": 2,
   "metadata": {},
   "outputs": [],
   "source": [
    "pNum = \"T000001\"\n",
    "\n",
    "proj = \"..\"\n",
    "pimg = f\"{proj}/Data/images\"\n",
    "pmdl = f\"{proj}/Model\"\n",
    "pout = f\"{proj}/Out/{pNum}\"\n"
   ]
  },
  {
   "cell_type": "code",
   "execution_count": 3,
   "metadata": {},
   "outputs": [
    {
     "name": "stdout",
     "output_type": "stream",
     "text": [
      "CPU times: user 117 ms, sys: 11.9 ms, total: 129 ms\n",
      "Wall time: 132 ms\n"
     ]
    }
   ],
   "source": [
    "modelv = \"_81\"\n",
    "detector = dlib.get_frontal_face_detector()\n",
    "%time predictor = dlib.shape_predictor(f\"{pmdl}/shape_predictor{modelv}_face_landmarks.dat\")\n"
   ]
  },
  {
   "cell_type": "code",
   "execution_count": 4,
   "metadata": {},
   "outputs": [],
   "source": [
    "#\n",
    "st, el = 1, 712\n"
   ]
  },
  {
   "cell_type": "code",
   "execution_count": 5,
   "metadata": {},
   "outputs": [
    {
     "name": "stdout",
     "output_type": "stream",
     "text": [
      "(16, 112, 19, 102) (0, 112, 0, 112)\n",
      "CPU times: user 7.32 ms, sys: 296 µs, total: 7.61 ms\n",
      "Wall time: 7.37 ms\n"
     ]
    },
    {
     "data": {
      "text/plain": [
       "(16, 112, 19, 102)"
      ]
     },
     "execution_count": 5,
     "metadata": {},
     "output_type": "execute_result"
    }
   ],
   "source": [
    "\n",
    "def f_xy(images):\n",
    "    min_y, max_y, min_x, max_x = 112, 0, 112, 0\n",
    "    cv_face = detector(cv.cvtColor(images, cv.COLOR_BGR2GRAY), 1)\n",
    "    if cv_face:\n",
    "        for face in cv_face:\n",
    "            shape = predictor(images, face)\n",
    "            for pt in shape.parts():\n",
    "                min_y, max_y = min(pt.y, min_y), max(pt.y, max_y)\n",
    "                min_x, max_x = min(pt.x, min_x), max(pt.x, max_x)\n",
    "    else:\n",
    "        min_y, max_y, min_x, max_x = 0, 112, 0, 112\n",
    "    \n",
    "    min_y, max_y, min_x, max_x = max(min_y,0), min(max_y,112), max(min_x,0), min(max_x,112)\n",
    "    return min_y, max_y, min_x, max_x\n",
    "\n",
    "print(\n",
    "    f_xy(cv.imread(f\"{pimg}/00001.jpg\")), \n",
    "    f_xy(cv.imread(f\"{pimg}/00003.jpg\"))\n",
    ")\n",
    "%time f_xy(cv.imread(f\"{pimg}/00001.jpg\"))\n"
   ]
  },
  {
   "cell_type": "code",
   "execution_count": 6,
   "metadata": {},
   "outputs": [
    {
     "name": "stdout",
     "output_type": "stream",
     "text": [
      "CPU times: user 169 ms, sys: 13.6 ms, total: 182 ms\n",
      "Wall time: 190 ms\n",
      "WARNING:tensorflow:5 out of the last 8 calls to <function Model.make_predict_function.<locals>.predict_function at 0x7f8de394c378> triggered tf.function retracing. Tracing is expensive and the excessive number of tracings could be due to (1) creating @tf.function repeatedly in a loop, (2) passing tensors with different shapes, (3) passing Python objects instead of tensors. For (1), please define your @tf.function outside of the loop. For (2), @tf.function has experimental_relax_shapes=True option that relaxes argument shapes that can avoid unnecessary retracing. For (3), please refer to https://www.tensorflow.org/tutorials/customization/performance#python_or_tensor_args and https://www.tensorflow.org/api_docs/python/tf/function for  more details.\n",
      "(17, 112, 14, 99) (14, 111, 2, 80) (0, 112, 0, 112)\n",
      "CPU times: user 205 ms, sys: 7.58 ms, total: 213 ms\n",
      "Wall time: 200 ms\n"
     ]
    },
    {
     "data": {
      "text/plain": [
       "(17, 112, 14, 99)"
      ]
     },
     "execution_count": 6,
     "metadata": {},
     "output_type": "execute_result"
    }
   ],
   "source": [
    "%time dmtcnn = MTCNN()\n",
    "\n",
    "def f_xy_mtcnn(images):\n",
    "    rdetector = dmtcnn.detect_faces(images)\n",
    "    min_y, max_y, min_x, max_x = 112, 0, 112, 0\n",
    "    if rdetector:\n",
    "        x, y, w, h = rdetector[0][\"box\"]\n",
    "        min_y, max_y, min_x, max_x = y, y+h, x, x+w\n",
    "    else:\n",
    "        min_y, max_y, min_x, max_x = 0, 112, 0, 112\n",
    "        \n",
    "    min_y, max_y, min_x, max_x = max(min_y,0), min(max_y,112), max(min_x,0), min(max_x,112)\n",
    "    return min_y, max_y, min_x, max_x\n",
    "\n",
    "print(\n",
    "    f_xy_mtcnn(cv.imread(f\"{pimg}/00001.jpg\")), \n",
    "    f_xy_mtcnn(cv.imread(f\"{pimg}/00003.jpg\")),\n",
    "    f_xy_mtcnn(cv.imread(f\"{pimg}/00489.jpg\"))\n",
    ")\n",
    "%time f_xy_mtcnn(cv.imread(f\"{pimg}/00001.jpg\"))\n"
   ]
  },
  {
   "cell_type": "code",
   "execution_count": 7,
   "metadata": {},
   "outputs": [
    {
     "name": "stdout",
     "output_type": "stream",
     "text": [
      "(36, 112, 19, 102) (0, 112, 0, 112) (0, 112, 0, 112)\n",
      "CPU times: user 8.78 ms, sys: 281 µs, total: 9.07 ms\n",
      "Wall time: 9.1 ms\n"
     ]
    },
    {
     "data": {
      "text/plain": [
       "(38, 112, 0, 86)"
      ]
     },
     "execution_count": 7,
     "metadata": {},
     "output_type": "execute_result"
    }
   ],
   "source": [
    "\n",
    "def f_xy_facer(images):\n",
    "    result = facer.face_landmarks(images)\n",
    "    min_y, max_y, min_x, max_x = 112, 0, 112, 0\n",
    "    if result:\n",
    "        resultl = []\n",
    "        for ir in result[0].values():\n",
    "            resultl += ir\n",
    "        for ir in resultl:\n",
    "            min_y, max_y = min(ir[1], min_y), max(ir[1], max_y)\n",
    "            min_x, max_x = min(ir[0], min_x), max(ir[0], max_x)\n",
    "    else:\n",
    "        min_y, max_y, min_x, max_x = 0, 112, 0, 112\n",
    "    \n",
    "    min_y, max_y, min_x, max_x = max(min_y,0), min(max_y,112), max(min_x,0), min(max_x,112)\n",
    "    return min_y, max_y, min_x, max_x\n",
    "\n",
    "print(\n",
    "    f_xy_facer(cv.imread(f\"{pimg}/00001.jpg\")), \n",
    "    f_xy_facer(cv.imread(f\"{pimg}/00003.jpg\")),\n",
    "    f_xy_facer(cv.imread(f\"{pimg}/00489.jpg\"))\n",
    ")\n",
    "%time f_xy_facer(cv.imread(f\"{pimg}/00004.jpg\"))\n"
   ]
  },
  {
   "cell_type": "code",
   "execution_count": 8,
   "metadata": {},
   "outputs": [
    {
     "data": {
      "text/plain": [
       "0"
      ]
     },
     "execution_count": 8,
     "metadata": {},
     "output_type": "execute_result"
    }
   ],
   "source": [
    "os.system(f\"rm -rf {pout}/images/*\")"
   ]
  },
  {
   "cell_type": "code",
   "execution_count": 9,
   "metadata": {},
   "outputs": [
    {
     "name": "stdout",
     "output_type": "stream",
     "text": [
      "SAME:    0.0000\n",
      "DIFF: 1974.1583\n",
      "DIFF: 1993.6366\n",
      "CPU times: user 480 µs, sys: 136 µs, total: 616 µs\n",
      "Wall time: 496 µs\n"
     ]
    },
    {
     "data": {
      "text/plain": [
       "1974.1583016566833"
      ]
     },
     "execution_count": 9,
     "metadata": {},
     "output_type": "execute_result"
    }
   ],
   "source": [
    "\n",
    "#\n",
    "def f_lf1(img1, img2):\n",
    "    img1, img2 = cv.imread(img1), cv.imread(img2)\n",
    "    return np.sqrt(np.sum(np.square(img1 - img2)))\n",
    "\n",
    "print(\"SAME: %9.4f\" % f_lf1(f\"{pimg}/00001.jpg\", f\"{pimg}/00001.jpg\"))\n",
    "print(\"DIFF: %9.4f\" % f_lf1(f\"{pimg}/00001.jpg\", f\"{pimg}/00002.jpg\"))\n",
    "print(\"DIFF: %9.4f\" % f_lf1(f\"{pimg}/00001.jpg\", f\"{pimg}/00406.jpg\"))\n",
    "\n",
    "%time f_lf1(f\"{pimg}/00001.jpg\", f\"{pimg}/00002.jpg\")\n"
   ]
  },
  {
   "cell_type": "code",
   "execution_count": 10,
   "metadata": {},
   "outputs": [
    {
     "name": "stdout",
     "output_type": "stream",
     "text": [
      "False\n",
      "CPU times: user 13.4 ms, sys: 602 µs, total: 14 ms\n",
      "Wall time: 13.6 ms\n",
      "False\n",
      "CPU times: user 14.5 ms, sys: 480 µs, total: 15 ms\n",
      "Wall time: 14.9 ms\n"
     ]
    }
   ],
   "source": [
    "\n",
    "#\n",
    "def _score(fimg):\n",
    "    _img = cv.imread(fimg)\n",
    "    result1 = facer.face_landmarks(_img)\n",
    "    result2 = detector(cv.cvtColor(_img, cv.COLOR_BGR2GRAY), 1)\n",
    "    \n",
    "    if result1 or result2:\n",
    "        return False\n",
    "    else:\n",
    "        return True\n",
    "\n",
    "%time print(_score(f\"{pimg}/00001.jpg\"))\n",
    "%time print(_score(f\"{pimg}/00002.jpg\"))\n"
   ]
  },
  {
   "cell_type": "code",
   "execution_count": 11,
   "metadata": {},
   "outputs": [
    {
     "data": {
      "application/vnd.jupyter.widget-view+json": {
       "model_id": "20d1b10855934b0498e302624a37b094",
       "version_major": 2,
       "version_minor": 0
      },
      "text/plain": [
       "HBox(children=(IntProgress(value=0, max=712), HTML(value='')))"
      ]
     },
     "metadata": {},
     "output_type": "display_data"
    },
    {
     "name": "stdout",
     "output_type": "stream",
     "text": [
      "\n"
     ]
    },
    {
     "data": {
      "text/plain": [
       "16"
      ]
     },
     "execution_count": 11,
     "metadata": {},
     "output_type": "execute_result"
    }
   ],
   "source": [
    "#\n",
    "badl = []\n",
    "for i in tnrange(st, el+1):\n",
    "    pi = f\"{pimg}/\"+f\"00000{i}\"[-5:]+\".jpg\"\n",
    "    if _score(pi):\n",
    "        badl.append(i)\n",
    "len(badl)\n"
   ]
  },
  {
   "cell_type": "code",
   "execution_count": 12,
   "metadata": {},
   "outputs": [
    {
     "data": {
      "application/vnd.jupyter.widget-view+json": {
       "model_id": "9601a054034147408289f61a53dd233d",
       "version_major": 2,
       "version_minor": 0
      },
      "text/plain": [
       "HBox(children=(IntProgress(value=0, max=712), HTML(value='')))"
      ]
     },
     "metadata": {},
     "output_type": "display_data"
    },
    {
     "name": "stdout",
     "output_type": "stream",
     "text": [
      "\n"
     ]
    },
    {
     "data": {
      "text/plain": [
       "712"
      ]
     },
     "execution_count": 12,
     "metadata": {},
     "output_type": "execute_result"
    }
   ],
   "source": [
    "\n",
    "#\n",
    "savl = []\n",
    "for i in tnrange(st, el+1):\n",
    "    pi = f\"{pimg}/\"+f\"00000{i}\"[-5:]+\".jpg\"\n",
    "    op = f\"{pout}/images/\"+f\"00000{i}\"[-5:]+\".jpg\"\n",
    "    \n",
    "    if not os.path.exists(op):\n",
    "        img = cv.imread(pi)\n",
    "        cv.imwrite(op, img)\n",
    "        savl.append(1)\n",
    "len(savl)\n"
   ]
  },
  {
   "cell_type": "code",
   "execution_count": null,
   "metadata": {},
   "outputs": [],
   "source": []
  }
 ],
 "metadata": {
  "kernelspec": {
   "display_name": "Python 3",
   "language": "python",
   "name": "python3"
  },
  "language_info": {
   "codemirror_mode": {
    "name": "ipython",
    "version": 3
   },
   "file_extension": ".py",
   "mimetype": "text/x-python",
   "name": "python",
   "nbconvert_exporter": "python",
   "pygments_lexer": "ipython3",
   "version": "3.7.0"
  }
 },
 "nbformat": 4,
 "nbformat_minor": 2
}
