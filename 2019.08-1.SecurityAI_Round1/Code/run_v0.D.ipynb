{
 "cells": [
  {
   "cell_type": "code",
   "execution_count": 1,
   "metadata": {},
   "outputs": [],
   "source": [
    "\n",
    "import os\n",
    "import time\n",
    "import oss2\n",
    "import json\n",
    "\n",
    "import cv2 as cv\n",
    "import numpy as np\n",
    "from tqdm import tqdm\n",
    "from sko.GA import GA\n",
    "\n",
    "from aliyunsdkcore.client import AcsClient\n",
    "from aliyunsdkcore.acs_exception.exceptions import ClientException\n",
    "from aliyunsdkcore.acs_exception.exceptions import ServerException\n",
    "from aliyunsdkfacebody.request.v20191230.CompareFaceRequest import CompareFaceRequest\n"
   ]
  },
  {
   "cell_type": "code",
   "execution_count": 2,
   "metadata": {},
   "outputs": [],
   "source": [
    "\n",
    "access_key_id = os.getenv('OSS_TEST_ACCESS_KEY_ID', '')\n",
    "access_key_secret = os.getenv('OSS_TEST_ACCESS_KEY_SECRET', '')\n",
    "bucket_name = os.getenv('OSS_TEST_BUCKET', 'ivan-bucket-out-002')\n",
    "endpoint = os.getenv('OSS_TEST_ENDPOINT', 'oss-cn-shanghai.aliyuncs.com')\n",
    "\n",
    "bucket = oss2.Bucket(oss2.Auth(access_key_id, access_key_secret), endpoint, bucket_name)\n",
    "\n",
    "client = AcsClient(access_key_id, access_key_secret, 'cn-shanghai')\n"
   ]
  },
  {
   "cell_type": "code",
   "execution_count": 3,
   "metadata": {},
   "outputs": [],
   "source": [
    "\n",
    "#\n",
    "def _f1(imgA=None, imgB=None, Rect=None):\n",
    "    while True:\n",
    "        try:\n",
    "            time.sleep(0.68)\n",
    "            if imgA:\n",
    "                oss2.resumable_upload(bucket, 'imgA.jpg', imgA)\n",
    "            if imgB:\n",
    "                oss2.resumable_upload(bucket, 'imgB.jpg', imgB)\n",
    "\n",
    "            request = CompareFaceRequest()\n",
    "            request.set_accept_format('json')\n",
    "\n",
    "            request.set_ImageURLA(f\"https://{bucket_name}.{endpoint}/imgA.jpg\")\n",
    "            request.set_ImageURLB(f\"https://{bucket_name}.{endpoint}/imgB.jpg\")\n",
    "\n",
    "            response = client.do_action_with_exception(request)\n",
    "            \n",
    "            if Rect:\n",
    "                return json.loads(response)[\"Data\"][\"Confidence\"], json.loads(response)[\"Data\"][\"RectAList\"]\n",
    "            else:\n",
    "                return json.loads(response)[\"Data\"][\"Confidence\"]\n",
    "        except Exception as e:\n",
    "            print(e)\n",
    "\n",
    "#\n",
    "def _f2(imgA, imgB):\n",
    "    imgA, imgB = cv.imread(imgA), cv.imread(imgB)\n",
    "    return np.sqrt(np.sum(np.square(imgA - imgB)))\n"
   ]
  },
  {
   "cell_type": "code",
   "execution_count": 4,
   "metadata": {},
   "outputs": [
    {
     "name": "stdout",
     "output_type": "stream",
     "text": [
      "CPU times: user 59.7 ms, sys: 23.9 ms, total: 83.7 ms\n",
      "Wall time: 1.15 s\n"
     ]
    },
    {
     "data": {
      "text/plain": [
       "100.0"
      ]
     },
     "execution_count": 4,
     "metadata": {},
     "output_type": "execute_result"
    }
   ],
   "source": [
    "%time _f1(imgA='../Data/Z0.jpg', imgB='../Data/Z0.jpg')"
   ]
  },
  {
   "cell_type": "code",
   "execution_count": null,
   "metadata": {},
   "outputs": [],
   "source": []
  },
  {
   "cell_type": "code",
   "execution_count": 5,
   "metadata": {},
   "outputs": [
    {
     "name": "stdout",
     "output_type": "stream",
     "text": [
      "CPU times: user 6.31 ms, sys: 2.02 ms, total: 8.33 ms\n",
      "Wall time: 1.09 s\n"
     ]
    },
    {
     "data": {
      "text/plain": [
       "(100.0, [19, 22, 77, 89])"
      ]
     },
     "execution_count": 5,
     "metadata": {},
     "output_type": "execute_result"
    }
   ],
   "source": [
    "%time _f1(imgA='../Data/Z0.jpg', Rect=1)"
   ]
  },
  {
   "cell_type": "code",
   "execution_count": 6,
   "metadata": {},
   "outputs": [
    {
     "name": "stdout",
     "output_type": "stream",
     "text": [
      "CPU times: user 5 ms, sys: 1.65 ms, total: 6.65 ms\n",
      "Wall time: 953 ms\n"
     ]
    },
    {
     "data": {
      "text/plain": [
       "100.0"
      ]
     },
     "execution_count": 6,
     "metadata": {},
     "output_type": "execute_result"
    }
   ],
   "source": [
    "%time _f1(imgA='../Data/Z0.jpg')"
   ]
  },
  {
   "cell_type": "code",
   "execution_count": 7,
   "metadata": {},
   "outputs": [
    {
     "name": "stdout",
     "output_type": "stream",
     "text": [
      "CPU times: user 7.77 ms, sys: 2.22 ms, total: 9.99 ms\n",
      "Wall time: 986 ms\n"
     ]
    },
    {
     "data": {
      "text/plain": [
       "45.32559585571289"
      ]
     },
     "execution_count": 7,
     "metadata": {},
     "output_type": "execute_result"
    }
   ],
   "source": [
    "%time _f1(imgA='../Data/Z0.jpg', imgB='../Data/Z1.jpg')"
   ]
  },
  {
   "cell_type": "code",
   "execution_count": 8,
   "metadata": {},
   "outputs": [
    {
     "name": "stdout",
     "output_type": "stream",
     "text": [
      "CPU times: user 8.61 ms, sys: 2.62 ms, total: 11.2 ms\n",
      "Wall time: 1.23 s\n"
     ]
    },
    {
     "data": {
      "text/plain": [
       "0.0"
      ]
     },
     "execution_count": 8,
     "metadata": {},
     "output_type": "execute_result"
    }
   ],
   "source": [
    "%time _f1(imgA='../Data/bad.png', imgB='../Data/bad.png')"
   ]
  },
  {
   "cell_type": "code",
   "execution_count": 9,
   "metadata": {},
   "outputs": [
    {
     "name": "stdout",
     "output_type": "stream",
     "text": [
      "CPU times: user 1.61 ms, sys: 1.76 ms, total: 3.38 ms\n",
      "Wall time: 1.74 ms\n"
     ]
    },
    {
     "data": {
      "text/plain": [
       "768.1659976853962"
      ]
     },
     "execution_count": 9,
     "metadata": {},
     "output_type": "execute_result"
    }
   ],
   "source": [
    "%time _f2(imgA='../Data/Z0.jpg', imgB='../Data/Z1.jpg')"
   ]
  },
  {
   "cell_type": "code",
   "execution_count": 10,
   "metadata": {},
   "outputs": [
    {
     "name": "stdout",
     "output_type": "stream",
     "text": [
      "CPU times: user 1.34 ms, sys: 1.38 ms, total: 2.72 ms\n",
      "Wall time: 1.27 ms\n"
     ]
    },
    {
     "data": {
      "text/plain": [
       "0.0"
      ]
     },
     "execution_count": 10,
     "metadata": {},
     "output_type": "execute_result"
    }
   ],
   "source": [
    "%time _f2(imgA='../Data/Z0.jpg', imgB='../Data/Z0.jpg')"
   ]
  },
  {
   "cell_type": "code",
   "execution_count": 11,
   "metadata": {},
   "outputs": [
    {
     "data": {
      "text/plain": [
       "0"
      ]
     },
     "execution_count": 11,
     "metadata": {},
     "output_type": "execute_result"
    }
   ],
   "source": [
    "\n",
    "pNum = \"T000001\"\n",
    "\n",
    "proj = \"..\"\n",
    "pimg = f\"{proj}/Data/images\"\n",
    "pmdl = f\"{proj}/Model\"\n",
    "pout = f\"{proj}/Out/{pNum}\"\n",
    "\n",
    "os.system(f\"rm -rf {pout}/temp*\")\n",
    "os.system(f\"rm -rf {pout}/images/*\")\n"
   ]
  },
  {
   "cell_type": "code",
   "execution_count": 12,
   "metadata": {},
   "outputs": [],
   "source": [
    "# ! rm -rf ../Out/T000001/images/*"
   ]
  },
  {
   "cell_type": "code",
   "execution_count": 13,
   "metadata": {},
   "outputs": [],
   "source": [
    "\n",
    "st, ed = 1, 1\n",
    "N, _N, M = 112, 128, 2# [2, 4, 8, 16, 32, 64, 128]\n",
    "# N, _N, M = 112, 112, 112\n",
    "S = M**2*3\n",
    "\n",
    "pl = lambda x: sorted(\n",
    "    [\n",
    "        (i-_N//x, i, j-_N//x, j, k)\n",
    "        for j in range(0, _N+1, _N//x) if j > 0\n",
    "        for i in range(0, _N+1, _N//x) if i > 0\n",
    "        for k in range(3)\n",
    "     ]\n",
    ")\n",
    "dpl = pl(M)\n"
   ]
  },
  {
   "cell_type": "code",
   "execution_count": 15,
   "metadata": {
    "scrolled": false
   },
   "outputs": [
    {
     "name": "stderr",
     "output_type": "stream",
     "text": [
      "\n",
      "All:   0%|          | 0/1 [00:00<?, ?it/s]\u001b[A"
     ]
    },
    {
     "name": "stdout",
     "output_type": "stream",
     "text": [
      "99.99996185302734 17 111 19 103\n"
     ]
    },
    {
     "name": "stderr",
     "output_type": "stream",
     "text": [
      "/Users/ivan/Desktop/ALL/Soft/python3/lib/python3.7/site-packages/sko/GA.py:179: RuntimeWarning: invalid value encountered in true_divide\n",
      "  return (b * mask).sum(axis=1) / mask.sum()\n",
      "/Users/ivan/Desktop/ALL/Soft/python3/lib/python3.7/site-packages/sko/GA.py:193: RuntimeWarning: invalid value encountered in greater\n",
      "  X = np.where(X > self.ub, self.ub, X)\n"
     ]
    },
    {
     "name": "stdout",
     "output_type": "stream",
     "text": [
      "Min:84.50, Avg:nan, S1:84.503777, S2:2018.239579, SC:84.503777\n",
      "Min:84.00, Avg:nan, S1:83.995590, S2:1567.581258, SC:83.995590\n",
      "Min:83.94, Avg:nan, S1:83.936256, S2:1624.214887, SC:83.936256\n",
      "Min:83.94, Avg:nan, S1:84.459381, S2:2037.919037, SC:84.459381\n",
      "Min:83.10, Avg:nan, S1:83.096115, S2:1879.240538, SC:83.096115\n",
      "Min:83.10, Avg:nan, S1:84.583038, S2:1744.564989, SC:84.583038\n",
      "Min:83.10, Avg:nan, S1:83.415085, S2:1652.683878, SC:83.415085\n",
      "Min:83.10, Avg:nan, S1:84.068680, S2:1639.848164, SC:84.068680\n",
      "Min:83.10, Avg:nan, S1:83.794914, S2:1847.462855, SC:83.794914\n",
      "Min:83.10, Avg:nan, S1:83.402946, S2:1865.752127, SC:83.402946\n",
      "Min:83.10, Avg:nan, S1:85.272392, S2:1636.832612, SC:85.272392\n",
      "Min:83.10, Avg:nan, S1:84.546555, S2:1689.517683, SC:84.546555\n",
      "Min:83.10, Avg:nan, S1:83.285149, S2:1727.783262, SC:83.285149\n",
      "Min:82.07, Avg:nan, S1:82.069321, S2:1643.760932, SC:82.069321\n",
      "Min:82.07, Avg:nan, S1:83.316734, S2:1589.092508, SC:83.316734\n",
      "Min:82.07, Avg:nan, S1:83.140511, S2:1883.549840, SC:83.140511\n",
      "Min:82.07, Avg:nan, S1:83.332565, S2:1789.481489, SC:83.332565\n",
      "Min:82.07, Avg:nan, S1:84.114624, S2:1698.646226, SC:84.114624\n",
      "Min:82.07, Avg:nan, S1:84.057137, S2:1753.858888, SC:84.057137\n"
     ]
    },
    {
     "name": "stderr",
     "output_type": "stream",
     "text": [
      "\n",
      "All: 100%|██████████| 1/1 [00:20<00:00, 20.24s/it]\u001b[A\n",
      "\u001b[A"
     ]
    },
    {
     "name": "stdout",
     "output_type": "stream",
     "text": [
      "Min:82.07, Avg:nan, S1:83.482719, S2:1622.078605, SC:83.482719\n"
     ]
    }
   ],
   "source": [
    "\n",
    "RUN = 2\n",
    "BIG = 25\n",
    "CUT = 50\n",
    "\n",
    "for i in tqdm(range(st, ed+1), desc=\"All\"):\n",
    "    mscore = 0\n",
    "    pi = f\"{pimg}/\"+f\"00000{i}\"[-5:]+\".jpg\"\n",
    "    op = f\"{pout}/images/\"+f\"00000{i}\"[-5:]+\".jpg\"\n",
    "    tp = f\"{pout}/temp.jpg\"\n",
    "    \n",
    "    mescore, [x, y, w, h] = _f1(imgA=pi, imgB=pi, Rect=1)\n",
    "    min_y, max_y, min_x, max_x = y, y+h, x, x+w\n",
    "    print(mescore, min_y, max_y, min_x, max_x)\n",
    "    if mescore == 0:# or os.path.exists(op):\n",
    "        print(pi, \"%.6f\"%mescore)\n",
    "        continue\n",
    "    \n",
    "    imgb = cv.imread(pi)\n",
    "    score = {}\n",
    "    scmin = [99999]\n",
    "    # \n",
    "    def _function(X):\n",
    "        _X = X.tostring()\n",
    "        \n",
    "        if _X in score:\n",
    "            return score[_X]\n",
    "        else:\n",
    "            imgo1 = imgb.copy()\n",
    "            imgo2 = imgb.copy()\n",
    "            for nX, lX in enumerate(X):\n",
    "                idpl = dpl[nX]\n",
    "                imgo1[idpl[0]:idpl[1], idpl[2]:idpl[3], idpl[4]] = \\\n",
    "                imgo1[idpl[0]:idpl[1], idpl[2]:idpl[3], idpl[4]] + lX\n",
    "            # imgo2[min_y:max_y, min_x:max_x] = imgo1[min_y:max_y, min_x:max_x]\n",
    "            cv.imwrite(tp, imgo1)\n",
    "            \n",
    "            _s1 = _f1(imgB=tp)\n",
    "            _s2 = _f2(imgA=pi, imgB=tp)\n",
    "\n",
    "            _s1 = CUT if _s1 <= CUT else _s1\n",
    "            _s2 = _s2\n",
    "            _s_ = (2*_s1*_s2)/(_s1+_s2)\n",
    "            _s_ = _s1\n",
    "            \n",
    "            if _s_ < min(scmin):\n",
    "                scmin.append(_s_)\n",
    "            score[_X] = _s_\n",
    "            \n",
    "            print(\"Min:%.2f, Avg:%.6f, S1:%.6f, S2:%.6f, SC:%.6f\" % (min(scmin), np.mean(np.abs(X)), _s1, _s2, _s_))\n",
    "            return _s_\n",
    "    \n",
    "    try:\n",
    "        _lb, _ub = [], []\n",
    "        for nX, lX in enumerate([1 for _ in range(S)]):\n",
    "            idpl = dpl[nX]\n",
    "            try:\n",
    "                _min = np.min(imgb[idpl[0]:idpl[1], idpl[2]:idpl[3], idpl[4]])\n",
    "                _max = np.max(imgb[idpl[0]:idpl[1], idpl[2]:idpl[3], idpl[4]])\n",
    "                _min = max(_min-BIG, 0) - _min\n",
    "                _max = min(_max+BIG, 255) - _max\n",
    "            except:\n",
    "                _min = 0\n",
    "                _max = 1\n",
    "            _lb.append(_min)\n",
    "            _ub.append(_max)\n",
    "        # print(_lb, _ub)\n",
    "        \n",
    "        \"\"\"\n",
    "        入参|默认值|意义\n",
    "        func|-|目标函数\n",
    "        n_dim|-|目标函数的维度\n",
    "        size_pop|50|种群规模\n",
    "        max_iter|200|最大迭代次数\n",
    "        prob_mut|0.001|变异概率\n",
    "        lb|-1|每个参数的最小值\n",
    "        ub|1|每个参数的最大值\n",
    "        constraint_eq|空元组|线性约束\n",
    "        constraint_ueq|空元组|非线性约束\n",
    "        precision|1e-7|精准度，int/float或者它们组成的列表\n",
    "        \"\"\"\n",
    "        # from sko.DE import DE as GA\n",
    "        ga = GA(\n",
    "            func=_function,\n",
    "            n_dim=S,\n",
    "            size_pop=10,\n",
    "            max_iter=RUN,\n",
    "            prob_mut=0.1,\n",
    "            lb=_lb, \n",
    "            ub=_ub,\n",
    "            precision=[1 for _ in range(S)]\n",
    "        )\n",
    "        best_x, best_y = ga.run()\n",
    "        # ga.Chrom = np.random.randint(0, 1, size=(10, S))\n",
    "    except Exception as e:\n",
    "        print(e)\n",
    "    \n",
    "#     X = best_x\n",
    "#     imgb = cv.imread(pi)\n",
    "#     imgo = imgb.copy()\n",
    "#     for nX, lX in enumerate(X):\n",
    "#         idpl = dpl[nX]\n",
    "#         imgo[idpl[0]:idpl[1], idpl[2]:idpl[3], idpl[4]] = \\\n",
    "#         imgo[idpl[0]:idpl[1], idpl[2]:idpl[3], idpl[4]] - lX\n",
    "#     imgo[min_y:max_y, min_x:max_x] = imgb[min_y:max_y, min_x:max_x]\n",
    "#     # imgo = np.clip(imgo, imgb-BIG, imgb+BIG)\n",
    "#     cv.imwrite(f\"{op}\", imgo)\n",
    "#     print(\">>>\", pi, \"%.6f\"%_f1(imgA=f\"{pi}\", imgB=f\"{op}\"), \"%.6f\"%_f2(imgA=f\"{pi}\", imgB=f\"{op}\"))\n",
    "\n"
   ]
  },
  {
   "cell_type": "code",
   "execution_count": null,
   "metadata": {},
   "outputs": [],
   "source": [
    "\n",
    "# st, el = 1, 712\n",
    "\n",
    "# savl = []\n",
    "# for i in tqdm(range(st, el+1)):\n",
    "#     pi = f\"{pimg}/\"+f\"00000{i}\"[-5:]+\".jpg\"\n",
    "#     op = f\"{pout}/images/\"+f\"00000{i}\"[-5:]+\".jpg\"\n",
    "    \n",
    "#     if not os.path.exists(op):\n",
    "#         img = cv.imread(pi)\n",
    "#         cv.imwrite(op, img)\n",
    "#         savl.append(1)\n",
    "# print(len(savl))\n"
   ]
  },
  {
   "cell_type": "code",
   "execution_count": null,
   "metadata": {},
   "outputs": [],
   "source": [
    "# ! sh run.sh"
   ]
  },
  {
   "cell_type": "code",
   "execution_count": null,
   "metadata": {},
   "outputs": [],
   "source": []
  }
 ],
 "metadata": {
  "kernelspec": {
   "display_name": "Python 3",
   "language": "python",
   "name": "python3"
  },
  "language_info": {
   "codemirror_mode": {
    "name": "ipython",
    "version": 3
   },
   "file_extension": ".py",
   "mimetype": "text/x-python",
   "name": "python",
   "nbconvert_exporter": "python",
   "pygments_lexer": "ipython3",
   "version": "3.7.0"
  }
 },
 "nbformat": 4,
 "nbformat_minor": 2
}
