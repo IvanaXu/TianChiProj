{
 "cells": [
  {
   "cell_type": "code",
   "execution_count": 27,
   "metadata": {},
   "outputs": [],
   "source": [
    "import dlib\n",
    "import cv2 as cv\n",
    "from IPython.display import Image"
   ]
  },
  {
   "cell_type": "code",
   "execution_count": 28,
   "metadata": {},
   "outputs": [],
   "source": [
    "proj = \"/root/proj/SecurityAI_Round1\"\n",
    "pimg = f\"{proj}/Data/images\"\n",
    "pmdl = f\"{proj}/Model\""
   ]
  },
  {
   "cell_type": "code",
   "execution_count": 29,
   "metadata": {},
   "outputs": [],
   "source": [
    "modelv = \"_68\"\n",
    "detector = dlib.get_frontal_face_detector()\n",
    "predictor = dlib.shape_predictor(f\"{pmdl}/shape_predictor{modelv}_face_landmarks.dat\")"
   ]
  },
  {
   "cell_type": "code",
   "execution_count": 30,
   "metadata": {},
   "outputs": [
    {
     "name": "stdout",
     "output_type": "stream",
     "text": [
      "68 0\n",
      "CPU times: user 21.1 ms, sys: 0 ns, total: 21.1 ms\n",
      "Wall time: 21.4 ms\n"
     ]
    },
    {
     "data": {
      "text/plain": [
       "68"
      ]
     },
     "execution_count": 30,
     "metadata": {},
     "output_type": "execute_result"
    }
   ],
   "source": [
    "def f_xy(images):\n",
    "    result = []\n",
    "    cv_face = detector(cv.cvtColor(images, cv.COLOR_BGR2GRAY), 1)\n",
    "    for face in cv_face:\n",
    "        shape = predictor(images, face)\n",
    "        for pt in shape.parts():\n",
    "            result.append((pt.y, pt.x))\n",
    "    return result\n",
    "\n",
    "print(\n",
    "    len(f_xy(cv.imread(f\"{pimg}/00001.jpg\"))), \n",
    "    len(f_xy(cv.imread(f\"{pimg}/00003.jpg\")))\n",
    ")\n",
    "%time len(f_xy(cv.imread(f\"{pimg}/00001.jpg\")))"
   ]
  },
  {
   "cell_type": "code",
   "execution_count": 31,
   "metadata": {},
   "outputs": [
    {
     "data": {
      "image/jpeg": "[encoded data removed]",
      "text/plain": [
       "<IPython.core.display.Image object>"
      ]
     },
     "execution_count": 31,
     "metadata": {
      "image/jpeg": {
       "height": 300,
       "width": 300
      }
     },
     "output_type": "execute_result"
    }
   ],
   "source": [
    "pi = f\"{pimg}/\"+f\"00001.jpg\"\n",
    "op = f\"{proj}/Data/Z0.jpg\"\n",
    "img = cv.imread(pi)\n",
    "for if_xy in f_xy(img):\n",
    "    y, x = if_xy\n",
    "    if 0 <= x < 112 and 0 <= y < 112:\n",
    "        img[y-1:y+1,x-1:x+1] = 0\n",
    "\n",
    "cv.imwrite(op, img)\n",
    "Image(filename=op, width=300, height=300)\n"
   ]
  },
  {
   "cell_type": "code",
   "execution_count": 32,
   "metadata": {},
   "outputs": [],
   "source": [
    "modelv = \"_81\"\n",
    "detector = dlib.get_frontal_face_detector()\n",
    "predictor = dlib.shape_predictor(f\"{pmdl}/shape_predictor{modelv}_face_landmarks.dat\")"
   ]
  },
  {
   "cell_type": "code",
   "execution_count": 33,
   "metadata": {},
   "outputs": [
    {
     "name": "stdout",
     "output_type": "stream",
     "text": [
      "81 0\n",
      "CPU times: user 16.6 ms, sys: 0 ns, total: 16.6 ms\n",
      "Wall time: 16.7 ms\n"
     ]
    },
    {
     "data": {
      "text/plain": [
       "81"
      ]
     },
     "execution_count": 33,
     "metadata": {},
     "output_type": "execute_result"
    }
   ],
   "source": [
    "def f_xy(images):\n",
    "    result = []\n",
    "    cv_face = detector(cv.cvtColor(images, cv.COLOR_BGR2GRAY), 1)\n",
    "    for face in cv_face:\n",
    "        shape = predictor(images, face)\n",
    "        for pt in shape.parts():\n",
    "            result.append((pt.y, pt.x))\n",
    "    return result\n",
    "\n",
    "print(\n",
    "    len(f_xy(cv.imread(f\"{pimg}/00001.jpg\"))), \n",
    "    len(f_xy(cv.imread(f\"{pimg}/00003.jpg\")))\n",
    ")\n",
    "%time len(f_xy(cv.imread(f\"{pimg}/00001.jpg\")))"
   ]
  },
  {
   "cell_type": "code",
   "execution_count": 34,
   "metadata": {},
   "outputs": [
    {
     "data": {
      "image/jpeg": "[encoded data removed]",
      "text/plain": [
       "<IPython.core.display.Image object>"
      ]
     },
     "execution_count": 34,
     "metadata": {
      "image/jpeg": {
       "height": 300,
       "width": 300
      }
     },
     "output_type": "execute_result"
    }
   ],
   "source": [
    "pi = f\"{pimg}/\"+f\"00001.jpg\"\n",
    "op = f\"{proj}/Data/Z1.jpg\"\n",
    "img = cv.imread(pi)\n",
    "for if_xy in f_xy(img):\n",
    "    y, x = if_xy\n",
    "    if 0 <= x < 112 and 0 <= y < 112:\n",
    "        img[y-1:y+1,x-1:x+1] = 0\n",
    "\n",
    "cv.imwrite(op, img)\n",
    "Image(filename=op, width=300, height=300)\n"
   ]
  },
  {
   "cell_type": "code",
   "execution_count": 36,
   "metadata": {},
   "outputs": [
    {
     "name": "stderr",
     "output_type": "stream",
     "text": [
      "Using TensorFlow backend.\n"
     ]
    }
   ],
   "source": [
    "from mtcnn.mtcnn import MTCNN"
   ]
  },
  {
   "cell_type": "code",
   "execution_count": 39,
   "metadata": {},
   "outputs": [
    {
     "data": {
      "text/plain": [
       "[{'box': [2, 14, 78, 97],\n",
       "  'confidence': 0.9909178614616394,\n",
       "  'keypoints': {'left_eye': (34, 53),\n",
       "   'right_eye': (71, 52),\n",
       "   'nose': (60, 73),\n",
       "   'mouth_left': (40, 96),\n",
       "   'mouth_right': (68, 95)}}]"
      ]
     },
     "execution_count": 39,
     "metadata": {},
     "output_type": "execute_result"
    }
   ],
   "source": [
    "pi = f\"{pimg}/\"+f\"00001.jpg\"\n",
    "img = cv.imread(pi)\n",
    "\n",
    "detector = MTCNN()\n",
    "detector.detect_faces(img)\n",
    "# [x, y, width, height]"
   ]
  },
  {
   "cell_type": "code",
   "execution_count": null,
   "metadata": {},
   "outputs": [],
   "source": []
  }
 ],
 "metadata": {
  "kernelspec": {
   "display_name": "Python 3",
   "language": "python",
   "name": "python3"
  },
  "language_info": {
   "codemirror_mode": {
    "name": "ipython",
    "version": 3
   },
   "file_extension": ".py",
   "mimetype": "text/x-python",
   "name": "python",
   "nbconvert_exporter": "python",
   "pygments_lexer": "ipython3",
   "version": "3.7.0"
  }
 },
 "nbformat": 4,
 "nbformat_minor": 2
}
