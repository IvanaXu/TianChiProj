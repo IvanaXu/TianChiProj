{
 "cells": [
  {
   "cell_type": "code",
   "execution_count": 1,
   "metadata": {},
   "outputs": [],
   "source": [
    "\n",
    "import os\n",
    "import time\n",
    "import oss2\n",
    "import json\n",
    "\n",
    "import cv2 as cv\n",
    "import numpy as np\n",
    "from tqdm import tqdm\n",
    "\n",
    "from aliyunsdkcore.client import AcsClient\n",
    "from aliyunsdkcore.acs_exception.exceptions import ClientException\n",
    "from aliyunsdkcore.acs_exception.exceptions import ServerException\n",
    "from aliyunsdkfacebody.request.v20191230.CompareFaceRequest import CompareFaceRequest\n"
   ]
  },
  {
   "cell_type": "code",
   "execution_count": 2,
   "metadata": {},
   "outputs": [],
   "source": [
    "\n",
    "access_key_id = os.getenv('OSS_TEST_ACCESS_KEY_ID', '')\n",
    "access_key_secret = os.getenv('OSS_TEST_ACCESS_KEY_SECRET', '')\n",
    "bucket_name = os.getenv('OSS_TEST_BUCKET', 'ivan-bucket-out-002')\n",
    "endpoint = os.getenv('OSS_TEST_ENDPOINT', 'oss-cn-shanghai.aliyuncs.com')\n",
    "\n",
    "bucket = oss2.Bucket(oss2.Auth(access_key_id, access_key_secret), endpoint, bucket_name)\n",
    "\n",
    "client = AcsClient(access_key_id, access_key_secret, 'cn-shanghai')\n"
   ]
  },
  {
   "cell_type": "code",
   "execution_count": 3,
   "metadata": {},
   "outputs": [],
   "source": [
    "\n",
    "#\n",
    "def _score(imgA=None, imgB=None):\n",
    "    while True:\n",
    "        try:\n",
    "            time.sleep(0.68)\n",
    "            if imgA:\n",
    "                oss2.resumable_upload(bucket, 'imgA.jpg', imgA)\n",
    "            if imgB:\n",
    "                oss2.resumable_upload(bucket, 'imgB.jpg', imgB)\n",
    "\n",
    "            request = CompareFaceRequest()\n",
    "            request.set_accept_format('json')\n",
    "\n",
    "            request.set_ImageURLA(f\"https://{bucket_name}.{endpoint}/imgA.jpg\")\n",
    "            request.set_ImageURLB(f\"https://{bucket_name}.{endpoint}/imgB.jpg\")\n",
    "\n",
    "            response = client.do_action_with_exception(request)\n",
    "            return json.loads(response)[\"Data\"][\"Confidence\"]\n",
    "        except Exception as e:\n",
    "            print(e)\n"
   ]
  },
  {
   "cell_type": "code",
   "execution_count": 4,
   "metadata": {},
   "outputs": [],
   "source": [
    "\n",
    "#\n",
    "def f_lf1(img1, img2):\n",
    "    img1, img2 = cv.imread(img1), cv.imread(img2)\n",
    "    return np.sqrt(np.sum(np.square(img1 - img2)))\n"
   ]
  },
  {
   "cell_type": "code",
   "execution_count": 5,
   "metadata": {},
   "outputs": [
    {
     "name": "stdout",
     "output_type": "stream",
     "text": [
      "CPU times: user 47.9 ms, sys: 14.9 ms, total: 62.7 ms\n",
      "Wall time: 1.39 s\n"
     ]
    },
    {
     "data": {
      "text/plain": [
       "100.0"
      ]
     },
     "execution_count": 5,
     "metadata": {},
     "output_type": "execute_result"
    }
   ],
   "source": [
    "%time _score(imgA='../Data/Z0.jpg', imgB='../Data/Z0.jpg')"
   ]
  },
  {
   "cell_type": "code",
   "execution_count": 6,
   "metadata": {},
   "outputs": [
    {
     "name": "stdout",
     "output_type": "stream",
     "text": [
      "CPU times: user 5.84 ms, sys: 1.86 ms, total: 7.7 ms\n",
      "Wall time: 1.09 s\n"
     ]
    },
    {
     "data": {
      "text/plain": [
       "100.0"
      ]
     },
     "execution_count": 6,
     "metadata": {},
     "output_type": "execute_result"
    }
   ],
   "source": [
    "%time _score(imgA='../Data/Z0.jpg')"
   ]
  },
  {
   "cell_type": "code",
   "execution_count": 7,
   "metadata": {},
   "outputs": [
    {
     "name": "stdout",
     "output_type": "stream",
     "text": [
      "CPU times: user 7.24 ms, sys: 1.68 ms, total: 8.92 ms\n",
      "Wall time: 1.17 s\n"
     ]
    },
    {
     "data": {
      "text/plain": [
       "45.32559585571289"
      ]
     },
     "execution_count": 7,
     "metadata": {},
     "output_type": "execute_result"
    }
   ],
   "source": [
    "%time _score(imgA='../Data/Z0.jpg', imgB='../Data/Z1.jpg')"
   ]
  },
  {
   "cell_type": "code",
   "execution_count": 8,
   "metadata": {},
   "outputs": [
    {
     "name": "stdout",
     "output_type": "stream",
     "text": [
      "CPU times: user 7.43 ms, sys: 2.07 ms, total: 9.5 ms\n",
      "Wall time: 1.35 s\n"
     ]
    },
    {
     "data": {
      "text/plain": [
       "0.0"
      ]
     },
     "execution_count": 8,
     "metadata": {},
     "output_type": "execute_result"
    }
   ],
   "source": [
    "%time _score(imgA='../Data/bad.png', imgB='../Data/bad.png')"
   ]
  },
  {
   "cell_type": "code",
   "execution_count": 9,
   "metadata": {},
   "outputs": [],
   "source": [
    "\n",
    "pNum = \"T000001\"\n",
    "\n",
    "proj = \"..\"\n",
    "pimg = f\"{proj}/Data/images\"\n",
    "pmdl = f\"{proj}/Model\"\n",
    "pout = f\"{proj}/Out/{pNum}\"\n",
    "\n",
    "# os.system(f\"rm -rf {pout}/temp*\")\n",
    "# os.system(f\"rm -rf {pout}/images/*\")\n"
   ]
  },
  {
   "cell_type": "code",
   "execution_count": 10,
   "metadata": {},
   "outputs": [],
   "source": [
    "# ! rm -rf ../Out/T000001/images/*"
   ]
  },
  {
   "cell_type": "code",
   "execution_count": 11,
   "metadata": {},
   "outputs": [
    {
     "data": {
      "text/plain": [
       "[2, 4, 8]"
      ]
     },
     "execution_count": 11,
     "metadata": {},
     "output_type": "execute_result"
    }
   ],
   "source": [
    "\n",
    "st, ed = 1, 2\n",
    "chose = 3\n",
    "\n",
    "_N = 128\n",
    "lrun = [2, 4, 8, 16, 32, 64, 128][:chose]\n",
    "pl = lambda x: sorted(\n",
    "    [\n",
    "        (i - _N // x, i, j - _N // x, j)\n",
    "        for j in range(0, _N + 1, _N // x) if j > 0\n",
    "        for i in range(0, _N + 1, _N // x) if i > 0\n",
    "     ]\n",
    ")\n",
    "lrun\n"
   ]
  },
  {
   "cell_type": "code",
   "execution_count": 12,
   "metadata": {},
   "outputs": [],
   "source": [
    "ldN = [0] + [_//2+1 if _%2 else -(_//2+1) for _ in range(0, 50)]\n",
    "ldN = ldN\n"
   ]
  },
  {
   "cell_type": "code",
   "execution_count": 13,
   "metadata": {
    "scrolled": false
   },
   "outputs": [
    {
     "name": "stderr",
     "output_type": "stream",
     "text": [
      "All:   0%|          | 0/2 [00:00<?, ?it/s]\n",
      "C1/3:   0%|          | 0/4 [00:00<?, ?it/s]\u001b[A"
     ]
    },
    {
     "name": "stdout",
     "output_type": "stream",
     "text": [
      "|99.527443\t^0.4725\n",
      "|98.145485\t^1.3820\n",
      "...|97.317131\t^0.8284\n",
      "...|96.663925\t^0.6532\n",
      ".|96.645042\t^0.0189\n",
      ".|95.218445\t^1.4266\n",
      ".|95.035431\t^0.1830\n",
      ".|94.851685\t^0.1837\n",
      "...|94.215134\t^0.6366\n",
      ".|93.659393\t^0.5557\n",
      ".|92.802132\t^0.8573\n",
      ".|92.040802\t^0.7613\n",
      ".|87.871284\t^4.1695\n",
      ".|87.632515\t^0.2388\n",
      ".|87.137451\t^0.4951\n",
      ".....|85.923378\t^1.2141\n",
      ".........."
     ]
    },
    {
     "name": "stderr",
     "output_type": "stream",
     "text": [
      "\n",
      "C1/3:  25%|██▌       | 1/4 [00:56<02:48, 56.03s/it]\u001b[A"
     ]
    },
    {
     "name": "stdout",
     "output_type": "stream",
     "text": [
      "...|85.739532\t^0.1838\n",
      "...|85.433563\t^0.3060\n",
      "...|85.173546\t^0.2600\n",
      ".......|84.644714\t^0.5288\n",
      ".|84.578171\t^0.0665\n",
      ".......|84.293114\t^0.2851\n",
      "...|84.263840\t^0.0293\n",
      ".|84.213921\t^0.0499\n",
      ".....|84.212990\t^0.0009\n",
      ".|84.056801\t^0.1562\n",
      "....|83.462776\t^0.5940\n",
      ".|81.093239\t^2.3695\n"
     ]
    },
    {
     "name": "stderr",
     "output_type": "stream",
     "text": [
      "\n",
      "C1/3:  50%|█████     | 2/4 [02:12<02:04, 62.20s/it]\u001b[A"
     ]
    },
    {
     "name": "stdout",
     "output_type": "stream",
     "text": [
      "........|81.072693\t^0.0205\n",
      ".......|80.010155\t^1.0625\n",
      "...|79.705650\t^0.3045\n",
      ".|79.104065\t^0.6016\n",
      ".........|76.602226\t^2.5018\n",
      ".|74.983170\t^1.6191\n",
      ".|74.980164\t^0.0030\n",
      ".........|73.892181\t^1.0880\n",
      "...."
     ]
    },
    {
     "name": "stderr",
     "output_type": "stream",
     "text": [
      "\n",
      "C1/3:  75%|███████▌  | 3/4 [03:16<01:02, 62.78s/it]\u001b[A"
     ]
    },
    {
     "name": "stdout",
     "output_type": "stream",
     "text": [
      ".........................|73.240952\t^0.6512\n",
      ".|71.972755\t^1.2682\n",
      ".|65.398689\t^6.5741\n",
      ".|64.437134\t^0.9616\n",
      "...|63.888908\t^0.5482\n",
      ".....|62.524109\t^1.3648\n",
      ".|60.920979\t^1.6031\n",
      ".|60.691219\t^0.2298\n",
      "....."
     ]
    },
    {
     "name": "stderr",
     "output_type": "stream",
     "text": [
      "\n",
      "C1/3: 100%|██████████| 4/4 [04:14<00:00, 61.14s/it]\u001b[A\n",
      "\u001b[A\n",
      "C2/3:   0%|          | 0/16 [00:00<?, ?it/s]\u001b[A"
     ]
    },
    {
     "name": "stdout",
     "output_type": "stream",
     "text": [
      ".|58.925854\t^1.7654\n",
      "......................................."
     ]
    },
    {
     "name": "stderr",
     "output_type": "stream",
     "text": [
      "\n",
      "C2/3:   6%|▋         | 1/16 [00:45<11:21, 45.45s/it]\u001b[A"
     ]
    },
    {
     "name": "stdout",
     "output_type": "stream",
     "text": [
      "........................|58.127480\t^0.7984\n",
      ".|57.971382\t^0.1561\n",
      ".............."
     ]
    },
    {
     "name": "stderr",
     "output_type": "stream",
     "text": [
      "\n",
      "C2/3:  12%|█▎        | 2/16 [01:30<10:33, 45.23s/it]\u001b[A"
     ]
    },
    {
     "name": "stdout",
     "output_type": "stream",
     "text": [
      "...........................|57.044815\t^0.9266\n",
      "...|52.676586\t^4.3682\n",
      "..................."
     ]
    },
    {
     "name": "stderr",
     "output_type": "stream",
     "text": [
      "\n",
      "C2/3:  19%|█▉        | 3/16 [02:26<10:32, 48.67s/it]\u001b[A"
     ]
    },
    {
     "name": "stdout",
     "output_type": "stream",
     "text": [
      "..................................................."
     ]
    },
    {
     "name": "stderr",
     "output_type": "stream",
     "text": [
      "\n",
      "C2/3:  25%|██▌       | 4/16 [03:30<10:36, 53.02s/it]\u001b[A"
     ]
    },
    {
     "name": "stdout",
     "output_type": "stream",
     "text": [
      "..................................|52.558445\t^0.1181\n",
      "......"
     ]
    },
    {
     "name": "stderr",
     "output_type": "stream",
     "text": [
      "\n",
      "C2/3:  31%|███▏      | 5/16 [04:17<09:23, 51.21s/it]\u001b[A"
     ]
    },
    {
     "name": "stdout",
     "output_type": "stream",
     "text": [
      "........................................."
     ]
    },
    {
     "name": "stderr",
     "output_type": "stream",
     "text": [
      "\n",
      "C2/3:  38%|███▊      | 6/16 [05:03<08:18, 49.82s/it]\u001b[A"
     ]
    },
    {
     "name": "stdout",
     "output_type": "stream",
     "text": [
      "..................................................."
     ]
    },
    {
     "name": "stderr",
     "output_type": "stream",
     "text": [
      "\n",
      "C2/3:  44%|████▍     | 7/16 [05:59<07:45, 51.76s/it]\u001b[A"
     ]
    },
    {
     "name": "stdout",
     "output_type": "stream",
     "text": [
      "............................................|51.623802\t^0.9346\n",
      "......"
     ]
    },
    {
     "name": "stderr",
     "output_type": "stream",
     "text": [
      "\n",
      "C2/3:  50%|█████     | 8/16 [06:55<07:03, 52.94s/it]\u001b[A"
     ]
    },
    {
     "name": "stdout",
     "output_type": "stream",
     "text": [
      "..............................................."
     ]
    },
    {
     "name": "stderr",
     "output_type": "stream",
     "text": [
      "\n",
      "C2/3:  56%|█████▋    | 9/16 [07:51<06:17, 53.95s/it]\u001b[A"
     ]
    },
    {
     "name": "stdout",
     "output_type": "stream",
     "text": [
      "..............................................."
     ]
    },
    {
     "name": "stderr",
     "output_type": "stream",
     "text": [
      "\n",
      "C2/3:  62%|██████▎   | 10/16 [08:47<05:27, 54.56s/it]\u001b[A"
     ]
    },
    {
     "name": "stdout",
     "output_type": "stream",
     "text": [
      "............................................."
     ]
    },
    {
     "name": "stderr",
     "output_type": "stream",
     "text": [
      "\n",
      "C2/3:  69%|██████▉   | 11/16 [09:44<04:35, 55.07s/it]\u001b[A"
     ]
    },
    {
     "name": "stdout",
     "output_type": "stream",
     "text": [
      "............................................."
     ]
    },
    {
     "name": "stderr",
     "output_type": "stream",
     "text": [
      "\n",
      "C2/3:  75%|███████▌  | 12/16 [10:41<03:43, 55.91s/it]\u001b[A"
     ]
    },
    {
     "name": "stdout",
     "output_type": "stream",
     "text": [
      "..............................................."
     ]
    },
    {
     "name": "stderr",
     "output_type": "stream",
     "text": [
      "\n",
      "C2/3:  81%|████████▏ | 13/16 [11:45<02:54, 58.29s/it]\u001b[A"
     ]
    },
    {
     "name": "stdout",
     "output_type": "stream",
     "text": [
      "..............................................."
     ]
    },
    {
     "name": "stderr",
     "output_type": "stream",
     "text": [
      "\n",
      "C2/3:  88%|████████▊ | 14/16 [13:00<02:06, 63.13s/it]\u001b[A"
     ]
    },
    {
     "name": "stdout",
     "output_type": "stream",
     "text": [
      "............................................."
     ]
    },
    {
     "name": "stderr",
     "output_type": "stream",
     "text": [
      "\n",
      "C2/3:  94%|█████████▍| 15/16 [14:04<01:03, 63.36s/it]\u001b[A"
     ]
    },
    {
     "name": "stdout",
     "output_type": "stream",
     "text": [
      "............................................."
     ]
    },
    {
     "name": "stderr",
     "output_type": "stream",
     "text": [
      "\n",
      "C2/3: 100%|██████████| 16/16 [14:54<00:00, 59.48s/it]\u001b[A\n",
      "\u001b[A\n",
      "C3/3:   0%|          | 0/64 [00:00<?, ?it/s]\u001b[A"
     ]
    },
    {
     "name": "stdout",
     "output_type": "stream",
     "text": [
      "..................................................."
     ]
    },
    {
     "name": "stderr",
     "output_type": "stream",
     "text": [
      "\n",
      "C3/3:   2%|▏         | 1/64 [00:58<1:01:42, 58.77s/it]\u001b[A"
     ]
    },
    {
     "name": "stdout",
     "output_type": "stream",
     "text": [
      "..................................................."
     ]
    },
    {
     "name": "stderr",
     "output_type": "stream",
     "text": [
      "\n",
      "C3/3:   3%|▎         | 2/64 [01:56<1:00:15, 58.32s/it]\u001b[A"
     ]
    },
    {
     "name": "stdout",
     "output_type": "stream",
     "text": [
      "..........................."
     ]
    },
    {
     "name": "stderr",
     "output_type": "stream",
     "text": [
      "\n",
      "C3/3:   5%|▍         | 3/64 [02:28<51:27, 50.62s/it]  \u001b[A"
     ]
    },
    {
     "name": "stdout",
     "output_type": "stream",
     "text": [
      "..........................."
     ]
    },
    {
     "name": "stderr",
     "output_type": "stream",
     "text": [
      "\n",
      "C3/3:   6%|▋         | 4/64 [02:58<44:16, 44.28s/it]\u001b[A"
     ]
    },
    {
     "name": "stdout",
     "output_type": "stream",
     "text": [
      "..............................."
     ]
    },
    {
     "name": "stderr",
     "output_type": "stream",
     "text": [
      "\n",
      "C3/3:   8%|▊         | 5/64 [03:37<42:10, 42.88s/it]\u001b[A"
     ]
    },
    {
     "name": "stdout",
     "output_type": "stream",
     "text": [
      "..............................."
     ]
    },
    {
     "name": "stderr",
     "output_type": "stream",
     "text": [
      "\n",
      "C3/3:   9%|▉         | 6/64 [04:11<38:48, 40.15s/it]\u001b[A"
     ]
    },
    {
     "name": "stdout",
     "output_type": "stream",
     "text": [
      "..................................................."
     ]
    },
    {
     "name": "stderr",
     "output_type": "stream",
     "text": [
      "\n",
      "C3/3:  11%|█         | 7/64 [05:09<43:06, 45.38s/it]\u001b[A"
     ]
    },
    {
     "name": "stdout",
     "output_type": "stream",
     "text": [
      "..................................................."
     ]
    },
    {
     "name": "stderr",
     "output_type": "stream",
     "text": [
      "\n",
      "C3/3:  12%|█▎        | 8/64 [06:04<45:04, 48.29s/it]\u001b[A"
     ]
    },
    {
     "name": "stdout",
     "output_type": "stream",
     "text": [
      "..................................................."
     ]
    },
    {
     "name": "stderr",
     "output_type": "stream",
     "text": [
      "\n",
      "C3/3:  14%|█▍        | 9/64 [07:01<46:49, 51.08s/it]\u001b[A"
     ]
    },
    {
     "name": "stdout",
     "output_type": "stream",
     "text": [
      "..................................................."
     ]
    },
    {
     "name": "stderr",
     "output_type": "stream",
     "text": [
      "\n",
      "C3/3:  16%|█▌        | 10/64 [07:59<47:48, 53.11s/it]\u001b[A"
     ]
    },
    {
     "name": "stdout",
     "output_type": "stream",
     "text": [
      "..........................."
     ]
    },
    {
     "name": "stderr",
     "output_type": "stream",
     "text": [
      "\n",
      "C3/3:  17%|█▋        | 11/64 [08:29<40:36, 45.97s/it]\u001b[A"
     ]
    },
    {
     "name": "stdout",
     "output_type": "stream",
     "text": [
      "..........................."
     ]
    },
    {
     "name": "stderr",
     "output_type": "stream",
     "text": [
      "\n",
      "C3/3:  19%|█▉        | 12/64 [08:58<35:37, 41.10s/it]\u001b[A"
     ]
    },
    {
     "name": "stdout",
     "output_type": "stream",
     "text": [
      "..............................."
     ]
    },
    {
     "name": "stderr",
     "output_type": "stream",
     "text": [
      "\n",
      "C3/3:  20%|██        | 13/64 [09:32<33:00, 38.84s/it]\u001b[A"
     ]
    },
    {
     "name": "stdout",
     "output_type": "stream",
     "text": [
      "..............................."
     ]
    },
    {
     "name": "stderr",
     "output_type": "stream",
     "text": [
      "\n",
      "C3/3:  22%|██▏       | 14/64 [10:06<31:09, 37.39s/it]\u001b[A"
     ]
    },
    {
     "name": "stdout",
     "output_type": "stream",
     "text": [
      "..................................................."
     ]
    },
    {
     "name": "stderr",
     "output_type": "stream",
     "text": [
      "\n",
      "C3/3:  23%|██▎       | 15/64 [11:24<40:38, 49.77s/it]\u001b[A"
     ]
    },
    {
     "name": "stdout",
     "output_type": "stream",
     "text": [
      "..................................................."
     ]
    },
    {
     "name": "stderr",
     "output_type": "stream",
     "text": [
      "\n",
      "C3/3:  25%|██▌       | 16/64 [12:42<46:29, 58.11s/it]\u001b[A"
     ]
    },
    {
     "name": "stdout",
     "output_type": "stream",
     "text": [
      "..................................."
     ]
    },
    {
     "name": "stderr",
     "output_type": "stream",
     "text": [
      "\n",
      "C3/3:  27%|██▋       | 17/64 [13:20<40:52, 52.18s/it]\u001b[A"
     ]
    },
    {
     "name": "stdout",
     "output_type": "stream",
     "text": [
      "..................................."
     ]
    },
    {
     "name": "stderr",
     "output_type": "stream",
     "text": [
      "\n",
      "C3/3:  28%|██▊       | 18/64 [14:00<37:05, 48.37s/it]\u001b[A"
     ]
    },
    {
     "name": "stdout",
     "output_type": "stream",
     "text": [
      "........................................."
     ]
    },
    {
     "name": "stderr",
     "output_type": "stream",
     "text": [
      "\n",
      "C3/3:  30%|██▉       | 19/64 [15:01<39:13, 52.30s/it]\u001b[A"
     ]
    },
    {
     "name": "stdout",
     "output_type": "stream",
     "text": [
      "........................................."
     ]
    },
    {
     "name": "stderr",
     "output_type": "stream",
     "text": [
      "\n",
      "C3/3:  31%|███▏      | 20/64 [15:56<38:56, 53.10s/it]\u001b[A"
     ]
    },
    {
     "name": "stdout",
     "output_type": "stream",
     "text": [
      "..................................................."
     ]
    },
    {
     "name": "stderr",
     "output_type": "stream",
     "text": [
      "\n",
      "C3/3:  33%|███▎      | 21/64 [17:04<41:08, 57.41s/it]\u001b[A"
     ]
    },
    {
     "name": "stdout",
     "output_type": "stream",
     "text": [
      "..................................................."
     ]
    },
    {
     "name": "stderr",
     "output_type": "stream",
     "text": [
      "\n",
      "C3/3:  34%|███▍      | 22/64 [18:34<47:05, 67.27s/it]\u001b[A"
     ]
    },
    {
     "name": "stdout",
     "output_type": "stream",
     "text": [
      "............................................."
     ]
    },
    {
     "name": "stderr",
     "output_type": "stream",
     "text": [
      "\n",
      "C3/3:  36%|███▌      | 23/64 [19:24<42:28, 62.15s/it]\u001b[A"
     ]
    },
    {
     "name": "stdout",
     "output_type": "stream",
     "text": [
      "............................................."
     ]
    },
    {
     "name": "stderr",
     "output_type": "stream",
     "text": [
      "\n",
      "C3/3:  38%|███▊      | 24/64 [20:13<38:49, 58.23s/it]\u001b[A"
     ]
    },
    {
     "name": "stdout",
     "output_type": "stream",
     "text": [
      "..................................."
     ]
    },
    {
     "name": "stderr",
     "output_type": "stream",
     "text": [
      "\n",
      "C3/3:  39%|███▉      | 25/64 [20:53<34:10, 52.57s/it]\u001b[A"
     ]
    },
    {
     "name": "stdout",
     "output_type": "stream",
     "text": [
      "..................................."
     ]
    },
    {
     "name": "stderr",
     "output_type": "stream",
     "text": [
      "\n",
      "C3/3:  41%|████      | 26/64 [21:39<32:03, 50.61s/it]\u001b[A"
     ]
    },
    {
     "name": "stdout",
     "output_type": "stream",
     "text": [
      "........................................."
     ]
    },
    {
     "name": "stderr",
     "output_type": "stream",
     "text": [
      "\n",
      "C3/3:  42%|████▏     | 27/64 [22:30<31:19, 50.80s/it]\u001b[A"
     ]
    },
    {
     "name": "stdout",
     "output_type": "stream",
     "text": [
      "................|51.152969\t^0.4708\n",
      "........................"
     ]
    },
    {
     "name": "stderr",
     "output_type": "stream",
     "text": [
      "\n",
      "C3/3:  44%|████▍     | 28/64 [23:14<29:19, 48.87s/it]\u001b[A"
     ]
    },
    {
     "name": "stdout",
     "output_type": "stream",
     "text": [
      ".........|50.308838\t^0.8441\n",
      "........................................."
     ]
    },
    {
     "name": "stderr",
     "output_type": "stream",
     "text": [
      "\n",
      "C3/3:  45%|████▌     | 29/64 [24:11<29:50, 51.14s/it]\u001b[A"
     ]
    },
    {
     "name": "stdout",
     "output_type": "stream",
     "text": [
      "....................................|49.628265\t^0.6806\n"
     ]
    },
    {
     "name": "stderr",
     "output_type": "stream",
     "text": [
      "\r\n",
      "All:  50%|█████     | 1/2 [44:03<44:03, 2643.08s/it]"
     ]
    },
    {
     "name": "stdout",
     "output_type": "stream",
     "text": [
      ">>> ../Data/images/00001.jpg 49.628265 49.628265\n"
     ]
    },
    {
     "name": "stderr",
     "output_type": "stream",
     "text": [
      "\n",
      "\n",
      "C1/3:   0%|          | 0/4 [00:00<?, ?it/s]\u001b[A\u001b[A"
     ]
    },
    {
     "name": "stdout",
     "output_type": "stream",
     "text": [
      "|99.503838\t^0.4962\n",
      "|99.332169\t^0.1717\n",
      "|98.496796\t^0.8354\n",
      ".|98.127319\t^0.3695\n",
      ".|97.857079\t^0.2702\n",
      ".|97.693741\t^0.1633\n",
      ".|97.467293\t^0.2264\n",
      "...|97.222397\t^0.2449\n",
      ".|97.114548\t^0.1078\n",
      "...|97.015228\t^0.0993\n",
      ".|96.960312\t^0.0549\n",
      ".......|96.333466\t^0.6268\n",
      ".........|95.867126\t^0.4663\n",
      "|95.064964\t^0.8022\n",
      ".|94.991226\t^0.0737\n",
      ".|93.527054\t^1.4642\n",
      "...."
     ]
    },
    {
     "name": "stderr",
     "output_type": "stream",
     "text": [
      "\n",
      "\n",
      "C1/3:  25%|██▌       | 1/4 [00:57<02:51, 57.26s/it]\u001b[A\u001b[A"
     ]
    },
    {
     "name": "stdout",
     "output_type": "stream",
     "text": [
      ".....|91.852798\t^1.6743\n",
      "...........................|91.108482\t^0.7443\n",
      "................."
     ]
    },
    {
     "name": "stderr",
     "output_type": "stream",
     "text": [
      "\n",
      "\n",
      "C1/3:  50%|█████     | 2/4 [01:53<01:53, 56.96s/it]\u001b[A\u001b[A"
     ]
    },
    {
     "name": "stdout",
     "output_type": "stream",
     "text": [
      ".....|90.333961\t^0.7745\n",
      "......|90.234726\t^0.0992\n",
      ".|88.574799\t^1.6599\n",
      ".|83.780968\t^4.7938\n",
      ".|83.426712\t^0.3543\n",
      ".......|83.147896\t^0.2788\n",
      ".....|80.908791\t^2.2391\n",
      ".....|79.414803\t^1.4940\n",
      "...........|79.111198\t^0.3036\n"
     ]
    },
    {
     "name": "stderr",
     "output_type": "stream",
     "text": [
      "\n",
      "\n",
      "C1/3:  75%|███████▌  | 3/4 [02:50<00:57, 57.10s/it]\u001b[A\u001b[A"
     ]
    },
    {
     "name": "stdout",
     "output_type": "stream",
     "text": [
      "...|78.954369\t^0.1568\n",
      ".|78.903160\t^0.0512\n",
      ".|78.514709\t^0.3885\n",
      ".|78.506577\t^0.0081\n",
      ".|78.202690\t^0.3039\n",
      ".|78.092857\t^0.1098\n",
      "....................................."
     ]
    },
    {
     "name": "stderr",
     "output_type": "stream",
     "text": [
      "\n",
      "\n",
      "C1/3: 100%|██████████| 4/4 [03:46<00:00, 56.59s/it]\u001b[A\u001b[A\n",
      "\n",
      "\u001b[A\u001b[A\n",
      "\n",
      "C2/3:   0%|          | 0/16 [00:00<?, ?it/s]\u001b[A\u001b[A"
     ]
    },
    {
     "name": "stdout",
     "output_type": "stream",
     "text": [
      "..............................................."
     ]
    },
    {
     "name": "stderr",
     "output_type": "stream",
     "text": [
      "\n",
      "\n",
      "C2/3:   6%|▋         | 1/16 [00:51<12:52, 51.49s/it]\u001b[A\u001b[A"
     ]
    },
    {
     "name": "stdout",
     "output_type": "stream",
     "text": [
      "....................................|78.034706\t^0.0582\n",
      ".........."
     ]
    },
    {
     "name": "stderr",
     "output_type": "stream",
     "text": [
      "\n",
      "\n",
      "C2/3:  12%|█▎        | 2/16 [01:55<12:54, 55.35s/it]\u001b[A\u001b[A"
     ]
    },
    {
     "name": "stdout",
     "output_type": "stream",
     "text": [
      ".|77.755180\t^0.2795\n",
      "....|77.750168\t^0.0050\n",
      "...|77.747299\t^0.0029\n",
      ".|77.746834\t^0.0005\n",
      ".............|77.745171\t^0.0017\n",
      "......"
     ]
    },
    {
     "name": "stderr",
     "output_type": "stream",
     "text": [
      "\n",
      "\n",
      "C2/3:  19%|█▉        | 3/16 [03:04<12:51, 59.38s/it]\u001b[A\u001b[A"
     ]
    },
    {
     "name": "stdout",
     "output_type": "stream",
     "text": [
      ".................|77.742897\t^0.0023\n",
      "......|77.692673\t^0.0502\n",
      "........"
     ]
    },
    {
     "name": "stderr",
     "output_type": "stream",
     "text": [
      "\n",
      "\n",
      "C2/3:  25%|██▌       | 4/16 [03:45<10:44, 53.71s/it]\u001b[A\u001b[A"
     ]
    },
    {
     "name": "stdout",
     "output_type": "stream",
     "text": [
      "..|77.626793\t^0.0659\n",
      ".|77.593361\t^0.0334\n",
      "|77.502029\t^0.0913\n",
      ".|77.030205\t^0.4718\n",
      ".|76.558167\t^0.4720\n",
      "...|76.246483\t^0.3117\n",
      ".....................|74.763145\t^1.4833\n",
      ".|74.617195\t^0.1460\n",
      ".|74.506653\t^0.1105\n",
      "......."
     ]
    },
    {
     "name": "stderr",
     "output_type": "stream",
     "text": [
      "\n",
      "\n",
      "C2/3:  31%|███▏      | 5/16 [04:38<09:50, 53.66s/it]\u001b[A\u001b[A"
     ]
    },
    {
     "name": "stdout",
     "output_type": "stream",
     "text": [
      "..............................................."
     ]
    },
    {
     "name": "stderr",
     "output_type": "stream",
     "text": [
      "\n",
      "\n",
      "C2/3:  38%|███▊      | 6/16 [05:30<08:50, 53.05s/it]\u001b[A\u001b[A"
     ]
    },
    {
     "name": "stdout",
     "output_type": "stream",
     "text": [
      "................................."
     ]
    },
    {
     "name": "stderr",
     "output_type": "stream",
     "text": [
      "\n",
      "\n",
      "C2/3:  44%|████▍     | 7/16 [06:25<08:04, 53.84s/it]\u001b[A\u001b[A"
     ]
    },
    {
     "name": "stdout",
     "output_type": "stream",
     "text": [
      "................................."
     ]
    },
    {
     "name": "stderr",
     "output_type": "stream",
     "text": [
      "\n",
      "\n",
      "C2/3:  50%|█████     | 8/16 [07:55<08:37, 64.63s/it]\u001b[A\u001b[A"
     ]
    },
    {
     "name": "stdout",
     "output_type": "stream",
     "text": [
      "..................................................."
     ]
    },
    {
     "name": "stderr",
     "output_type": "stream",
     "text": [
      "\n",
      "\n",
      "C2/3:  56%|█████▋    | 9/16 [09:40<08:56, 76.68s/it]\u001b[A\u001b[A"
     ]
    },
    {
     "name": "stdout",
     "output_type": "stream",
     "text": [
      "..................................................."
     ]
    },
    {
     "name": "stderr",
     "output_type": "stream",
     "text": [
      "\n",
      "\n",
      "C2/3:  62%|██████▎   | 10/16 [10:52<07:31, 75.31s/it]\u001b[A\u001b[A"
     ]
    },
    {
     "name": "stdout",
     "output_type": "stream",
     "text": [
      "............."
     ]
    },
    {
     "name": "stderr",
     "output_type": "stream",
     "text": [
      "\n",
      "\n",
      "C2/3:  69%|██████▉   | 11/16 [11:07<04:45, 57.16s/it]\u001b[A\u001b[A"
     ]
    },
    {
     "name": "stdout",
     "output_type": "stream",
     "text": [
      "............."
     ]
    },
    {
     "name": "stderr",
     "output_type": "stream",
     "text": [
      "\n",
      "\n",
      "C2/3:  75%|███████▌  | 12/16 [11:22<02:57, 44.46s/it]\u001b[A\u001b[A"
     ]
    },
    {
     "name": "stdout",
     "output_type": "stream",
     "text": [
      "..................|74.293808\t^0.2128\n",
      "|74.133835\t^0.1600\n",
      "..............................."
     ]
    },
    {
     "name": "stderr",
     "output_type": "stream",
     "text": [
      "\n",
      "\n",
      "C2/3:  81%|████████▏ | 13/16 [12:20<02:25, 48.62s/it]\u001b[A\u001b[A"
     ]
    },
    {
     "name": "stdout",
     "output_type": "stream",
     "text": [
      "..................................................."
     ]
    },
    {
     "name": "stderr",
     "output_type": "stream",
     "text": [
      "\n",
      "\n",
      "C2/3:  88%|████████▊ | 14/16 [13:15<01:41, 50.57s/it]\u001b[A\u001b[A"
     ]
    },
    {
     "name": "stdout",
     "output_type": "stream",
     "text": [
      "..|73.891403\t^0.2424\n",
      ".|73.862930\t^0.0285\n",
      ".|73.839798\t^0.0231\n",
      "......"
     ]
    },
    {
     "name": "stderr",
     "output_type": "stream",
     "text": [
      "\n",
      "\n",
      "C2/3:  94%|█████████▍| 15/16 [13:32<00:40, 40.38s/it]\u001b[A\u001b[A"
     ]
    },
    {
     "name": "stdout",
     "output_type": "stream",
     "text": [
      "............."
     ]
    },
    {
     "name": "stderr",
     "output_type": "stream",
     "text": [
      "\n",
      "\n",
      "C2/3: 100%|██████████| 16/16 [13:46<00:00, 32.64s/it]\u001b[A\u001b[A\n",
      "\n",
      "\u001b[A\u001b[A\n",
      "\n",
      "C3/3:   0%|          | 0/64 [00:00<?, ?it/s]\u001b[A\u001b[A"
     ]
    },
    {
     "name": "stdout",
     "output_type": "stream",
     "text": [
      "..............................................."
     ]
    },
    {
     "name": "stderr",
     "output_type": "stream",
     "text": [
      "\n",
      "\n",
      "C3/3:   2%|▏         | 1/64 [00:51<54:24, 51.81s/it]\u001b[A\u001b[A"
     ]
    },
    {
     "name": "stdout",
     "output_type": "stream",
     "text": [
      "..............................................."
     ]
    },
    {
     "name": "stderr",
     "output_type": "stream",
     "text": [
      "\n",
      "\n",
      "C3/3:   3%|▎         | 2/64 [01:56<57:39, 55.80s/it]\u001b[A\u001b[A"
     ]
    },
    {
     "name": "stdout",
     "output_type": "stream",
     "text": [
      "..............................."
     ]
    },
    {
     "name": "stderr",
     "output_type": "stream",
     "text": [
      "\r\n",
      "All: 100%|██████████| 2/2 [1:04:10<00:00, 2212.43s/it]"
     ]
    },
    {
     "name": "stdout",
     "output_type": "stream",
     "text": [
      ">>> ../Data/images/00002.jpg 73.839798 75.758774\n"
     ]
    }
   ],
   "source": [
    "\n",
    "\n",
    "CUT = 50\n",
    "badl = []\n",
    "group = 0\n",
    "\n",
    "for i in tqdm(range(st, ed+1), desc=\"All\"):\n",
    "    mscore = 0\n",
    "    pi = f\"{pimg}/\"+f\"00000{i}\"[-5:]+\".jpg\"\n",
    "    op = f\"{pout}/images/\"+f\"00000{i}\"[-5:]+\".jpg\"\n",
    "    \n",
    "    mescore = _score(imgA=pi, imgB=pi)\n",
    "    if mescore == 0 or os.path.exists(op):\n",
    "        print(pi, \"%.6f\"%mescore)\n",
    "        continue\n",
    "    \n",
    "    try:\n",
    "        for _p_, M in enumerate(lrun):\n",
    "            dpl = pl(M)\n",
    "\n",
    "            if _p_ == 0:\n",
    "                ldata = np.array([0 for _ in range(M**2)])\n",
    "            else:\n",
    "                # \n",
    "                t_ldata = [[__i, __j] for __i, __j in zip(pl(lrun[_p_-1]), ldata) if __j != 0]\n",
    "                ldata = []\n",
    "                for _i in dpl:\n",
    "                    _t = 0\n",
    "                    for __i, __j in t_ldata:\n",
    "                        if _i[0] < __i[1] and __i[0] < _i[1] and _i[2] < __i[3] and __i[2] < _i[3]:\n",
    "                            _t = __j\n",
    "                            break\n",
    "                    ldata.append(_t)\n",
    "                ldata = np.array(ldata)\n",
    "\n",
    "            #\n",
    "            while True:\n",
    "                t_ldata = ldata.copy()\n",
    "                for _i in tqdm(range(M**2), desc=f\"C{_p_+1}/{len(lrun)}\"):\n",
    "                    _oldi1 = ldata[_i]\n",
    "                    for dN in [_ldN for _ldN in ldN if _oldi1 == 0 or abs(_ldN) <= abs(_oldi1)]:\n",
    "                        _oldi2 = ldata[_i]\n",
    "\n",
    "                        ldata[_i] = dN\n",
    "                        img = cv.imread(pi)\n",
    "                        for nldata, _ldata in enumerate(ldata):\n",
    "                            i_group = dpl[nldata]\n",
    "                            img[i_group[0]:i_group[1], i_group[2]:i_group[3]] = \\\n",
    "                            img[i_group[0]:i_group[1], i_group[2]:i_group[3]] - _ldata\n",
    "                        cv.imwrite(f\"{pout}/temp{group}.jpg\", img)\n",
    "\n",
    "                        escore = _score(imgB=f\"{pout}/temp{group}.jpg\") \n",
    "                        if escore < mescore:\n",
    "                            print(\"|%.6f\\t^%.4f\" % (escore, mescore-escore))\n",
    "                            mescore = escore\n",
    "                            if mescore < CUT:\n",
    "                                raise()\n",
    "                        else:\n",
    "                            print(\".\", end=\"\")\n",
    "                            ldata[_i] = _oldi2\n",
    "                if (ldata == t_ldata).all():\n",
    "                    break\n",
    "                break\n",
    "    except:\n",
    "        pass\n",
    "    \n",
    "    #\n",
    "    img = cv.imread(pi)\n",
    "    for nldata, _ldata in enumerate(ldata):\n",
    "        i_group = dpl[nldata]\n",
    "        img[i_group[0]:i_group[1], i_group[2]:i_group[3]] = \\\n",
    "        img[i_group[0]:i_group[1], i_group[2]:i_group[3]] - _ldata\n",
    "    cv.imwrite(f\"{op}\", img)\n",
    "    print(\">>>\", pi, \"%.6f\"%mescore, \"%.6f\"%_score(imgA=f\"{pi}\", imgB=f\"{op}\"))\n",
    "\n"
   ]
  },
  {
   "cell_type": "code",
   "execution_count": 14,
   "metadata": {},
   "outputs": [
    {
     "name": "stderr",
     "output_type": "stream",
     "text": [
      "\n",
      "\n",
      "  0%|          | 0/712 [00:00<?, ?it/s]\u001b[A\u001b[A\n",
      "\n",
      " 11%|█         | 80/712 [00:00<00:00, 798.45it/s]\u001b[A\u001b[A\n",
      "\n",
      " 27%|██▋       | 190/712 [00:00<00:00, 868.02it/s]\u001b[A\u001b[A\n",
      "\n",
      " 44%|████▎     | 310/712 [00:00<00:00, 946.30it/s]\u001b[A\u001b[A\n",
      "\n",
      " 63%|██████▎   | 447/712 [00:00<00:00, 1042.22it/s]\u001b[A\u001b[A\n",
      "\n",
      " 81%|████████  | 578/712 [00:00<00:00, 1109.60it/s]\u001b[A\u001b[A\n",
      "\n",
      " 98%|█████████▊| 701/712 [00:00<00:00, 1141.52it/s]\u001b[A\u001b[A\n",
      "\n",
      "100%|██████████| 712/712 [00:00<00:00, 1156.69it/s]\u001b[A\u001b[A"
     ]
    },
    {
     "name": "stdout",
     "output_type": "stream",
     "text": [
      "710\n"
     ]
    }
   ],
   "source": [
    "\n",
    "# st, el = 1, 712\n",
    "\n",
    "# savl = []\n",
    "# for i in tqdm(range(st, el+1)):\n",
    "#     pi = f\"{pimg}/\"+f\"00000{i}\"[-5:]+\".jpg\"\n",
    "#     op = f\"{pout}/images/\"+f\"00000{i}\"[-5:]+\".jpg\"\n",
    "    \n",
    "#     if not os.path.exists(op):\n",
    "#         img = cv.imread(pi)\n",
    "#         cv.imwrite(op, img)\n",
    "#         savl.append(1)\n",
    "# print(len(savl))\n"
   ]
  },
  {
   "cell_type": "code",
   "execution_count": 15,
   "metadata": {},
   "outputs": [
    {
     "name": "stdout",
     "output_type": "stream",
     "text": [
      ".....\n",
      "  adding: images/ (stored 0%)\n",
      "  adding: images/00132.jpg (deflated 6%)\n",
      "  adding: images/00654.jpg (deflated 6%)\n",
      "  adding: images/00640.jpg (deflated 6%)\n",
      "  adding: images/00126.jpg (deflated 5%)\n",
      "  adding: images/00668.jpg (deflated 6%)\n",
      "  adding: images/00697.jpg (deflated 6%)\n",
      "  adding: images/00683.jpg (deflated 6%)\n",
      "  adding: images/00456.jpg (deflated 6%)\n",
      "  adding: images/00330.jpg (deflated 6%)\n",
      "  adding: images/00324.jpg (deflated 6%)\n",
      "  adding: images/00442.jpg (deflated 6%)\n",
      "  adding: images/00318.jpg (deflated 6%)\n",
      "  adding: images/00495.jpg (deflated 6%)\n",
      "  adding: images/00481.jpg (deflated 6%)\n",
      "  adding: images/00522.jpg (deflated 5%)\n",
      "  adding: images/00244.jpg (deflated 6%)\n",
      "  adding: images/00250.jpg (deflated 6%)\n",
      "  adding: images/00536.jpg (deflated 6%)\n",
      "  adding: images/00278.jpg (deflated 6%)\n",
      "  adding: images/00287.jpg (deflated 6%)\n",
      "  adding: images/00293.jpg (deflated 6%)\n",
      "  adding: images/00046.jpg (deflated 6%)\n",
      "  adding: images/00052.jpg (deflated 6%)\n",
      "  adding: images/00708.jpg (deflated 6%)\n",
      "  adding: images/00085.jpg (deflated 6%)\n",
      "  adding: images/00091.jpg (deflated 6%)\n",
      "  adding: images/00090.jpg (deflated 6%)\n",
      "  adding: images/00084.jpg (deflated 5%)\n",
      "  adding: images/00709.jpg (deflated 6%)\n",
      "  adding: images/00053.jpg (deflated 6%)\n",
      "  adding: images/00047.jpg (deflated 6%)\n",
      "  adding: images/00292.jpg (deflated 6%)\n",
      "  adding: images/00286.jpg (deflated 6%)\n",
      "  adding: images/00279.jpg (deflated 5%)\n",
      "  adding: images/00251.jpg (deflated 5%)\n",
      "  adding: images/00537.jpg (deflated 5%)\n",
      "  adding: images/00523.jpg (deflated 6%)\n",
      "  adding: images/00245.jpg (deflated 6%)\n",
      "  adding: images/00480.jpg (deflated 6%)\n",
      "  adding: images/00494.jpg (deflated 5%)\n",
      "  adding: images/00319.jpg (deflated 6%)\n",
      "  adding: images/00325.jpg (deflated 5%)\n",
      "  adding: images/00443.jpg (deflated 6%)\n",
      "  adding: images/00457.jpg (deflated 5%)\n",
      "  adding: images/00331.jpg (deflated 6%)\n",
      "  adding: images/00682.jpg (deflated 6%)\n",
      "  adding: images/00696.jpg (deflated 6%)\n",
      "  adding: images/00669.jpg (deflated 6%)\n",
      "  adding: images/00641.jpg (deflated 6%)\n",
      "  adding: images/00127.jpg (deflated 6%)\n",
      "  adding: images/00133.jpg (deflated 6%)\n",
      "  adding: images/00655.jpg (deflated 5%)\n",
      "  adding: images/00125.jpg (deflated 5%)\n",
      "  adding: images/00643.jpg (deflated 6%)\n",
      "  adding: images/00657.jpg (deflated 6%)\n",
      "  adding: images/00131.jpg (deflated 6%)\n",
      "  adding: images/00119.jpg (deflated 6%)\n",
      "  adding: images/00680.jpg (deflated 6%)\n",
      "  adding: images/00694.jpg (deflated 6%)\n",
      "  adding: images/00441.jpg (deflated 5%)\n",
      "  adding: images/00327.jpg (deflated 6%)\n",
      "  adding: images/00333.jpg (deflated 6%)\n",
      "  adding: images/00455.jpg (deflated 6%)\n",
      "  adding: images/00469.jpg (deflated 6%)\n",
      "  adding: images/00482.jpg (deflated 5%)\n",
      "  adding: images/00496.jpg (deflated 6%)\n",
      "  adding: images/00535.jpg (deflated 6%)\n",
      "  adding: images/00253.jpg (deflated 6%)\n",
      "  adding: images/00247.jpg (deflated 6%)\n",
      "  adding: images/00521.jpg (deflated 6%)\n",
      "  adding: images/00509.jpg (deflated 6%)\n",
      "  adding: images/00290.jpg (deflated 6%)\n",
      "  adding: images/00284.jpg (deflated 6%)\n",
      "  adding: images/00051.jpg (deflated 6%)\n",
      "  adding: images/00045.jpg (deflated 5%)\n",
      "  adding: images/00079.jpg (deflated 6%)\n",
      "  adding: images/00092.jpg (deflated 6%)\n",
      "  adding: images/00086.jpg (deflated 5%)\n",
      "  adding: images/00087.jpg (deflated 5%)\n",
      "  adding: images/00093.jpg (deflated 6%)\n",
      "  adding: images/00078.jpg (deflated 6%)\n",
      "  adding: images/00044.jpg (deflated 6%)\n",
      "  adding: images/00050.jpg (deflated 5%)\n",
      "  adding: images/00285.jpg (deflated 6%)\n",
      "  adding: images/00291.jpg (deflated 6%)\n",
      "  adding: images/00508.jpg (deflated 6%)\n",
      "  adding: images/00246.jpg (deflated 6%)\n",
      "  adding: images/00520.jpg (deflated 6%)\n",
      "  adding: images/00534.jpg (deflated 5%)\n",
      "  adding: images/00252.jpg (deflated 6%)\n",
      "  adding: images/00497.jpg (deflated 6%)\n",
      "  adding: images/00483.jpg (deflated 6%)\n",
      "  adding: images/00468.jpg (deflated 6%)\n",
      "  adding: images/00332.jpg (deflated 6%)\n",
      "  adding: images/00454.jpg (deflated 6%)\n",
      "  adding: images/00440.jpg (deflated 6%)\n",
      "  adding: images/00326.jpg (deflated 6%)\n",
      "  adding: images/00695.jpg (deflated 5%)\n",
      "  adding: images/00681.jpg (deflated 6%)\n",
      "  adding: images/00118.jpg (deflated 6%)\n",
      "  adding: images/00656.jpg (deflated 6%)\n",
      "  adding: images/00130.jpg (deflated 5%)\n",
      "  adding: images/00124.jpg (deflated 6%)\n",
      "  adding: images/00642.jpg (deflated 6%)\n",
      "  adding: images/00108.jpg (deflated 6%)\n",
      "  adding: images/00646.jpg (deflated 6%)\n",
      "  adding: images/00120.jpg (deflated 6%)\n",
      "  adding: images/00134.jpg (deflated 6%)\n",
      "  adding: images/00652.jpg (deflated 6%)\n",
      "  adding: images/00685.jpg (deflated 6%)\n",
      "  adding: images/00691.jpg (deflated 6%)\n",
      "  adding: images/00478.jpg (deflated 6%)\n",
      "  adding: images/00322.jpg (deflated 6%)\n",
      "  adding: images/00444.jpg (deflated 6%)\n",
      "  adding: images/00450.jpg (deflated 6%)\n",
      "  adding: images/00336.jpg (deflated 6%)\n",
      "  adding: images/00487.jpg (deflated 6%)\n",
      "  adding: images/00493.jpg (deflated 6%)\n",
      "  adding: images/00518.jpg (deflated 5%)\n",
      "  adding: images/00256.jpg (deflated 5%)\n",
      "  adding: images/00530.jpg (deflated 6%)\n",
      "  adding: images/00524.jpg (deflated 6%)\n",
      "  adding: images/00242.jpg (deflated 6%)\n",
      "  adding: images/00295.jpg (deflated 6%)\n",
      "  adding: images/00281.jpg (deflated 5%)\n",
      "  adding: images/00068.jpg (deflated 6%)\n",
      "  adding: images/00054.jpg (deflated 6%)\n",
      "  adding: images/00040.jpg (deflated 6%)\n",
      "  adding: images/00097.jpg (deflated 6%)\n",
      "  adding: images/00083.jpg (deflated 6%)\n",
      "  adding: images/00082.jpg (deflated 6%)\n",
      "  adding: images/00096.jpg (deflated 6%)\n",
      "  adding: images/00041.jpg (deflated 6%)\n",
      "  adding: images/00055.jpg (deflated 6%)\n",
      "  adding: images/00069.jpg (deflated 6%)\n",
      "  adding: images/00280.jpg (deflated 6%)\n",
      "  adding: images/00294.jpg (deflated 6%)\n",
      "  adding: images/00525.jpg (deflated 5%)\n",
      "  adding: images/00243.jpg (deflated 5%)\n",
      "  adding: images/00257.jpg (deflated 6%)\n",
      "  adding: images/00531.jpg (deflated 6%)\n",
      "  adding: images/00519.jpg (deflated 5%)\n",
      "  adding: images/00492.jpg (deflated 5%)\n",
      "  adding: images/00486.jpg (deflated 5%)\n",
      "  adding: images/00451.jpg (deflated 6%)\n",
      "  adding: images/00337.jpg (deflated 5%)\n",
      "  adding: images/00323.jpg (deflated 6%)\n",
      "  adding: images/00445.jpg (deflated 6%)\n",
      "  adding: images/00479.jpg (deflated 6%)\n",
      "  adding: images/00690.jpg (deflated 7%)\n",
      "  adding: images/00684.jpg (deflated 5%)\n",
      "  adding: images/00135.jpg (deflated 6%)\n",
      "  adding: images/00653.jpg (deflated 6%)\n",
      "  adding: images/00647.jpg (deflated 6%)\n",
      "  adding: images/00121.jpg (deflated 6%)\n",
      "  adding: images/00109.jpg (deflated 6%)\n",
      "  adding: images/00679.jpg (deflated 6%)\n",
      "  adding: images/00651.jpg (deflated 6%)\n",
      "  adding: images/00137.jpg (deflated 6%)\n",
      "  adding: images/00123.jpg (deflated 6%)\n",
      "  adding: images/00645.jpg (deflated 5%)\n",
      "  adding: images/00692.jpg (deflated 6%)\n",
      "  adding: images/00686.jpg (deflated 6%)\n",
      "  adding: images/00309.jpg (deflated 6%)\n",
      "  adding: images/00335.jpg (deflated 6%)\n",
      "  adding: images/00453.jpg (deflated 6%)\n",
      "  adding: images/00447.jpg (deflated 6%)\n",
      "  adding: images/00321.jpg (deflated 7%)\n",
      "  adding: images/00490.jpg (deflated 6%)\n",
      "  adding: images/00484.jpg (deflated 6%)\n",
      "  adding: images/00269.jpg (deflated 6%)\n",
      "  adding: images/00241.jpg (deflated 6%)\n",
      "  adding: images/00527.jpg (deflated 5%)\n",
      "  adding: images/00533.jpg (deflated 6%)\n",
      "  adding: images/00255.jpg (deflated 5%)\n",
      "  adding: images/00282.jpg (deflated 6%)\n",
      "  adding: images/00296.jpg (deflated 6%)\n",
      "  adding: images/00043.jpg (deflated 6%)\n",
      "  adding: images/00057.jpg (deflated 5%)\n",
      "  adding: images/00080.jpg (deflated 6%)\n",
      "  adding: images/00094.jpg (deflated 6%)\n",
      "  adding: images/00095.jpg (deflated 6%)\n",
      "  adding: images/00081.jpg (deflated 6%)\n",
      "  adding: images/00056.jpg (deflated 6%)\n",
      "  adding: images/00042.jpg (deflated 6%)\n",
      "  adding: images/00297.jpg (deflated 6%)\n",
      "  adding: images/00283.jpg (deflated 5%)\n",
      "  adding: images/00532.jpg (deflated 6%)\n",
      "  adding: images/00254.jpg (deflated 6%)\n",
      "  adding: images/00240.jpg (deflated 5%)\n",
      "  adding: images/00526.jpg (deflated 6%)\n",
      "  adding: images/00268.jpg (deflated 6%)\n",
      "  adding: images/00485.jpg (deflated 6%)\n",
      "  adding: images/00491.jpg (deflated 6%)\n",
      "  adding: images/00446.jpg (deflated 6%)\n",
      "  adding: images/00320.jpg (deflated 5%)\n",
      "  adding: images/00334.jpg (deflated 6%)\n",
      "  adding: images/00452.jpg (deflated 6%)\n",
      "  adding: images/00308.jpg (deflated 6%)\n",
      "  adding: images/00687.jpg (deflated 5%)\n",
      "  adding: images/00693.jpg (deflated 6%)\n",
      "  adding: images/00122.jpg (deflated 6%)\n",
      "  adding: images/00644.jpg (deflated 6%)\n",
      "  adding: images/00650.jpg (deflated 6%)\n",
      "  adding: images/00136.jpg (deflated 6%)\n",
      "  adding: images/00678.jpg (deflated 6%)\n",
      "  adding: images/00637.jpg (deflated 5%)\n",
      "  adding: images/00151.jpg (deflated 5%)\n",
      "  adding: images/00145.jpg (deflated 6%)\n",
      "  adding: images/00623.jpg (deflated 6%)\n",
      "  adding: images/00179.jpg (deflated 6%)\n",
      "  adding: images/00192.jpg (deflated 6%)\n",
      "  adding: images/00186.jpg (deflated 5%)\n",
      "  adding: images/00353.jpg (deflated 7%)\n",
      "  adding: images/00435.jpg (deflated 6%)\n",
      "  adding: images/00421.jpg (deflated 6%)\n",
      "  adding: images/00347.jpg (deflated 6%)\n",
      "  adding: images/00409.jpg (deflated 7%)\n"
     ]
    },
    {
     "name": "stdout",
     "output_type": "stream",
     "text": [
      "  adding: images/00390.jpg (deflated 6%)\r\n",
      "  adding: images/00384.jpg (deflated 6%)\r\n",
      "  adding: images/00227.jpg (deflated 5%)\r\n",
      "  adding: images/00541.jpg (deflated 6%)\r\n",
      "  adding: images/00555.jpg (deflated 6%)\r\n",
      "  adding: images/00233.jpg (deflated 6%)\r\n",
      "  adding: images/00569.jpg (deflated 6%)\r\n",
      "  adding: images/00582.jpg (deflated 6%)\r\n",
      "  adding: images/00596.jpg (deflated 6%)\r\n",
      "  adding: images/00025.jpg (deflated 5%)\r\n",
      "  adding: images/00031.jpg (deflated 6%)\r\n",
      "  adding: images/00019.jpg (deflated 6%)\r\n",
      "  adding: images/00018.jpg (deflated 6%)\r\n",
      "  adding: images/00030.jpg (deflated 6%)\r\n",
      "  adding: images/00024.jpg (deflated 6%)\r\n",
      "  adding: images/00597.jpg (deflated 6%)\r\n",
      "  adding: images/00583.jpg (deflated 6%)\r\n",
      "  adding: images/00568.jpg (deflated 6%)\r\n",
      "  adding: images/00554.jpg (deflated 6%)\r\n",
      "  adding: images/00232.jpg (deflated 5%)\r\n",
      "  adding: images/00226.jpg (deflated 6%)\r\n",
      "  adding: images/00540.jpg (deflated 6%)\r\n",
      "  adding: images/00385.jpg (deflated 6%)\r\n",
      "  adding: images/00391.jpg (deflated 5%)\r\n",
      "  adding: images/00408.jpg (deflated 6%)\r\n",
      "  adding: images/00420.jpg (deflated 5%)\r\n",
      "  adding: images/00346.jpg (deflated 5%)\r\n",
      "  adding: images/00352.jpg (deflated 6%)\r\n",
      "  adding: images/00434.jpg (deflated 6%)\r\n",
      "  adding: images/00187.jpg (deflated 6%)\r\n",
      "  adding: images/00193.jpg (deflated 5%)\r\n",
      "  adding: images/00178.jpg (deflated 6%)\r\n",
      "  adding: images/00144.jpg (deflated 6%)\r\n",
      "  adding: images/00622.jpg (deflated 6%)\r\n",
      "  adding: images/00636.jpg (deflated 5%)\r\n",
      "  adding: images/00150.jpg (deflated 6%)\r\n",
      "  adding: images/00620.jpg (deflated 6%)\r\n",
      "  adding: images/00146.jpg (deflated 6%)\r\n",
      "  adding: images/00152.jpg (deflated 6%)\r\n",
      "  adding: images/00634.jpg (deflated 6%)\r\n",
      "  adding: images/00608.jpg (deflated 6%)\r\n",
      "  adding: images/00185.jpg (deflated 6%)\r\n",
      "  adding: images/00191.jpg (deflated 6%)\r\n",
      "  adding: images/00344.jpg (deflated 6%)\r\n",
      "  adding: images/00422.jpg (deflated 6%)\r\n",
      "  adding: images/00436.jpg (deflated 6%)\r\n",
      "  adding: images/00350.jpg (deflated 5%)\r\n",
      "  adding: images/00378.jpg (deflated 5%)\r\n",
      "  adding: images/00387.jpg (deflated 6%)\r\n",
      "  adding: images/00393.jpg (deflated 6%)\r\n",
      "  adding: images/00230.jpg (deflated 5%)\r\n",
      "  adding: images/00556.jpg (deflated 6%)\r\n",
      "  adding: images/00542.jpg (deflated 6%)\r\n",
      "  adding: images/00224.jpg (deflated 6%)\r\n",
      "  adding: images/00218.jpg (deflated 6%)\r\n",
      "  adding: images/00595.jpg (deflated 6%)\r\n",
      "  adding: images/00581.jpg (deflated 6%)\r\n",
      "  adding: images/00032.jpg (deflated 6%)\r\n",
      "  adding: images/00026.jpg (deflated 5%)\r\n",
      "  adding: images/00027.jpg (deflated 6%)\r\n",
      "  adding: images/00033.jpg (deflated 5%)\r\n",
      "  adding: images/00580.jpg (deflated 6%)\r\n",
      "  adding: images/00594.jpg (deflated 6%)\r\n",
      "  adding: images/00219.jpg (deflated 5%)\r\n",
      "  adding: images/00543.jpg (deflated 6%)\r\n",
      "  adding: images/00225.jpg (deflated 6%)\r\n",
      "  adding: images/00231.jpg (deflated 6%)\r\n",
      "  adding: images/00557.jpg (deflated 6%)\r\n",
      "  adding: images/00392.jpg (deflated 5%)\r\n",
      "  adding: images/00386.jpg (deflated 5%)\r\n",
      "  adding: images/00379.jpg (deflated 5%)\r\n",
      "  adding: images/00437.jpg (deflated 6%)\r\n",
      "  adding: images/00351.jpg (deflated 6%)\r\n",
      "  adding: images/00345.jpg (deflated 6%)\r\n",
      "  adding: images/00423.jpg (deflated 6%)\r\n",
      "  adding: images/00190.jpg (deflated 5%)\r\n",
      "  adding: images/00184.jpg (deflated 6%)\r\n",
      "  adding: images/00609.jpg (deflated 6%)\r\n",
      "  adding: images/00153.jpg (deflated 5%)\r\n",
      "  adding: images/00635.jpg (deflated 6%)\r\n",
      "  adding: images/00621.jpg (deflated 6%)\r\n",
      "  adding: images/00147.jpg (deflated 6%)\r\n",
      "  adding: images/00619.jpg (deflated 5%)\r\n",
      "  adding: images/00143.jpg (deflated 6%)\r\n",
      "  adding: images/00625.jpg (deflated 6%)\r\n",
      "  adding: images/00631.jpg (deflated 7%)\r\n",
      "  adding: images/00157.jpg (deflated 6%)\r\n",
      "  adding: images/00180.jpg (deflated 5%)\r\n",
      "  adding: images/00194.jpg (deflated 6%)\r\n",
      "  adding: images/00369.jpg (deflated 6%)\r\n",
      "  adding: images/00427.jpg (deflated 6%)\r\n",
      "  adding: images/00341.jpg (deflated 6%)\r\n",
      "  adding: images/00355.jpg (deflated 6%)\r\n",
      "  adding: images/00433.jpg (deflated 6%)\r\n",
      "  adding: images/00382.jpg (deflated 6%)\r\n",
      "  adding: images/00396.jpg (deflated 6%)\r\n",
      "  adding: images/00209.jpg (deflated 6%)\r\n",
      "  adding: images/00553.jpg (deflated 5%)\r\n",
      "  adding: images/00235.jpg (deflated 6%)\r\n",
      "  adding: images/00221.jpg (deflated 5%)\r\n",
      "  adding: images/00547.jpg (deflated 6%)\r\n",
      "  adding: images/00590.jpg (deflated 5%)\r\n",
      "  adding: images/00584.jpg (deflated 6%)\r\n",
      "  adding: images/00037.jpg (deflated 6%)\r\n",
      "  adding: images/00023.jpg (deflated 5%)\r\n",
      "  adding: images/00022.jpg (deflated 6%)\r\n",
      "  adding: images/00036.jpg (deflated 6%)\r\n",
      "  adding: images/00585.jpg (deflated 6%)\r\n",
      "  adding: images/00591.jpg (deflated 5%)\r\n",
      "  adding: images/00220.jpg (deflated 6%)\r\n",
      "  adding: images/00546.jpg (deflated 6%)\r\n",
      "  adding: images/00552.jpg (deflated 6%)\r\n",
      "  adding: images/00234.jpg (deflated 6%)\r\n",
      "  adding: images/00208.jpg (deflated 6%)\r\n",
      "  adding: images/00397.jpg (deflated 5%)\r\n",
      "  adding: images/00383.jpg (deflated 5%)\r\n",
      "  adding: images/00354.jpg (deflated 6%)\r\n",
      "  adding: images/00432.jpg (deflated 6%)\r\n",
      "  adding: images/00426.jpg (deflated 6%)\r\n",
      "  adding: images/00340.jpg (deflated 6%)\r\n",
      "  adding: images/00368.jpg (deflated 6%)\r\n",
      "  adding: images/00195.jpg (deflated 6%)\r\n",
      "  adding: images/00181.jpg (deflated 6%)\r\n",
      "  adding: images/00630.jpg (deflated 6%)\r\n",
      "  adding: images/00156.jpg (deflated 6%)\r\n",
      "  adding: images/00142.jpg (deflated 6%)\r\n",
      "  adding: images/00624.jpg (deflated 6%)\r\n",
      "  adding: images/00618.jpg (deflated 6%)\r\n",
      "  adding: images/00168.jpg (deflated 5%)\r\n",
      "  adding: images/00154.jpg (deflated 6%)\r\n",
      "  adding: images/00632.jpg (deflated 5%)\r\n",
      "  adding: images/00626.jpg (deflated 6%)\r\n",
      "  adding: images/00140.jpg (deflated 6%)\r\n",
      "  adding: images/00197.jpg (deflated 6%)\r\n",
      "  adding: images/00183.jpg (deflated 5%)\r\n",
      "  adding: images/00418.jpg (deflated 6%)\r\n",
      "  adding: images/00430.jpg (deflated 6%)\r\n",
      "  adding: images/00356.jpg (deflated 6%)\r\n",
      "  adding: images/00342.jpg (deflated 5%)\r\n",
      "  adding: images/00424.jpg (deflated 5%)\r\n",
      "  adding: images/00395.jpg (deflated 6%)\r\n",
      "  adding: images/00381.jpg (deflated 6%)\r\n",
      "  adding: images/00578.jpg (deflated 6%)\r\n",
      "  adding: images/00544.jpg (deflated 6%)\r\n",
      "  adding: images/00222.jpg (deflated 6%)\r\n",
      "  adding: images/00236.jpg (deflated 5%)\r\n",
      "  adding: images/00550.jpg (deflated 6%)\r\n",
      "  adding: images/00587.jpg (deflated 5%)\r\n",
      "  adding: images/00593.jpg (deflated 6%)\r\n",
      "  adding: images/00008.jpg (deflated 6%)\r\n",
      "  adding: images/00020.jpg (deflated 6%)\r\n",
      "  adding: images/00034.jpg (deflated 6%)\r\n",
      "  adding: images/00035.jpg (deflated 5%)\r\n",
      "  adding: images/00021.jpg (deflated 6%)\r\n",
      "  adding: images/00009.jpg (deflated 6%)\r\n",
      "  adding: images/00592.jpg (deflated 6%)\r\n",
      "  adding: images/00586.jpg (deflated 5%)\r\n",
      "  adding: images/00237.jpg (deflated 6%)\r\n",
      "  adding: images/00551.jpg (deflated 6%)\r\n",
      "  adding: images/00545.jpg (deflated 5%)\r\n",
      "  adding: images/00223.jpg (deflated 6%)\r\n",
      "  adding: images/00579.jpg (deflated 6%)\r\n",
      "  adding: images/00380.jpg (deflated 5%)\r\n",
      "  adding: images/00394.jpg (deflated 6%)\r\n",
      "  adding: images/00343.jpg (deflated 5%)\r\n",
      "  adding: images/00425.jpg (deflated 5%)\r\n",
      "  adding: images/00431.jpg (deflated 6%)\r\n",
      "  adding: images/00357.jpg (deflated 5%)\r\n",
      "  adding: images/00419.jpg (deflated 6%)\r\n",
      "  adding: images/00182.jpg (deflated 6%)\r\n",
      "  adding: images/00196.jpg (deflated 6%)\r\n",
      "  adding: images/00627.jpg (deflated 6%)\r\n",
      "  adding: images/00141.jpg (deflated 5%)\r\n",
      "  adding: images/00155.jpg (deflated 6%)\r\n",
      "  adding: images/00633.jpg (deflated 6%)\r\n",
      "  adding: images/00169.jpg (deflated 6%)\r\n",
      "  adding: images/00616.jpg (deflated 6%)\r\n",
      "  adding: images/00170.jpg (deflated 5%)\r\n",
      "  adding: images/00164.jpg (deflated 5%)\r\n",
      "  adding: images/00602.jpg (deflated 6%)\r\n",
      "  adding: images/00158.jpg (deflated 5%)\r\n",
      "  adding: images/00372.jpg (deflated 6%)\r\n",
      "  adding: images/00414.jpg (deflated 5%)\r\n",
      "  adding: images/00400.jpg (deflated 6%)\r\n",
      "  adding: images/00366.jpg (deflated 6%)\r\n",
      "  adding: images/00428.jpg (deflated 6%)\r\n",
      "  adding: images/00399.jpg (deflated 6%)\r\n",
      "  adding: images/00206.jpg (deflated 5%)\r\n",
      "  adding: images/00560.jpg (deflated 6%)\r\n",
      "  adding: images/00574.jpg (deflated 6%)\r\n",
      "  adding: images/00212.jpg (deflated 6%)\r\n",
      "  adding: images/00548.jpg (deflated 5%)\r\n",
      "  adding: images/00004.jpg (deflated 5%)\r\n",
      "  adding: images/00010.jpg (deflated 6%)\r\n",
      "  adding: images/00038.jpg (deflated 6%)\r\n",
      "  adding: images/00039.jpg (deflated 6%)\r\n",
      "  adding: images/00011.jpg (deflated 6%)\r\n",
      "  adding: images/00005.jpg (deflated 6%)\r\n",
      "  adding: images/00549.jpg (deflated 6%)\r\n",
      "  adding: images/00575.jpg (deflated 5%)\r\n",
      "  adding: images/00213.jpg (deflated 5%)\r\n",
      "  adding: images/00207.jpg (deflated 6%)\r\n",
      "  adding: images/00561.jpg (deflated 6%)\r\n",
      "  adding: images/00398.jpg (deflated 5%)\r\n",
      "  adding: images/00429.jpg (deflated 6%)\r\n",
      "  adding: images/00401.jpg (deflated 6%)\r\n",
      "  adding: images/00367.jpg (deflated 6%)\r\n",
      "  adding: images/00373.jpg (deflated 6%)\r\n",
      "  adding: images/00415.jpg (deflated 5%)\r\n",
      "  adding: images/00159.jpg (deflated 5%)\r\n",
      "  adding: images/00165.jpg (deflated 6%)\r\n",
      "  adding: images/00603.jpg (deflated 6%)\r\n",
      "  adding: images/00617.jpg (deflated 5%)\r\n",
      "  adding: images/00171.jpg (deflated 6%)\r\n",
      "  adding: images/00601.jpg (deflated 6%)\r\n",
      "  adding: images/00167.jpg (deflated 6%)\r\n",
      "  adding: images/00173.jpg (deflated 6%)\r\n",
      "  adding: images/00615.jpg (deflated 6%)\r\n",
      "  adding: images/00629.jpg (deflated 6%)\r\n",
      "  adding: images/00198.jpg (deflated 6%)\r\n",
      "  adding: images/00365.jpg (deflated 6%)\r\n",
      "  adding: images/00403.jpg (deflated 6%)\r\n",
      "  adding: images/00417.jpg (deflated 5%)\r\n",
      "  adding: images/00371.jpg (deflated 6%)\r\n",
      "  adding: images/00359.jpg (deflated 6%)\r\n",
      "  adding: images/00211.jpg (deflated 6%)\r\n",
      "  adding: images/00577.jpg (deflated 6%)\r\n"
     ]
    },
    {
     "name": "stdout",
     "output_type": "stream",
     "text": [
      "  adding: images/00563.jpg (deflated 5%)\r\n",
      "  adding: images/00205.jpg (deflated 6%)\r\n",
      "  adding: images/00239.jpg (deflated 6%)\r\n",
      "  adding: images/00588.jpg (deflated 6%)\r\n",
      "  adding: images/00013.jpg (deflated 6%)\r\n",
      "  adding: images/00007.jpg (deflated 6%)\r\n",
      "  adding: images/00006.jpg (deflated 6%)\r\n",
      "  adding: images/00012.jpg (deflated 6%)\r\n",
      "  adding: images/00589.jpg (deflated 6%)\r\n",
      "  adding: images/00238.jpg (deflated 6%)\r\n",
      "  adding: images/00562.jpg (deflated 5%)\r\n",
      "  adding: images/00204.jpg (deflated 6%)\r\n",
      "  adding: images/00210.jpg (deflated 5%)\r\n",
      "  adding: images/00576.jpg (deflated 6%)\r\n",
      "  adding: images/00358.jpg (deflated 6%)\r\n",
      "  adding: images/00416.jpg (deflated 6%)\r\n",
      "  adding: images/00370.jpg (deflated 6%)\r\n",
      "  adding: images/00364.jpg (deflated 5%)\r\n",
      "  adding: images/00402.jpg (deflated 6%)\r\n",
      "  adding: images/00199.jpg (deflated 6%)\r\n",
      "  adding: images/00628.jpg (deflated 6%)\r\n",
      "  adding: images/00172.jpg (deflated 6%)\r\n",
      "  adding: images/00614.jpg (deflated 5%)\r\n",
      "  adding: images/00600.jpg (deflated 6%)\r\n",
      "  adding: images/00166.jpg (deflated 6%)\r\n",
      "  adding: images/00638.jpg (deflated 6%)\r\n",
      "  adding: images/00162.jpg (deflated 6%)\r\n",
      "  adding: images/00604.jpg (deflated 6%)\r\n",
      "  adding: images/00610.jpg (deflated 6%)\r\n",
      "  adding: images/00176.jpg (deflated 6%)\r\n",
      "  adding: images/00189.jpg (deflated 7%)\r\n",
      "  adding: images/00348.jpg (deflated 6%)\r\n",
      "  adding: images/00406.jpg (deflated 6%)\r\n",
      "  adding: images/00360.jpg (deflated 6%)\r\n",
      "  adding: images/00374.jpg (deflated 6%)\r\n",
      "  adding: images/00412.jpg (deflated 5%)\r\n",
      "  adding: images/00228.jpg (deflated 6%)\r\n",
      "  adding: images/00572.jpg (deflated 6%)\r\n",
      "  adding: images/00214.jpg (deflated 5%)\r\n",
      "  adding: images/00200.jpg (deflated 6%)\r\n",
      "  adding: images/00566.jpg (deflated 6%)\r\n",
      "  adding: images/00599.jpg (deflated 6%)\r\n",
      "  adding: images/00016.jpg (deflated 6%)\r\n",
      "  adding: images/00002.jpg (deflated 3%)\r\n",
      "  adding: images/00003.jpg (deflated 6%)\r\n",
      "  adding: images/00017.jpg (deflated 5%)\r\n",
      "  adding: images/00598.jpg (deflated 6%)\r\n",
      "  adding: images/00201.jpg (deflated 5%)\r\n",
      "  adding: images/00567.jpg (deflated 6%)\r\n",
      "  adding: images/00573.jpg (deflated 6%)\r\n",
      "  adding: images/00215.jpg (deflated 6%)\r\n",
      "  adding: images/00229.jpg (deflated 6%)\r\n",
      "  adding: images/00375.jpg (deflated 6%)\r\n",
      "  adding: images/00413.jpg (deflated 6%)\r\n",
      "  adding: images/00407.jpg (deflated 6%)\r\n",
      "  adding: images/00361.jpg (deflated 5%)\r\n",
      "  adding: images/00349.jpg (deflated 5%)\r\n",
      "  adding: images/00188.jpg (deflated 6%)\r\n",
      "  adding: images/00611.jpg (deflated 6%)\r\n",
      "  adding: images/00177.jpg (deflated 6%)\r\n",
      "  adding: images/00163.jpg (deflated 6%)\r\n",
      "  adding: images/00605.jpg (deflated 6%)\r\n",
      "  adding: images/00639.jpg (deflated 5%)\r\n",
      "  adding: images/00149.jpg (deflated 6%)\r\n",
      "  adding: images/00175.jpg (deflated 6%)\r\n",
      "  adding: images/00613.jpg (deflated 6%)\r\n",
      "  adding: images/00607.jpg (deflated 6%)\r\n",
      "  adding: images/00161.jpg (deflated 6%)\r\n",
      "  adding: images/00439.jpg (deflated 6%)\r\n",
      "  adding: images/00411.jpg (deflated 6%)\r\n",
      "  adding: images/00377.jpg (deflated 6%)\r\n",
      "  adding: images/00363.jpg (deflated 6%)\r\n",
      "  adding: images/00405.jpg (deflated 6%)\r\n",
      "  adding: images/00388.jpg (deflated 6%)\r\n",
      "  adding: images/00559.jpg (deflated 6%)\r\n",
      "  adding: images/00565.jpg (deflated 6%)\r\n",
      "  adding: images/00203.jpg (deflated 6%)\r\n",
      "  adding: images/00217.jpg (deflated 6%)\r\n",
      "  adding: images/00571.jpg (deflated 6%)\r\n",
      "  adding: images/00029.jpg (deflated 6%)\r\n",
      "  adding: images/00001.jpg (deflated 3%)\r\n",
      "  adding: images/00015.jpg (deflated 6%)\r\n",
      "  adding: images/00014.jpg (deflated 6%)\r\n",
      "  adding: images/00028.jpg (deflated 6%)\r\n",
      "  adding: images/00216.jpg (deflated 5%)\r\n",
      "  adding: images/00570.jpg (deflated 5%)\r\n",
      "  adding: images/00564.jpg (deflated 6%)\r\n",
      "  adding: images/00202.jpg (deflated 6%)\r\n",
      "  adding: images/00558.jpg (deflated 5%)\r\n",
      "  adding: images/00389.jpg (deflated 5%)\r\n",
      "  adding: images/00362.jpg (deflated 6%)\r\n",
      "  adding: images/00404.jpg (deflated 6%)\r\n",
      "  adding: images/00410.jpg (deflated 6%)\r\n",
      "  adding: images/00376.jpg (deflated 6%)\r\n",
      "  adding: images/00438.jpg (deflated 6%)\r\n",
      "  adding: images/00606.jpg (deflated 6%)\r\n",
      "  adding: images/00160.jpg (deflated 5%)\r\n",
      "  adding: images/00174.jpg (deflated 5%)\r\n",
      "  adding: images/00612.jpg (deflated 6%)\r\n",
      "  adding: images/00148.jpg (deflated 6%)\r\n",
      "  adding: images/00113.jpg (deflated 6%)\r\n",
      "  adding: images/00675.jpg (deflated 5%)\r\n",
      "  adding: images/00661.jpg (deflated 6%)\r\n",
      "  adding: images/00107.jpg (deflated 6%)\r\n",
      "  adding: images/00649.jpg (deflated 6%)\r\n",
      "  adding: images/00477.jpg (deflated 6%)\r\n",
      "  adding: images/00311.jpg (deflated 5%)\r\n",
      "  adding: images/00305.jpg (deflated 5%)\r\n",
      "  adding: images/00463.jpg (deflated 6%)\r\n",
      "  adding: images/00339.jpg (deflated 6%)\r\n",
      "  adding: images/00488.jpg (deflated 6%)\r\n",
      "  adding: images/00503.jpg (deflated 5%)\r\n",
      "  adding: images/00265.jpg (deflated 5%)\r\n",
      "  adding: images/00271.jpg (deflated 6%)\r\n",
      "  adding: images/00517.jpg (deflated 5%)\r\n",
      "  adding: images/00259.jpg (deflated 6%)\r\n",
      "  adding: images/00067.jpg (deflated 6%)\r\n",
      "  adding: images/00701.jpg (deflated 6%)\r\n",
      "  adding: images/00073.jpg (deflated 6%)\r\n",
      "  adding: images/00098.jpg (deflated 6%)\r\n",
      "  adding: images/00099.jpg (deflated 6%)\r\n",
      "  adding: images/00072.jpg (deflated 6%)\r\n",
      "  adding: images/00066.jpg (deflated 6%)\r\n",
      "  adding: images/00700.jpg (deflated 6%)\r\n",
      "  adding: images/00258.jpg (deflated 5%)\r\n",
      "  adding: images/00270.jpg (deflated 5%)\r\n",
      "  adding: images/00516.jpg (deflated 6%)\r\n",
      "  adding: images/00502.jpg (deflated 6%)\r\n",
      "  adding: images/00264.jpg (deflated 5%)\r\n",
      "  adding: images/00489.jpg (deflated 6%)\r\n",
      "  adding: images/00338.jpg (deflated 5%)\r\n",
      "  adding: images/00304.jpg (deflated 6%)\r\n",
      "  adding: images/00462.jpg (deflated 6%)\r\n",
      "  adding: images/00476.jpg (deflated 6%)\r\n",
      "  adding: images/00310.jpg (deflated 6%)\r\n",
      "  adding: images/00648.jpg (deflated 6%)\r\n",
      "  adding: images/00660.jpg (deflated 6%)\r\n",
      "  adding: images/00106.jpg (deflated 6%)\r\n",
      "  adding: images/00112.jpg (deflated 6%)\r\n",
      "  adding: images/00674.jpg (deflated 6%)\r\n",
      "  adding: images/00104.jpg (deflated 6%)\r\n",
      "  adding: images/00662.jpg (deflated 6%)\r\n",
      "  adding: images/00676.jpg (deflated 6%)\r\n",
      "  adding: images/00110.jpg (deflated 5%)\r\n",
      "  adding: images/00138.jpg (deflated 6%)\r\n",
      "  adding: images/00689.jpg (deflated 6%)\r\n",
      "  adding: images/00460.jpg (deflated 5%)\r\n",
      "  adding: images/00306.jpg (deflated 6%)\r\n",
      "  adding: images/00312.jpg (deflated 6%)\r\n",
      "  adding: images/00474.jpg (deflated 6%)\r\n",
      "  adding: images/00448.jpg (deflated 6%)\r\n",
      "  adding: images/00514.jpg (deflated 6%)\r\n",
      "  adding: images/00272.jpg (deflated 6%)\r\n",
      "  adding: images/00266.jpg (deflated 6%)\r\n",
      "  adding: images/00500.jpg (deflated 6%)\r\n",
      "  adding: images/00528.jpg (deflated 6%)\r\n",
      "  adding: images/00299.jpg (deflated 5%)\r\n",
      "  adding: images/00070.jpg (deflated 6%)\r\n",
      "  adding: images/00702.jpg (deflated 6%)\r\n",
      "  adding: images/00064.jpg (deflated 6%)\r\n",
      "  adding: images/00058.jpg (deflated 6%)\r\n",
      "  adding: images/00059.jpg (deflated 6%)\r\n",
      "  adding: images/00703.jpg (deflated 6%)\r\n",
      "  adding: images/00065.jpg (deflated 5%)\r\n",
      "  adding: images/00071.jpg (deflated 6%)\r\n",
      "  adding: images/00298.jpg (deflated 6%)\r\n",
      "  adding: images/00529.jpg (deflated 6%)\r\n",
      "  adding: images/00267.jpg (deflated 6%)\r\n",
      "  adding: images/00501.jpg (deflated 6%)\r\n",
      "  adding: images/00515.jpg (deflated 6%)\r\n",
      "  adding: images/00273.jpg (deflated 6%)\r\n",
      "  adding: images/00449.jpg (deflated 6%)\r\n",
      "  adding: images/00313.jpg (deflated 6%)\r\n",
      "  adding: images/00475.jpg (deflated 6%)\r\n",
      "  adding: images/00461.jpg (deflated 6%)\r\n",
      "  adding: images/00307.jpg (deflated 6%)\r\n",
      "  adding: images/00688.jpg (deflated 5%)\r\n",
      "  adding: images/00139.jpg (deflated 6%)\r\n",
      "  adding: images/00677.jpg (deflated 6%)\r\n",
      "  adding: images/00111.jpg (deflated 6%)\r\n",
      "  adding: images/00105.jpg (deflated 5%)\r\n",
      "  adding: images/00663.jpg (deflated 6%)\r\n",
      "  adding: images/00129.jpg (deflated 6%)\r\n",
      "  adding: images/00667.jpg (deflated 6%)\r\n",
      "  adding: images/00101.jpg (deflated 6%)\r\n",
      "  adding: images/00115.jpg (deflated 6%)\r\n",
      "  adding: images/00673.jpg (deflated 6%)\r\n",
      "  adding: images/00698.jpg (deflated 6%)\r\n",
      "  adding: images/00459.jpg (deflated 5%)\r\n",
      "  adding: images/00303.jpg (deflated 6%)\r\n",
      "  adding: images/00465.jpg (deflated 6%)\r\n",
      "  adding: images/00471.jpg (deflated 6%)\r\n",
      "  adding: images/00317.jpg (deflated 6%)\r\n",
      "  adding: images/00539.jpg (deflated 6%)\r\n",
      "  adding: images/00277.jpg (deflated 6%)\r\n",
      "  adding: images/00511.jpg (deflated 5%)\r\n",
      "  adding: images/00505.jpg (deflated 6%)\r\n",
      "  adding: images/00263.jpg (deflated 6%)\r\n",
      "  adding: images/00288.jpg (deflated 6%)\r\n",
      "  adding: images/00049.jpg (deflated 6%)\r\n",
      "  adding: images/00075.jpg (deflated 6%)\r\n",
      "  adding: images/00061.jpg (deflated 6%)\r\n",
      "  adding: images/00707.jpg (deflated 6%)\r\n",
      "  adding: images/00060.jpg (deflated 6%)\r\n",
      "  adding: images/00706.jpg (deflated 6%)\r\n",
      "  adding: images/00712.jpg (deflated 6%)\r\n",
      "  adding: images/00074.jpg (deflated 5%)\r\n",
      "  adding: images/00048.jpg (deflated 6%)\r\n",
      "  adding: images/00289.jpg (deflated 6%)\r\n",
      "  adding: images/00504.jpg (deflated 6%)\r\n",
      "  adding: images/00262.jpg (deflated 6%)\r\n",
      "  adding: images/00276.jpg (deflated 6%)\r\n",
      "  adding: images/00510.jpg (deflated 6%)\r\n",
      "  adding: images/00538.jpg (deflated 5%)\r\n",
      "  adding: images/00470.jpg (deflated 6%)\r\n",
      "  adding: images/00316.jpg (deflated 6%)\r\n",
      "  adding: images/00302.jpg (deflated 5%)\r\n",
      "  adding: images/00464.jpg (deflated 6%)\r\n",
      "  adding: images/00458.jpg (deflated 6%)\r\n",
      "  adding: images/00699.jpg (deflated 5%)\r\n",
      "  adding: images/00114.jpg (deflated 6%)\r\n",
      "  adding: images/00672.jpg (deflated 6%)\r\n",
      "  adding: images/00666.jpg (deflated 6%)\r\n",
      "  adding: images/00100.jpg (deflated 6%)\r\n",
      "  adding: images/00128.jpg (deflated 6%)\r\n",
      "  adding: images/00658.jpg (deflated 6%)\r\n",
      "  adding: images/00670.jpg (deflated 6%)\r\n",
      "  adding: images/00116.jpg (deflated 6%)\r\n",
      "  adding: images/00102.jpg (deflated 6%)\r\n",
      "  adding: images/00664.jpg (deflated 6%)\r\n",
      "  adding: images/00328.jpg (deflated 6%)\r\n",
      "  adding: images/00314.jpg (deflated 5%)\r\n",
      "  adding: images/00472.jpg (deflated 6%)\r\n",
      "  adding: images/00466.jpg (deflated 6%)\r\n",
      "  adding: images/00300.jpg (deflated 6%)\r\n",
      "  adding: images/00499.jpg (deflated 6%)\r\n",
      "  adding: images/00248.jpg (deflated 6%)\r\n",
      "  adding: images/00260.jpg (deflated 6%)\r\n",
      "  adding: images/00506.jpg (deflated 6%)\r\n",
      "  adding: images/00512.jpg (deflated 6%)\r\n",
      "  adding: images/00274.jpg (deflated 6%)\r\n",
      "  adding: images/00704.jpg (deflated 6%)\r\n",
      "  adding: images/00062.jpg (deflated 6%)\r\n",
      "  adding: images/00076.jpg (deflated 6%)\r\n",
      "  adding: images/00710.jpg (deflated 6%)\r\n",
      "  adding: images/00089.jpg (deflated 6%)\r\n",
      "  adding: images/00088.jpg (deflated 6%)\r\n",
      "  adding: images/00077.jpg (deflated 6%)\r\n",
      "  adding: images/00711.jpg (deflated 6%)\r\n",
      "  adding: images/00705.jpg (deflated 6%)\r\n",
      "  adding: images/00063.jpg (deflated 5%)\r\n",
      "  adding: images/00513.jpg (deflated 6%)\r\n"
     ]
    },
    {
     "name": "stdout",
     "output_type": "stream",
     "text": [
      "  adding: images/00275.jpg (deflated 6%)\r\n",
      "  adding: images/00261.jpg (deflated 6%)\r\n",
      "  adding: images/00507.jpg (deflated 6%)\r\n",
      "  adding: images/00249.jpg (deflated 6%)\r\n",
      "  adding: images/00498.jpg (deflated 6%)\r\n",
      "  adding: images/00467.jpg (deflated 6%)\r\n",
      "  adding: images/00301.jpg (deflated 6%)\r\n",
      "  adding: images/00315.jpg (deflated 6%)\r\n",
      "  adding: images/00473.jpg (deflated 6%)\r\n",
      "  adding: images/00329.jpg (deflated 6%)\r\n",
      "  adding: images/00103.jpg (deflated 6%)\r\n",
      "  adding: images/00665.jpg (deflated 6%)\r\n",
      "  adding: images/00671.jpg (deflated 5%)\r\n",
      "  adding: images/00117.jpg (deflated 6%)\r\n",
      "  adding: images/00659.jpg (deflated 6%)\r\n",
      ".....\r\n"
     ]
    }
   ],
   "source": [
    "! sh run.sh"
   ]
  },
  {
   "cell_type": "code",
   "execution_count": null,
   "metadata": {},
   "outputs": [],
   "source": []
  }
 ],
 "metadata": {
  "kernelspec": {
   "display_name": "Python 3",
   "language": "python",
   "name": "python3"
  },
  "language_info": {
   "codemirror_mode": {
    "name": "ipython",
    "version": 3
   },
   "file_extension": ".py",
   "mimetype": "text/x-python",
   "name": "python",
   "nbconvert_exporter": "python",
   "pygments_lexer": "ipython3",
   "version": "3.7.0"
  }
 },
 "nbformat": 4,
 "nbformat_minor": 2
}
