{
 "cells": [
  {
   "cell_type": "code",
   "execution_count": 1,
   "metadata": {},
   "outputs": [],
   "source": [
    "\n",
    "import os\n",
    "import json\n",
    "from PIL import Image\n",
    "import pytesseract\n",
    "import cv2 as cv\n",
    "from tqdm import tqdm\n",
    "import pytesseract\n",
    "from IPython.display import Image\n"
   ]
  },
  {
   "cell_type": "code",
   "execution_count": 2,
   "metadata": {},
   "outputs": [],
   "source": [
    "dt = \"/Users/ivan/Desktop/ALL/Data/CVmchar\""
   ]
  },
  {
   "cell_type": "code",
   "execution_count": 3,
   "metadata": {},
   "outputs": [
    {
     "name": "stdout",
     "output_type": "stream",
     "text": [
      "Tesseract Open Source OCR Engine v4.1.1 with Leptonica\n",
      "Warning: Invalid resolution 0 dpi. Using 70 instead.\n",
      "Estimating resolution as 1044\n",
      "23-\n",
      "\f"
     ]
    }
   ],
   "source": [
    "! tesseract \"/Users/ivan/Desktop/ALL/Data/CVmchar/mchar_train/000001.png\" out digits\n",
    "! cat out.txt"
   ]
  },
  {
   "cell_type": "code",
   "execution_count": 4,
   "metadata": {},
   "outputs": [],
   "source": [
    "f1 = lambda x: \"\".join([str(i) for i in x])\n",
    "\n",
    "def f2(p):\n",
    "    pimg = cv.imread(p)\n",
    "    \n",
    "#     imgA = pimg.copy()\n",
    "#     imgray = cv.cvtColor(imgA, cv.COLOR_BGR2GRAY)\n",
    "    \n",
    "#     ret, thresh = cv.threshold(imgray, 200, 255, cv.THRESH_BINARY)\n",
    "#     contours, hierarchy = cv.findContours(thresh, cv.RETR_EXTERNAL, cv.CHAIN_APPROX_NONE)\n",
    "#     imgA[:] = 255\n",
    "#     pimg = cv.drawContours(imgA, contours, -1, (0,0,255), 1)\n",
    "#     pimg = cv.imread(p)\n",
    "    \n",
    "    return pimg, pytesseract.image_to_string(pimg, config=\"-c tessedit_char_whitelist=1234567890\")\n"
   ]
  },
  {
   "cell_type": "code",
   "execution_count": 5,
   "metadata": {},
   "outputs": [
    {
     "name": "stdout",
     "output_type": "stream",
     "text": [
      "23\n"
     ]
    },
    {
     "data": {
      "image/jpeg": "[encoded data removed]",
      "text/plain": [
       "<IPython.core.display.Image object>"
      ]
     },
     "execution_count": 5,
     "metadata": {
      "image/jpeg": {
       "height": 300,
       "width": 300
      }
     },
     "output_type": "execute_result"
    }
   ],
   "source": [
    "p = \"/Users/ivan/Desktop/ALL/Data/CVmchar/mchar_train/000001.png\"\n",
    "img, content = f2(p)\n",
    "cv.imwrite(\"tmp.jpg\",img)\n",
    "print(content)\n",
    "Image(filename=\"tmp.jpg\", width=300, height=300)\n"
   ]
  },
  {
   "cell_type": "code",
   "execution_count": 6,
   "metadata": {},
   "outputs": [
    {
     "name": "stdout",
     "output_type": "stream",
     "text": [
      "\n"
     ]
    },
    {
     "data": {
      "image/jpeg": "[encoded data removed]",
      "text/plain": [
       "<IPython.core.display.Image object>"
      ]
     },
     "execution_count": 6,
     "metadata": {
      "image/jpeg": {
       "height": 300,
       "width": 300
      }
     },
     "output_type": "execute_result"
    }
   ],
   "source": [
    "p = \"/Users/ivan/Desktop/ALL/Data/CVmchar/mchar_train/000007.png\"\n",
    "img, content = f2(p)\n",
    "cv.imwrite(\"tmp.jpg\",img)\n",
    "print(content)\n",
    "Image(filename=\"tmp.jpg\", width=300, height=300)"
   ]
  },
  {
   "cell_type": "code",
   "execution_count": 7,
   "metadata": {},
   "outputs": [
    {
     "name": "stderr",
     "output_type": "stream",
     "text": [
      "100%|██████████| 100/100 [00:14<00:00,  6.80it/s]\n"
     ]
    },
    {
     "data": {
      "text/plain": [
       "(5, 100, 0.05)"
      ]
     },
     "execution_count": 7,
     "metadata": {},
     "output_type": "execute_result"
    }
   ],
   "source": [
    "with open(f\"{dt}/mchar_train.json\", \"r\") as f:\n",
    "    data = f.readlines()\n",
    "json_file = data[0]\n",
    "j_obj = json.loads(json_file)\n",
    "\n",
    "n1, n2 = 0, 0\n",
    "for dti in tqdm(os.listdir(f\"{dt}/mchar_train\")[:100]):\n",
    "    n1 += 1 if f1(j_obj[dti][\"label\"]) == f2(f\"{dt}/mchar_train/{dti}\")[1] else 0\n",
    "    n2 += 1\n",
    "n1, n2, n1/n2\n"
   ]
  },
  {
   "cell_type": "code",
   "execution_count": 8,
   "metadata": {},
   "outputs": [
    {
     "name": "stderr",
     "output_type": "stream",
     "text": [
      "100%|██████████| 100/100 [00:14<00:00,  6.81it/s]\n"
     ]
    },
    {
     "data": {
      "text/plain": [
       "(1, 100, 0.01)"
      ]
     },
     "execution_count": 8,
     "metadata": {},
     "output_type": "execute_result"
    }
   ],
   "source": [
    "with open(f\"{dt}/mchar_val.json\", \"r\") as f:\n",
    "    data = f.readlines()\n",
    "json_file = data[0]\n",
    "j_obj = json.loads(json_file)\n",
    "\n",
    "n1, n2 = 0, 0\n",
    "for dti in tqdm(os.listdir(f\"{dt}/mchar_val\")[:100]):\n",
    "    n1 += 1 if f1(j_obj[dti][\"label\"]) == f2(f\"{dt}/mchar_train/{dti}\")[1] else 0\n",
    "    n2 += 1\n",
    "n1, n2, n1/n2\n"
   ]
  },
  {
   "cell_type": "code",
   "execution_count": null,
   "metadata": {},
   "outputs": [],
   "source": []
  }
 ],
 "metadata": {
  "kernelspec": {
   "display_name": "Python 3",
   "language": "python",
   "name": "python3"
  },
  "language_info": {
   "codemirror_mode": {
    "name": "ipython",
    "version": 3
   },
   "file_extension": ".py",
   "mimetype": "text/x-python",
   "name": "python",
   "nbconvert_exporter": "python",
   "pygments_lexer": "ipython3",
   "version": "3.7.0"
  }
 },
 "nbformat": 4,
 "nbformat_minor": 2
}
