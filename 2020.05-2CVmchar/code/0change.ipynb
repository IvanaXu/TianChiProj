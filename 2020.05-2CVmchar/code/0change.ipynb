{
 "cells": [
  {
   "cell_type": "code",
   "execution_count": 1,
   "metadata": {},
   "outputs": [
    {
     "name": "stdout",
     "output_type": "stream",
     "text": [
      "total 955436\r\n",
      "-rw-r--r-- 1 root root    520020 May 15 16:54 mchar_sample_submit_A.csv\r\n",
      "drwxr-xr-x 2 root root   1126400 May  9 14:33 mchar_test_a\r\n",
      "-rw-r--r-- 1 root root 388603696 May 15 16:54 mchar_test_a.zip\r\n",
      "drwxr-xr-x 2 root root    876544 May  9 14:24 mchar_train\r\n",
      "-rw-r--r-- 1 root root   3310747 May 15 16:53 mchar_train.json\r\n",
      "drwxr-xr-x 2 root root   1896448 Jun  3 18:23 mchar_train_new\r\n",
      "-rw-r--r-- 1 root root   6681494 Jun  3 18:23 mchar_train_new.json\r\n",
      "-rw-r--r-- 1 root root 362711501 May 15 16:53 mchar_train.zip\r\n",
      "drwxr-xr-x 2 root root    274432 May  9 14:27 mchar_val\r\n",
      "-rw-r--r-- 1 root root   1077984 May 15 16:53 mchar_val.json\r\n",
      "drwxr-xr-x 2 root root    274432 Jun  3 18:23 mchar_val_new\r\n",
      "-rw-r--r-- 1 root root   1087984 Jun  3 18:23 mchar_val_new.json\r\n",
      "-rw-r--r-- 1 root root 209887177 May 15 16:53 mchar_val.zip\r\n",
      "drwxr-xr-x 3 root root      4096 Jun  3 18:35 model\r\n"
     ]
    }
   ],
   "source": [
    "! ls -l /data/data/CVmchar"
   ]
  },
  {
   "cell_type": "code",
   "execution_count": 2,
   "metadata": {},
   "outputs": [
    {
     "data": {
      "text/plain": [
       "0"
      ]
     },
     "execution_count": 2,
     "metadata": {},
     "output_type": "execute_result"
    }
   ],
   "source": [
    "import os\n",
    "\n",
    "os.system(\"rm -rf /data/data/CVmchar/mchar_train_new\")\n",
    "os.system(\"mkdir /data/data/CVmchar/mchar_train_new\")\n",
    "os.system(\"rm -rf /data/data/CVmchar/mchar_train_new.json\")\n",
    "\n",
    "os.system(\"rm -rf /data/data/CVmchar/mchar_val_new\")\n",
    "os.system(\"mkdir /data/data/CVmchar/mchar_val_new\")\n",
    "os.system(\"rm -rf /data/data/CVmchar/mchar_val_new.json\")\n"
   ]
  },
  {
   "cell_type": "code",
   "execution_count": 3,
   "metadata": {},
   "outputs": [
    {
     "name": "stdout",
     "output_type": "stream",
     "text": [
      "total 945724\r\n",
      "-rw-r--r-- 1 root root    520020 May 15 16:54 mchar_sample_submit_A.csv\r\n",
      "drwxr-xr-x 2 root root   1126400 May  9 14:33 mchar_test_a\r\n",
      "-rw-r--r-- 1 root root 388603696 May 15 16:54 mchar_test_a.zip\r\n",
      "drwxr-xr-x 2 root root    876544 May  9 14:24 mchar_train\r\n",
      "-rw-r--r-- 1 root root   3310747 May 15 16:53 mchar_train.json\r\n",
      "drwxr-xr-x 2 root root      4096 Jun  3 18:39 mchar_train_new\r\n",
      "-rw-r--r-- 1 root root 362711501 May 15 16:53 mchar_train.zip\r\n",
      "drwxr-xr-x 2 root root    274432 May  9 14:27 mchar_val\r\n",
      "-rw-r--r-- 1 root root   1077984 May 15 16:53 mchar_val.json\r\n",
      "drwxr-xr-x 2 root root      4096 Jun  3 18:39 mchar_val_new\r\n",
      "-rw-r--r-- 1 root root 209887177 May 15 16:53 mchar_val.zip\r\n",
      "drwxr-xr-x 3 root root      4096 Jun  3 18:35 model\r\n"
     ]
    }
   ],
   "source": [
    "! ls -l /data/data/CVmchar"
   ]
  },
  {
   "cell_type": "code",
   "execution_count": 4,
   "metadata": {},
   "outputs": [],
   "source": [
    "import os\n",
    "import json\n",
    "import cv2 as cv\n",
    "from tqdm import tqdm"
   ]
  },
  {
   "cell_type": "code",
   "execution_count": 5,
   "metadata": {},
   "outputs": [
    {
     "name": "stderr",
     "output_type": "stream",
     "text": [
      "100%|██████████| 30000/30000 [00:27<00:00, 1110.98it/s]\n"
     ]
    }
   ],
   "source": [
    "p = \"/data/data/CVmchar/\"\n",
    "t = \"mchar_train\"\n",
    "\n",
    "result = {}\n",
    "\n",
    "with open(f\"{p}/{t}.json\", \"r\") as f:\n",
    "    data = f.readlines()\n",
    "json_file = data[0]\n",
    "j_obj = json.loads(json_file)\n",
    "\n",
    "for i in tqdm(os.listdir(f\"{p}/{t}\")):\n",
    "    img = cv.imread(f\"{p}/{t}/{i}\")\n",
    "    \n",
    "    j = f\"A{i}\"\n",
    "    imgA = img\n",
    "    cv.imwrite(f\"{p}/{t}_new/{j}\", imgA)\n",
    "    result[j] = j_obj[i]\n",
    "    \n",
    "#     j = f\"C{i}\"\n",
    "#     imgA = cv.cvtColor(img, cv.COLOR_BGR2GRAY)\n",
    "#     cv.imwrite(f\"{p}/{t}_new/{j}\", imgA)\n",
    "#     result[j] = j_obj[i]\n",
    "\n",
    "out_json = f'{p}/{t}_new.json'\n",
    "target = json.dumps(result, ensure_ascii=False)\n",
    "with open(out_json, 'w') as f:\n",
    "    f.write(target)\n"
   ]
  },
  {
   "cell_type": "code",
   "execution_count": 6,
   "metadata": {},
   "outputs": [
    {
     "name": "stderr",
     "output_type": "stream",
     "text": [
      "100%|██████████| 10000/10000 [00:15<00:00, 658.17it/s]\n"
     ]
    }
   ],
   "source": [
    "p = \"/data/data/CVmchar/\"\n",
    "t = \"mchar_val\"\n",
    "\n",
    "result = {}\n",
    "\n",
    "with open(f\"{p}/{t}.json\", \"r\") as f:\n",
    "    data = f.readlines()\n",
    "json_file = data[0]\n",
    "j_obj = json.loads(json_file)\n",
    "\n",
    "for i in tqdm(os.listdir(f\"{p}/{t}\")):\n",
    "    img = cv.imread(f\"{p}/{t}/{i}\")\n",
    "    \n",
    "    j = f\"A{i}\"\n",
    "    imgA = img\n",
    "    cv.imwrite(f\"{p}/{t}_new/{j}\", imgA)\n",
    "    result[j] = j_obj[i]\n",
    "\n",
    "out_json = f'{p}/{t}_new.json'\n",
    "target = json.dumps(result, ensure_ascii=False)\n",
    "with open(out_json, 'w') as f:\n",
    "    f.write(target)\n"
   ]
  },
  {
   "cell_type": "code",
   "execution_count": null,
   "metadata": {},
   "outputs": [],
   "source": []
  }
 ],
 "metadata": {
  "kernelspec": {
   "display_name": "Python 3",
   "language": "python",
   "name": "python3"
  },
  "language_info": {
   "codemirror_mode": {
    "name": "ipython",
    "version": 3
   },
   "file_extension": ".py",
   "mimetype": "text/x-python",
   "name": "python",
   "nbconvert_exporter": "python",
   "pygments_lexer": "ipython3",
   "version": "3.7.0"
  }
 },
 "nbformat": 4,
 "nbformat_minor": 2
}
