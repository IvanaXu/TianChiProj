{
 "cells": [
  {
   "cell_type": "code",
   "execution_count": 11,
   "metadata": {},
   "outputs": [],
   "source": [
    "import os\n",
    "import json\n",
    "import random\n",
    "import cv2 as cv\n",
    "import numpy as np\n",
    "import pandas as pd\n",
    "from tqdm import tqdm\n",
    "import xgboost as xgb\n",
    "from sklearn import metrics\n",
    "from IPython.display import Image\n",
    "from sklearn.model_selection import train_test_split\n"
   ]
  },
  {
   "cell_type": "code",
   "execution_count": 12,
   "metadata": {},
   "outputs": [],
   "source": [
    "dt = \"/Users/ivan/Desktop/ALL/Data/CVmchar\""
   ]
  },
  {
   "cell_type": "code",
   "execution_count": 13,
   "metadata": {},
   "outputs": [
    {
     "data": {
      "image/jpeg": "[encoded data removed]",
      "text/plain": [
       "<IPython.core.display.Image object>"
      ]
     },
     "execution_count": 13,
     "metadata": {
      "image/jpeg": {
       "height": 100,
       "width": 100
      }
     },
     "output_type": "execute_result"
    }
   ],
   "source": [
    "ix, iy = 25, 50\n",
    "\n",
    "def fimg(img):\n",
    "    return cv.resize(img, (ix, iy))\n",
    "\n",
    "img = fimg(cv.imread(f\"{dt}/mchar_train/018292.png\"))\n",
    "cv.imwrite(\"tmp.jpg\", img)\n",
    "Image(\"tmp.jpg\", height=100, width=100)\n"
   ]
  },
  {
   "cell_type": "code",
   "execution_count": 14,
   "metadata": {},
   "outputs": [
    {
     "name": "stderr",
     "output_type": "stream",
     "text": [
      "100%|██████████| 10000/10000 [00:04<00:00, 2010.21it/s]\n"
     ]
    }
   ],
   "source": [
    "N = 100\n",
    "datax = []\n",
    "datay = []\n",
    "\n",
    "dtype = \"mchar_train\"\n",
    "\n",
    "with open(f\"{dt}/{dtype}.json\", \"r\") as f:\n",
    "    data = f.readlines()\n",
    "json_file = data[0]\n",
    "j_obj = json.loads(json_file)\n",
    "\n",
    "heightl, widthl = [], []\n",
    "data = []\n",
    "for dti in tqdm(os.listdir(f\"{dt}/{dtype}\")[:10000]):\n",
    "    f1dti = j_obj[dti]\n",
    "    img = cv.imread(f\"{dt}/{dtype}/{dti}\")\n",
    "    _, x, _ = img.shape\n",
    "    \n",
    "    for n in [1, 2, 3, 4, 5]:\n",
    "        x1, x2 = x//5*(n-1), x//5*n\n",
    "        nimg = img[:,x1:x2]\n",
    "\n",
    "        for top, height, left, width, label in zip(\n",
    "            f1dti[\"top\"], f1dti[\"height\"], f1dti[\"left\"], f1dti[\"width\"], f1dti[\"label\"]):\n",
    "            top, height, left, width, label = int(top), int(height), int(left), int(width), int(label)\n",
    "            top, height, left, width = max(top,0), max(height,0), max(left,0), max(width,0)\n",
    "\n",
    "            if x1 <= left and (left+width) <= x2:\n",
    "                # cv.imwrite(f\"tmp_{label}.jpg\", fimg(nimg))\n",
    "\n",
    "                datax.append(fimg(nimg))\n",
    "                datay.append(label)\n",
    "            elif random.choice(range(N)) == 0:\n",
    "                # cv.imwrite(f\"tmp_-1.jpg\", fimg(nimg))\n",
    "\n",
    "                datax.append(fimg(nimg))\n",
    "                datay.append(-1)\n"
   ]
  },
  {
   "cell_type": "code",
   "execution_count": 15,
   "metadata": {},
   "outputs": [
    {
     "data": {
      "text/plain": [
       "(7715, 7715)"
      ]
     },
     "execution_count": 15,
     "metadata": {},
     "output_type": "execute_result"
    }
   ],
   "source": [
    "len(datax), len(datay)"
   ]
  },
  {
   "cell_type": "code",
   "execution_count": 16,
   "metadata": {},
   "outputs": [
    {
     "name": "stdout",
     "output_type": "stream",
     "text": [
      "CPU times: user 31.4 ms, sys: 24.5 ms, total: 55.9 ms\n",
      "Wall time: 59.9 ms\n",
      "CPU times: user 901 µs, sys: 15 µs, total: 916 µs\n",
      "Wall time: 963 µs\n",
      " 1    1563\n",
      "-1    1007\n",
      " 2     866\n",
      " 3     666\n",
      " 4     638\n",
      " 5     597\n",
      " 0     541\n",
      " 7     524\n",
      " 6     490\n",
      " 8     423\n",
      " 9     400\n",
      "dtype: int64\n"
     ]
    }
   ],
   "source": [
    "%time rx = np.array(datax, dtype=np.float32)\n",
    "\n",
    "%time ry = np.array(datay, dtype=np.int32)\n",
    "print(pd.value_counts(ry))\n"
   ]
  },
  {
   "cell_type": "code",
   "execution_count": 17,
   "metadata": {},
   "outputs": [
    {
     "name": "stdout",
     "output_type": "stream",
     "text": [
      "Model: \"sequential_1\"\n",
      "_________________________________________________________________\n",
      "Layer (type)                 Output Shape              Param #   \n",
      "=================================================================\n",
      "conv2d_3 (Conv2D)            (None, 48, 23, 32)        896       \n",
      "_________________________________________________________________\n",
      "max_pooling2d_2 (MaxPooling2 (None, 24, 11, 32)        0         \n",
      "_________________________________________________________________\n",
      "conv2d_4 (Conv2D)            (None, 22, 9, 64)         18496     \n",
      "_________________________________________________________________\n",
      "max_pooling2d_3 (MaxPooling2 (None, 11, 4, 64)         0         \n",
      "_________________________________________________________________\n",
      "conv2d_5 (Conv2D)            (None, 9, 2, 64)          36928     \n",
      "_________________________________________________________________\n",
      "flatten_1 (Flatten)          (None, 1152)              0         \n",
      "_________________________________________________________________\n",
      "dense_2 (Dense)              (None, 64)                73792     \n",
      "_________________________________________________________________\n",
      "dense_3 (Dense)              (None, 1)                 65        \n",
      "=================================================================\n",
      "Total params: 130,177\n",
      "Trainable params: 130,177\n",
      "Non-trainable params: 0\n",
      "_________________________________________________________________\n",
      "None\n",
      ">\n",
      ">>>>>>>>>>>>>>>>>>>>>>>>>>>>>>>>>>>>>>>>>>>>>>>>>>>>CPU times: user 9min 56s, sys: 3min 55s, total: 13min 52s\n",
      "Wall time: 3min 46s\n"
     ]
    }
   ],
   "source": [
    "m_x = rx\n",
    "m_y = ry\n",
    "\n",
    "import tensorflow as tf\n",
    "from tensorflow import keras\n",
    "from tensorflow.keras import layers\n",
    "from tensorflow.keras import regularizers\n",
    "\n",
    "\n",
    "def tf_model():\n",
    "    model = keras.Sequential([\n",
    "        layers.Conv2D(32, (3, 3), activation='relu', input_shape=(iy, ix, 3)),\n",
    "        layers.MaxPooling2D((2, 2)),\n",
    "        layers.Conv2D(64, (3, 3), activation='relu'),\n",
    "        layers.MaxPooling2D((2, 2)),\n",
    "        layers.Conv2D(64, (3, 3), activation='relu'),\n",
    "        \n",
    "        layers.Flatten(),\n",
    "        layers.Dense(64, activation='relu'),\n",
    "        layers.Dense(1)\n",
    "    ])\n",
    "    model.compile(\n",
    "        loss=tf.keras.losses.MAE, \n",
    "        optimizer=\"adam\", \n",
    "        metrics=['accuracy']\n",
    "    )\n",
    "    return model\n",
    "\n",
    "model = tf_model()\n",
    "print(model.summary())\n",
    "\n",
    "class PrintDot(keras.callbacks.Callback):\n",
    "    def on_epoch_end(self, epoch, logs):\n",
    "        print('>', end='')\n",
    "        if epoch % 100 == 0: \n",
    "            print('')\n",
    "\n",
    "EPOCHS = 1000\n",
    "early_stop = keras.callbacks.EarlyStopping(monitor='val_loss', patience=10)\n",
    "%time history = model.fit(m_x,m_y,epochs=EPOCHS,validation_split=0.5,verbose=0,callbacks=[early_stop, PrintDot()])\n"
   ]
  },
  {
   "cell_type": "code",
   "execution_count": 18,
   "metadata": {},
   "outputs": [
    {
     "data": {
      "image/png": "[encoded data removed]",
      "text/plain": [
       "<Figure size 432x288 with 1 Axes>"
      ]
     },
     "metadata": {
      "needs_background": "light"
     },
     "output_type": "display_data"
    }
   ],
   "source": [
    "import matplotlib.pyplot as plt\n",
    "\n",
    "\n",
    "def plot_history(history):\n",
    "    hist = pd.DataFrame(history.history)\n",
    "    hist['epoch'] = history.epoch\n",
    "\n",
    "    plt.figure()\n",
    "    plt.xlabel('Epoch')\n",
    "    plt.ylabel('[AUC]')\n",
    "    plt.plot(hist['epoch'], hist['accuracy'], label='Trar')\n",
    "    plt.plot(hist['epoch'], hist['val_accuracy'], label='Vals')\n",
    "    plt.legend()\n",
    "\n",
    "plot_history(history)\n"
   ]
  },
  {
   "cell_type": "code",
   "execution_count": 19,
   "metadata": {},
   "outputs": [
    {
     "name": "stderr",
     "output_type": "stream",
     "text": [
      "100%|██████████| 100/100 [00:10<00:00,  9.30it/s]\n"
     ]
    },
    {
     "data": {
      "text/plain": [
       "'mchar_train, 0, 100, 0.000000'"
      ]
     },
     "execution_count": 19,
     "metadata": {},
     "output_type": "execute_result"
    }
   ],
   "source": [
    "m1, m2 = 0, 0\n",
    "\n",
    "dtype = \"mchar_train\"\n",
    "\n",
    "with open(f\"{dt}/{dtype}.json\", \"r\") as f:\n",
    "    data = f.readlines()\n",
    "json_file = data[0]\n",
    "j_obj = json.loads(json_file)\n",
    "\n",
    "for dti in tqdm(os.listdir(f\"{dt}/{dtype}\")[:100]):\n",
    "    f1dti = j_obj[dti]\n",
    "    img = cv.imread(f\"{dt}/{dtype}/{dti}\")\n",
    "    _, x, _ = img.shape\n",
    "    result = \"\"\n",
    "    \n",
    "    for n in [1, 2, 3, 4, 5]:\n",
    "        x1, x2 = x//5*(n-1), x//5*n\n",
    "        nimg = img[:,x1:x2]\n",
    "        \n",
    "        img0 = fimg(nimg)\n",
    "        img0 = np.array([img0], dtype=np.float32)\n",
    "        result += str(max(int(model.predict(img0)[0][0]), 0))\n",
    "    \n",
    "    r1 = str(int(result))\n",
    "    r2 = \"\".join([str(_) for _ in f1dti[\"label\"]])\n",
    "    \n",
    "    m1 += 1 if r1 == r2 else 0  \n",
    "    m2 += 1\n",
    "\n",
    "\"%s, %d, %d, %.6f\" % (dtype, m1, m2, m1/m2)\n"
   ]
  },
  {
   "cell_type": "code",
   "execution_count": 20,
   "metadata": {},
   "outputs": [
    {
     "name": "stderr",
     "output_type": "stream",
     "text": [
      "100%|██████████| 100/100 [00:09<00:00, 10.56it/s]\n"
     ]
    },
    {
     "data": {
      "text/plain": [
       "'mchar_val, 0, 100, 0.000000'"
      ]
     },
     "execution_count": 20,
     "metadata": {},
     "output_type": "execute_result"
    }
   ],
   "source": [
    "m1, m2 = 0, 0\n",
    "\n",
    "dtype = \"mchar_val\"\n",
    "\n",
    "with open(f\"{dt}/{dtype}.json\", \"r\") as f:\n",
    "    data = f.readlines()\n",
    "json_file = data[0]\n",
    "j_obj = json.loads(json_file)\n",
    "\n",
    "for dti in tqdm(os.listdir(f\"{dt}/{dtype}\")[:100]):\n",
    "    f1dti = j_obj[dti]\n",
    "    img = cv.imread(f\"{dt}/{dtype}/{dti}\")\n",
    "    _, x, _ = img.shape\n",
    "    result = \"\"\n",
    "    \n",
    "    for n in [1, 2, 3, 4, 5]:\n",
    "        x1, x2 = x//5*(n-1), x//5*n\n",
    "        nimg = img[:,x1:x2]\n",
    "        \n",
    "        img0 = fimg(nimg)\n",
    "        img0 = np.array([img0], dtype=np.float32)\n",
    "        result += str(max(int(model.predict(img0)[0][0]), 0))\n",
    "    \n",
    "    r1 = str(int(result))\n",
    "    r2 = \"\".join([str(_) for _ in f1dti[\"label\"]])\n",
    "    \n",
    "    m1 += 1 if r1 == r2 else 0  \n",
    "    m2 += 1\n",
    "\n",
    "\"%s, %d, %d, %.6f\" % (dtype, m1, m2, m1/m2)"
   ]
  },
  {
   "cell_type": "code",
   "execution_count": null,
   "metadata": {},
   "outputs": [],
   "source": []
  }
 ],
 "metadata": {
  "kernelspec": {
   "display_name": "Python 3",
   "language": "python",
   "name": "python3"
  },
  "language_info": {
   "codemirror_mode": {
    "name": "ipython",
    "version": 3
   },
   "file_extension": ".py",
   "mimetype": "text/x-python",
   "name": "python",
   "nbconvert_exporter": "python",
   "pygments_lexer": "ipython3",
   "version": "3.7.0"
  }
 },
 "nbformat": 4,
 "nbformat_minor": 2
}
