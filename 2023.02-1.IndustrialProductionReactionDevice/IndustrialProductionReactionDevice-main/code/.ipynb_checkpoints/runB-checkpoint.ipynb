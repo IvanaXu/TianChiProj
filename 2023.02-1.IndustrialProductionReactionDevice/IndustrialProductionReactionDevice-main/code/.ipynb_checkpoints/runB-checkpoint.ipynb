{
 "cells": [
  {
   "cell_type": "code",
   "execution_count": 1,
   "id": "92d94c83",
   "metadata": {},
   "outputs": [
    {
     "name": "stdout",
     "output_type": "stream",
     "text": [
      "total 3504\r\n",
      "-rw-r--r--  1 ivan  staff   199229  2 27 17:03 predict.csv\r\n",
      "-rw-r--r--  1 ivan  staff   180417  2 27 17:03 predict_B.csv\r\n",
      "-rw-r--r--  1 ivan  staff    59383  2 27 17:26 predict_B1.csv\r\n",
      "-rw-r--r--  1 ivan  staff    59214  2 27 17:28 predict_B2.csv\r\n",
      "-rw-r--r--  1 ivan  staff    59357  2 27 17:28 predict_B3.csv\r\n",
      "-rw-r--r--  1 ivan  staff    40016  2 27 17:03 sample_submission.csv\r\n",
      "-rw-r--r--  1 ivan  staff    66119  2 27 17:03 sample_submission_B.csv\r\n",
      "-rw-r--r--  1 ivan  staff  1112269  2 27 17:03 train.csv\r\n"
     ]
    }
   ],
   "source": [
    "import numpy as np\n",
    "import pandas as pd\n",
    "from tqdm import tqdm\n",
    "\n",
    "path = \"../data/\"\n",
    "! ls -l $path"
   ]
  },
  {
   "cell_type": "code",
   "execution_count": 2,
   "id": "1a9c33dc",
   "metadata": {},
   "outputs": [
    {
     "name": "stdout",
     "output_type": "stream",
     "text": [
      "CPU times: user 3.28 s, sys: 138 ms, total: 3.41 s\n",
      "Wall time: 3.44 s\n"
     ]
    }
   ],
   "source": [
    "%%time\n",
    "\n",
    "import warnings\n",
    "warnings.filterwarnings(\"ignore\")\n",
    "\n",
    "N = 100\n",
    "\n",
    "train = pd.read_csv(f\"{path}/train.csv\")\n",
    "testB1 = pd.read_csv(f\"{path}/predict_B1.csv\", sep=\"\\t\")\n",
    "testB2 = pd.read_csv(f\"{path}/predict_B2.csv\", sep=\"\\t\")\n",
    "testB3 = pd.read_csv(f\"{path}/predict_B3.csv\", sep=\"\\t\")\n",
    "\n",
    "Xcols = []\n",
    "Ycols = [\"cv1\", \"cv2\"]\n",
    "for icol in [\"dv1\", \"dv2\", \"mv1\"]:\n",
    "    for n in range(-N, N+1):\n",
    "        for df in [train, testB1, testB2, testB3]:\n",
    "            df[f\"b0_{icol}_{n}\"] = df[f\"{icol}\"].shift(n)\n",
    "            df[f\"f1_{icol}_{n}\"] = [_1 - _2 for _1, _2 in zip(df[icol], df[f\"b0_{icol}_{n}\"])]\n",
    "            df[f\"f2_{icol}_{n}\"] = [(_1 + _2)/2 for _1, _2 in zip(df[icol], df[f\"b0_{icol}_{n}\"])]\n",
    "            df[f\"f3_{icol}_{n}\"] = [_1/_2 for _1, _2 in zip(df[icol], df[f\"b0_{icol}_{n}\"])]\n",
    "        \n",
    "        Xcols.extend([\n",
    "            f\"b0_{icol}_{n}\", \n",
    "            f\"f1_{icol}_{n}\",\n",
    "            f\"f2_{icol}_{n}\",\n",
    "            f\"f3_{icol}_{n}\",\n",
    "        ])\n",
    "\n",
    "train_data = train[Xcols + Ycols].copy()\n"
   ]
  },
  {
   "cell_type": "code",
   "execution_count": 7,
   "id": "d218d3e7",
   "metadata": {},
   "outputs": [
    {
     "name": "stderr",
     "output_type": "stream",
     "text": [
      "\r",
      "  0%|          | 0/2 [00:00<?, ?it/s]"
     ]
    },
    {
     "name": "stdout",
     "output_type": "stream",
     "text": [
      "(20010, 972) (20010,)\n"
     ]
    },
    {
     "name": "stderr",
     "output_type": "stream",
     "text": [
      "\r",
      " 50%|█████     | 1/2 [00:40<00:40, 40.80s/it]"
     ]
    },
    {
     "name": "stdout",
     "output_type": "stream",
     "text": [
      "CPU times: user 4min 46s, sys: 4.73 s, total: 4min 51s\n",
      "Wall time: 40.5 s\n",
      "cv1 Train R2 0.992771\n",
      "cv1 Tests R2 0.980071\n",
      "(20010, 972) (20010,)\n"
     ]
    },
    {
     "name": "stderr",
     "output_type": "stream",
     "text": [
      "100%|██████████| 2/2 [01:24<00:00, 42.26s/it]"
     ]
    },
    {
     "name": "stdout",
     "output_type": "stream",
     "text": [
      "CPU times: user 5min 17s, sys: 5.89 s, total: 5min 22s\n",
      "Wall time: 43.4 s\n",
      "cv2 Train R2 0.978769\n",
      "cv2 Tests R2 0.952419\n",
      "CPU times: user 10min 5s, sys: 11.9 s, total: 10min 17s\n",
      "Wall time: 1min 24s\n"
     ]
    },
    {
     "name": "stderr",
     "output_type": "stream",
     "text": [
      "\n"
     ]
    }
   ],
   "source": [
    "%%time\n",
    "\n",
    "from tqdm import tqdm\n",
    "from sklearn.metrics import r2_score\n",
    "from xgboost.sklearn import XGBRegressor\n",
    "from sklearn.model_selection import train_test_split\n",
    "\n",
    "\n",
    "r = {}\n",
    "for ycol in tqdm(Ycols):\n",
    "    r[ycol] = []\n",
    "    \n",
    "    X, Y = train_data[Xcols], train_data[ycol]\n",
    "    print(X.shape, Y.shape)\n",
    "    \n",
    "    x_train, x_tests, y_train, y_tests = train_test_split(\n",
    "        X, Y, \n",
    "        test_size=0.1, \n",
    "        random_state=0\n",
    "    )\n",
    "    model = XGBRegressor(\n",
    "        max_depth=6,\n",
    "        learning_rate=0.1,\n",
    "        n_estimators=100,\n",
    "        objective='reg:squarederror',\n",
    "        booster='gbtree',\n",
    "        gamma=0,\n",
    "        min_child_weight=1,\n",
    "        subsample=1,\n",
    "        colsample_bytree=1,\n",
    "        reg_alpha=0,\n",
    "        reg_lambda=1,\n",
    "        random_state=0,\n",
    "    )\n",
    "    %time model.fit(x_train, y_train)\n",
    "    \n",
    "    print(f\"{ycol} Train R2 {r2_score(y_true=y_train, y_pred=model.predict(x_train)):.6f}\")\n",
    "    print(f\"{ycol} Tests R2 {r2_score(y_true=y_tests, y_pred=model.predict(x_tests)):.6f}\")\n",
    "    \n",
    "    # \n",
    "    r[ycol].extend(model.predict(testB1[Xcols]))\n",
    "    r[ycol].extend(model.predict(testB2[Xcols]))\n",
    "    r[ycol].extend(model.predict(testB3[Xcols]))\n"
   ]
  },
  {
   "cell_type": "code",
   "execution_count": 8,
   "id": "87c329d5",
   "metadata": {},
   "outputs": [
    {
     "data": {
      "text/html": [
       "<div>\n",
       "<style scoped>\n",
       "    .dataframe tbody tr th:only-of-type {\n",
       "        vertical-align: middle;\n",
       "    }\n",
       "\n",
       "    .dataframe tbody tr th {\n",
       "        vertical-align: top;\n",
       "    }\n",
       "\n",
       "    .dataframe thead th {\n",
       "        text-align: right;\n",
       "    }\n",
       "</style>\n",
       "<table border=\"1\" class=\"dataframe\">\n",
       "  <thead>\n",
       "    <tr style=\"text-align: right;\">\n",
       "      <th></th>\n",
       "      <th>cv1_1</th>\n",
       "      <th>cv1_2</th>\n",
       "      <th>cv2_1</th>\n",
       "      <th>cv2_2</th>\n",
       "      <th>cv1</th>\n",
       "      <th>cv2</th>\n",
       "    </tr>\n",
       "  </thead>\n",
       "  <tbody>\n",
       "    <tr>\n",
       "      <th>0</th>\n",
       "      <td>324.973022</td>\n",
       "      <td>333.99</td>\n",
       "      <td>0.851923</td>\n",
       "      <td>0.67</td>\n",
       "      <td>333.990000</td>\n",
       "      <td>0.670000</td>\n",
       "    </tr>\n",
       "    <tr>\n",
       "      <th>1</th>\n",
       "      <td>325.765564</td>\n",
       "      <td>NaN</td>\n",
       "      <td>0.872284</td>\n",
       "      <td>NaN</td>\n",
       "      <td>325.765564</td>\n",
       "      <td>0.872284</td>\n",
       "    </tr>\n",
       "    <tr>\n",
       "      <th>2</th>\n",
       "      <td>326.275543</td>\n",
       "      <td>NaN</td>\n",
       "      <td>0.854024</td>\n",
       "      <td>NaN</td>\n",
       "      <td>326.275543</td>\n",
       "      <td>0.854024</td>\n",
       "    </tr>\n",
       "    <tr>\n",
       "      <th>3</th>\n",
       "      <td>328.982941</td>\n",
       "      <td>NaN</td>\n",
       "      <td>0.877486</td>\n",
       "      <td>NaN</td>\n",
       "      <td>328.982941</td>\n",
       "      <td>0.877486</td>\n",
       "    </tr>\n",
       "    <tr>\n",
       "      <th>4</th>\n",
       "      <td>330.937927</td>\n",
       "      <td>NaN</td>\n",
       "      <td>0.850504</td>\n",
       "      <td>NaN</td>\n",
       "      <td>330.937927</td>\n",
       "      <td>0.850504</td>\n",
       "    </tr>\n",
       "  </tbody>\n",
       "</table>\n",
       "</div>"
      ],
      "text/plain": [
       "        cv1_1   cv1_2     cv2_1  cv2_2         cv1       cv2\n",
       "0  324.973022  333.99  0.851923   0.67  333.990000  0.670000\n",
       "1  325.765564     NaN  0.872284    NaN  325.765564  0.872284\n",
       "2  326.275543     NaN  0.854024    NaN  326.275543  0.854024\n",
       "3  328.982941     NaN  0.877486    NaN  328.982941  0.877486\n",
       "4  330.937927     NaN  0.850504    NaN  330.937927  0.850504"
      ]
     },
     "execution_count": 8,
     "metadata": {},
     "output_type": "execute_result"
    }
   ],
   "source": [
    "result = pd.DataFrame()\n",
    "\n",
    "result[\"cv1_1\"] = r[\"cv1\"]\n",
    "result[\"cv1_2\"] = pd.concat([testB1[\"cv1\"], testB2[\"cv1\"], testB3[\"cv1\"]]).reset_index(drop=True)\n",
    "\n",
    "result[\"cv2_1\"] = r[\"cv2\"]\n",
    "result[\"cv2_2\"] = pd.concat([testB1[\"cv2\"], testB2[\"cv2\"], testB3[\"cv2\"]]).reset_index(drop=True)\n",
    "\n",
    "result[\"cv1\"] = [_1 if pd.isna(_2) else _2 for _1, _2 in zip(result[\"cv1_1\"], result[\"cv1_2\"])]\n",
    "result[\"cv2\"] = [_1 if pd.isna(_2) else _2 for _1, _2 in zip(result[\"cv2_1\"], result[\"cv2_2\"])]\n",
    "result.head()\n"
   ]
  },
  {
   "cell_type": "code",
   "execution_count": 9,
   "id": "28767821",
   "metadata": {},
   "outputs": [
    {
     "name": "stdout",
     "output_type": "stream",
     "text": [
      "submit.csv: FAILED\r\n",
      "md5sum: WARNING: 1 of 1 computed checksums did NOT match\r\n"
     ]
    }
   ],
   "source": [
    "result[Ycols].to_csv(\"submit.csv\", index=False)\n",
    "! md5sum -c submit.md5"
   ]
  },
  {
   "cell_type": "code",
   "execution_count": 10,
   "id": "e83caa31",
   "metadata": {},
   "outputs": [],
   "source": [
    "! md5sum submit.csv > submit.md5"
   ]
  },
  {
   "cell_type": "code",
   "execution_count": null,
   "id": "1a24ddd4",
   "metadata": {},
   "outputs": [],
   "source": []
  }
 ],
 "metadata": {
  "kernelspec": {
   "display_name": "Python 3 (ipykernel)",
   "language": "python",
   "name": "python3"
  },
  "language_info": {
   "codemirror_mode": {
    "name": "ipython",
    "version": 3
   },
   "file_extension": ".py",
   "mimetype": "text/x-python",
   "name": "python",
   "nbconvert_exporter": "python",
   "pygments_lexer": "ipython3",
   "version": "3.9.12"
  }
 },
 "nbformat": 4,
 "nbformat_minor": 5
}
