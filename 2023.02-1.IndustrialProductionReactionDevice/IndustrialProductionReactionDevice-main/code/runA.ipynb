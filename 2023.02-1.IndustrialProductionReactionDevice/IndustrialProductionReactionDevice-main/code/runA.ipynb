{
 "cells": [
  {
   "cell_type": "code",
   "execution_count": null,
   "id": "5f93fa1b-b792-47a0-928c-053b6f3c7951",
   "metadata": {
    "scrolled": true,
    "tags": []
   },
   "outputs": [],
   "source": [
    "path = \"../data/data186231\"\n",
    "! ls -l $path"
   ]
  },
  {
   "cell_type": "code",
   "execution_count": null,
   "id": "77793ca2-bbe3-4fea-a0d9-8adaee96baa2",
   "metadata": {
    "scrolled": true,
    "tags": []
   },
   "outputs": [],
   "source": [
    "import numpy as np\n",
    "import pandas as pd\n",
    "from tqdm import tqdm"
   ]
  },
  {
   "cell_type": "code",
   "execution_count": null,
   "id": "a21d77f6-559e-4be3-8c7b-a728116d5d86",
   "metadata": {
    "scrolled": true,
    "tags": []
   },
   "outputs": [],
   "source": [
    "train = pd.read_csv(f\"{path}/train.csv\")\n",
    "train[\"time\"] = pd.to_datetime(train[\"time\"])\n",
    "train"
   ]
  },
  {
   "cell_type": "code",
   "execution_count": null,
   "id": "48583681-2215-4c02-80d3-c43febaa3600",
   "metadata": {
    "scrolled": true,
    "tags": []
   },
   "outputs": [],
   "source": [
    "COLS = [\"time1\", \"time2\", \"dv1\", \"dv2\", \"mv1\", \"cv1\", \"cv2\"]\n",
    "\n",
    "train1 = train.copy()\n",
    "train1[\"time1\"] = train1[\"time2\"] = train1[\"time\"]\n",
    "train1 = train1[COLS]\n",
    "train1"
   ]
  },
  {
   "cell_type": "code",
   "execution_count": null,
   "id": "9bee06bd-9d95-4c8f-aa8c-602b502f5d25",
   "metadata": {
    "scrolled": true,
    "tags": []
   },
   "outputs": [],
   "source": [
    "train2 = [train1]\n",
    "\n",
    "for n in tqdm(range(1, len(train)+1)):\n",
    "    _train2 = train.head(n).copy()\n",
    "    _train2[\"k\"] = 1\n",
    "    _train2 = _train2.groupby(by=\"k\").agg({\n",
    "        \"time\": [\"max\", \"min\"],\n",
    "        \"dv1\": \"mean\", \n",
    "        \"dv2\": \"mean\", \n",
    "        \"mv1\": \"mean\", \n",
    "        \"cv1\": \"mean\", \n",
    "        \"cv2\": \"mean\",\n",
    "    })\n",
    "    _train2.columns = [\n",
    "        f\"{icol1}{icol2}\".replace(\"mean\", \"\").replace(\"max\", \"1\").replace(\"min\", \"2\")\n",
    "        for icol1, icol2 in _train2.columns]\n",
    "    train2.append(_train2)\n",
    "\n",
    "train2 = pd.concat(train2)\n",
    "train2"
   ]
  },
  {
   "cell_type": "code",
   "execution_count": null,
   "id": "22c8cc10-1429-4557-9cba-6c37714951b3",
   "metadata": {
    "scrolled": true,
    "tags": []
   },
   "outputs": [],
   "source": [
    "train2[\"itime1\"] = train2[\"time1\"].astype('int64')//1e9\n",
    "train2[\"itime2\"] = train2[\"time2\"].astype('int64')//1e9"
   ]
  },
  {
   "cell_type": "code",
   "execution_count": null,
   "id": "be14d47d-2ba2-43df-886e-39bfd500629d",
   "metadata": {
    "scrolled": true
   },
   "outputs": [],
   "source": [
    "testa = pd.read_csv(f\"{path}/predict.csv\")\n",
    "testa"
   ]
  },
  {
   "cell_type": "code",
   "execution_count": null,
   "id": "0543832d-5151-45b0-88e3-94b613e0a05e",
   "metadata": {
    "scrolled": true,
    "tags": []
   },
   "outputs": [],
   "source": [
    "import pandas as pd\n",
    "import numpy as np\n",
    "from sklearn.preprocessing import PolynomialFeatures\n",
    "from sklearn import linear_model\n",
    "\n",
    "result = pd.DataFrame()\n",
    "for T in [\"cv1\", \"cv2\"]:\n",
    "    x, y = train2[[\"dv1\", \"dv2\", \"mv1\"]], train2[T]\n",
    "\n",
    "    def stdError_func(y_test, y):\n",
    "        return np.sqrt(np.mean((y_test - y) ** 2))\n",
    "\n",
    "    def R2_1_func(y_test, y):\n",
    "        return 1 - ((y_test - y) ** 2).sum() / ((y.mean() - y) ** 2).sum()\n",
    "\n",
    "    def R2_2_func(y_test, y):\n",
    "        y_mean = np.array(y)\n",
    "        y_mean[:] = y.mean()\n",
    "        return 1 - stdError_func(y_test, y) / stdError_func(y_mean, y)\n",
    "\n",
    "\n",
    "    D = 12\n",
    "    poly_reg = PolynomialFeatures(degree=D-1)\n",
    "    X_ploy = poly_reg.fit_transform(x)\n",
    "    lin_reg_2 = linear_model.LinearRegression()\n",
    "    lin_reg_2.fit(X_ploy,y)\n",
    "    predict_y = lin_reg_2.predict(X_ploy)\n",
    "    strError = stdError_func(predict_y, y)\n",
    "    R2_1 = R2_1_func(predict_y, y)\n",
    "    R2_2 = R2_2_func(predict_y, y)\n",
    "    score = lin_reg_2.score(X_ploy, y)\n",
    "\n",
    "    print(T)\n",
    "    print(\"coefficients\", lin_reg_2.coef_[:5])\n",
    "    print(\"intercept\", lin_reg_2.intercept_)\n",
    "    print('degree={}: strError={:.2f}, R2_1={:.2f},  R2_2={:.2f}, clf.score={:.2f}'.format(D, strError, R2_1, R2_2, score))\n",
    "    testa[f\"_{T}\"] = lin_reg_2.predict(poly_reg.transform(testa[[\"dv1\", \"dv2\", \"mv1\"]]))\n",
    "\n",
    "    result[T] = [_2 if pd.isna(_1) else _1 for _1, _2 in zip(testa[T], testa[f\"_{T}\"])]\n"
   ]
  },
  {
   "cell_type": "code",
   "execution_count": null,
   "id": "63d2fd6c-a5d2-4347-9a5b-2c629690b099",
   "metadata": {
    "scrolled": true,
    "tags": []
   },
   "outputs": [],
   "source": [
    "result.to_csv(\"submit.csv\", index=None)"
   ]
  },
  {
   "cell_type": "code",
   "execution_count": null,
   "id": "89931080-6ca1-42d3-b344-5e07d6214062",
   "metadata": {
    "scrolled": true
   },
   "outputs": [],
   "source": []
  }
 ],
 "metadata": {
  "kernelspec": {
   "display_name": "Python 3",
   "language": "python",
   "name": "py35-paddle1.2.0"
  },
  "language_info": {
   "codemirror_mode": {
    "name": "ipython",
    "version": 3
   },
   "file_extension": ".py",
   "mimetype": "text/x-python",
   "name": "python",
   "nbconvert_exporter": "python",
   "pygments_lexer": "ipython3",
   "version": "3.7.4"
  }
 },
 "nbformat": 4,
 "nbformat_minor": 5
}
