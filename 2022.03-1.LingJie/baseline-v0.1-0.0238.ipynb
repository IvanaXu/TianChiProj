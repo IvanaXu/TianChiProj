{
 "cells": [
  {
   "cell_type": "code",
   "execution_count": 1,
   "metadata": {
    "execution": {
     "iopub.execute_input": "2022-03-29T10:05:02.419822Z",
     "iopub.status.busy": "2022-03-29T10:05:02.419615Z",
     "iopub.status.idle": "2022-03-29T10:05:02.631273Z",
     "shell.execute_reply": "2022-03-29T10:05:02.630688Z",
     "shell.execute_reply.started": "2022-03-29T10:05:02.419800Z"
    },
    "scrolled": true,
    "tags": []
   },
   "outputs": [
    {
     "name": "stdout",
     "output_type": "stream",
     "text": [
      "-rw-r--r-- 1 aistudio aistudio  91M 3月  29 18:02 ./input/corpus.tsv\n",
      "-rw-r--r-- 1 aistudio aistudio 2.4K 3月  29 18:00 ./input/data_check.py\n",
      "-rw-r--r-- 1 aistudio aistudio  24K 3月  29 18:00 ./input/dev.query.txt\n",
      "-rw-r--r-- 1 aistudio aistudio 1.3M 3月  29 18:00 ./input/qrels.train.tsv\n",
      "-rw-r--r-- 1 aistudio aistudio 2.3M 3月  29 18:00 ./input/train.query.txt\n"
     ]
    }
   ],
   "source": [
    "!ls ./input/* -lh"
   ]
  },
  {
   "cell_type": "markdown",
   "metadata": {
    "tags": []
   },
   "source": [
    "# 数据集读取"
   ]
  },
  {
   "cell_type": "code",
   "execution_count": 2,
   "metadata": {
    "execution": {
     "iopub.execute_input": "2022-03-29T10:05:02.633357Z",
     "iopub.status.busy": "2022-03-29T10:05:02.632872Z",
     "iopub.status.idle": "2022-03-29T10:05:03.055882Z",
     "shell.execute_reply": "2022-03-29T10:05:03.055323Z",
     "shell.execute_reply.started": "2022-03-29T10:05:02.633330Z"
    },
    "scrolled": true,
    "tags": []
   },
   "outputs": [],
   "source": [
    "import numpy as np\n",
    "import pandas as pd\n",
    "import os\n",
    "from tqdm import tqdm_notebook"
   ]
  },
  {
   "cell_type": "code",
   "execution_count": 3,
   "metadata": {
    "execution": {
     "iopub.execute_input": "2022-03-29T10:05:03.057097Z",
     "iopub.status.busy": "2022-03-29T10:05:03.056782Z",
     "iopub.status.idle": "2022-03-29T10:05:04.783731Z",
     "shell.execute_reply": "2022-03-29T10:05:04.782840Z",
     "shell.execute_reply.started": "2022-03-29T10:05:03.057072Z"
    },
    "scrolled": true,
    "tags": []
   },
   "outputs": [],
   "source": [
    "corpus_data = pd.read_csv( \"./input/corpus.tsv\", sep=\"\\t\", names=[\"doc\", \"title\"])\n",
    "dev_data = pd.read_csv(\"./input/dev.query.txt\", sep=\"\\t\", names=[\"query\", \"title\"])\n",
    "train_data = pd.read_csv(\"./input/train.query.txt\", sep=\"\\t\", names=[\"query\", \"title\"])\n",
    "qrels = pd.read_csv(\"./input/qrels.train.tsv\", sep=\"\\t\", names=[\"query\", \"doc\"])"
   ]
  },
  {
   "cell_type": "code",
   "execution_count": 4,
   "metadata": {
    "execution": {
     "iopub.execute_input": "2022-03-29T10:05:04.785243Z",
     "iopub.status.busy": "2022-03-29T10:05:04.785039Z",
     "iopub.status.idle": "2022-03-29T10:05:04.838704Z",
     "shell.execute_reply": "2022-03-29T10:05:04.837887Z",
     "shell.execute_reply.started": "2022-03-29T10:05:04.785219Z"
    },
    "scrolled": true,
    "tags": []
   },
   "outputs": [],
   "source": [
    "corpus_data = corpus_data.set_index(\"doc\")\n",
    "dev_data = dev_data.set_index(\"query\")\n",
    "train_data = train_data.set_index(\"query\")\n",
    "qrels = qrels.set_index(\"query\")"
   ]
  },
  {
   "cell_type": "code",
   "execution_count": 5,
   "metadata": {
    "execution": {
     "iopub.execute_input": "2022-03-29T10:05:04.840286Z",
     "iopub.status.busy": "2022-03-29T10:05:04.839705Z",
     "iopub.status.idle": "2022-03-29T10:05:04.855224Z",
     "shell.execute_reply": "2022-03-29T10:05:04.854691Z",
     "shell.execute_reply.started": "2022-03-29T10:05:04.840257Z"
    },
    "scrolled": true,
    "tags": []
   },
   "outputs": [
    {
     "data": {
      "text/html": [
       "<div>\n",
       "<style scoped>\n",
       "    .dataframe tbody tr th:only-of-type {\n",
       "        vertical-align: middle;\n",
       "    }\n",
       "\n",
       "    .dataframe tbody tr th {\n",
       "        vertical-align: top;\n",
       "    }\n",
       "\n",
       "    .dataframe thead th {\n",
       "        text-align: right;\n",
       "    }\n",
       "</style>\n",
       "<table border=\"1\" class=\"dataframe\">\n",
       "  <thead>\n",
       "    <tr style=\"text-align: right;\">\n",
       "      <th></th>\n",
       "      <th>doc</th>\n",
       "    </tr>\n",
       "    <tr>\n",
       "      <th>query</th>\n",
       "      <th></th>\n",
       "    </tr>\n",
       "  </thead>\n",
       "  <tbody>\n",
       "    <tr>\n",
       "      <th>1</th>\n",
       "      <td>679139</td>\n",
       "    </tr>\n",
       "    <tr>\n",
       "      <th>2</th>\n",
       "      <td>35343</td>\n",
       "    </tr>\n",
       "    <tr>\n",
       "      <th>3</th>\n",
       "      <td>781652</td>\n",
       "    </tr>\n",
       "    <tr>\n",
       "      <th>4</th>\n",
       "      <td>557516</td>\n",
       "    </tr>\n",
       "    <tr>\n",
       "      <th>5</th>\n",
       "      <td>588014</td>\n",
       "    </tr>\n",
       "  </tbody>\n",
       "</table>\n",
       "</div>"
      ],
      "text/plain": [
       "          doc\n",
       "query        \n",
       "1      679139\n",
       "2       35343\n",
       "3      781652\n",
       "4      557516\n",
       "5      588014"
      ]
     },
     "execution_count": 5,
     "metadata": {},
     "output_type": "execute_result"
    }
   ],
   "source": [
    "qrels.head()"
   ]
  },
  {
   "cell_type": "code",
   "execution_count": 6,
   "metadata": {
    "execution": {
     "iopub.execute_input": "2022-03-29T10:05:04.856213Z",
     "iopub.status.busy": "2022-03-29T10:05:04.856054Z",
     "iopub.status.idle": "2022-03-29T10:05:04.877987Z",
     "shell.execute_reply": "2022-03-29T10:05:04.877415Z",
     "shell.execute_reply.started": "2022-03-29T10:05:04.856194Z"
    },
    "scrolled": true,
    "tags": []
   },
   "outputs": [
    {
     "name": "stdout",
     "output_type": "stream",
     "text": [
      "美赞臣亲舒一段 \t 领券满减】美赞臣安婴儿A+亲舒 婴儿奶粉1段850克 0-12个月宝宝\n",
      "慱朗手动料理机 \t Braun/博朗 MQ3035/3000/5025料理棒手持小型婴儿辅食家用搅拌机\n",
      "電力貓 \t 小米WiFi电力猫无线路由器套装一对300M穿墙宝家用信号增强扩展器\n",
      "掏夹缝工具 \t 电梯地坎清洁工具除灰尘神器轿厢门槽缝隙掏勺维保打扫奥的斯三菱\n",
      "飞推vip \t 飞逗推拍 店主邀请码 去水印 创意视频一键制作视频\n",
      "多功能托地把 \t 免手洗拖把家用一拖净刮刮乐干湿两用懒人拖平板墩布托帕拖地神器\n",
      "充气浮力袖 \t 学游泳神器装备充气腰背漂水袖浮臂三角浮力儿童游泳辅助工具大人\n",
      "盒马花胶鸡汤锅 \t 盒马鲜生工坊代购 花胶奶冻150g 入口Q弹 奶味浓郁 香甜丝滑\n",
      "塞塞乐 \t 婴儿童玩具6个月以上8宝宝益智早教0一1岁男孩女孩六9月十7新生礼\n",
      "广汽传祺gs5挡风遮雨条子 \t 2021款广汽传祺GS5晴雨挡遮雨板传奇GS5配件车窗雨眉防雨条挡雨板\n",
      "冰墩敦人偶服装 \t 灯笼布偶熊猫道具服装吉祥物人穿玩偶宣传传单服活动人偶服装\n",
      "寵物罐頭密封蓋 \t 仁可宠物 猫罐头保鲜盒密封盖防潮可加热猫咪罐头勺喂食勺猫用品\n",
      "15 蒸汽爱美克闸阀 \t 埃美柯 8135闸阀304不锈钢蒸汽用闸阀中型Z15W-16P耐温腐蚀4分6分\n",
      "电动切面机 \t 复兴牌面条机电动家用不锈钢压面机多功能半全自动四种面条DMT-6\n",
      "医用震动排痰机 \t 普门排痰机振动背心式慢阻肺支气管扩张肺气肿医用咳痰祛痰神器\n",
      "草莓盆专用夹 \t 大棚草莓钩盆器新款农具草莓采摘神器摘取自如温室水果铁丝钩子\n",
      "lg洗烘套装 \t LG RC90V9AV2W RC90V9JV2W RH10进口9/10KG热泵双变频干衣烘干机\n",
      "芝士脆 \t 山居小食 芝士小脆棒 香酥小零食 罐装 110g包邮\n",
      "笔记本应用书籍 \t ThinkPad笔记本电脑应用技术精粹\n"
     ]
    }
   ],
   "source": [
    "for idx in range(1, 20):\n",
    "    print(\n",
    "        train_data.loc[idx][\"title\"],\n",
    "        \"\\t\",\n",
    "        corpus_data.loc[qrels.loc[idx].ravel()[0]][\"title\"],\n",
    "    )"
   ]
  },
  {
   "cell_type": "markdown",
   "metadata": {},
   "source": [
    "# 词向量"
   ]
  },
  {
   "cell_type": "code",
   "execution_count": 7,
   "metadata": {
    "execution": {
     "iopub.execute_input": "2022-03-29T10:05:04.878879Z",
     "iopub.status.busy": "2022-03-29T10:05:04.878728Z",
     "iopub.status.idle": "2022-03-29T10:05:05.645407Z",
     "shell.execute_reply": "2022-03-29T10:05:05.644789Z",
     "shell.execute_reply.started": "2022-03-29T10:05:04.878860Z"
    },
    "scrolled": true,
    "tags": []
   },
   "outputs": [
    {
     "name": "stderr",
     "output_type": "stream",
     "text": [
      "Building prefix dict from the default dictionary ...\n",
      "Dumping model to file cache /tmp/jieba.cache\n",
      "Loading model cost 0.746 seconds.\n",
      "Prefix dict has been built successfully.\n"
     ]
    },
    {
     "data": {
      "text/plain": [
       "'美赞臣 亲舒 一段'"
      ]
     },
     "execution_count": 7,
     "metadata": {},
     "output_type": "execute_result"
    }
   ],
   "source": [
    "import jieba\n",
    "\n",
    "\" \".join(jieba.cut(\"美赞臣亲舒一段\"))"
   ]
  },
  {
   "cell_type": "code",
   "execution_count": 8,
   "metadata": {
    "execution": {
     "iopub.execute_input": "2022-03-29T10:05:05.646698Z",
     "iopub.status.busy": "2022-03-29T10:05:05.646387Z",
     "iopub.status.idle": "2022-03-29T10:06:15.326817Z",
     "shell.execute_reply": "2022-03-29T10:06:15.325837Z",
     "shell.execute_reply.started": "2022-03-29T10:05:05.646674Z"
    },
    "scrolled": true,
    "tags": []
   },
   "outputs": [
    {
     "name": "stderr",
     "output_type": "stream",
     "text": [
      "Building prefix dict from the default dictionary ...\n",
      "Loading model from cache /tmp/jieba.cache\n",
      "Building prefix dict from the default dictionary ...\n",
      "Loading model from cache /tmp/jieba.cache\n",
      "Building prefix dict from the default dictionary ...\n",
      "Loading model from cache /tmp/jieba.cache\n",
      "Building prefix dict from the default dictionary ...\n",
      "Loading model from cache /tmp/jieba.cache\n",
      "Loading model cost 0.789 seconds.\n",
      "Prefix dict has been built successfully.\n",
      "Loading model cost 0.788 seconds.\n",
      "Prefix dict has been built successfully.\n",
      "Loading model cost 0.794 seconds.\n",
      "Prefix dict has been built successfully.\n",
      "Loading model cost 0.817 seconds.\n",
      "Prefix dict has been built successfully.\n"
     ]
    }
   ],
   "source": [
    "def title_cut(x):\n",
    "    return list(jieba.cut(x))\n",
    "\n",
    "from joblib import Parallel, delayed\n",
    "\n",
    "corpus_title = Parallel(n_jobs=4)(delayed(title_cut)(title) for title in corpus_data[\"title\"])\n",
    "train_title = Parallel(n_jobs=4)(delayed(title_cut)(title) for title in train_data[\"title\"])\n",
    "dev_title = Parallel(n_jobs=4)(delayed(title_cut)(title) for title in dev_data[\"title\"])"
   ]
  },
  {
   "cell_type": "code",
   "execution_count": 10,
   "metadata": {
    "execution": {
     "iopub.execute_input": "2022-03-29T10:06:58.330418Z",
     "iopub.status.busy": "2022-03-29T10:06:58.329886Z",
     "iopub.status.idle": "2022-03-29T10:07:08.399241Z",
     "shell.execute_reply": "2022-03-29T10:07:08.398513Z",
     "shell.execute_reply.started": "2022-03-29T10:06:58.330370Z"
    },
    "scrolled": true,
    "tags": []
   },
   "outputs": [
    {
     "name": "stdout",
     "output_type": "stream",
     "text": [
      "Looking in indexes: https://pypi.tuna.tsinghua.edu.cn/simple\n",
      "Collecting gensim\n",
      "  Downloading https://pypi.tuna.tsinghua.edu.cn/packages/9f/44/985c6291f160aca1257dae9b5bb62d91d0f61f12014297a2fa80e6464be1/gensim-4.1.2-cp37-cp37m-manylinux_2_12_x86_64.manylinux2010_x86_64.whl (24.1 MB)\n",
      "\u001b[2K     \u001b[90m━━━━━━━━━━━━━━━━━━━━━━━━━━━━━━━━━━━━━━━━\u001b[0m \u001b[32m24.1/24.1 MB\u001b[0m \u001b[31m3.3 MB/s\u001b[0m eta \u001b[36m0:00:00\u001b[0m00:01\u001b[0m00:01\u001b[0m\n",
      "\u001b[?25hRequirement already satisfied: scipy>=0.18.1 in /opt/conda/envs/python35-paddle120-env/lib/python3.7/site-packages (from gensim) (1.6.3)\n",
      "Collecting smart-open>=1.8.1\n",
      "  Downloading https://pypi.tuna.tsinghua.edu.cn/packages/cd/11/05f68ea934c24ade38e95ac30a38407767787c4e3db1776eae4886ad8c95/smart_open-5.2.1-py3-none-any.whl (58 kB)\n",
      "\u001b[2K     \u001b[90m━━━━━━━━━━━━━━━━━━━━━━━━━━━━━━━━━━━━━━━━\u001b[0m \u001b[32m58.6/58.6 KB\u001b[0m \u001b[31m3.9 MB/s\u001b[0m eta \u001b[36m0:00:00\u001b[0m\n",
      "\u001b[?25hRequirement already satisfied: numpy>=1.17.0 in /opt/conda/envs/python35-paddle120-env/lib/python3.7/site-packages (from gensim) (1.19.5)\n",
      "Installing collected packages: smart-open, gensim\n",
      "Successfully installed gensim-4.1.2 smart-open-5.2.1\n"
     ]
    }
   ],
   "source": [
    "! pip install gensim"
   ]
  },
  {
   "cell_type": "code",
   "execution_count": 11,
   "metadata": {
    "execution": {
     "iopub.execute_input": "2022-03-29T10:07:12.219070Z",
     "iopub.status.busy": "2022-03-29T10:07:12.218499Z",
     "iopub.status.idle": "2022-03-29T10:08:42.225295Z",
     "shell.execute_reply": "2022-03-29T10:08:42.224499Z",
     "shell.execute_reply.started": "2022-03-29T10:07:12.219039Z"
    },
    "scrolled": true,
    "tags": []
   },
   "outputs": [],
   "source": [
    "from gensim.models import Word2Vec\n",
    "from gensim.test.utils import common_texts\n",
    "\n",
    "\n",
    "if os.path.exists(\"word2vec.model\"):\n",
    "    model = Word2Vec.load(\"word2vec.model\")\n",
    "else: \n",
    "    model = Word2Vec(\n",
    "        sentences=list(corpus_title) + list(train_title) + list(dev_title),\n",
    "        vector_size=128,\n",
    "        window=5,\n",
    "        min_count=1,\n",
    "        workers=4,\n",
    "    )\n",
    "    model.save(\"word2vec.model\")"
   ]
  },
  {
   "cell_type": "code",
   "execution_count": 12,
   "metadata": {
    "execution": {
     "iopub.execute_input": "2022-03-29T10:09:04.351908Z",
     "iopub.status.busy": "2022-03-29T10:09:04.351425Z",
     "iopub.status.idle": "2022-03-29T10:09:04.743413Z",
     "shell.execute_reply": "2022-03-29T10:09:04.742826Z",
     "shell.execute_reply.started": "2022-03-29T10:09:04.351881Z"
    },
    "scrolled": true,
    "tags": []
   },
   "outputs": [
    {
     "data": {
      "text/plain": [
       "[('韩电', 0.893363356590271),\n",
       " ('海尔', 0.884516716003418),\n",
       " ('吉德', 0.8813703656196594),\n",
       " ('三洋', 0.8705865144729614),\n",
       " ('波轮', 0.860265851020813),\n",
       " ('惠而浦', 0.8592596054077148),\n",
       " ('金羚', 0.8515498638153076),\n",
       " ('EWT7011QS', 0.8300571441650391),\n",
       " ('伊莱克斯', 0.8288587927818298),\n",
       " ('容声', 0.8282351493835449)]"
      ]
     },
     "execution_count": 12,
     "metadata": {},
     "output_type": "execute_result"
    }
   ],
   "source": [
    "model.wv.most_similar(\"小天鹅\")"
   ]
  },
  {
   "cell_type": "code",
   "execution_count": 13,
   "metadata": {
    "execution": {
     "iopub.execute_input": "2022-03-29T10:09:18.571729Z",
     "iopub.status.busy": "2022-03-29T10:09:18.571422Z",
     "iopub.status.idle": "2022-03-29T10:09:18.576051Z",
     "shell.execute_reply": "2022-03-29T10:09:18.575592Z",
     "shell.execute_reply.started": "2022-03-29T10:09:18.571704Z"
    },
    "scrolled": true,
    "tags": []
   },
   "outputs": [
    {
     "data": {
      "text/plain": [
       "[' ', '新款', '女', '/', '2021', '-', '加厚', '儿童', '秋冬', '外套']"
      ]
     },
     "execution_count": 13,
     "metadata": {},
     "output_type": "execute_result"
    }
   ],
   "source": [
    "model.wv.index_to_key[:10]"
   ]
  },
  {
   "cell_type": "code",
   "execution_count": 14,
   "metadata": {
    "execution": {
     "iopub.execute_input": "2022-03-29T10:09:23.217433Z",
     "iopub.status.busy": "2022-03-29T10:09:23.217075Z",
     "iopub.status.idle": "2022-03-29T10:09:23.221666Z",
     "shell.execute_reply": "2022-03-29T10:09:23.221164Z",
     "shell.execute_reply.started": "2022-03-29T10:09:23.217404Z"
    },
    "scrolled": true,
    "tags": []
   },
   "outputs": [
    {
     "data": {
      "text/plain": [
       "2"
      ]
     },
     "execution_count": 14,
     "metadata": {},
     "output_type": "execute_result"
    }
   ],
   "source": [
    "model.wv.key_to_index[\"女\"]"
   ]
  },
  {
   "cell_type": "code",
   "execution_count": 15,
   "metadata": {
    "execution": {
     "iopub.execute_input": "2022-03-29T10:09:28.405323Z",
     "iopub.status.busy": "2022-03-29T10:09:28.405009Z",
     "iopub.status.idle": "2022-03-29T10:09:37.177555Z",
     "shell.execute_reply": "2022-03-29T10:09:37.176749Z",
     "shell.execute_reply.started": "2022-03-29T10:09:28.405285Z"
    },
    "scrolled": true,
    "tags": []
   },
   "outputs": [],
   "source": [
    "train_w2v_ids = [[model.wv.key_to_index[xx] for xx in x] for x in train_title]\n",
    "corpus_w2v_ids = [[model.wv.key_to_index[xx] for xx in x] for x in corpus_title]\n",
    "dev_w2v_ids = [[model.wv.key_to_index[xx] for xx in x] for x in dev_title]\n",
    "\n",
    "# all_text = \" \".join(train_data[\"title\"])\n",
    "# all_query_word = list(jieba.cut(all_text))\n",
    "# all_query_word = [x for x in all_query_word if len(x) >= 2]\n",
    "# all_query_ids = [model.wv.key_to_index[xx] for xx in all_query_word]"
   ]
  },
  {
   "cell_type": "markdown",
   "metadata": {},
   "source": [
    "## IDF"
   ]
  },
  {
   "cell_type": "code",
   "execution_count": 16,
   "metadata": {
    "execution": {
     "iopub.execute_input": "2022-03-29T10:09:42.374179Z",
     "iopub.status.busy": "2022-03-29T10:09:42.373884Z",
     "iopub.status.idle": "2022-03-29T10:09:56.346034Z",
     "shell.execute_reply": "2022-03-29T10:09:56.345444Z",
     "shell.execute_reply.started": "2022-03-29T10:09:42.374154Z"
    },
    "scrolled": true,
    "tags": []
   },
   "outputs": [
    {
     "data": {
      "text/plain": [
       "TfidfVectorizer(analyzer=<function <lambda> at 0x7ff359937290>)"
      ]
     },
     "execution_count": 16,
     "metadata": {},
     "output_type": "execute_result"
    }
   ],
   "source": [
    "from sklearn.feature_extraction.text import TfidfVectorizer\n",
    "\n",
    "idf = TfidfVectorizer(analyzer=lambda x: x)\n",
    "idf.fit(train_title + corpus_title)"
   ]
  },
  {
   "cell_type": "code",
   "execution_count": 17,
   "metadata": {
    "execution": {
     "iopub.execute_input": "2022-03-29T10:09:56.363567Z",
     "iopub.status.busy": "2022-03-29T10:09:56.363281Z",
     "iopub.status.idle": "2022-03-29T10:09:56.375409Z",
     "shell.execute_reply": "2022-03-29T10:09:56.374974Z",
     "shell.execute_reply.started": "2022-03-29T10:09:56.363547Z"
    },
    "scrolled": true,
    "tags": []
   },
   "outputs": [
    {
     "data": {
      "text/plain": [
       "(array([ 2.46292242,  8.5771301 ,  7.7050655 , ..., 14.21903717,\n",
       "        14.21903717, 14.21903717]),\n",
       " 640554)"
      ]
     },
     "execution_count": 17,
     "metadata": {},
     "output_type": "execute_result"
    }
   ],
   "source": [
    "idf.idf_, len(idf.idf_)"
   ]
  },
  {
   "cell_type": "code",
   "execution_count": 18,
   "metadata": {
    "execution": {
     "iopub.execute_input": "2022-03-29T10:10:01.635312Z",
     "iopub.status.busy": "2022-03-29T10:10:01.634996Z",
     "iopub.status.idle": "2022-03-29T10:10:03.008055Z",
     "shell.execute_reply": "2022-03-29T10:10:03.007484Z",
     "shell.execute_reply.started": "2022-03-29T10:10:01.635285Z"
    },
    "scrolled": true,
    "tags": []
   },
   "outputs": [],
   "source": [
    "token = np.array(idf.get_feature_names())\n",
    "drop_token = token[np.where(idf.idf_ < 10)[0]]\n",
    "drop_token = list(set(drop_token))\n",
    "drop_token += ['领券']"
   ]
  },
  {
   "cell_type": "code",
   "execution_count": 19,
   "metadata": {
    "execution": {
     "iopub.execute_input": "2022-03-29T10:10:08.058820Z",
     "iopub.status.busy": "2022-03-29T10:10:08.058506Z",
     "iopub.status.idle": "2022-03-29T10:10:08.069460Z",
     "shell.execute_reply": "2022-03-29T10:10:08.068984Z",
     "shell.execute_reply.started": "2022-03-29T10:10:08.058796Z"
    },
    "scrolled": true,
    "tags": []
   },
   "outputs": [],
   "source": [
    "drop_token_ids = [model.wv.key_to_index[x] for x in drop_token]"
   ]
  },
  {
   "cell_type": "code",
   "execution_count": 20,
   "metadata": {
    "execution": {
     "iopub.execute_input": "2022-03-29T10:10:09.312932Z",
     "iopub.status.busy": "2022-03-29T10:10:09.312570Z",
     "iopub.status.idle": "2022-03-29T10:10:09.332014Z",
     "shell.execute_reply": "2022-03-29T10:10:09.331524Z",
     "shell.execute_reply.started": "2022-03-29T10:10:09.312903Z"
    },
    "scrolled": true,
    "tags": []
   },
   "outputs": [
    {
     "data": {
      "text/plain": [
       "[11.083542956587955, 13.52588999195716, 10.62172491192866]"
      ]
     },
     "execution_count": 20,
     "metadata": {},
     "output_type": "execute_result"
    }
   ],
   "source": [
    "[idf.idf_[idf.vocabulary_[xx]] for xx in train_title[0]]"
   ]
  },
  {
   "cell_type": "markdown",
   "metadata": {},
   "source": [
    "# 句子编码"
   ]
  },
  {
   "cell_type": "code",
   "execution_count": 21,
   "metadata": {
    "execution": {
     "iopub.execute_input": "2022-03-29T10:10:12.334695Z",
     "iopub.status.busy": "2022-03-29T10:10:12.334387Z",
     "iopub.status.idle": "2022-03-29T10:10:12.339575Z",
     "shell.execute_reply": "2022-03-29T10:10:12.338980Z",
     "shell.execute_reply.started": "2022-03-29T10:10:12.334670Z"
    },
    "scrolled": true,
    "tags": []
   },
   "outputs": [],
   "source": [
    "def unsuper_w2c_encoding(s, pooling=\"max\"):\n",
    "    feat = []\n",
    "    corpus_query_word = [x for x in s if x not in drop_token_ids]\n",
    "    if len(corpus_query_word) == 0:\n",
    "        return np.zeros(128)\n",
    "    \n",
    "    feat = model.wv[corpus_query_word]\n",
    "\n",
    "    if pooling == \"max\":\n",
    "        return np.array(feat).max(0)\n",
    "    if pooling == \"avg\":\n",
    "        return np.array(feat).mean(0)\n",
    "\n",
    "\n",
    "# def unsuper_w2c_encoding(s, pooling=\"avg\", debug=False):\n",
    "#     feat = []\n",
    "    \n",
    "#     # corpus_query_word = list(set(s) & set(all_query_ids))\n",
    "\n",
    "#     for w in s:\n",
    "        \n",
    "#         if idf.idf_[idf.vocabulary_[w]] > 11:\n",
    "#             if debug:\n",
    "#                 print(w)\n",
    "#             feat.append(model.wv[w])\n",
    "        \n",
    "#     if len(feat) == 0:\n",
    "#         return np.zeros(128)\n",
    "\n",
    "\n",
    "#     if pooling == \"max\":\n",
    "#         return np.array(feat).max(0)\n",
    "#     if pooling == \"avg\":\n",
    "#         return np.array(feat).mean(0)"
   ]
  },
  {
   "cell_type": "code",
   "execution_count": 22,
   "metadata": {
    "execution": {
     "iopub.execute_input": "2022-03-29T10:10:16.203492Z",
     "iopub.status.busy": "2022-03-29T10:10:16.203024Z",
     "iopub.status.idle": "2022-03-29T10:10:16.209853Z",
     "shell.execute_reply": "2022-03-29T10:10:16.209400Z",
     "shell.execute_reply.started": "2022-03-29T10:10:16.203430Z"
    },
    "scrolled": true,
    "tags": []
   },
   "outputs": [
    {
     "data": {
      "text/plain": [
       "array([ 0.00883362,  0.03987428,  0.05791359,  0.35824454,  0.17294283,\n",
       "        0.29214182,  0.03437764, -0.02794159,  0.38866907,  0.13894965,\n",
       "        0.1988673 , -0.02194763,  0.19987252, -0.03426001,  0.14548805,\n",
       "        0.01919263, -0.01356427, -0.01617561,  0.00493015,  0.01059474,\n",
       "        0.00860904,  0.6128786 , -0.01074533, -0.07556447, -0.03366869,\n",
       "        0.092703  ,  0.00321228,  0.4281768 , -0.0089032 , -0.02683591,\n",
       "       -0.01583061,  0.05984998, -0.0319225 ,  0.26757148,  0.3206228 ,\n",
       "        0.23262061,  0.00320129,  0.38975158,  0.1055887 ,  0.00451472,\n",
       "        0.28688994,  0.4412772 ,  0.05480804, -0.01320426,  0.05024958,\n",
       "        0.34328142, -0.02999096, -0.02123014,  0.17286208,  0.2732339 ,\n",
       "        0.3056442 ,  0.23823585,  0.07899603,  0.7893677 ,  0.18330699,\n",
       "        0.00704122,  0.3538585 ,  0.00228226, -0.01487561, -0.00701817,\n",
       "        0.02466065, -0.01213014,  0.18710265, -0.01876128,  0.57007533,\n",
       "        0.03256262,  0.25454968,  0.31376442,  0.00267582, -0.03240712,\n",
       "       -0.00877227, -0.03586303, -0.01837246, -0.04024147,  0.11097434,\n",
       "        0.24221072,  0.12846237,  0.11252052, -0.02533547,  0.19795612,\n",
       "       -0.01463848,  0.12807986,  0.15494919,  0.6233297 ,  0.10741046,\n",
       "        0.0165881 ,  0.21337199, -0.02532187,  0.24620993,  0.12369552,\n",
       "        0.23737101, -0.04325197,  0.3766613 , -0.00253278,  0.28388065,\n",
       "        0.09180165, -0.01973359, -0.0505832 ,  0.01155234, -0.02310176,\n",
       "       -0.01442843, -0.05375076, -0.05271064,  0.27247703,  0.02278074,\n",
       "        0.12672682, -0.00335495, -0.0092458 ,  0.21491693,  0.00109497,\n",
       "        0.11047622, -0.01292742,  0.05103508, -0.00774909, -0.02072654,\n",
       "        0.7745812 ,  0.00260868,  0.25976294,  0.25699988,  0.05992645,\n",
       "       -0.04099873,  0.01267128,  0.03490911,  0.19522618,  0.00689049,\n",
       "       -0.00501989, -0.00835844,  0.02392462], dtype=float32)"
      ]
     },
     "execution_count": 22,
     "metadata": {},
     "output_type": "execute_result"
    }
   ],
   "source": [
    "unsuper_w2c_encoding(train_w2v_ids[0])"
   ]
  },
  {
   "cell_type": "code",
   "execution_count": 23,
   "metadata": {
    "execution": {
     "iopub.execute_input": "2022-03-29T10:10:19.293660Z",
     "iopub.status.busy": "2022-03-29T10:10:19.293312Z",
     "iopub.status.idle": "2022-03-29T10:10:19.299583Z",
     "shell.execute_reply": "2022-03-29T10:10:19.299035Z",
     "shell.execute_reply.started": "2022-03-29T10:10:19.293628Z"
    },
    "scrolled": true,
    "tags": []
   },
   "outputs": [],
   "source": [
    "_ = unsuper_w2c_encoding(corpus_w2v_ids[679139-1])"
   ]
  },
  {
   "cell_type": "code",
   "execution_count": 32,
   "metadata": {
    "execution": {
     "iopub.execute_input": "2022-03-29T10:17:41.565312Z",
     "iopub.status.busy": "2022-03-29T10:17:41.564957Z",
     "iopub.status.idle": "2022-03-29T10:41:23.046087Z",
     "shell.execute_reply": "2022-03-29T10:41:23.045513Z",
     "shell.execute_reply.started": "2022-03-29T10:17:41.565277Z"
    },
    "scrolled": true,
    "tags": []
   },
   "outputs": [
    {
     "data": {
      "application/vnd.jupyter.widget-view+json": {
       "model_id": "502b6d28a1784a789edd0315f84aad08",
       "version_major": 2,
       "version_minor": 0
      },
      "text/plain": [
       "HBox(children=(IntProgress(value=0, max=1001500), HTML(value='')))"
      ]
     },
     "metadata": {},
     "output_type": "display_data"
    },
    {
     "data": {
      "application/vnd.jupyter.widget-view+json": {
       "model_id": "713dadb94cbf40458402b438e56aca6c",
       "version_major": 2,
       "version_minor": 0
      },
      "text/plain": [
       "HBox(children=(IntProgress(value=0, max=100000), HTML(value='')))"
      ]
     },
     "metadata": {},
     "output_type": "display_data"
    },
    {
     "data": {
      "application/vnd.jupyter.widget-view+json": {
       "model_id": "7fc92c51694740daafa5a8e5fef9991f",
       "version_major": 2,
       "version_minor": 0
      },
      "text/plain": [
       "HBox(children=(IntProgress(value=0, max=1000), HTML(value='')))"
      ]
     },
     "metadata": {},
     "output_type": "display_data"
    }
   ],
   "source": [
    "from tqdm import tqdm_notebook\n",
    "# [corpus_w2v_ids[x] for x in qrels['doc'].values[:100] - 1]\n",
    "\n",
    "corpus_mean_feat = [unsuper_w2c_encoding(s) for s in tqdm_notebook(corpus_w2v_ids[:])]\n",
    "corpus_mean_feat = np.vstack(corpus_mean_feat)\n",
    "\n",
    "train_mean_feat = [unsuper_w2c_encoding(s) for s in tqdm_notebook(train_w2v_ids[:])]\n",
    "train_mean_feat = np.vstack(train_mean_feat)\n",
    "\n",
    "dev_mean_feat = [unsuper_w2c_encoding(s) for s in tqdm_notebook(dev_w2v_ids[:])]\n",
    "dev_mean_feat = np.vstack(dev_mean_feat)"
   ]
  },
  {
   "cell_type": "markdown",
   "metadata": {},
   "source": [
    "# 初步检索"
   ]
  },
  {
   "cell_type": "code",
   "execution_count": 33,
   "metadata": {
    "execution": {
     "iopub.execute_input": "2022-03-29T10:41:23.060627Z",
     "iopub.status.busy": "2022-03-29T10:41:23.060334Z",
     "iopub.status.idle": "2022-03-29T10:41:24.603511Z",
     "shell.execute_reply": "2022-03-29T10:41:24.602929Z",
     "shell.execute_reply.started": "2022-03-29T10:41:23.060606Z"
    },
    "scrolled": true,
    "tags": []
   },
   "outputs": [],
   "source": [
    "from sklearn.preprocessing import normalize\n",
    "\n",
    "corpus_mean_feat = normalize(corpus_mean_feat)\n",
    "train_mean_feat = normalize(train_mean_feat)\n",
    "dev_mean_feat = normalize(dev_mean_feat)"
   ]
  },
  {
   "cell_type": "code",
   "execution_count": 34,
   "metadata": {
    "execution": {
     "iopub.execute_input": "2022-03-29T10:41:24.605165Z",
     "iopub.status.busy": "2022-03-29T10:41:24.604918Z",
     "iopub.status.idle": "2022-03-29T10:41:55.109991Z",
     "shell.execute_reply": "2022-03-29T10:41:55.109390Z",
     "shell.execute_reply.started": "2022-03-29T10:41:24.605143Z"
    },
    "scrolled": true,
    "tags": []
   },
   "outputs": [
    {
     "data": {
      "application/vnd.jupyter.widget-view+json": {
       "model_id": "244960de3e404fdb9bdb7ee6f19e627c",
       "version_major": 2,
       "version_minor": 0
      },
      "text/plain": [
       "HBox(children=(IntProgress(value=0, max=99), HTML(value='')))"
      ]
     },
     "metadata": {},
     "output_type": "display_data"
    }
   ],
   "source": [
    "mrr = []\n",
    "for idx in tqdm_notebook(range(1, 100)):\n",
    "    dis = np.dot(train_mean_feat[idx - 1], corpus_mean_feat.T)\n",
    "    ids = np.argsort(dis)[::-1]\n",
    "    \n",
    "    # print(train_title[idx-1], corpus_data.loc[qrels.loc[idx].ravel()[0]][\"title\"],  dis[qrels.loc[idx].ravel()-1])\n",
    "    # print(corpus_title[ids[0]])\n",
    "    # mrr.append(1/(np.where(ids == qrels.loc[idx].ravel()[0] - 1)[0][0] + 1))\n",
    "    # break\n",
    "    # print('')\n",
    "    # mrr.append(ids[0]==idx+999)"
   ]
  },
  {
   "cell_type": "code",
   "execution_count": 35,
   "metadata": {
    "execution": {
     "iopub.execute_input": "2022-03-29T10:41:55.111398Z",
     "iopub.status.busy": "2022-03-29T10:41:55.111138Z",
     "iopub.status.idle": "2022-03-29T10:41:55.116305Z",
     "shell.execute_reply": "2022-03-29T10:41:55.115886Z",
     "shell.execute_reply.started": "2022-03-29T10:41:55.111372Z"
    },
    "scrolled": true,
    "tags": []
   },
   "outputs": [
    {
     "name": "stderr",
     "output_type": "stream",
     "text": [
      "/opt/conda/envs/python35-paddle120-env/lib/python3.7/site-packages/numpy/core/fromnumeric.py:3373: RuntimeWarning: Mean of empty slice.\n",
      "  out=out, **kwargs)\n",
      "/opt/conda/envs/python35-paddle120-env/lib/python3.7/site-packages/numpy/core/_methods.py:170: RuntimeWarning: invalid value encountered in double_scalars\n",
      "  ret = ret.dtype.type(ret / rcount)\n"
     ]
    },
    {
     "data": {
      "text/plain": [
       "nan"
      ]
     },
     "execution_count": 35,
     "metadata": {},
     "output_type": "execute_result"
    }
   ],
   "source": [
    "np.mean(mrr)"
   ]
  },
  {
   "cell_type": "code",
   "execution_count": 36,
   "metadata": {
    "execution": {
     "iopub.execute_input": "2022-03-29T10:41:55.117352Z",
     "iopub.status.busy": "2022-03-29T10:41:55.116988Z",
     "iopub.status.idle": "2022-03-29T10:43:50.466318Z",
     "shell.execute_reply": "2022-03-29T10:43:50.465537Z",
     "shell.execute_reply.started": "2022-03-29T10:41:55.117331Z"
    },
    "scrolled": true,
    "tags": []
   },
   "outputs": [],
   "source": [
    "with open('query_embedding', 'w') as up :\n",
    "    for id, feat in zip(dev_data.index, dev_mean_feat):\n",
    "        up.write('{0}\\t{1}\\n'.format(id, ','.join([str(x)[:6] for x in feat])))\n",
    "        \n",
    "with open('doc_embedding', 'w') as up :\n",
    "    for id, feat in zip(corpus_data.index, corpus_mean_feat):\n",
    "        up.write('{0}\\t{1}\\n'.format(id, ','.join([str(x)[:6] for x in feat])))"
   ]
  },
  {
   "cell_type": "code",
   "execution_count": 37,
   "metadata": {
    "execution": {
     "iopub.execute_input": "2022-03-29T10:43:50.467819Z",
     "iopub.status.busy": "2022-03-29T10:43:50.467542Z",
     "iopub.status.idle": "2022-03-29T10:44:59.593771Z",
     "shell.execute_reply": "2022-03-29T10:44:59.593053Z",
     "shell.execute_reply.started": "2022-03-29T10:43:50.467793Z"
    },
    "scrolled": true,
    "tags": []
   },
   "outputs": [
    {
     "name": "stdout",
     "output_type": "stream",
     "text": [
      "********** Checking query_embedding ...\n",
      "Check done!\n",
      "\n",
      "********** Checking doc_embedding ...\n",
      "Check done!\n",
      "\n"
     ]
    }
   ],
   "source": [
    "! python data_check.py"
   ]
  },
  {
   "cell_type": "code",
   "execution_count": 38,
   "metadata": {
    "execution": {
     "iopub.execute_input": "2022-03-29T10:44:59.595822Z",
     "iopub.status.busy": "2022-03-29T10:44:59.595444Z",
     "iopub.status.idle": "2022-03-29T10:46:08.203893Z",
     "shell.execute_reply": "2022-03-29T10:46:08.202989Z",
     "shell.execute_reply.started": "2022-03-29T10:44:59.595785Z"
    },
    "scrolled": true
   },
   "outputs": [
    {
     "name": "stdout",
     "output_type": "stream",
     "text": [
      "doc_embedding\n",
      "query_embedding\n"
     ]
    }
   ],
   "source": [
    "! tar zcvf foo.tar.gz doc_embedding query_embedding"
   ]
  },
  {
   "cell_type": "code",
   "execution_count": null,
   "metadata": {
    "scrolled": true
   },
   "outputs": [],
   "source": []
  }
 ],
 "metadata": {
  "kernelspec": {
   "display_name": "Python 3",
   "language": "python",
   "name": "py35-paddle1.2.0"
  },
  "language_info": {
   "codemirror_mode": {
    "name": "ipython",
    "version": 3
   },
   "file_extension": ".py",
   "mimetype": "text/x-python",
   "name": "python",
   "nbconvert_exporter": "python",
   "pygments_lexer": "ipython3",
   "version": "3.7.4"
  }
 },
 "nbformat": 4,
 "nbformat_minor": 4
}
