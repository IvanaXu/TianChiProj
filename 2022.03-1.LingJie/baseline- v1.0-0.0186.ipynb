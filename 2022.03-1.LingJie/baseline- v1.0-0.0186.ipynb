{
 "cells": [
  {
   "cell_type": "code",
   "execution_count": 1,
   "metadata": {
    "execution": {
     "iopub.execute_input": "2022-03-30T01:25:56.617137Z",
     "iopub.status.busy": "2022-03-30T01:25:56.616658Z",
     "iopub.status.idle": "2022-03-30T01:25:56.834443Z",
     "shell.execute_reply": "2022-03-30T01:25:56.833735Z",
     "shell.execute_reply.started": "2022-03-30T01:25:56.617097Z"
    },
    "scrolled": true,
    "tags": []
   },
   "outputs": [
    {
     "name": "stdout",
     "output_type": "stream",
     "text": [
      "-rw-r--r-- 1 aistudio aistudio  91M 3月  29 18:02 ./input/corpus.tsv\n",
      "-rw-r--r-- 1 aistudio aistudio  24K 3月  29 18:00 ./input/dev.query.txt\n",
      "-rw-r--r-- 1 aistudio aistudio 1.3M 3月  29 18:00 ./input/qrels.train.tsv\n",
      "-rw-r--r-- 1 aistudio aistudio 2.3M 3月  29 18:00 ./input/train.query.txt\n"
     ]
    }
   ],
   "source": [
    "!ls ./input/* -lh"
   ]
  },
  {
   "cell_type": "code",
   "execution_count": 2,
   "metadata": {
    "execution": {
     "iopub.execute_input": "2022-03-30T01:25:57.390772Z",
     "iopub.status.busy": "2022-03-30T01:25:57.390382Z",
     "iopub.status.idle": "2022-03-30T01:25:57.828404Z",
     "shell.execute_reply": "2022-03-30T01:25:57.827653Z",
     "shell.execute_reply.started": "2022-03-30T01:25:57.390740Z"
    },
    "scrolled": true,
    "tags": []
   },
   "outputs": [],
   "source": [
    "import numpy as np\n",
    "import pandas as pd\n",
    "import os\n",
    "from tqdm import tqdm_notebook"
   ]
  },
  {
   "cell_type": "code",
   "execution_count": 3,
   "metadata": {
    "execution": {
     "iopub.execute_input": "2022-03-30T01:25:58.052377Z",
     "iopub.status.busy": "2022-03-30T01:25:58.051822Z",
     "iopub.status.idle": "2022-03-30T01:25:59.878871Z",
     "shell.execute_reply": "2022-03-30T01:25:59.878154Z",
     "shell.execute_reply.started": "2022-03-30T01:25:58.052349Z"
    },
    "scrolled": true,
    "tags": []
   },
   "outputs": [],
   "source": [
    "corpus_data = pd.read_csv( \"./input/corpus.tsv\", sep=\"\\t\", names=[\"doc\", \"title\"])\n",
    "dev_data = pd.read_csv(\"./input/dev.query.txt\", sep=\"\\t\", names=[\"query\", \"title\"])\n",
    "train_data = pd.read_csv(\"./input/train.query.txt\", sep=\"\\t\", names=[\"query\", \"title\"])\n",
    "qrels = pd.read_csv(\"./input/qrels.train.tsv\", sep=\"\\t\", names=[\"query\", \"doc\"])"
   ]
  },
  {
   "cell_type": "code",
   "execution_count": 4,
   "metadata": {
    "execution": {
     "iopub.execute_input": "2022-03-30T01:25:59.889927Z",
     "iopub.status.busy": "2022-03-30T01:25:59.889691Z",
     "iopub.status.idle": "2022-03-30T01:25:59.950164Z",
     "shell.execute_reply": "2022-03-30T01:25:59.949436Z",
     "shell.execute_reply.started": "2022-03-30T01:25:59.889899Z"
    },
    "scrolled": true,
    "tags": []
   },
   "outputs": [],
   "source": [
    "corpus_data = corpus_data.set_index(\"doc\")\n",
    "dev_data = dev_data.set_index(\"query\")\n",
    "train_data = train_data.set_index(\"query\")\n",
    "qrels = qrels.set_index(\"query\")"
   ]
  },
  {
   "cell_type": "code",
   "execution_count": 5,
   "metadata": {
    "execution": {
     "iopub.execute_input": "2022-03-30T01:25:59.951775Z",
     "iopub.status.busy": "2022-03-30T01:25:59.951518Z",
     "iopub.status.idle": "2022-03-30T01:25:59.964613Z",
     "shell.execute_reply": "2022-03-30T01:25:59.964136Z",
     "shell.execute_reply.started": "2022-03-30T01:25:59.951751Z"
    },
    "scrolled": true,
    "tags": []
   },
   "outputs": [
    {
     "data": {
      "text/html": [
       "<div>\n",
       "<style scoped>\n",
       "    .dataframe tbody tr th:only-of-type {\n",
       "        vertical-align: middle;\n",
       "    }\n",
       "\n",
       "    .dataframe tbody tr th {\n",
       "        vertical-align: top;\n",
       "    }\n",
       "\n",
       "    .dataframe thead th {\n",
       "        text-align: right;\n",
       "    }\n",
       "</style>\n",
       "<table border=\"1\" class=\"dataframe\">\n",
       "  <thead>\n",
       "    <tr style=\"text-align: right;\">\n",
       "      <th></th>\n",
       "      <th>doc</th>\n",
       "    </tr>\n",
       "    <tr>\n",
       "      <th>query</th>\n",
       "      <th></th>\n",
       "    </tr>\n",
       "  </thead>\n",
       "  <tbody>\n",
       "    <tr>\n",
       "      <th>1</th>\n",
       "      <td>679139</td>\n",
       "    </tr>\n",
       "    <tr>\n",
       "      <th>2</th>\n",
       "      <td>35343</td>\n",
       "    </tr>\n",
       "    <tr>\n",
       "      <th>3</th>\n",
       "      <td>781652</td>\n",
       "    </tr>\n",
       "    <tr>\n",
       "      <th>4</th>\n",
       "      <td>557516</td>\n",
       "    </tr>\n",
       "    <tr>\n",
       "      <th>5</th>\n",
       "      <td>588014</td>\n",
       "    </tr>\n",
       "  </tbody>\n",
       "</table>\n",
       "</div>"
      ],
      "text/plain": [
       "          doc\n",
       "query        \n",
       "1      679139\n",
       "2       35343\n",
       "3      781652\n",
       "4      557516\n",
       "5      588014"
      ]
     },
     "execution_count": 5,
     "metadata": {},
     "output_type": "execute_result"
    }
   ],
   "source": [
    "qrels.head()"
   ]
  },
  {
   "cell_type": "code",
   "execution_count": 6,
   "metadata": {
    "execution": {
     "iopub.execute_input": "2022-03-30T01:26:00.314025Z",
     "iopub.status.busy": "2022-03-30T01:26:00.313434Z",
     "iopub.status.idle": "2022-03-30T01:26:00.335892Z",
     "shell.execute_reply": "2022-03-30T01:26:00.335146Z",
     "shell.execute_reply.started": "2022-03-30T01:26:00.313999Z"
    },
    "scrolled": true,
    "tags": []
   },
   "outputs": [
    {
     "name": "stdout",
     "output_type": "stream",
     "text": [
      "美赞臣亲舒一段 \t 领券满减】美赞臣安婴儿A+亲舒 婴儿奶粉1段850克 0-12个月宝宝\n",
      "慱朗手动料理机 \t Braun/博朗 MQ3035/3000/5025料理棒手持小型婴儿辅食家用搅拌机\n",
      "電力貓 \t 小米WiFi电力猫无线路由器套装一对300M穿墙宝家用信号增强扩展器\n",
      "掏夹缝工具 \t 电梯地坎清洁工具除灰尘神器轿厢门槽缝隙掏勺维保打扫奥的斯三菱\n",
      "飞推vip \t 飞逗推拍 店主邀请码 去水印 创意视频一键制作视频\n",
      "多功能托地把 \t 免手洗拖把家用一拖净刮刮乐干湿两用懒人拖平板墩布托帕拖地神器\n",
      "充气浮力袖 \t 学游泳神器装备充气腰背漂水袖浮臂三角浮力儿童游泳辅助工具大人\n",
      "盒马花胶鸡汤锅 \t 盒马鲜生工坊代购 花胶奶冻150g 入口Q弹 奶味浓郁 香甜丝滑\n",
      "塞塞乐 \t 婴儿童玩具6个月以上8宝宝益智早教0一1岁男孩女孩六9月十7新生礼\n",
      "广汽传祺gs5挡风遮雨条子 \t 2021款广汽传祺GS5晴雨挡遮雨板传奇GS5配件车窗雨眉防雨条挡雨板\n",
      "冰墩敦人偶服装 \t 灯笼布偶熊猫道具服装吉祥物人穿玩偶宣传传单服活动人偶服装\n",
      "寵物罐頭密封蓋 \t 仁可宠物 猫罐头保鲜盒密封盖防潮可加热猫咪罐头勺喂食勺猫用品\n",
      "15 蒸汽爱美克闸阀 \t 埃美柯 8135闸阀304不锈钢蒸汽用闸阀中型Z15W-16P耐温腐蚀4分6分\n",
      "电动切面机 \t 复兴牌面条机电动家用不锈钢压面机多功能半全自动四种面条DMT-6\n",
      "医用震动排痰机 \t 普门排痰机振动背心式慢阻肺支气管扩张肺气肿医用咳痰祛痰神器\n",
      "草莓盆专用夹 \t 大棚草莓钩盆器新款农具草莓采摘神器摘取自如温室水果铁丝钩子\n",
      "lg洗烘套装 \t LG RC90V9AV2W RC90V9JV2W RH10进口9/10KG热泵双变频干衣烘干机\n",
      "芝士脆 \t 山居小食 芝士小脆棒 香酥小零食 罐装 110g包邮\n",
      "笔记本应用书籍 \t ThinkPad笔记本电脑应用技术精粹\n"
     ]
    }
   ],
   "source": [
    "for idx in range(1, 20):\n",
    "    print(\n",
    "        train_data.loc[idx][\"title\"],\n",
    "        \"\\t\",\n",
    "        corpus_data.loc[qrels.loc[idx].ravel()[0]][\"title\"],\n",
    "    )"
   ]
  },
  {
   "cell_type": "code",
   "execution_count": 7,
   "metadata": {
    "execution": {
     "iopub.execute_input": "2022-03-30T01:26:01.227466Z",
     "iopub.status.busy": "2022-03-30T01:26:01.226559Z",
     "iopub.status.idle": "2022-03-30T01:26:02.044136Z",
     "shell.execute_reply": "2022-03-30T01:26:02.043561Z",
     "shell.execute_reply.started": "2022-03-30T01:26:01.227428Z"
    },
    "scrolled": true,
    "tags": []
   },
   "outputs": [
    {
     "name": "stderr",
     "output_type": "stream",
     "text": [
      "Building prefix dict from the default dictionary ...\n",
      "Dumping model to file cache /tmp/jieba.cache\n",
      "Loading model cost 0.796 seconds.\n",
      "Prefix dict has been built successfully.\n"
     ]
    },
    {
     "data": {
      "text/plain": [
       "'美赞臣 亲舒 一段'"
      ]
     },
     "execution_count": 7,
     "metadata": {},
     "output_type": "execute_result"
    }
   ],
   "source": [
    "import jieba\n",
    "\" \".join(jieba.cut(\"美赞臣亲舒一段\"))"
   ]
  },
  {
   "cell_type": "code",
   "execution_count": 8,
   "metadata": {
    "execution": {
     "iopub.execute_input": "2022-03-30T01:26:02.191452Z",
     "iopub.status.busy": "2022-03-30T01:26:02.190809Z",
     "iopub.status.idle": "2022-03-30T01:28:45.445835Z",
     "shell.execute_reply": "2022-03-30T01:28:45.444983Z",
     "shell.execute_reply.started": "2022-03-30T01:26:02.191424Z"
    },
    "scrolled": true,
    "tags": []
   },
   "outputs": [
    {
     "name": "stderr",
     "output_type": "stream",
     "text": [
      "Building prefix dict from the default dictionary ...\n",
      "Loading model from cache /tmp/jieba.cache\n",
      "Building prefix dict from the default dictionary ...\n",
      "Loading model from cache /tmp/jieba.cache\n",
      "Building prefix dict from the default dictionary ...\n",
      "Loading model from cache /tmp/jieba.cache\n",
      "Building prefix dict from the default dictionary ...\n",
      "Loading model from cache /tmp/jieba.cache\n",
      "Loading model cost 0.720 seconds.\n",
      "Prefix dict has been built successfully.\n",
      "Loading model cost 0.726 seconds.\n",
      "Prefix dict has been built successfully.\n",
      "Loading model cost 0.749 seconds.\n",
      "Prefix dict has been built successfully.\n",
      "Loading model cost 0.742 seconds.\n",
      "Prefix dict has been built successfully.\n"
     ]
    }
   ],
   "source": [
    "def title_cut(x):\n",
    "    return list(jieba.cut(x))\n",
    "\n",
    "from joblib import Parallel, delayed\n",
    "\n",
    "corpus_title = Parallel(n_jobs=4)(delayed(title_cut)(title) for title in corpus_data[\"title\"])\n",
    "train_title = Parallel(n_jobs=4)(delayed(title_cut)(title) for title in train_data[\"title\"])\n",
    "dev_title = Parallel(n_jobs=4)(delayed(title_cut)(title) for title in dev_data[\"title\"])\n",
    "\n",
    "r_corpus_title = Parallel(n_jobs=4)(delayed(title_cut)(title[::-1]) for title in corpus_data[\"title\"])\n",
    "r_train_title = Parallel(n_jobs=4)(delayed(title_cut)(title[::-1]) for title in train_data[\"title\"])\n",
    "r_dev_title = Parallel(n_jobs=4)(delayed(title_cut)(title[::-1]) for title in dev_data[\"title\"])"
   ]
  },
  {
   "cell_type": "code",
   "execution_count": 9,
   "metadata": {
    "execution": {
     "iopub.execute_input": "2022-03-30T01:28:45.462948Z",
     "iopub.status.busy": "2022-03-30T01:28:45.462473Z",
     "iopub.status.idle": "2022-03-30T01:28:56.004351Z",
     "shell.execute_reply": "2022-03-30T01:28:56.003484Z",
     "shell.execute_reply.started": "2022-03-30T01:28:45.462916Z"
    },
    "scrolled": true,
    "tags": []
   },
   "outputs": [
    {
     "name": "stdout",
     "output_type": "stream",
     "text": [
      "Looking in indexes: https://pypi.tuna.tsinghua.edu.cn/simple\n",
      "Collecting gensim\n",
      "  Downloading https://pypi.tuna.tsinghua.edu.cn/packages/9f/44/985c6291f160aca1257dae9b5bb62d91d0f61f12014297a2fa80e6464be1/gensim-4.1.2-cp37-cp37m-manylinux_2_12_x86_64.manylinux2010_x86_64.whl (24.1 MB)\n",
      "\u001b[2K     \u001b[90m━━━━━━━━━━━━━━━━━━━━━━━━━━━━━━━━━━━━━━━━\u001b[0m \u001b[32m24.1/24.1 MB\u001b[0m \u001b[31m2.9 MB/s\u001b[0m eta \u001b[36m0:00:00\u001b[0m00:01\u001b[0m00:01\u001b[0m\n",
      "\u001b[?25hRequirement already satisfied: numpy>=1.17.0 in /opt/conda/envs/python35-paddle120-env/lib/python3.7/site-packages (from gensim) (1.19.5)\n",
      "Collecting smart-open>=1.8.1\n",
      "  Downloading https://pypi.tuna.tsinghua.edu.cn/packages/cd/11/05f68ea934c24ade38e95ac30a38407767787c4e3db1776eae4886ad8c95/smart_open-5.2.1-py3-none-any.whl (58 kB)\n",
      "\u001b[2K     \u001b[90m━━━━━━━━━━━━━━━━━━━━━━━━━━━━━━━━━━━━━━━━\u001b[0m \u001b[32m58.6/58.6 KB\u001b[0m \u001b[31m2.1 MB/s\u001b[0m eta \u001b[36m0:00:00\u001b[0m\n",
      "\u001b[?25hRequirement already satisfied: scipy>=0.18.1 in /opt/conda/envs/python35-paddle120-env/lib/python3.7/site-packages (from gensim) (1.6.3)\n",
      "Installing collected packages: smart-open, gensim\n",
      "Successfully installed gensim-4.1.2 smart-open-5.2.1\n"
     ]
    }
   ],
   "source": [
    "! pip install gensim"
   ]
  },
  {
   "cell_type": "code",
   "execution_count": 10,
   "metadata": {
    "execution": {
     "iopub.execute_input": "2022-03-30T01:28:56.007330Z",
     "iopub.status.busy": "2022-03-30T01:28:56.006613Z",
     "iopub.status.idle": "2022-03-30T01:28:56.013215Z",
     "shell.execute_reply": "2022-03-30T01:28:56.012521Z",
     "shell.execute_reply.started": "2022-03-30T01:28:56.007293Z"
    },
    "scrolled": true,
    "tags": []
   },
   "outputs": [
    {
     "data": {
      "text/plain": [
       "(['铂',\n",
       "  '盛弹',\n",
       "  '盖',\n",
       "  '文艺',\n",
       "  '保温杯',\n",
       "  '学生',\n",
       "  '男女',\n",
       "  '情侣',\n",
       "  '车载',\n",
       "  '时尚',\n",
       "  '英文',\n",
       "  '锁扣',\n",
       "  '不锈钢',\n",
       "  '真空',\n",
       "  '水杯'],\n",
       " ['杯水',\n",
       "  '空真',\n",
       "  '钢锈',\n",
       "  '不',\n",
       "  '扣锁',\n",
       "  '文英尚',\n",
       "  '时载',\n",
       "  '车侣',\n",
       "  '情女',\n",
       "  '男生',\n",
       "  '学杯',\n",
       "  '温保',\n",
       "  '艺文',\n",
       "  '盖弹',\n",
       "  '盛',\n",
       "  '铂'])"
      ]
     },
     "execution_count": 10,
     "metadata": {},
     "output_type": "execute_result"
    }
   ],
   "source": [
    "corpus_title[0], r_corpus_title[0], "
   ]
  },
  {
   "cell_type": "code",
   "execution_count": 11,
   "metadata": {
    "execution": {
     "iopub.execute_input": "2022-03-30T01:28:56.014576Z",
     "iopub.status.busy": "2022-03-30T01:28:56.014083Z",
     "iopub.status.idle": "2022-03-30T01:34:18.440109Z",
     "shell.execute_reply": "2022-03-30T01:34:18.439151Z",
     "shell.execute_reply.started": "2022-03-30T01:28:56.014547Z"
    },
    "scrolled": true,
    "tags": []
   },
   "outputs": [],
   "source": [
    "from gensim.models import Word2Vec\n",
    "from gensim.test.utils import common_texts\n",
    "\n",
    "_L = []\n",
    "for i in [\n",
    "    corpus_title, r_corpus_title,\n",
    "    train_title, r_train_title,\n",
    "    dev_title, r_dev_title,\n",
    "]:\n",
    "    _L += list(i)\n",
    "\n",
    "if 1:\n",
    "    model = Word2Vec(\n",
    "        sentences=_L,\n",
    "        vector_size=128,\n",
    "        window=5,\n",
    "        min_count=1,\n",
    "        workers=4,\n",
    "    )\n",
    "    # model.save(\"word2vec.model\")"
   ]
  },
  {
   "cell_type": "code",
   "execution_count": 12,
   "metadata": {
    "execution": {
     "iopub.execute_input": "2022-03-30T01:34:18.442114Z",
     "iopub.status.busy": "2022-03-30T01:34:18.441527Z",
     "iopub.status.idle": "2022-03-30T01:34:19.720201Z",
     "shell.execute_reply": "2022-03-30T01:34:19.719422Z",
     "shell.execute_reply.started": "2022-03-30T01:34:18.442085Z"
    },
    "scrolled": true,
    "tags": []
   },
   "outputs": [
    {
     "data": {
      "text/plain": [
       "[('海尔', 0.9109137058258057),\n",
       " ('惠而浦', 0.8970657587051392),\n",
       " ('波轮', 0.8927889466285706),\n",
       " ('荣事达', 0.8710645437240601),\n",
       " ('三洋', 0.8654263615608215),\n",
       " ('志高', 0.8652589917182922),\n",
       " ('金羚', 0.8613708019256592),\n",
       " ('伊莱克斯', 0.8563185334205627),\n",
       " ('容声', 0.8506056666374207),\n",
       " ('新飞', 0.849298357963562)]"
      ]
     },
     "execution_count": 12,
     "metadata": {},
     "output_type": "execute_result"
    }
   ],
   "source": [
    "model.wv.most_similar(\"小天鹅\")"
   ]
  },
  {
   "cell_type": "code",
   "execution_count": 13,
   "metadata": {
    "execution": {
     "iopub.execute_input": "2022-03-30T01:34:19.722071Z",
     "iopub.status.busy": "2022-03-30T01:34:19.721453Z",
     "iopub.status.idle": "2022-03-30T01:34:19.726795Z",
     "shell.execute_reply": "2022-03-30T01:34:19.726128Z",
     "shell.execute_reply.started": "2022-03-30T01:34:19.722026Z"
    },
    "scrolled": true,
    "tags": []
   },
   "outputs": [
    {
     "data": {
      "text/plain": [
       "[' ', '/', '新款', '女', '-', '新', '小', '1202', '2021', '年']"
      ]
     },
     "execution_count": 13,
     "metadata": {},
     "output_type": "execute_result"
    }
   ],
   "source": [
    "model.wv.index_to_key[:10]"
   ]
  },
  {
   "cell_type": "code",
   "execution_count": 14,
   "metadata": {
    "execution": {
     "iopub.execute_input": "2022-03-30T01:34:19.779551Z",
     "iopub.status.busy": "2022-03-30T01:34:19.727867Z",
     "iopub.status.idle": "2022-03-30T01:34:19.783773Z",
     "shell.execute_reply": "2022-03-30T01:34:19.783094Z",
     "shell.execute_reply.started": "2022-03-30T01:34:19.779515Z"
    },
    "scrolled": true,
    "tags": []
   },
   "outputs": [
    {
     "data": {
      "text/plain": [
       "3"
      ]
     },
     "execution_count": 14,
     "metadata": {},
     "output_type": "execute_result"
    }
   ],
   "source": [
    "model.wv.key_to_index[\"女\"]"
   ]
  },
  {
   "cell_type": "code",
   "execution_count": 15,
   "metadata": {
    "execution": {
     "iopub.execute_input": "2022-03-30T01:34:19.784975Z",
     "iopub.status.busy": "2022-03-30T01:34:19.784795Z",
     "iopub.status.idle": "2022-03-30T01:34:34.993558Z",
     "shell.execute_reply": "2022-03-30T01:34:34.992637Z",
     "shell.execute_reply.started": "2022-03-30T01:34:19.784956Z"
    },
    "scrolled": true,
    "tags": []
   },
   "outputs": [],
   "source": [
    "train_w2v_ids = [[model.wv.key_to_index[xx] for xx in x] for x in train_title]\n",
    "corpus_w2v_ids = [[model.wv.key_to_index[xx] for xx in x] for x in corpus_title]\n",
    "dev_w2v_ids = [[model.wv.key_to_index[xx] for xx in x] for x in dev_title]\n",
    "\n",
    "# all_text = \" \".join(train_data[\"title\"])\n",
    "# all_query_word = list(jieba.cut(all_text))\n",
    "# all_query_word = [x for x in all_query_word if len(x) >= 2]\n",
    "# all_query_ids = [model.wv.key_to_index[xx] for xx in all_query_word]"
   ]
  },
  {
   "cell_type": "code",
   "execution_count": 16,
   "metadata": {
    "execution": {
     "iopub.execute_input": "2022-03-30T01:34:34.996502Z",
     "iopub.status.busy": "2022-03-30T01:34:34.996146Z",
     "iopub.status.idle": "2022-03-30T01:35:22.662415Z",
     "shell.execute_reply": "2022-03-30T01:35:22.661658Z",
     "shell.execute_reply.started": "2022-03-30T01:34:34.996473Z"
    },
    "scrolled": true,
    "tags": []
   },
   "outputs": [
    {
     "data": {
      "text/plain": [
       "TfidfVectorizer(analyzer=<function <lambda> at 0x7f9084094560>)"
      ]
     },
     "execution_count": 16,
     "metadata": {},
     "output_type": "execute_result"
    }
   ],
   "source": [
    "from sklearn.feature_extraction.text import TfidfVectorizer\n",
    "\n",
    "idf = TfidfVectorizer(analyzer=lambda x: x)\n",
    "idf.fit(_L)"
   ]
  },
  {
   "cell_type": "code",
   "execution_count": 17,
   "metadata": {
    "execution": {
     "iopub.execute_input": "2022-03-30T01:35:22.664214Z",
     "iopub.status.busy": "2022-03-30T01:35:22.663628Z",
     "iopub.status.idle": "2022-03-30T01:35:22.713198Z",
     "shell.execute_reply": "2022-03-30T01:35:22.712437Z",
     "shell.execute_reply.started": "2022-03-30T01:35:22.664186Z"
    },
    "scrolled": true,
    "tags": []
   },
   "outputs": [
    {
     "data": {
      "text/plain": [
       "(array([ 2.46365496,  8.57892401,  7.69932303, ..., 14.50762623,\n",
       "        14.50762623, 14.50762623]),\n",
       " 2151151)"
      ]
     },
     "execution_count": 17,
     "metadata": {},
     "output_type": "execute_result"
    }
   ],
   "source": [
    "idf.idf_, len(idf.idf_)"
   ]
  },
  {
   "cell_type": "code",
   "execution_count": 18,
   "metadata": {
    "execution": {
     "iopub.execute_input": "2022-03-30T01:35:22.714939Z",
     "iopub.status.busy": "2022-03-30T01:35:22.714460Z",
     "iopub.status.idle": "2022-03-30T01:35:30.696593Z",
     "shell.execute_reply": "2022-03-30T01:35:30.695728Z",
     "shell.execute_reply.started": "2022-03-30T01:35:22.714911Z"
    },
    "scrolled": true,
    "tags": []
   },
   "outputs": [],
   "source": [
    "token = np.array(idf.get_feature_names())\n",
    "drop_token = token[np.where(idf.idf_ < 10)[0]]\n",
    "drop_token = list(set(drop_token))\n",
    "drop_token += ['领券']"
   ]
  },
  {
   "cell_type": "code",
   "execution_count": 19,
   "metadata": {
    "execution": {
     "iopub.execute_input": "2022-03-30T01:35:30.698618Z",
     "iopub.status.busy": "2022-03-30T01:35:30.697987Z",
     "iopub.status.idle": "2022-03-30T01:35:30.711211Z",
     "shell.execute_reply": "2022-03-30T01:35:30.710293Z",
     "shell.execute_reply.started": "2022-03-30T01:35:30.698585Z"
    },
    "scrolled": true,
    "tags": []
   },
   "outputs": [],
   "source": [
    "drop_token_ids = [model.wv.key_to_index[x] for x in drop_token]"
   ]
  },
  {
   "cell_type": "code",
   "execution_count": 20,
   "metadata": {
    "execution": {
     "iopub.execute_input": "2022-03-30T01:35:30.713004Z",
     "iopub.status.busy": "2022-03-30T01:35:30.712387Z",
     "iopub.status.idle": "2022-03-30T01:35:30.768651Z",
     "shell.execute_reply": "2022-03-30T01:35:30.767995Z",
     "shell.execute_reply.started": "2022-03-30T01:35:30.712979Z"
    },
    "scrolled": true,
    "tags": []
   },
   "outputs": [
    {
     "data": {
      "text/plain": [
       "[11.777597123888626, 14.21994415925783, 11.236790667910698]"
      ]
     },
     "execution_count": 20,
     "metadata": {},
     "output_type": "execute_result"
    }
   ],
   "source": [
    "[idf.idf_[idf.vocabulary_[xx]] for xx in train_title[0]]"
   ]
  },
  {
   "cell_type": "code",
   "execution_count": 21,
   "metadata": {
    "execution": {
     "iopub.execute_input": "2022-03-30T01:35:30.770432Z",
     "iopub.status.busy": "2022-03-30T01:35:30.769798Z",
     "iopub.status.idle": "2022-03-30T01:35:30.775468Z",
     "shell.execute_reply": "2022-03-30T01:35:30.774741Z",
     "shell.execute_reply.started": "2022-03-30T01:35:30.770403Z"
    },
    "scrolled": true,
    "tags": []
   },
   "outputs": [],
   "source": [
    "def unsuper_w2c_encoding(s, pooling=\"max\"):\n",
    "    feat = []\n",
    "    corpus_query_word = [x for x in s if x not in drop_token_ids]\n",
    "    if len(corpus_query_word) == 0:\n",
    "        return np.zeros(128)\n",
    "    \n",
    "    feat = model.wv[corpus_query_word]\n",
    "\n",
    "    if pooling == \"max\":\n",
    "        return np.array(feat).max(0)\n",
    "    if pooling == \"avg\":\n",
    "        return np.array(feat).mean(0)\n",
    "\n",
    "\n",
    "# def unsuper_w2c_encoding(s, pooling=\"avg\", debug=False):\n",
    "#     feat = []\n",
    "    \n",
    "#     # corpus_query_word = list(set(s) & set(all_query_ids))\n",
    "\n",
    "#     for w in s:\n",
    "        \n",
    "#         if idf.idf_[idf.vocabulary_[w]] > 11:\n",
    "#             if debug:\n",
    "#                 print(w)\n",
    "#             feat.append(model.wv[w])\n",
    "        \n",
    "#     if len(feat) == 0:\n",
    "#         return np.zeros(128)\n",
    "\n",
    "\n",
    "#     if pooling == \"max\":\n",
    "#         return np.array(feat).max(0)\n",
    "#     if pooling == \"avg\":\n",
    "#         return np.array(feat).mean(0)"
   ]
  },
  {
   "cell_type": "code",
   "execution_count": 22,
   "metadata": {
    "execution": {
     "iopub.execute_input": "2022-03-30T01:35:30.776882Z",
     "iopub.status.busy": "2022-03-30T01:35:30.776393Z",
     "iopub.status.idle": "2022-03-30T01:35:30.783293Z",
     "shell.execute_reply": "2022-03-30T01:35:30.782787Z",
     "shell.execute_reply.started": "2022-03-30T01:35:30.776857Z"
    },
    "scrolled": true,
    "tags": []
   },
   "outputs": [
    {
     "data": {
      "text/plain": [
       "array([ 0.01410294, -0.03388168,  0.17070074, -0.01582576,  0.5727828 ,\n",
       "        0.02748853,  0.1402859 , -0.03211262,  0.26610637, -0.01375053,\n",
       "        0.40250638,  0.3324122 , -0.00461612,  0.01067858,  0.53587514,\n",
       "        0.05884365, -0.04697658,  0.9005212 , -0.04430126,  0.6041017 ,\n",
       "        0.3899894 ,  0.23006596,  0.1375492 ,  0.12018747,  0.00566164,\n",
       "        0.00358749,  0.00785051,  0.16608948,  0.29385695, -0.01588646,\n",
       "       -0.02892047, -0.01299607,  0.1998594 ,  0.2696155 , -0.03007177,\n",
       "        0.07294509,  0.38134786, -0.0174321 ,  0.27576542,  0.17722964,\n",
       "        0.00570896,  0.51388127,  0.01622434,  0.03703029,  0.51875967,\n",
       "        0.20672448,  0.0047464 , -0.00643368,  0.0571991 , -0.02023711,\n",
       "        0.12713301,  0.50466305,  0.32924235,  0.00173132,  0.03059099,\n",
       "        0.6576533 ,  0.05095484, -0.01399578,  0.02472398,  0.32039407,\n",
       "       -0.03275841, -0.04458891,  0.10853255,  0.29226935,  0.5685516 ,\n",
       "        0.0047483 ,  0.5078857 ,  0.18432808,  0.01453441, -0.03436451,\n",
       "        0.14899506,  0.09596793,  0.13914137,  0.30168012,  0.10484055,\n",
       "       -0.02792844, -0.00905946, -0.009389  ,  0.05177664,  0.40018252,\n",
       "        0.18833429, -0.01999576,  0.05510526,  0.26432312,  0.01237378,\n",
       "        0.09439871,  0.32128483,  0.10604497,  0.36863685,  0.23404622,\n",
       "        0.28256482, -0.03323001, -0.06113856, -0.05970357,  0.24858157,\n",
       "       -0.01113788, -0.05927323, -0.01735672,  0.0232398 , -0.04143213,\n",
       "       -0.02888025, -0.00613738, -0.04391709,  0.00965175,  0.32323012,\n",
       "       -0.01400804,  0.12901884, -0.00792404,  0.31408632, -0.03950857,\n",
       "        0.4467151 ,  0.04591271,  0.0819027 , -0.03865388, -0.00273262,\n",
       "        0.01762064,  0.42212787,  0.01601497,  0.46011713,  0.11682982,\n",
       "       -0.01920602,  0.04530374,  0.01081207,  0.23300818, -0.00800072,\n",
       "       -0.02018268, -0.04065717, -0.04586826], dtype=float32)"
      ]
     },
     "execution_count": 22,
     "metadata": {},
     "output_type": "execute_result"
    }
   ],
   "source": [
    "unsuper_w2c_encoding(train_w2v_ids[0])"
   ]
  },
  {
   "cell_type": "code",
   "execution_count": 23,
   "metadata": {
    "execution": {
     "iopub.execute_input": "2022-03-30T01:35:30.784718Z",
     "iopub.status.busy": "2022-03-30T01:35:30.784159Z",
     "iopub.status.idle": "2022-03-30T01:35:30.789534Z",
     "shell.execute_reply": "2022-03-30T01:35:30.788956Z",
     "shell.execute_reply.started": "2022-03-30T01:35:30.784694Z"
    },
    "scrolled": true,
    "tags": []
   },
   "outputs": [],
   "source": [
    "_ = unsuper_w2c_encoding(corpus_w2v_ids[679139-1])"
   ]
  },
  {
   "cell_type": "code",
   "execution_count": 24,
   "metadata": {
    "execution": {
     "iopub.execute_input": "2022-03-30T01:35:30.790718Z",
     "iopub.status.busy": "2022-03-30T01:35:30.790329Z",
     "iopub.status.idle": "2022-03-30T01:59:41.654269Z",
     "shell.execute_reply": "2022-03-30T01:59:41.653489Z",
     "shell.execute_reply.started": "2022-03-30T01:35:30.790692Z"
    },
    "scrolled": true,
    "tags": []
   },
   "outputs": [
    {
     "data": {
      "application/vnd.jupyter.widget-view+json": {
       "model_id": "7b78b9ce1689449eaa9a03682fac9ddc",
       "version_major": 2,
       "version_minor": 0
      },
      "text/plain": [
       "HBox(children=(IntProgress(value=0, max=1001500), HTML(value='')))"
      ]
     },
     "metadata": {},
     "output_type": "display_data"
    },
    {
     "name": "stdout",
     "output_type": "stream",
     "text": [
      "\n"
     ]
    },
    {
     "data": {
      "application/vnd.jupyter.widget-view+json": {
       "model_id": "ae85286535444a18bf674f2b2c6a8441",
       "version_major": 2,
       "version_minor": 0
      },
      "text/plain": [
       "HBox(children=(IntProgress(value=0, max=100000), HTML(value='')))"
      ]
     },
     "metadata": {},
     "output_type": "display_data"
    },
    {
     "name": "stdout",
     "output_type": "stream",
     "text": [
      "\n"
     ]
    },
    {
     "data": {
      "application/vnd.jupyter.widget-view+json": {
       "model_id": "c0660f77948f49cdbfc7f476e73f94d8",
       "version_major": 2,
       "version_minor": 0
      },
      "text/plain": [
       "HBox(children=(IntProgress(value=0, max=1000), HTML(value='')))"
      ]
     },
     "metadata": {},
     "output_type": "display_data"
    },
    {
     "name": "stdout",
     "output_type": "stream",
     "text": [
      "\n"
     ]
    }
   ],
   "source": [
    "from tqdm import tqdm_notebook\n",
    "# [corpus_w2v_ids[x] for x in qrels['doc'].values[:100] - 1]\n",
    "\n",
    "corpus_mean_feat = [unsuper_w2c_encoding(s) for s in tqdm_notebook(corpus_w2v_ids[:])]\n",
    "corpus_mean_feat = np.vstack(corpus_mean_feat)\n",
    "\n",
    "train_mean_feat = [unsuper_w2c_encoding(s) for s in tqdm_notebook(train_w2v_ids[:])]\n",
    "train_mean_feat = np.vstack(train_mean_feat)\n",
    "\n",
    "dev_mean_feat = [unsuper_w2c_encoding(s) for s in tqdm_notebook(dev_w2v_ids[:])]\n",
    "dev_mean_feat = np.vstack(dev_mean_feat)"
   ]
  },
  {
   "cell_type": "code",
   "execution_count": 25,
   "metadata": {
    "execution": {
     "iopub.execute_input": "2022-03-30T01:59:41.655851Z",
     "iopub.status.busy": "2022-03-30T01:59:41.655477Z",
     "iopub.status.idle": "2022-03-30T01:59:43.305186Z",
     "shell.execute_reply": "2022-03-30T01:59:43.304286Z",
     "shell.execute_reply.started": "2022-03-30T01:59:41.655822Z"
    },
    "scrolled": true,
    "tags": []
   },
   "outputs": [],
   "source": [
    "from sklearn.preprocessing import normalize\n",
    "\n",
    "corpus_mean_feat = normalize(corpus_mean_feat)\n",
    "train_mean_feat = normalize(train_mean_feat)\n",
    "dev_mean_feat = normalize(dev_mean_feat)"
   ]
  },
  {
   "cell_type": "code",
   "execution_count": 26,
   "metadata": {
    "execution": {
     "iopub.execute_input": "2022-03-30T01:59:43.307231Z",
     "iopub.status.busy": "2022-03-30T01:59:43.306470Z",
     "iopub.status.idle": "2022-03-30T02:00:10.109746Z",
     "shell.execute_reply": "2022-03-30T02:00:10.108755Z",
     "shell.execute_reply.started": "2022-03-30T01:59:43.307201Z"
    },
    "scrolled": true,
    "tags": []
   },
   "outputs": [
    {
     "data": {
      "application/vnd.jupyter.widget-view+json": {
       "model_id": "3c3dc973ba9f4d0bbae76a02fc04088d",
       "version_major": 2,
       "version_minor": 0
      },
      "text/plain": [
       "HBox(children=(IntProgress(value=0, max=99), HTML(value='')))"
      ]
     },
     "metadata": {},
     "output_type": "display_data"
    },
    {
     "name": "stdout",
     "output_type": "stream",
     "text": [
      "\n"
     ]
    }
   ],
   "source": [
    "mrr = []\n",
    "for idx in tqdm_notebook(range(1, 100)):\n",
    "    dis = np.dot(train_mean_feat[idx - 1], corpus_mean_feat.T)\n",
    "    ids = np.argsort(dis)[::-1]\n",
    "    \n",
    "    # print(train_title[idx-1], corpus_data.loc[qrels.loc[idx].ravel()[0]][\"title\"],  dis[qrels.loc[idx].ravel()-1])\n",
    "    # print(corpus_title[ids[0]])\n",
    "    # mrr.append(1/(np.where(ids == qrels.loc[idx].ravel()[0] - 1)[0][0] + 1))\n",
    "    # break\n",
    "    # print('')\n",
    "    # mrr.append(ids[0]==idx+999)"
   ]
  },
  {
   "cell_type": "code",
   "execution_count": 27,
   "metadata": {
    "execution": {
     "iopub.execute_input": "2022-03-30T02:00:10.111748Z",
     "iopub.status.busy": "2022-03-30T02:00:10.110932Z",
     "iopub.status.idle": "2022-03-30T02:00:10.120178Z",
     "shell.execute_reply": "2022-03-30T02:00:10.119280Z",
     "shell.execute_reply.started": "2022-03-30T02:00:10.111715Z"
    },
    "scrolled": true,
    "tags": []
   },
   "outputs": [
    {
     "name": "stderr",
     "output_type": "stream",
     "text": [
      "/opt/conda/envs/python35-paddle120-env/lib/python3.7/site-packages/numpy/core/fromnumeric.py:3373: RuntimeWarning: Mean of empty slice.\n",
      "  out=out, **kwargs)\n",
      "/opt/conda/envs/python35-paddle120-env/lib/python3.7/site-packages/numpy/core/_methods.py:170: RuntimeWarning: invalid value encountered in double_scalars\n",
      "  ret = ret.dtype.type(ret / rcount)\n"
     ]
    },
    {
     "data": {
      "text/plain": [
       "nan"
      ]
     },
     "execution_count": 27,
     "metadata": {},
     "output_type": "execute_result"
    }
   ],
   "source": [
    "np.mean(mrr)"
   ]
  },
  {
   "cell_type": "code",
   "execution_count": 28,
   "metadata": {
    "execution": {
     "iopub.execute_input": "2022-03-30T02:00:10.121910Z",
     "iopub.status.busy": "2022-03-30T02:00:10.121381Z",
     "iopub.status.idle": "2022-03-30T02:02:10.854702Z",
     "shell.execute_reply": "2022-03-30T02:02:10.853424Z",
     "shell.execute_reply.started": "2022-03-30T02:00:10.121884Z"
    },
    "scrolled": true,
    "tags": []
   },
   "outputs": [],
   "source": [
    "with open('query_embedding', 'w') as up :\n",
    "    for id, feat in zip(dev_data.index, dev_mean_feat):\n",
    "        up.write('{0}\\t{1}\\n'.format(id, ','.join([str(x)[:6] for x in feat])))\n",
    "        \n",
    "with open('doc_embedding', 'w') as up :\n",
    "    for id, feat in zip(corpus_data.index, corpus_mean_feat):\n",
    "        up.write('{0}\\t{1}\\n'.format(id, ','.join([str(x)[:6] for x in feat])))"
   ]
  },
  {
   "cell_type": "code",
   "execution_count": 29,
   "metadata": {
    "execution": {
     "iopub.execute_input": "2022-03-30T02:02:10.857057Z",
     "iopub.status.busy": "2022-03-30T02:02:10.856726Z",
     "iopub.status.idle": "2022-03-30T02:03:20.734770Z",
     "shell.execute_reply": "2022-03-30T02:03:20.733902Z",
     "shell.execute_reply.started": "2022-03-30T02:02:10.857030Z"
    },
    "scrolled": true,
    "tags": []
   },
   "outputs": [
    {
     "name": "stdout",
     "output_type": "stream",
     "text": [
      "********** Checking query_embedding ...\n",
      "Check done!\n",
      "\n",
      "********** Checking doc_embedding ...\n",
      "Check done!\n",
      "\n"
     ]
    }
   ],
   "source": [
    "! python data_check.py"
   ]
  },
  {
   "cell_type": "code",
   "execution_count": 30,
   "metadata": {
    "execution": {
     "iopub.execute_input": "2022-03-30T02:03:20.736748Z",
     "iopub.status.busy": "2022-03-30T02:03:20.736348Z",
     "iopub.status.idle": "2022-03-30T02:04:29.261227Z",
     "shell.execute_reply": "2022-03-30T02:04:29.260155Z",
     "shell.execute_reply.started": "2022-03-30T02:03:20.736714Z"
    },
    "scrolled": true,
    "tags": []
   },
   "outputs": [
    {
     "name": "stdout",
     "output_type": "stream",
     "text": [
      "doc_embedding\n",
      "query_embedding\n"
     ]
    }
   ],
   "source": [
    "! tar zcvf foo.tar.gz doc_embedding query_embedding"
   ]
  },
  {
   "cell_type": "code",
   "execution_count": null,
   "metadata": {
    "scrolled": true
   },
   "outputs": [],
   "source": []
  }
 ],
 "metadata": {
  "kernelspec": {
   "display_name": "Python 3",
   "language": "python",
   "name": "py35-paddle1.2.0"
  },
  "language_info": {
   "codemirror_mode": {
    "name": "ipython",
    "version": 3
   },
   "file_extension": ".py",
   "mimetype": "text/x-python",
   "name": "python",
   "nbconvert_exporter": "python",
   "pygments_lexer": "ipython3",
   "version": "3.7.4"
  }
 },
 "nbformat": 4,
 "nbformat_minor": 4
}
